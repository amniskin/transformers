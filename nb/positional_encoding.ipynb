{
 "cells": [
  {
   "cell_type": "markdown",
   "id": "aec5c787-83aa-4d86-af51-ba8316842317",
   "metadata": {
    "tags": []
   },
   "source": [
    "# Why use positional encoding"
   ]
  },
  {
   "cell_type": "markdown",
   "id": "5296304c-30bd-4dfb-bdaa-eaaa9214dd17",
   "metadata": {
    "tags": []
   },
   "source": [
    "If you're anything like me, while trying to implement transformers, you've read the original [attention is all you need](https://arxiv.org/abs/1706.03762) paper, [the annotated transformer](http://nlp.seas.harvard.edu/2018/04/03/attention.html), [the updated version](http://nlp.seas.harvard.edu/annotated-transformer/), [d2l.ai](https://d2l.ai/chapter_attention-mechanisms-and-transformers/transformer.html), and had to cobble them all together to get something going. This post is an attempt to make that proccess easier for people like me in a short and to-the-point style. You can think of this as a bare-bones implementation with a whole lot of documentation.\n",
    "\n",
    "Notes:\n",
    "1. this post is about *how* transformers are implemented, not *why* they're implemented the way they are.\n",
    "2. This post pretty much takes you from just the basics of ML through understanding how transformers work. Feel free to skip whatever sections you're familiar with."
   ]
  },
  {
   "cell_type": "markdown",
   "id": "dbe30876-afa4-4c66-aa8a-1603872d7a49",
   "metadata": {
    "tags": []
   },
   "source": [
    "# Overview\n",
    "\n",
    "The following is the transformer architecture diagram taken from the original paper. We'll be referring back to it often in this post.\n",
    "\n",
    "![image.png](./assets/tformer.png)\n",
    "Transformer architecture diagram\n",
    "\n",
    "At a high level, the transformer is an encoder-decoder model; it takes a **sequence** of **tokens** from a source (e.g. English words) and learns to translate that into a destination sequence (e.g. French words). The encoder is the left side and the decoder is the right side of the architecture diagram.\n",
    "\n",
    "For the rest of the post, when we refer to \"tokens\" or \"sequences\", feel free to replace them with \"words\" and \"sentences\" (or \"paragraphs\", \"pages\", \"books\", etc.) respectively in your head."
   ]
  },
  {
   "cell_type": "markdown",
   "id": "713e08a5-46dd-4c82-a63a-dff6bd706c9b",
   "metadata": {},
   "source": [
    "# Preamble\n",
    "\n",
    "We'll be using [jax](https://jax.readthedocs.io/en/latest/index.html) and [flax](https://flax.readthedocs.io/en/latest/index.html) for this implementation."
   ]
  },
  {
   "cell_type": "markdown",
   "id": "f3da0a47-0925-47fd-9003-4c5345f0859a",
   "metadata": {},
   "source": [
    "[embeddings](http://wikipedia2vec.s3.amazonaws.com/models/en/2018-04-20/enwiki_20180420_100d.pkl.bz2)"
   ]
  },
  {
   "cell_type": "code",
   "execution_count": 9,
   "id": "6b64cadc-baf0-4eb0-b9e3-90830aba3aa3",
   "metadata": {
    "tags": []
   },
   "outputs": [],
   "source": [
    "import numpy as np\n",
    "import pandas as pd"
   ]
  },
  {
   "cell_type": "code",
   "execution_count": 13,
   "id": "4820f3cc-eda7-4599-add5-bc97dcf36696",
   "metadata": {
    "tags": []
   },
   "outputs": [
    {
     "data": {
      "text/html": [
       "<div>\n",
       "<style scoped>\n",
       "    .dataframe tbody tr th:only-of-type {\n",
       "        vertical-align: middle;\n",
       "    }\n",
       "\n",
       "    .dataframe tbody tr th {\n",
       "        vertical-align: top;\n",
       "    }\n",
       "\n",
       "    .dataframe thead th {\n",
       "        text-align: right;\n",
       "    }\n",
       "</style>\n",
       "<table border=\"1\" class=\"dataframe\">\n",
       "  <thead>\n",
       "    <tr style=\"text-align: right;\">\n",
       "      <th></th>\n",
       "      <th>a</th>\n",
       "      <th>b</th>\n",
       "      <th>$\\rho$</th>\n",
       "    </tr>\n",
       "  </thead>\n",
       "  <tbody>\n",
       "    <tr>\n",
       "      <th>0</th>\n",
       "      <td>0</td>\n",
       "      <td>0</td>\n",
       "      <td>1.000000</td>\n",
       "    </tr>\n",
       "    <tr>\n",
       "      <th>1</th>\n",
       "      <td>0</td>\n",
       "      <td>1</td>\n",
       "      <td>-0.046218</td>\n",
       "    </tr>\n",
       "    <tr>\n",
       "      <th>2</th>\n",
       "      <td>0</td>\n",
       "      <td>2</td>\n",
       "      <td>-0.006698</td>\n",
       "    </tr>\n",
       "    <tr>\n",
       "      <th>3</th>\n",
       "      <td>0</td>\n",
       "      <td>3</td>\n",
       "      <td>0.249767</td>\n",
       "    </tr>\n",
       "    <tr>\n",
       "      <th>4</th>\n",
       "      <td>0</td>\n",
       "      <td>4</td>\n",
       "      <td>-0.240984</td>\n",
       "    </tr>\n",
       "    <tr>\n",
       "      <th>5</th>\n",
       "      <td>1</td>\n",
       "      <td>0</td>\n",
       "      <td>-0.046218</td>\n",
       "    </tr>\n",
       "    <tr>\n",
       "      <th>6</th>\n",
       "      <td>1</td>\n",
       "      <td>1</td>\n",
       "      <td>1.000000</td>\n",
       "    </tr>\n",
       "    <tr>\n",
       "      <th>7</th>\n",
       "      <td>1</td>\n",
       "      <td>2</td>\n",
       "      <td>0.368624</td>\n",
       "    </tr>\n",
       "    <tr>\n",
       "      <th>8</th>\n",
       "      <td>1</td>\n",
       "      <td>3</td>\n",
       "      <td>0.041882</td>\n",
       "    </tr>\n",
       "    <tr>\n",
       "      <th>9</th>\n",
       "      <td>1</td>\n",
       "      <td>4</td>\n",
       "      <td>-0.074076</td>\n",
       "    </tr>\n",
       "    <tr>\n",
       "      <th>10</th>\n",
       "      <td>2</td>\n",
       "      <td>0</td>\n",
       "      <td>-0.006698</td>\n",
       "    </tr>\n",
       "    <tr>\n",
       "      <th>11</th>\n",
       "      <td>2</td>\n",
       "      <td>1</td>\n",
       "      <td>0.368624</td>\n",
       "    </tr>\n",
       "    <tr>\n",
       "      <th>12</th>\n",
       "      <td>2</td>\n",
       "      <td>2</td>\n",
       "      <td>1.000000</td>\n",
       "    </tr>\n",
       "    <tr>\n",
       "      <th>13</th>\n",
       "      <td>2</td>\n",
       "      <td>3</td>\n",
       "      <td>0.028499</td>\n",
       "    </tr>\n",
       "    <tr>\n",
       "      <th>14</th>\n",
       "      <td>2</td>\n",
       "      <td>4</td>\n",
       "      <td>-0.008106</td>\n",
       "    </tr>\n",
       "    <tr>\n",
       "      <th>15</th>\n",
       "      <td>3</td>\n",
       "      <td>0</td>\n",
       "      <td>0.249767</td>\n",
       "    </tr>\n",
       "    <tr>\n",
       "      <th>16</th>\n",
       "      <td>3</td>\n",
       "      <td>1</td>\n",
       "      <td>0.041882</td>\n",
       "    </tr>\n",
       "    <tr>\n",
       "      <th>17</th>\n",
       "      <td>3</td>\n",
       "      <td>2</td>\n",
       "      <td>0.028499</td>\n",
       "    </tr>\n",
       "    <tr>\n",
       "      <th>18</th>\n",
       "      <td>3</td>\n",
       "      <td>3</td>\n",
       "      <td>1.000000</td>\n",
       "    </tr>\n",
       "    <tr>\n",
       "      <th>19</th>\n",
       "      <td>3</td>\n",
       "      <td>4</td>\n",
       "      <td>0.328545</td>\n",
       "    </tr>\n",
       "    <tr>\n",
       "      <th>20</th>\n",
       "      <td>4</td>\n",
       "      <td>0</td>\n",
       "      <td>-0.240984</td>\n",
       "    </tr>\n",
       "    <tr>\n",
       "      <th>21</th>\n",
       "      <td>4</td>\n",
       "      <td>1</td>\n",
       "      <td>-0.074076</td>\n",
       "    </tr>\n",
       "    <tr>\n",
       "      <th>22</th>\n",
       "      <td>4</td>\n",
       "      <td>2</td>\n",
       "      <td>-0.008106</td>\n",
       "    </tr>\n",
       "    <tr>\n",
       "      <th>23</th>\n",
       "      <td>4</td>\n",
       "      <td>3</td>\n",
       "      <td>0.328545</td>\n",
       "    </tr>\n",
       "    <tr>\n",
       "      <th>24</th>\n",
       "      <td>4</td>\n",
       "      <td>4</td>\n",
       "      <td>1.000000</td>\n",
       "    </tr>\n",
       "  </tbody>\n",
       "</table>\n",
       "</div>"
      ],
      "text/plain": [
       "    a  b    $\\rho$\n",
       "0   0  0  1.000000\n",
       "1   0  1 -0.046218\n",
       "2   0  2 -0.006698\n",
       "3   0  3  0.249767\n",
       "4   0  4 -0.240984\n",
       "5   1  0 -0.046218\n",
       "6   1  1  1.000000\n",
       "7   1  2  0.368624\n",
       "8   1  3  0.041882\n",
       "9   1  4 -0.074076\n",
       "10  2  0 -0.006698\n",
       "11  2  1  0.368624\n",
       "12  2  2  1.000000\n",
       "13  2  3  0.028499\n",
       "14  2  4 -0.008106\n",
       "15  3  0  0.249767\n",
       "16  3  1  0.041882\n",
       "17  3  2  0.028499\n",
       "18  3  3  1.000000\n",
       "19  3  4  0.328545\n",
       "20  4  0 -0.240984\n",
       "21  4  1 -0.074076\n",
       "22  4  2 -0.008106\n",
       "23  4  3  0.328545\n",
       "24  4  4  1.000000"
      ]
     },
     "execution_count": 13,
     "metadata": {},
     "output_type": "execute_result"
    }
   ],
   "source": [
    "corrs = (\n",
    "    pd.DataFrame(np.corrcoef(np.random.uniform(size=(5, 30))),\n",
    "                 index=pd.RangeIndex(stop=5, name='a'),\n",
    "                 columns=pd.RangeIndex(stop=5, name='b'))\n",
    "    .stack()\n",
    "    .to_frame('$\\rho$')\n",
    "    .reset_index()\n",
    ")\n",
    "corrs"
   ]
  },
  {
   "cell_type": "code",
   "execution_count": 18,
   "id": "7a6594a9-7009-4504-949d-8af02298ec6f",
   "metadata": {
    "tags": []
   },
   "outputs": [
    {
     "data": {
      "text/html": [
       "\n",
       "<div id=\"altair-viz-c3ba5273ca9b46da8767525b87dabe3d\"></div>\n",
       "<script type=\"text/javascript\">\n",
       "  var VEGA_DEBUG = (typeof VEGA_DEBUG == \"undefined\") ? {} : VEGA_DEBUG;\n",
       "  (function(spec, embedOpt){\n",
       "    let outputDiv = document.currentScript.previousElementSibling;\n",
       "    if (outputDiv.id !== \"altair-viz-c3ba5273ca9b46da8767525b87dabe3d\") {\n",
       "      outputDiv = document.getElementById(\"altair-viz-c3ba5273ca9b46da8767525b87dabe3d\");\n",
       "    }\n",
       "    const paths = {\n",
       "      \"vega\": \"https://cdn.jsdelivr.net/npm//vega@5?noext\",\n",
       "      \"vega-lib\": \"https://cdn.jsdelivr.net/npm//vega-lib?noext\",\n",
       "      \"vega-lite\": \"https://cdn.jsdelivr.net/npm//vega-lite@4.17.0?noext\",\n",
       "      \"vega-embed\": \"https://cdn.jsdelivr.net/npm//vega-embed@6?noext\",\n",
       "    };\n",
       "\n",
       "    function maybeLoadScript(lib, version) {\n",
       "      var key = `${lib.replace(\"-\", \"\")}_version`;\n",
       "      return (VEGA_DEBUG[key] == version) ?\n",
       "        Promise.resolve(paths[lib]) :\n",
       "        new Promise(function(resolve, reject) {\n",
       "          var s = document.createElement('script');\n",
       "          document.getElementsByTagName(\"head\")[0].appendChild(s);\n",
       "          s.async = true;\n",
       "          s.onload = () => {\n",
       "            VEGA_DEBUG[key] = version;\n",
       "            return resolve(paths[lib]);\n",
       "          };\n",
       "          s.onerror = () => reject(`Error loading script: ${paths[lib]}`);\n",
       "          s.src = paths[lib];\n",
       "        });\n",
       "    }\n",
       "\n",
       "    function showError(err) {\n",
       "      outputDiv.innerHTML = `<div class=\"error\" style=\"color:red;\">${err}</div>`;\n",
       "      throw err;\n",
       "    }\n",
       "\n",
       "    function displayChart(vegaEmbed) {\n",
       "      vegaEmbed(outputDiv, spec, embedOpt)\n",
       "        .catch(err => showError(`Javascript Error: ${err.message}<br>This usually means there's a typo in your chart specification. See the javascript console for the full traceback.`));\n",
       "    }\n",
       "\n",
       "    if(typeof define === \"function\" && define.amd) {\n",
       "      requirejs.config({paths});\n",
       "      require([\"vega-embed\"], displayChart, err => showError(`Error loading script: ${err.message}`));\n",
       "    } else {\n",
       "      maybeLoadScript(\"vega\", \"5\")\n",
       "        .then(() => maybeLoadScript(\"vega-lite\", \"4.17.0\"))\n",
       "        .then(() => maybeLoadScript(\"vega-embed\", \"6\"))\n",
       "        .catch(showError)\n",
       "        .then(() => displayChart(vegaEmbed));\n",
       "    }\n",
       "  })({\"config\": {\"view\": {\"continuousWidth\": 400, \"continuousHeight\": 300, \"step\": 26, \"strokeWidth\": 0}, \"axis\": {\"domain\": false}}, \"data\": {\"name\": \"data-3cd5633caffd77e88aa00bf766601f3c\"}, \"mark\": \"rect\", \"encoding\": {\"color\": {\"field\": \"$\\rho$\", \"title\": \"rho\", \"type\": \"quantitative\"}, \"tooltip\": [{\"field\": \"a\", \"title\": \"Date\", \"type\": \"quantitative\"}, {\"field\": \"b\", \"title\": \"Max Temp\", \"type\": \"quantitative\"}], \"x\": {\"field\": \"a\", \"title\": \"Day\", \"type\": \"ordinal\"}, \"y\": {\"field\": \"b\", \"title\": \"Month\", \"type\": \"ordinal\"}}, \"title\": \"Daily Max Temperatures (C) in Seattle, WA\", \"$schema\": \"https://vega.github.io/schema/vega-lite/v4.17.0.json\", \"datasets\": {\"data-3cd5633caffd77e88aa00bf766601f3c\": [{\"a\": 0, \"b\": 0, \"$\\rho$\": 0.9999999999999998}, {\"a\": 0, \"b\": 1, \"$\\rho$\": -0.04621823939737166}, {\"a\": 0, \"b\": 2, \"$\\rho$\": -0.0066984171240480495}, {\"a\": 0, \"b\": 3, \"$\\rho$\": 0.2497665674114889}, {\"a\": 0, \"b\": 4, \"$\\rho$\": -0.24098448820192833}, {\"a\": 1, \"b\": 0, \"$\\rho$\": -0.04621823939737165}, {\"a\": 1, \"b\": 1, \"$\\rho$\": 0.9999999999999998}, {\"a\": 1, \"b\": 2, \"$\\rho$\": 0.3686242800558251}, {\"a\": 1, \"b\": 3, \"$\\rho$\": 0.04188191410748349}, {\"a\": 1, \"b\": 4, \"$\\rho$\": -0.07407592472514453}, {\"a\": 2, \"b\": 0, \"$\\rho$\": -0.00669841712404805}, {\"a\": 2, \"b\": 1, \"$\\rho$\": 0.36862428005582515}, {\"a\": 2, \"b\": 2, \"$\\rho$\": 1.0}, {\"a\": 2, \"b\": 3, \"$\\rho$\": 0.02849903658114673}, {\"a\": 2, \"b\": 4, \"$\\rho$\": -0.008106236235382376}, {\"a\": 3, \"b\": 0, \"$\\rho$\": 0.24976656741148887}, {\"a\": 3, \"b\": 1, \"$\\rho$\": 0.04188191410748349}, {\"a\": 3, \"b\": 2, \"$\\rho$\": 0.02849903658114673}, {\"a\": 3, \"b\": 3, \"$\\rho$\": 1.0}, {\"a\": 3, \"b\": 4, \"$\\rho$\": 0.3285449536723579}, {\"a\": 4, \"b\": 0, \"$\\rho$\": -0.24098448820192836}, {\"a\": 4, \"b\": 1, \"$\\rho$\": -0.07407592472514453}, {\"a\": 4, \"b\": 2, \"$\\rho$\": -0.008106236235382376}, {\"a\": 4, \"b\": 3, \"$\\rho$\": 0.3285449536723579}, {\"a\": 4, \"b\": 4, \"$\\rho$\": 1.0}]}}, {\"mode\": \"vega-lite\"});\n",
       "</script>"
      ],
      "text/plain": [
       "alt.Chart(...)"
      ]
     },
     "execution_count": 18,
     "metadata": {},
     "output_type": "execute_result"
    }
   ],
   "source": [
    "alt.Chart(corrs, title=\"Daily Max Temperatures (C) in Seattle, WA\").mark_rect().encode(\n",
    "    alt.X(\"a:O\", title=\"Day\"),\n",
    "    alt.Y(\"b:O\", title=\"Month\"),\n",
    "    alt.Color(\"$\\rho$\", title='rho'),\n",
    "    tooltip=[\n",
    "        alt.Tooltip(\"a\", title=\"Date\"),\n",
    "        alt.Tooltip(\"b\", title=\"Max Temp\"),\n",
    "    ],\n",
    ").configure_view(\n",
    "    step=13 * 2,\n",
    "    strokeWidth=0\n",
    ").configure_axis(\n",
    "    domain=False\n",
    ")"
   ]
  },
  {
   "cell_type": "code",
   "execution_count": 8,
   "id": "c14a4504-d8a7-4d1a-ae67-39f0a2e8ca36",
   "metadata": {
    "tags": []
   },
   "outputs": [
    {
     "data": {
      "text/html": [
       "\n",
       "<div id=\"altair-viz-149ef307d31b479cb7308b8a4d53a525\"></div>\n",
       "<script type=\"text/javascript\">\n",
       "  var VEGA_DEBUG = (typeof VEGA_DEBUG == \"undefined\") ? {} : VEGA_DEBUG;\n",
       "  (function(spec, embedOpt){\n",
       "    let outputDiv = document.currentScript.previousElementSibling;\n",
       "    if (outputDiv.id !== \"altair-viz-149ef307d31b479cb7308b8a4d53a525\") {\n",
       "      outputDiv = document.getElementById(\"altair-viz-149ef307d31b479cb7308b8a4d53a525\");\n",
       "    }\n",
       "    const paths = {\n",
       "      \"vega\": \"https://cdn.jsdelivr.net/npm//vega@5?noext\",\n",
       "      \"vega-lib\": \"https://cdn.jsdelivr.net/npm//vega-lib?noext\",\n",
       "      \"vega-lite\": \"https://cdn.jsdelivr.net/npm//vega-lite@4.17.0?noext\",\n",
       "      \"vega-embed\": \"https://cdn.jsdelivr.net/npm//vega-embed@6?noext\",\n",
       "    };\n",
       "\n",
       "    function maybeLoadScript(lib, version) {\n",
       "      var key = `${lib.replace(\"-\", \"\")}_version`;\n",
       "      return (VEGA_DEBUG[key] == version) ?\n",
       "        Promise.resolve(paths[lib]) :\n",
       "        new Promise(function(resolve, reject) {\n",
       "          var s = document.createElement('script');\n",
       "          document.getElementsByTagName(\"head\")[0].appendChild(s);\n",
       "          s.async = true;\n",
       "          s.onload = () => {\n",
       "            VEGA_DEBUG[key] = version;\n",
       "            return resolve(paths[lib]);\n",
       "          };\n",
       "          s.onerror = () => reject(`Error loading script: ${paths[lib]}`);\n",
       "          s.src = paths[lib];\n",
       "        });\n",
       "    }\n",
       "\n",
       "    function showError(err) {\n",
       "      outputDiv.innerHTML = `<div class=\"error\" style=\"color:red;\">${err}</div>`;\n",
       "      throw err;\n",
       "    }\n",
       "\n",
       "    function displayChart(vegaEmbed) {\n",
       "      vegaEmbed(outputDiv, spec, embedOpt)\n",
       "        .catch(err => showError(`Javascript Error: ${err.message}<br>This usually means there's a typo in your chart specification. See the javascript console for the full traceback.`));\n",
       "    }\n",
       "\n",
       "    if(typeof define === \"function\" && define.amd) {\n",
       "      requirejs.config({paths});\n",
       "      require([\"vega-embed\"], displayChart, err => showError(`Error loading script: ${err.message}`));\n",
       "    } else {\n",
       "      maybeLoadScript(\"vega\", \"5\")\n",
       "        .then(() => maybeLoadScript(\"vega-lite\", \"4.17.0\"))\n",
       "        .then(() => maybeLoadScript(\"vega-embed\", \"6\"))\n",
       "        .catch(showError)\n",
       "        .then(() => displayChart(vegaEmbed));\n",
       "    }\n",
       "  })({\"config\": {\"view\": {\"continuousWidth\": 400, \"continuousHeight\": 300, \"step\": 13, \"strokeWidth\": 0}, \"axis\": {\"domain\": false}}, \"data\": {\"name\": \"data-830c39fec90146253fb06a06c26374ef\"}, \"mark\": \"rect\", \"encoding\": {\"color\": {\"aggregate\": \"max\", \"field\": \"temp_max\", \"title\": \"temp\", \"type\": \"quantitative\"}, \"tooltip\": [{\"field\": \"date\", \"timeUnit\": \"monthdate\", \"title\": \"Date\", \"type\": \"temporal\"}, {\"aggregate\": \"max\", \"field\": \"temp_max\", \"title\": \"Max Temp\", \"type\": \"quantitative\"}], \"x\": {\"field\": \"date\", \"timeUnit\": \"date\", \"title\": \"Day\", \"type\": \"ordinal\"}, \"y\": {\"field\": \"date\", \"timeUnit\": \"month\", \"title\": \"Month\", \"type\": \"ordinal\"}}, \"title\": \"Daily Max Temperatures (C) in Seattle, WA\", \"$schema\": \"https://vega.github.io/schema/vega-lite/v4.17.0.json\", \"datasets\": {\"data-830c39fec90146253fb06a06c26374ef\": [{\"date\": \"2012-01-01T00:00:00\", \"precipitation\": 0.0, \"temp_max\": 12.8, \"temp_min\": 5.0, \"wind\": 4.7, \"weather\": \"drizzle\"}, {\"date\": \"2012-01-02T00:00:00\", \"precipitation\": 10.9, \"temp_max\": 10.6, \"temp_min\": 2.8, \"wind\": 4.5, \"weather\": \"rain\"}, {\"date\": \"2012-01-03T00:00:00\", \"precipitation\": 0.8, \"temp_max\": 11.7, \"temp_min\": 7.2, \"wind\": 2.3, \"weather\": \"rain\"}, {\"date\": \"2012-01-04T00:00:00\", \"precipitation\": 20.3, \"temp_max\": 12.2, \"temp_min\": 5.6, \"wind\": 4.7, \"weather\": \"rain\"}, {\"date\": \"2012-01-05T00:00:00\", \"precipitation\": 1.3, \"temp_max\": 8.9, \"temp_min\": 2.8, \"wind\": 6.1, \"weather\": \"rain\"}, {\"date\": \"2012-01-06T00:00:00\", \"precipitation\": 2.5, \"temp_max\": 4.4, \"temp_min\": 2.2, \"wind\": 2.2, \"weather\": \"rain\"}, {\"date\": \"2012-01-07T00:00:00\", \"precipitation\": 0.0, \"temp_max\": 7.2, \"temp_min\": 2.8, \"wind\": 2.3, \"weather\": \"rain\"}, {\"date\": \"2012-01-08T00:00:00\", \"precipitation\": 0.0, \"temp_max\": 10.0, \"temp_min\": 2.8, \"wind\": 2.0, \"weather\": \"sun\"}, {\"date\": \"2012-01-09T00:00:00\", \"precipitation\": 4.3, \"temp_max\": 9.4, \"temp_min\": 5.0, \"wind\": 3.4, \"weather\": \"rain\"}, {\"date\": \"2012-01-10T00:00:00\", \"precipitation\": 1.0, \"temp_max\": 6.1, \"temp_min\": 0.6, \"wind\": 3.4, \"weather\": \"rain\"}, {\"date\": \"2012-01-11T00:00:00\", \"precipitation\": 0.0, \"temp_max\": 6.1, \"temp_min\": -1.1, \"wind\": 5.1, \"weather\": \"sun\"}, {\"date\": \"2012-01-12T00:00:00\", \"precipitation\": 0.0, \"temp_max\": 6.1, \"temp_min\": -1.7, \"wind\": 1.9, \"weather\": \"sun\"}, {\"date\": \"2012-01-13T00:00:00\", \"precipitation\": 0.0, \"temp_max\": 5.0, \"temp_min\": -2.8, \"wind\": 1.3, \"weather\": \"sun\"}, {\"date\": \"2012-01-14T00:00:00\", \"precipitation\": 4.1, \"temp_max\": 4.4, \"temp_min\": 0.6, \"wind\": 5.3, \"weather\": \"snow\"}, {\"date\": \"2012-01-15T00:00:00\", \"precipitation\": 5.3, \"temp_max\": 1.1, \"temp_min\": -3.3, \"wind\": 3.2, \"weather\": \"snow\"}, {\"date\": \"2012-01-16T00:00:00\", \"precipitation\": 2.5, \"temp_max\": 1.7, \"temp_min\": -2.8, \"wind\": 5.0, \"weather\": \"snow\"}, {\"date\": \"2012-01-17T00:00:00\", \"precipitation\": 8.1, \"temp_max\": 3.3, \"temp_min\": 0.0, \"wind\": 5.6, \"weather\": \"snow\"}, {\"date\": \"2012-01-18T00:00:00\", \"precipitation\": 19.8, \"temp_max\": 0.0, \"temp_min\": -2.8, \"wind\": 5.0, \"weather\": \"snow\"}, {\"date\": \"2012-01-19T00:00:00\", \"precipitation\": 15.2, \"temp_max\": -1.1, \"temp_min\": -2.8, \"wind\": 1.6, \"weather\": \"snow\"}, {\"date\": \"2012-01-20T00:00:00\", \"precipitation\": 13.5, \"temp_max\": 7.2, \"temp_min\": -1.1, \"wind\": 2.3, \"weather\": \"snow\"}, {\"date\": \"2012-01-21T00:00:00\", \"precipitation\": 3.0, \"temp_max\": 8.3, \"temp_min\": 3.3, \"wind\": 8.2, \"weather\": \"rain\"}, {\"date\": \"2012-01-22T00:00:00\", \"precipitation\": 6.1, \"temp_max\": 6.7, \"temp_min\": 2.2, \"wind\": 4.8, \"weather\": \"rain\"}, {\"date\": \"2012-01-23T00:00:00\", \"precipitation\": 0.0, \"temp_max\": 8.3, \"temp_min\": 1.1, \"wind\": 3.6, \"weather\": \"rain\"}, {\"date\": \"2012-01-24T00:00:00\", \"precipitation\": 8.6, \"temp_max\": 10.0, \"temp_min\": 2.2, \"wind\": 5.1, \"weather\": \"rain\"}, {\"date\": \"2012-01-25T00:00:00\", \"precipitation\": 8.1, \"temp_max\": 8.9, \"temp_min\": 4.4, \"wind\": 5.4, \"weather\": \"rain\"}, {\"date\": \"2012-01-26T00:00:00\", \"precipitation\": 4.8, \"temp_max\": 8.9, \"temp_min\": 1.1, \"wind\": 4.8, \"weather\": \"rain\"}, {\"date\": \"2012-01-27T00:00:00\", \"precipitation\": 0.0, \"temp_max\": 6.7, \"temp_min\": -2.2, \"wind\": 1.4, \"weather\": \"drizzle\"}, {\"date\": \"2012-01-28T00:00:00\", \"precipitation\": 0.0, \"temp_max\": 6.7, \"temp_min\": 0.6, \"wind\": 2.2, \"weather\": \"rain\"}, {\"date\": \"2012-01-29T00:00:00\", \"precipitation\": 27.7, \"temp_max\": 9.4, \"temp_min\": 3.9, \"wind\": 4.5, \"weather\": \"rain\"}, {\"date\": \"2012-01-30T00:00:00\", \"precipitation\": 3.6, \"temp_max\": 8.3, \"temp_min\": 6.1, \"wind\": 5.1, \"weather\": \"rain\"}, {\"date\": \"2012-01-31T00:00:00\", \"precipitation\": 1.8, \"temp_max\": 9.4, \"temp_min\": 6.1, \"wind\": 3.9, \"weather\": \"rain\"}, {\"date\": \"2012-02-01T00:00:00\", \"precipitation\": 13.5, \"temp_max\": 8.9, \"temp_min\": 3.3, \"wind\": 2.7, \"weather\": \"rain\"}, {\"date\": \"2012-02-02T00:00:00\", \"precipitation\": 0.0, \"temp_max\": 8.3, \"temp_min\": 1.7, \"wind\": 2.6, \"weather\": \"sun\"}, {\"date\": \"2012-02-03T00:00:00\", \"precipitation\": 0.0, \"temp_max\": 14.4, \"temp_min\": 2.2, \"wind\": 5.3, \"weather\": \"sun\"}, {\"date\": \"2012-02-04T00:00:00\", \"precipitation\": 0.0, \"temp_max\": 15.6, \"temp_min\": 5.0, \"wind\": 4.3, \"weather\": \"sun\"}, {\"date\": \"2012-02-05T00:00:00\", \"precipitation\": 0.0, \"temp_max\": 13.9, \"temp_min\": 1.7, \"wind\": 2.9, \"weather\": \"sun\"}, {\"date\": \"2012-02-06T00:00:00\", \"precipitation\": 0.0, \"temp_max\": 16.1, \"temp_min\": 1.7, \"wind\": 5.0, \"weather\": \"sun\"}, {\"date\": \"2012-02-07T00:00:00\", \"precipitation\": 0.3, \"temp_max\": 15.6, \"temp_min\": 7.8, \"wind\": 5.3, \"weather\": \"rain\"}, {\"date\": \"2012-02-08T00:00:00\", \"precipitation\": 2.8, \"temp_max\": 10.0, \"temp_min\": 5.0, \"wind\": 2.7, \"weather\": \"rain\"}, {\"date\": \"2012-02-09T00:00:00\", \"precipitation\": 2.5, \"temp_max\": 11.1, \"temp_min\": 7.8, \"wind\": 2.4, \"weather\": \"rain\"}, {\"date\": \"2012-02-10T00:00:00\", \"precipitation\": 2.5, \"temp_max\": 12.8, \"temp_min\": 6.7, \"wind\": 3.0, \"weather\": \"rain\"}, {\"date\": \"2012-02-11T00:00:00\", \"precipitation\": 0.8, \"temp_max\": 8.9, \"temp_min\": 5.6, \"wind\": 3.4, \"weather\": \"rain\"}, {\"date\": \"2012-02-12T00:00:00\", \"precipitation\": 1.0, \"temp_max\": 8.3, \"temp_min\": 5.0, \"wind\": 1.3, \"weather\": \"rain\"}, {\"date\": \"2012-02-13T00:00:00\", \"precipitation\": 11.4, \"temp_max\": 7.2, \"temp_min\": 4.4, \"wind\": 1.4, \"weather\": \"rain\"}, {\"date\": \"2012-02-14T00:00:00\", \"precipitation\": 2.5, \"temp_max\": 6.7, \"temp_min\": 1.1, \"wind\": 3.1, \"weather\": \"rain\"}, {\"date\": \"2012-02-15T00:00:00\", \"precipitation\": 0.0, \"temp_max\": 7.2, \"temp_min\": 0.6, \"wind\": 1.8, \"weather\": \"drizzle\"}, {\"date\": \"2012-02-16T00:00:00\", \"precipitation\": 1.8, \"temp_max\": 7.2, \"temp_min\": 3.3, \"wind\": 2.1, \"weather\": \"rain\"}, {\"date\": \"2012-02-17T00:00:00\", \"precipitation\": 17.3, \"temp_max\": 10.0, \"temp_min\": 4.4, \"wind\": 3.4, \"weather\": \"rain\"}, {\"date\": \"2012-02-18T00:00:00\", \"precipitation\": 6.4, \"temp_max\": 6.7, \"temp_min\": 3.9, \"wind\": 8.1, \"weather\": \"rain\"}, {\"date\": \"2012-02-19T00:00:00\", \"precipitation\": 0.0, \"temp_max\": 6.7, \"temp_min\": 2.2, \"wind\": 4.7, \"weather\": \"sun\"}, {\"date\": \"2012-02-20T00:00:00\", \"precipitation\": 3.0, \"temp_max\": 7.8, \"temp_min\": 1.7, \"wind\": 2.9, \"weather\": \"rain\"}, {\"date\": \"2012-02-21T00:00:00\", \"precipitation\": 0.8, \"temp_max\": 10.0, \"temp_min\": 7.8, \"wind\": 7.5, \"weather\": \"rain\"}, {\"date\": \"2012-02-22T00:00:00\", \"precipitation\": 8.6, \"temp_max\": 10.0, \"temp_min\": 2.8, \"wind\": 5.9, \"weather\": \"rain\"}, {\"date\": \"2012-02-23T00:00:00\", \"precipitation\": 0.0, \"temp_max\": 8.3, \"temp_min\": 2.8, \"wind\": 3.9, \"weather\": \"sun\"}, {\"date\": \"2012-02-24T00:00:00\", \"precipitation\": 11.4, \"temp_max\": 6.7, \"temp_min\": 4.4, \"wind\": 3.5, \"weather\": \"rain\"}, {\"date\": \"2012-02-25T00:00:00\", \"precipitation\": 0.0, \"temp_max\": 7.2, \"temp_min\": 2.8, \"wind\": 6.4, \"weather\": \"rain\"}, {\"date\": \"2012-02-26T00:00:00\", \"precipitation\": 1.3, \"temp_max\": 5.0, \"temp_min\": -1.1, \"wind\": 3.4, \"weather\": \"snow\"}, {\"date\": \"2012-02-27T00:00:00\", \"precipitation\": 0.0, \"temp_max\": 6.7, \"temp_min\": -2.2, \"wind\": 3.0, \"weather\": \"sun\"}, {\"date\": \"2012-02-28T00:00:00\", \"precipitation\": 3.6, \"temp_max\": 6.7, \"temp_min\": -0.6, \"wind\": 4.2, \"weather\": \"snow\"}, {\"date\": \"2012-02-29T00:00:00\", \"precipitation\": 0.8, \"temp_max\": 5.0, \"temp_min\": 1.1, \"wind\": 7.0, \"weather\": \"snow\"}, {\"date\": \"2012-03-01T00:00:00\", \"precipitation\": 0.0, \"temp_max\": 6.1, \"temp_min\": 1.1, \"wind\": 3.1, \"weather\": \"sun\"}, {\"date\": \"2012-03-02T00:00:00\", \"precipitation\": 2.0, \"temp_max\": 6.7, \"temp_min\": 3.9, \"wind\": 5.1, \"weather\": \"rain\"}, {\"date\": \"2012-03-03T00:00:00\", \"precipitation\": 0.0, \"temp_max\": 12.2, \"temp_min\": 6.7, \"wind\": 7.0, \"weather\": \"sun\"}, {\"date\": \"2012-03-04T00:00:00\", \"precipitation\": 0.0, \"temp_max\": 10.6, \"temp_min\": 6.7, \"wind\": 5.6, \"weather\": \"rain\"}, {\"date\": \"2012-03-05T00:00:00\", \"precipitation\": 6.9, \"temp_max\": 7.8, \"temp_min\": 1.1, \"wind\": 6.2, \"weather\": \"rain\"}, {\"date\": \"2012-03-06T00:00:00\", \"precipitation\": 0.5, \"temp_max\": 6.7, \"temp_min\": 0.0, \"wind\": 2.7, \"weather\": \"snow\"}, {\"date\": \"2012-03-07T00:00:00\", \"precipitation\": 0.0, \"temp_max\": 8.9, \"temp_min\": -1.7, \"wind\": 2.7, \"weather\": \"sun\"}, {\"date\": \"2012-03-08T00:00:00\", \"precipitation\": 0.0, \"temp_max\": 15.6, \"temp_min\": 0.6, \"wind\": 2.5, \"weather\": \"sun\"}, {\"date\": \"2012-03-09T00:00:00\", \"precipitation\": 3.6, \"temp_max\": 9.4, \"temp_min\": 5.0, \"wind\": 2.8, \"weather\": \"rain\"}, {\"date\": \"2012-03-10T00:00:00\", \"precipitation\": 10.4, \"temp_max\": 7.2, \"temp_min\": 6.1, \"wind\": 3.4, \"weather\": \"rain\"}, {\"date\": \"2012-03-11T00:00:00\", \"precipitation\": 13.7, \"temp_max\": 6.7, \"temp_min\": 2.8, \"wind\": 5.8, \"weather\": \"rain\"}, {\"date\": \"2012-03-12T00:00:00\", \"precipitation\": 19.3, \"temp_max\": 8.3, \"temp_min\": 0.6, \"wind\": 6.2, \"weather\": \"snow\"}, {\"date\": \"2012-03-13T00:00:00\", \"precipitation\": 9.4, \"temp_max\": 5.6, \"temp_min\": 0.6, \"wind\": 5.3, \"weather\": \"snow\"}, {\"date\": \"2012-03-14T00:00:00\", \"precipitation\": 8.6, \"temp_max\": 7.8, \"temp_min\": 1.1, \"wind\": 4.7, \"weather\": \"rain\"}, {\"date\": \"2012-03-15T00:00:00\", \"precipitation\": 23.9, \"temp_max\": 11.1, \"temp_min\": 5.6, \"wind\": 5.8, \"weather\": \"snow\"}, {\"date\": \"2012-03-16T00:00:00\", \"precipitation\": 8.4, \"temp_max\": 8.9, \"temp_min\": 3.9, \"wind\": 5.1, \"weather\": \"rain\"}, {\"date\": \"2012-03-17T00:00:00\", \"precipitation\": 9.4, \"temp_max\": 10.0, \"temp_min\": 0.6, \"wind\": 3.8, \"weather\": \"snow\"}, {\"date\": \"2012-03-18T00:00:00\", \"precipitation\": 3.6, \"temp_max\": 5.0, \"temp_min\": -0.6, \"wind\": 2.7, \"weather\": \"rain\"}, {\"date\": \"2012-03-19T00:00:00\", \"precipitation\": 2.0, \"temp_max\": 7.2, \"temp_min\": -1.1, \"wind\": 3.0, \"weather\": \"rain\"}, {\"date\": \"2012-03-20T00:00:00\", \"precipitation\": 3.6, \"temp_max\": 7.8, \"temp_min\": 2.2, \"wind\": 6.4, \"weather\": \"rain\"}, {\"date\": \"2012-03-21T00:00:00\", \"precipitation\": 1.3, \"temp_max\": 8.9, \"temp_min\": 1.1, \"wind\": 2.5, \"weather\": \"rain\"}, {\"date\": \"2012-03-22T00:00:00\", \"precipitation\": 4.1, \"temp_max\": 10.0, \"temp_min\": 1.7, \"wind\": 2.1, \"weather\": \"rain\"}, {\"date\": \"2012-03-23T00:00:00\", \"precipitation\": 0.0, \"temp_max\": 12.2, \"temp_min\": 0.6, \"wind\": 2.8, \"weather\": \"sun\"}, {\"date\": \"2012-03-24T00:00:00\", \"precipitation\": 0.0, \"temp_max\": 15.0, \"temp_min\": 3.3, \"wind\": 5.2, \"weather\": \"sun\"}, {\"date\": \"2012-03-25T00:00:00\", \"precipitation\": 0.0, \"temp_max\": 13.3, \"temp_min\": 2.2, \"wind\": 2.7, \"weather\": \"rain\"}, {\"date\": \"2012-03-26T00:00:00\", \"precipitation\": 0.0, \"temp_max\": 12.8, \"temp_min\": 6.1, \"wind\": 4.3, \"weather\": \"drizzle\"}, {\"date\": \"2012-03-27T00:00:00\", \"precipitation\": 4.8, \"temp_max\": 14.4, \"temp_min\": 6.7, \"wind\": 3.8, \"weather\": \"rain\"}, {\"date\": \"2012-03-28T00:00:00\", \"precipitation\": 1.3, \"temp_max\": 10.6, \"temp_min\": 7.2, \"wind\": 5.9, \"weather\": \"rain\"}, {\"date\": \"2012-03-29T00:00:00\", \"precipitation\": 27.4, \"temp_max\": 10.0, \"temp_min\": 6.1, \"wind\": 4.4, \"weather\": \"rain\"}, {\"date\": \"2012-03-30T00:00:00\", \"precipitation\": 5.6, \"temp_max\": 9.4, \"temp_min\": 5.0, \"wind\": 4.7, \"weather\": \"rain\"}, {\"date\": \"2012-03-31T00:00:00\", \"precipitation\": 13.2, \"temp_max\": 10.0, \"temp_min\": 2.8, \"wind\": 3.4, \"weather\": \"rain\"}, {\"date\": \"2012-04-01T00:00:00\", \"precipitation\": 1.5, \"temp_max\": 8.9, \"temp_min\": 4.4, \"wind\": 6.8, \"weather\": \"rain\"}, {\"date\": \"2012-04-02T00:00:00\", \"precipitation\": 0.0, \"temp_max\": 16.7, \"temp_min\": 4.4, \"wind\": 3.1, \"weather\": \"sun\"}, {\"date\": \"2012-04-03T00:00:00\", \"precipitation\": 1.5, \"temp_max\": 11.7, \"temp_min\": 3.3, \"wind\": 3.1, \"weather\": \"rain\"}, {\"date\": \"2012-04-04T00:00:00\", \"precipitation\": 0.0, \"temp_max\": 10.6, \"temp_min\": 2.8, \"wind\": 2.1, \"weather\": \"sun\"}, {\"date\": \"2012-04-05T00:00:00\", \"precipitation\": 4.6, \"temp_max\": 9.4, \"temp_min\": 2.8, \"wind\": 1.8, \"weather\": \"snow\"}, {\"date\": \"2012-04-06T00:00:00\", \"precipitation\": 0.3, \"temp_max\": 11.1, \"temp_min\": 3.3, \"wind\": 2.6, \"weather\": \"rain\"}, {\"date\": \"2012-04-07T00:00:00\", \"precipitation\": 0.0, \"temp_max\": 16.1, \"temp_min\": 1.7, \"wind\": 4.3, \"weather\": \"sun\"}, {\"date\": \"2012-04-08T00:00:00\", \"precipitation\": 0.0, \"temp_max\": 21.1, \"temp_min\": 7.2, \"wind\": 4.1, \"weather\": \"sun\"}, {\"date\": \"2012-04-09T00:00:00\", \"precipitation\": 0.0, \"temp_max\": 20.0, \"temp_min\": 6.1, \"wind\": 2.1, \"weather\": \"sun\"}, {\"date\": \"2012-04-10T00:00:00\", \"precipitation\": 0.0, \"temp_max\": 17.8, \"temp_min\": 8.9, \"wind\": 3.2, \"weather\": \"rain\"}, {\"date\": \"2012-04-11T00:00:00\", \"precipitation\": 2.3, \"temp_max\": 11.1, \"temp_min\": 7.2, \"wind\": 2.6, \"weather\": \"rain\"}, {\"date\": \"2012-04-12T00:00:00\", \"precipitation\": 0.5, \"temp_max\": 13.9, \"temp_min\": 5.6, \"wind\": 2.6, \"weather\": \"rain\"}, {\"date\": \"2012-04-13T00:00:00\", \"precipitation\": 0.0, \"temp_max\": 15.0, \"temp_min\": 3.9, \"wind\": 4.0, \"weather\": \"drizzle\"}, {\"date\": \"2012-04-14T00:00:00\", \"precipitation\": 0.0, \"temp_max\": 15.6, \"temp_min\": 3.3, \"wind\": 3.0, \"weather\": \"sun\"}, {\"date\": \"2012-04-15T00:00:00\", \"precipitation\": 0.0, \"temp_max\": 16.1, \"temp_min\": 7.2, \"wind\": 2.9, \"weather\": \"rain\"}, {\"date\": \"2012-04-16T00:00:00\", \"precipitation\": 8.1, \"temp_max\": 13.3, \"temp_min\": 6.7, \"wind\": 5.8, \"weather\": \"rain\"}, {\"date\": \"2012-04-17T00:00:00\", \"precipitation\": 1.8, \"temp_max\": 10.0, \"temp_min\": 4.4, \"wind\": 2.0, \"weather\": \"rain\"}, {\"date\": \"2012-04-18T00:00:00\", \"precipitation\": 1.8, \"temp_max\": 13.3, \"temp_min\": 7.2, \"wind\": 3.9, \"weather\": \"rain\"}, {\"date\": \"2012-04-19T00:00:00\", \"precipitation\": 10.9, \"temp_max\": 13.9, \"temp_min\": 5.0, \"wind\": 2.6, \"weather\": \"rain\"}, {\"date\": \"2012-04-20T00:00:00\", \"precipitation\": 6.6, \"temp_max\": 13.3, \"temp_min\": 6.7, \"wind\": 2.7, \"weather\": \"rain\"}, {\"date\": \"2012-04-21T00:00:00\", \"precipitation\": 0.0, \"temp_max\": 20.0, \"temp_min\": 4.4, \"wind\": 2.3, \"weather\": \"sun\"}, {\"date\": \"2012-04-22T00:00:00\", \"precipitation\": 0.0, \"temp_max\": 23.3, \"temp_min\": 8.3, \"wind\": 2.6, \"weather\": \"rain\"}, {\"date\": \"2012-04-23T00:00:00\", \"precipitation\": 0.0, \"temp_max\": 21.7, \"temp_min\": 8.9, \"wind\": 3.5, \"weather\": \"sun\"}, {\"date\": \"2012-04-24T00:00:00\", \"precipitation\": 4.3, \"temp_max\": 13.9, \"temp_min\": 10.0, \"wind\": 2.8, \"weather\": \"rain\"}, {\"date\": \"2012-04-25T00:00:00\", \"precipitation\": 10.7, \"temp_max\": 16.7, \"temp_min\": 8.9, \"wind\": 2.6, \"weather\": \"rain\"}, {\"date\": \"2012-04-26T00:00:00\", \"precipitation\": 3.8, \"temp_max\": 13.9, \"temp_min\": 6.7, \"wind\": 5.2, \"weather\": \"rain\"}, {\"date\": \"2012-04-27T00:00:00\", \"precipitation\": 0.8, \"temp_max\": 13.3, \"temp_min\": 6.1, \"wind\": 4.8, \"weather\": \"rain\"}, {\"date\": \"2012-04-28T00:00:00\", \"precipitation\": 0.0, \"temp_max\": 16.1, \"temp_min\": 8.3, \"wind\": 2.5, \"weather\": \"drizzle\"}, {\"date\": \"2012-04-29T00:00:00\", \"precipitation\": 4.3, \"temp_max\": 15.6, \"temp_min\": 8.9, \"wind\": 1.6, \"weather\": \"rain\"}, {\"date\": \"2012-04-30T00:00:00\", \"precipitation\": 4.3, \"temp_max\": 12.8, \"temp_min\": 7.2, \"wind\": 8.0, \"weather\": \"rain\"}, {\"date\": \"2012-05-01T00:00:00\", \"precipitation\": 0.5, \"temp_max\": 11.7, \"temp_min\": 6.1, \"wind\": 6.4, \"weather\": \"rain\"}, {\"date\": \"2012-05-02T00:00:00\", \"precipitation\": 0.5, \"temp_max\": 13.3, \"temp_min\": 5.6, \"wind\": 2.5, \"weather\": \"rain\"}, {\"date\": \"2012-05-03T00:00:00\", \"precipitation\": 18.5, \"temp_max\": 11.1, \"temp_min\": 7.2, \"wind\": 3.4, \"weather\": \"rain\"}, {\"date\": \"2012-05-04T00:00:00\", \"precipitation\": 1.8, \"temp_max\": 12.2, \"temp_min\": 6.1, \"wind\": 4.6, \"weather\": \"rain\"}, {\"date\": \"2012-05-05T00:00:00\", \"precipitation\": 0.0, \"temp_max\": 13.3, \"temp_min\": 5.0, \"wind\": 2.3, \"weather\": \"sun\"}, {\"date\": \"2012-05-06T00:00:00\", \"precipitation\": 0.0, \"temp_max\": 17.8, \"temp_min\": 5.0, \"wind\": 2.4, \"weather\": \"sun\"}, {\"date\": \"2012-05-07T00:00:00\", \"precipitation\": 0.0, \"temp_max\": 23.9, \"temp_min\": 6.1, \"wind\": 2.2, \"weather\": \"sun\"}, {\"date\": \"2012-05-08T00:00:00\", \"precipitation\": 0.0, \"temp_max\": 18.3, \"temp_min\": 9.4, \"wind\": 3.0, \"weather\": \"sun\"}, {\"date\": \"2012-05-09T00:00:00\", \"precipitation\": 0.0, \"temp_max\": 13.3, \"temp_min\": 6.7, \"wind\": 3.9, \"weather\": \"rain\"}, {\"date\": \"2012-05-10T00:00:00\", \"precipitation\": 0.0, \"temp_max\": 14.4, \"temp_min\": 3.9, \"wind\": 3.0, \"weather\": \"sun\"}, {\"date\": \"2012-05-11T00:00:00\", \"precipitation\": 0.0, \"temp_max\": 18.3, \"temp_min\": 4.4, \"wind\": 4.3, \"weather\": \"sun\"}, {\"date\": \"2012-05-12T00:00:00\", \"precipitation\": 0.0, \"temp_max\": 24.4, \"temp_min\": 6.7, \"wind\": 3.4, \"weather\": \"sun\"}, {\"date\": \"2012-05-13T00:00:00\", \"precipitation\": 0.0, \"temp_max\": 25.6, \"temp_min\": 9.4, \"wind\": 4.2, \"weather\": \"sun\"}, {\"date\": \"2012-05-14T00:00:00\", \"precipitation\": 0.0, \"temp_max\": 26.7, \"temp_min\": 12.8, \"wind\": 3.8, \"weather\": \"sun\"}, {\"date\": \"2012-05-15T00:00:00\", \"precipitation\": 0.0, \"temp_max\": 24.4, \"temp_min\": 9.4, \"wind\": 4.1, \"weather\": \"drizzle\"}, {\"date\": \"2012-05-16T00:00:00\", \"precipitation\": 0.0, \"temp_max\": 19.4, \"temp_min\": 9.4, \"wind\": 3.5, \"weather\": \"sun\"}, {\"date\": \"2012-05-17T00:00:00\", \"precipitation\": 0.0, \"temp_max\": 17.8, \"temp_min\": 6.7, \"wind\": 2.9, \"weather\": \"rain\"}, {\"date\": \"2012-05-18T00:00:00\", \"precipitation\": 0.0, \"temp_max\": 15.6, \"temp_min\": 7.8, \"wind\": 3.1, \"weather\": \"rain\"}, {\"date\": \"2012-05-19T00:00:00\", \"precipitation\": 0.0, \"temp_max\": 19.4, \"temp_min\": 7.2, \"wind\": 1.5, \"weather\": \"sun\"}, {\"date\": \"2012-05-20T00:00:00\", \"precipitation\": 6.4, \"temp_max\": 14.4, \"temp_min\": 11.7, \"wind\": 1.3, \"weather\": \"rain\"}, {\"date\": \"2012-05-21T00:00:00\", \"precipitation\": 14.0, \"temp_max\": 16.7, \"temp_min\": 10.0, \"wind\": 4.0, \"weather\": \"rain\"}, {\"date\": \"2012-05-22T00:00:00\", \"precipitation\": 6.1, \"temp_max\": 12.8, \"temp_min\": 8.9, \"wind\": 4.8, \"weather\": \"rain\"}, {\"date\": \"2012-05-23T00:00:00\", \"precipitation\": 0.3, \"temp_max\": 14.4, \"temp_min\": 8.9, \"wind\": 6.3, \"weather\": \"rain\"}, {\"date\": \"2012-05-24T00:00:00\", \"precipitation\": 0.0, \"temp_max\": 17.2, \"temp_min\": 8.9, \"wind\": 3.3, \"weather\": \"rain\"}, {\"date\": \"2012-05-25T00:00:00\", \"precipitation\": 0.0, \"temp_max\": 22.2, \"temp_min\": 8.9, \"wind\": 3.1, \"weather\": \"rain\"}, {\"date\": \"2012-05-26T00:00:00\", \"precipitation\": 0.0, \"temp_max\": 22.2, \"temp_min\": 8.9, \"wind\": 3.6, \"weather\": \"sun\"}, {\"date\": \"2012-05-27T00:00:00\", \"precipitation\": 0.0, \"temp_max\": 17.2, \"temp_min\": 11.7, \"wind\": 3.7, \"weather\": \"sun\"}, {\"date\": \"2012-05-28T00:00:00\", \"precipitation\": 0.0, \"temp_max\": 16.7, \"temp_min\": 10.0, \"wind\": 3.4, \"weather\": \"rain\"}, {\"date\": \"2012-05-29T00:00:00\", \"precipitation\": 0.0, \"temp_max\": 16.1, \"temp_min\": 7.8, \"wind\": 1.8, \"weather\": \"sun\"}, {\"date\": \"2012-05-30T00:00:00\", \"precipitation\": 0.3, \"temp_max\": 18.9, \"temp_min\": 11.1, \"wind\": 1.5, \"weather\": \"rain\"}, {\"date\": \"2012-05-31T00:00:00\", \"precipitation\": 3.8, \"temp_max\": 17.8, \"temp_min\": 12.2, \"wind\": 2.7, \"weather\": \"rain\"}, {\"date\": \"2012-06-01T00:00:00\", \"precipitation\": 6.6, \"temp_max\": 20.0, \"temp_min\": 12.8, \"wind\": 3.7, \"weather\": \"rain\"}, {\"date\": \"2012-06-02T00:00:00\", \"precipitation\": 0.3, \"temp_max\": 18.9, \"temp_min\": 10.6, \"wind\": 3.7, \"weather\": \"rain\"}, {\"date\": \"2012-06-03T00:00:00\", \"precipitation\": 0.0, \"temp_max\": 17.2, \"temp_min\": 9.4, \"wind\": 2.9, \"weather\": \"sun\"}, {\"date\": \"2012-06-04T00:00:00\", \"precipitation\": 1.3, \"temp_max\": 12.8, \"temp_min\": 8.9, \"wind\": 3.1, \"weather\": \"rain\"}, {\"date\": \"2012-06-05T00:00:00\", \"precipitation\": 16.0, \"temp_max\": 13.3, \"temp_min\": 8.3, \"wind\": 3.3, \"weather\": \"rain\"}, {\"date\": \"2012-06-06T00:00:00\", \"precipitation\": 0.0, \"temp_max\": 16.1, \"temp_min\": 6.1, \"wind\": 3.4, \"weather\": \"sun\"}, {\"date\": \"2012-06-07T00:00:00\", \"precipitation\": 16.5, \"temp_max\": 16.1, \"temp_min\": 8.9, \"wind\": 3.5, \"weather\": \"rain\"}, {\"date\": \"2012-06-08T00:00:00\", \"precipitation\": 1.5, \"temp_max\": 15.0, \"temp_min\": 8.3, \"wind\": 3.0, \"weather\": \"rain\"}, {\"date\": \"2012-06-09T00:00:00\", \"precipitation\": 0.0, \"temp_max\": 17.2, \"temp_min\": 8.3, \"wind\": 4.7, \"weather\": \"rain\"}, {\"date\": \"2012-06-10T00:00:00\", \"precipitation\": 0.0, \"temp_max\": 18.9, \"temp_min\": 10.0, \"wind\": 2.9, \"weather\": \"sun\"}, {\"date\": \"2012-06-11T00:00:00\", \"precipitation\": 0.0, \"temp_max\": 23.3, \"temp_min\": 10.0, \"wind\": 1.8, \"weather\": \"rain\"}, {\"date\": \"2012-06-12T00:00:00\", \"precipitation\": 0.8, \"temp_max\": 18.3, \"temp_min\": 12.8, \"wind\": 3.9, \"weather\": \"rain\"}, {\"date\": \"2012-06-13T00:00:00\", \"precipitation\": 0.0, \"temp_max\": 16.1, \"temp_min\": 11.1, \"wind\": 4.3, \"weather\": \"sun\"}, {\"date\": \"2012-06-14T00:00:00\", \"precipitation\": 0.0, \"temp_max\": 17.2, \"temp_min\": 10.0, \"wind\": 2.7, \"weather\": \"sun\"}, {\"date\": \"2012-06-15T00:00:00\", \"precipitation\": 0.0, \"temp_max\": 22.2, \"temp_min\": 9.4, \"wind\": 1.7, \"weather\": \"sun\"}, {\"date\": \"2012-06-16T00:00:00\", \"precipitation\": 0.0, \"temp_max\": 21.1, \"temp_min\": 15.0, \"wind\": 4.1, \"weather\": \"rain\"}, {\"date\": \"2012-06-17T00:00:00\", \"precipitation\": 0.0, \"temp_max\": 18.9, \"temp_min\": 11.7, \"wind\": 6.4, \"weather\": \"sun\"}, {\"date\": \"2012-06-18T00:00:00\", \"precipitation\": 3.0, \"temp_max\": 17.2, \"temp_min\": 10.0, \"wind\": 3.8, \"weather\": \"rain\"}, {\"date\": \"2012-06-19T00:00:00\", \"precipitation\": 1.0, \"temp_max\": 19.4, \"temp_min\": 10.0, \"wind\": 3.0, \"weather\": \"rain\"}, {\"date\": \"2012-06-20T00:00:00\", \"precipitation\": 0.0, \"temp_max\": 24.4, \"temp_min\": 10.0, \"wind\": 3.0, \"weather\": \"sun\"}, {\"date\": \"2012-06-21T00:00:00\", \"precipitation\": 0.0, \"temp_max\": 23.9, \"temp_min\": 11.7, \"wind\": 2.1, \"weather\": \"sun\"}, {\"date\": \"2012-06-22T00:00:00\", \"precipitation\": 15.7, \"temp_max\": 13.9, \"temp_min\": 11.7, \"wind\": 1.9, \"weather\": \"rain\"}, {\"date\": \"2012-06-23T00:00:00\", \"precipitation\": 8.6, \"temp_max\": 15.6, \"temp_min\": 9.4, \"wind\": 2.5, \"weather\": \"rain\"}, {\"date\": \"2012-06-24T00:00:00\", \"precipitation\": 0.0, \"temp_max\": 19.4, \"temp_min\": 9.4, \"wind\": 2.0, \"weather\": \"drizzle\"}, {\"date\": \"2012-06-25T00:00:00\", \"precipitation\": 0.5, \"temp_max\": 19.4, \"temp_min\": 11.1, \"wind\": 3.1, \"weather\": \"rain\"}, {\"date\": \"2012-06-26T00:00:00\", \"precipitation\": 0.0, \"temp_max\": 18.3, \"temp_min\": 10.6, \"wind\": 3.4, \"weather\": \"rain\"}, {\"date\": \"2012-06-27T00:00:00\", \"precipitation\": 0.0, \"temp_max\": 22.8, \"temp_min\": 8.9, \"wind\": 1.8, \"weather\": \"sun\"}, {\"date\": \"2012-06-28T00:00:00\", \"precipitation\": 0.0, \"temp_max\": 22.2, \"temp_min\": 11.7, \"wind\": 2.5, \"weather\": \"rain\"}, {\"date\": \"2012-06-29T00:00:00\", \"precipitation\": 0.3, \"temp_max\": 21.7, \"temp_min\": 15.0, \"wind\": 1.9, \"weather\": \"rain\"}, {\"date\": \"2012-06-30T00:00:00\", \"precipitation\": 3.0, \"temp_max\": 20.0, \"temp_min\": 13.3, \"wind\": 2.4, \"weather\": \"rain\"}, {\"date\": \"2012-07-01T00:00:00\", \"precipitation\": 0.0, \"temp_max\": 20.0, \"temp_min\": 12.2, \"wind\": 2.3, \"weather\": \"rain\"}, {\"date\": \"2012-07-02T00:00:00\", \"precipitation\": 2.0, \"temp_max\": 18.9, \"temp_min\": 11.7, \"wind\": 2.1, \"weather\": \"rain\"}, {\"date\": \"2012-07-03T00:00:00\", \"precipitation\": 5.8, \"temp_max\": 18.3, \"temp_min\": 10.6, \"wind\": 6.0, \"weather\": \"rain\"}, {\"date\": \"2012-07-04T00:00:00\", \"precipitation\": 0.0, \"temp_max\": 20.6, \"temp_min\": 9.4, \"wind\": 3.8, \"weather\": \"sun\"}, {\"date\": \"2012-07-05T00:00:00\", \"precipitation\": 0.0, \"temp_max\": 24.4, \"temp_min\": 10.6, \"wind\": 3.1, \"weather\": \"drizzle\"}, {\"date\": \"2012-07-06T00:00:00\", \"precipitation\": 0.0, \"temp_max\": 25.0, \"temp_min\": 11.1, \"wind\": 2.1, \"weather\": \"sun\"}, {\"date\": \"2012-07-07T00:00:00\", \"precipitation\": 0.0, \"temp_max\": 26.7, \"temp_min\": 12.8, \"wind\": 3.8, \"weather\": \"sun\"}, {\"date\": \"2012-07-08T00:00:00\", \"precipitation\": 0.0, \"temp_max\": 28.3, \"temp_min\": 14.4, \"wind\": 2.8, \"weather\": \"rain\"}, {\"date\": \"2012-07-09T00:00:00\", \"precipitation\": 1.5, \"temp_max\": 25.0, \"temp_min\": 12.8, \"wind\": 2.0, \"weather\": \"rain\"}, {\"date\": \"2012-07-10T00:00:00\", \"precipitation\": 0.0, \"temp_max\": 23.9, \"temp_min\": 11.1, \"wind\": 2.3, \"weather\": \"drizzle\"}, {\"date\": \"2012-07-11T00:00:00\", \"precipitation\": 0.0, \"temp_max\": 27.8, \"temp_min\": 13.3, \"wind\": 2.9, \"weather\": \"fog\"}, {\"date\": \"2012-07-12T00:00:00\", \"precipitation\": 0.0, \"temp_max\": 25.6, \"temp_min\": 13.3, \"wind\": 2.7, \"weather\": \"drizzle\"}, {\"date\": \"2012-07-13T00:00:00\", \"precipitation\": 0.5, \"temp_max\": 23.3, \"temp_min\": 13.9, \"wind\": 2.2, \"weather\": \"rain\"}, {\"date\": \"2012-07-14T00:00:00\", \"precipitation\": 0.0, \"temp_max\": 25.0, \"temp_min\": 15.0, \"wind\": 2.2, \"weather\": \"rain\"}, {\"date\": \"2012-07-15T00:00:00\", \"precipitation\": 0.0, \"temp_max\": 18.9, \"temp_min\": 13.3, \"wind\": 3.8, \"weather\": \"rain\"}, {\"date\": \"2012-07-16T00:00:00\", \"precipitation\": 0.3, \"temp_max\": 26.1, \"temp_min\": 13.3, \"wind\": 2.5, \"weather\": \"rain\"}, {\"date\": \"2012-07-17T00:00:00\", \"precipitation\": 0.0, \"temp_max\": 21.7, \"temp_min\": 15.0, \"wind\": 2.6, \"weather\": \"sun\"}, {\"date\": \"2012-07-18T00:00:00\", \"precipitation\": 0.0, \"temp_max\": 21.1, \"temp_min\": 14.4, \"wind\": 2.9, \"weather\": \"sun\"}, {\"date\": \"2012-07-19T00:00:00\", \"precipitation\": 0.0, \"temp_max\": 25.0, \"temp_min\": 14.4, \"wind\": 2.2, \"weather\": \"sun\"}, {\"date\": \"2012-07-20T00:00:00\", \"precipitation\": 15.2, \"temp_max\": 19.4, \"temp_min\": 13.9, \"wind\": 4.0, \"weather\": \"rain\"}, {\"date\": \"2012-07-21T00:00:00\", \"precipitation\": 0.0, \"temp_max\": 23.9, \"temp_min\": 13.9, \"wind\": 2.3, \"weather\": \"sun\"}, {\"date\": \"2012-07-22T00:00:00\", \"precipitation\": 1.0, \"temp_max\": 20.6, \"temp_min\": 12.2, \"wind\": 3.9, \"weather\": \"rain\"}, {\"date\": \"2012-07-23T00:00:00\", \"precipitation\": 0.0, \"temp_max\": 18.9, \"temp_min\": 11.1, \"wind\": 3.3, \"weather\": \"rain\"}, {\"date\": \"2012-07-24T00:00:00\", \"precipitation\": 0.0, \"temp_max\": 23.3, \"temp_min\": 12.2, \"wind\": 4.3, \"weather\": \"sun\"}, {\"date\": \"2012-07-25T00:00:00\", \"precipitation\": 0.0, \"temp_max\": 26.7, \"temp_min\": 12.8, \"wind\": 2.6, \"weather\": \"sun\"}, {\"date\": \"2012-07-26T00:00:00\", \"precipitation\": 0.0, \"temp_max\": 25.6, \"temp_min\": 12.8, \"wind\": 2.2, \"weather\": \"drizzle\"}, {\"date\": \"2012-07-27T00:00:00\", \"precipitation\": 0.0, \"temp_max\": 18.9, \"temp_min\": 13.9, \"wind\": 2.8, \"weather\": \"drizzle\"}, {\"date\": \"2012-07-28T00:00:00\", \"precipitation\": 0.0, \"temp_max\": 22.2, \"temp_min\": 13.3, \"wind\": 1.7, \"weather\": \"drizzle\"}, {\"date\": \"2012-07-29T00:00:00\", \"precipitation\": 0.0, \"temp_max\": 22.8, \"temp_min\": 15.0, \"wind\": 2.0, \"weather\": \"sun\"}, {\"date\": \"2012-07-30T00:00:00\", \"precipitation\": 0.0, \"temp_max\": 19.4, \"temp_min\": 13.3, \"wind\": 3.0, \"weather\": \"sun\"}, {\"date\": \"2012-07-31T00:00:00\", \"precipitation\": 0.0, \"temp_max\": 22.8, \"temp_min\": 13.9, \"wind\": 2.8, \"weather\": \"sun\"}, {\"date\": \"2012-08-01T00:00:00\", \"precipitation\": 0.0, \"temp_max\": 23.9, \"temp_min\": 13.3, \"wind\": 2.2, \"weather\": \"drizzle\"}, {\"date\": \"2012-08-02T00:00:00\", \"precipitation\": 0.0, \"temp_max\": 23.3, \"temp_min\": 12.2, \"wind\": 2.5, \"weather\": \"sun\"}, {\"date\": \"2012-08-03T00:00:00\", \"precipitation\": 0.0, \"temp_max\": 27.2, \"temp_min\": 12.8, \"wind\": 3.9, \"weather\": \"sun\"}, {\"date\": \"2012-08-04T00:00:00\", \"precipitation\": 0.0, \"temp_max\": 33.9, \"temp_min\": 16.7, \"wind\": 3.7, \"weather\": \"sun\"}, {\"date\": \"2012-08-05T00:00:00\", \"precipitation\": 0.0, \"temp_max\": 33.9, \"temp_min\": 17.8, \"wind\": 1.9, \"weather\": \"sun\"}, {\"date\": \"2012-08-06T00:00:00\", \"precipitation\": 0.0, \"temp_max\": 28.3, \"temp_min\": 15.6, \"wind\": 2.5, \"weather\": \"rain\"}, {\"date\": \"2012-08-07T00:00:00\", \"precipitation\": 0.0, \"temp_max\": 21.1, \"temp_min\": 15.0, \"wind\": 2.6, \"weather\": \"drizzle\"}, {\"date\": \"2012-08-08T00:00:00\", \"precipitation\": 0.0, \"temp_max\": 22.2, \"temp_min\": 15.0, \"wind\": 3.1, \"weather\": \"sun\"}, {\"date\": \"2012-08-09T00:00:00\", \"precipitation\": 0.0, \"temp_max\": 24.4, \"temp_min\": 14.4, \"wind\": 3.8, \"weather\": \"drizzle\"}, {\"date\": \"2012-08-10T00:00:00\", \"precipitation\": 0.0, \"temp_max\": 25.6, \"temp_min\": 12.2, \"wind\": 2.3, \"weather\": \"sun\"}, {\"date\": \"2012-08-11T00:00:00\", \"precipitation\": 0.0, \"temp_max\": 28.3, \"temp_min\": 13.3, \"wind\": 2.5, \"weather\": \"sun\"}, {\"date\": \"2012-08-12T00:00:00\", \"precipitation\": 0.0, \"temp_max\": 30.6, \"temp_min\": 15.0, \"wind\": 3.0, \"weather\": \"sun\"}, {\"date\": \"2012-08-13T00:00:00\", \"precipitation\": 0.0, \"temp_max\": 30.6, \"temp_min\": 15.0, \"wind\": 2.8, \"weather\": \"sun\"}, {\"date\": \"2012-08-14T00:00:00\", \"precipitation\": 0.0, \"temp_max\": 28.9, \"temp_min\": 13.9, \"wind\": 2.8, \"weather\": \"sun\"}, {\"date\": \"2012-08-15T00:00:00\", \"precipitation\": 0.0, \"temp_max\": 31.1, \"temp_min\": 16.7, \"wind\": 4.7, \"weather\": \"sun\"}, {\"date\": \"2012-08-16T00:00:00\", \"precipitation\": 0.0, \"temp_max\": 34.4, \"temp_min\": 18.3, \"wind\": 2.8, \"weather\": \"sun\"}, {\"date\": \"2012-08-17T00:00:00\", \"precipitation\": 0.0, \"temp_max\": 32.8, \"temp_min\": 16.1, \"wind\": 1.8, \"weather\": \"sun\"}, {\"date\": \"2012-08-18T00:00:00\", \"precipitation\": 0.0, \"temp_max\": 21.7, \"temp_min\": 14.4, \"wind\": 3.0, \"weather\": \"drizzle\"}, {\"date\": \"2012-08-19T00:00:00\", \"precipitation\": 0.0, \"temp_max\": 23.3, \"temp_min\": 15.0, \"wind\": 2.7, \"weather\": \"drizzle\"}, {\"date\": \"2012-08-20T00:00:00\", \"precipitation\": 0.0, \"temp_max\": 25.6, \"temp_min\": 15.0, \"wind\": 1.9, \"weather\": \"sun\"}, {\"date\": \"2012-08-21T00:00:00\", \"precipitation\": 0.0, \"temp_max\": 23.3, \"temp_min\": 13.3, \"wind\": 3.0, \"weather\": \"rain\"}, {\"date\": \"2012-08-22T00:00:00\", \"precipitation\": 0.0, \"temp_max\": 22.2, \"temp_min\": 13.3, \"wind\": 2.3, \"weather\": \"sun\"}, {\"date\": \"2012-08-23T00:00:00\", \"precipitation\": 0.0, \"temp_max\": 21.1, \"temp_min\": 13.9, \"wind\": 3.8, \"weather\": \"sun\"}, {\"date\": \"2012-08-24T00:00:00\", \"precipitation\": 0.0, \"temp_max\": 22.2, \"temp_min\": 10.0, \"wind\": 3.3, \"weather\": \"sun\"}, {\"date\": \"2012-08-25T00:00:00\", \"precipitation\": 0.0, \"temp_max\": 26.1, \"temp_min\": 11.7, \"wind\": 3.2, \"weather\": \"sun\"}, {\"date\": \"2012-08-26T00:00:00\", \"precipitation\": 0.0, \"temp_max\": 21.1, \"temp_min\": 12.2, \"wind\": 3.4, \"weather\": \"sun\"}, {\"date\": \"2012-08-27T00:00:00\", \"precipitation\": 0.0, \"temp_max\": 23.9, \"temp_min\": 13.3, \"wind\": 1.8, \"weather\": \"sun\"}, {\"date\": \"2012-08-28T00:00:00\", \"precipitation\": 0.0, \"temp_max\": 22.8, \"temp_min\": 12.2, \"wind\": 3.2, \"weather\": \"sun\"}, {\"date\": \"2012-08-29T00:00:00\", \"precipitation\": 0.0, \"temp_max\": 22.8, \"temp_min\": 13.3, \"wind\": 2.4, \"weather\": \"sun\"}, {\"date\": \"2012-08-30T00:00:00\", \"precipitation\": 0.0, \"temp_max\": 22.8, \"temp_min\": 12.8, \"wind\": 1.9, \"weather\": \"sun\"}, {\"date\": \"2012-08-31T00:00:00\", \"precipitation\": 0.0, \"temp_max\": 22.2, \"temp_min\": 10.6, \"wind\": 2.9, \"weather\": \"sun\"}, {\"date\": \"2012-09-01T00:00:00\", \"precipitation\": 0.0, \"temp_max\": 21.7, \"temp_min\": 10.6, \"wind\": 2.1, \"weather\": \"sun\"}, {\"date\": \"2012-09-02T00:00:00\", \"precipitation\": 0.0, \"temp_max\": 21.1, \"temp_min\": 10.0, \"wind\": 2.0, \"weather\": \"sun\"}, {\"date\": \"2012-09-03T00:00:00\", \"precipitation\": 0.0, \"temp_max\": 22.8, \"temp_min\": 12.8, \"wind\": 3.3, \"weather\": \"sun\"}, {\"date\": \"2012-09-04T00:00:00\", \"precipitation\": 0.0, \"temp_max\": 24.4, \"temp_min\": 11.1, \"wind\": 3.1, \"weather\": \"sun\"}, {\"date\": \"2012-09-05T00:00:00\", \"precipitation\": 0.0, \"temp_max\": 26.1, \"temp_min\": 11.7, \"wind\": 2.6, \"weather\": \"sun\"}, {\"date\": \"2012-09-06T00:00:00\", \"precipitation\": 0.0, \"temp_max\": 28.3, \"temp_min\": 14.4, \"wind\": 4.2, \"weather\": \"sun\"}, {\"date\": \"2012-09-07T00:00:00\", \"precipitation\": 0.0, \"temp_max\": 32.2, \"temp_min\": 13.3, \"wind\": 3.1, \"weather\": \"sun\"}, {\"date\": \"2012-09-08T00:00:00\", \"precipitation\": 0.0, \"temp_max\": 25.0, \"temp_min\": 13.3, \"wind\": 3.0, \"weather\": \"sun\"}, {\"date\": \"2012-09-09T00:00:00\", \"precipitation\": 0.3, \"temp_max\": 18.9, \"temp_min\": 13.9, \"wind\": 5.0, \"weather\": \"rain\"}, {\"date\": \"2012-09-10T00:00:00\", \"precipitation\": 0.3, \"temp_max\": 20.0, \"temp_min\": 11.7, \"wind\": 3.9, \"weather\": \"rain\"}, {\"date\": \"2012-09-11T00:00:00\", \"precipitation\": 0.0, \"temp_max\": 20.0, \"temp_min\": 8.9, \"wind\": 4.2, \"weather\": \"sun\"}, {\"date\": \"2012-09-12T00:00:00\", \"precipitation\": 0.0, \"temp_max\": 22.2, \"temp_min\": 10.0, \"wind\": 5.6, \"weather\": \"sun\"}, {\"date\": \"2012-09-13T00:00:00\", \"precipitation\": 0.0, \"temp_max\": 27.8, \"temp_min\": 11.7, \"wind\": 3.6, \"weather\": \"sun\"}, {\"date\": \"2012-09-14T00:00:00\", \"precipitation\": 0.0, \"temp_max\": 26.1, \"temp_min\": 11.1, \"wind\": 1.5, \"weather\": \"sun\"}, {\"date\": \"2012-09-15T00:00:00\", \"precipitation\": 0.0, \"temp_max\": 22.2, \"temp_min\": 11.1, \"wind\": 1.9, \"weather\": \"sun\"}, {\"date\": \"2012-09-16T00:00:00\", \"precipitation\": 0.0, \"temp_max\": 24.4, \"temp_min\": 9.4, \"wind\": 2.3, \"weather\": \"sun\"}, {\"date\": \"2012-09-17T00:00:00\", \"precipitation\": 0.0, \"temp_max\": 27.8, \"temp_min\": 11.7, \"wind\": 2.2, \"weather\": \"fog\"}, {\"date\": \"2012-09-18T00:00:00\", \"precipitation\": 0.0, \"temp_max\": 27.8, \"temp_min\": 11.7, \"wind\": 1.4, \"weather\": \"sun\"}, {\"date\": \"2012-09-19T00:00:00\", \"precipitation\": 0.0, \"temp_max\": 23.9, \"temp_min\": 11.7, \"wind\": 1.9, \"weather\": \"drizzle\"}, {\"date\": \"2012-09-20T00:00:00\", \"precipitation\": 0.0, \"temp_max\": 19.4, \"temp_min\": 10.0, \"wind\": 2.5, \"weather\": \"drizzle\"}, {\"date\": \"2012-09-21T00:00:00\", \"precipitation\": 0.0, \"temp_max\": 16.1, \"temp_min\": 12.8, \"wind\": 2.1, \"weather\": \"drizzle\"}, {\"date\": \"2012-09-22T00:00:00\", \"precipitation\": 0.3, \"temp_max\": 19.4, \"temp_min\": 11.7, \"wind\": 1.1, \"weather\": \"rain\"}, {\"date\": \"2012-09-23T00:00:00\", \"precipitation\": 0.0, \"temp_max\": 19.4, \"temp_min\": 10.0, \"wind\": 1.4, \"weather\": \"fog\"}, {\"date\": \"2012-09-24T00:00:00\", \"precipitation\": 0.0, \"temp_max\": 21.1, \"temp_min\": 10.0, \"wind\": 1.8, \"weather\": \"fog\"}, {\"date\": \"2012-09-25T00:00:00\", \"precipitation\": 0.0, \"temp_max\": 19.4, \"temp_min\": 11.1, \"wind\": 1.7, \"weather\": \"sun\"}, {\"date\": \"2012-09-26T00:00:00\", \"precipitation\": 0.0, \"temp_max\": 19.4, \"temp_min\": 9.4, \"wind\": 1.7, \"weather\": \"drizzle\"}, {\"date\": \"2012-09-27T00:00:00\", \"precipitation\": 0.0, \"temp_max\": 22.8, \"temp_min\": 10.0, \"wind\": 1.7, \"weather\": \"drizzle\"}, {\"date\": \"2012-09-28T00:00:00\", \"precipitation\": 0.0, \"temp_max\": 25.0, \"temp_min\": 12.2, \"wind\": 1.1, \"weather\": \"rain\"}, {\"date\": \"2012-09-29T00:00:00\", \"precipitation\": 0.0, \"temp_max\": 20.6, \"temp_min\": 12.2, \"wind\": 4.3, \"weather\": \"sun\"}, {\"date\": \"2012-09-30T00:00:00\", \"precipitation\": 0.0, \"temp_max\": 21.1, \"temp_min\": 7.8, \"wind\": 3.1, \"weather\": \"sun\"}, {\"date\": \"2012-10-01T00:00:00\", \"precipitation\": 0.0, \"temp_max\": 23.3, \"temp_min\": 8.9, \"wind\": 3.0, \"weather\": \"sun\"}, {\"date\": \"2012-10-02T00:00:00\", \"precipitation\": 0.0, \"temp_max\": 17.8, \"temp_min\": 10.0, \"wind\": 4.1, \"weather\": \"sun\"}, {\"date\": \"2012-10-03T00:00:00\", \"precipitation\": 0.0, \"temp_max\": 18.9, \"temp_min\": 7.8, \"wind\": 7.3, \"weather\": \"sun\"}, {\"date\": \"2012-10-04T00:00:00\", \"precipitation\": 0.0, \"temp_max\": 18.9, \"temp_min\": 8.3, \"wind\": 6.5, \"weather\": \"sun\"}, {\"date\": \"2012-10-05T00:00:00\", \"precipitation\": 0.0, \"temp_max\": 21.7, \"temp_min\": 8.9, \"wind\": 5.7, \"weather\": \"sun\"}, {\"date\": \"2012-10-06T00:00:00\", \"precipitation\": 0.0, \"temp_max\": 23.9, \"temp_min\": 7.8, \"wind\": 5.1, \"weather\": \"sun\"}, {\"date\": \"2012-10-07T00:00:00\", \"precipitation\": 0.0, \"temp_max\": 23.9, \"temp_min\": 7.8, \"wind\": 1.3, \"weather\": \"sun\"}, {\"date\": \"2012-10-08T00:00:00\", \"precipitation\": 0.0, \"temp_max\": 21.1, \"temp_min\": 7.8, \"wind\": 1.9, \"weather\": \"sun\"}, {\"date\": \"2012-10-09T00:00:00\", \"precipitation\": 0.0, \"temp_max\": 16.1, \"temp_min\": 8.9, \"wind\": 1.6, \"weather\": \"drizzle\"}, {\"date\": \"2012-10-10T00:00:00\", \"precipitation\": 0.0, \"temp_max\": 12.2, \"temp_min\": 8.3, \"wind\": 1.4, \"weather\": \"drizzle\"}, {\"date\": \"2012-10-11T00:00:00\", \"precipitation\": 0.0, \"temp_max\": 13.9, \"temp_min\": 7.2, \"wind\": 1.3, \"weather\": \"drizzle\"}, {\"date\": \"2012-10-12T00:00:00\", \"precipitation\": 2.0, \"temp_max\": 13.9, \"temp_min\": 8.9, \"wind\": 4.6, \"weather\": \"rain\"}, {\"date\": \"2012-10-13T00:00:00\", \"precipitation\": 4.8, \"temp_max\": 15.6, \"temp_min\": 12.2, \"wind\": 3.9, \"weather\": \"rain\"}, {\"date\": \"2012-10-14T00:00:00\", \"precipitation\": 16.5, \"temp_max\": 17.8, \"temp_min\": 13.3, \"wind\": 3.4, \"weather\": \"rain\"}, {\"date\": \"2012-10-15T00:00:00\", \"precipitation\": 7.9, \"temp_max\": 17.2, \"temp_min\": 11.1, \"wind\": 4.6, \"weather\": \"rain\"}, {\"date\": \"2012-10-16T00:00:00\", \"precipitation\": 0.0, \"temp_max\": 16.1, \"temp_min\": 8.3, \"wind\": 5.5, \"weather\": \"sun\"}, {\"date\": \"2012-10-17T00:00:00\", \"precipitation\": 0.0, \"temp_max\": 14.4, \"temp_min\": 6.1, \"wind\": 1.6, \"weather\": \"sun\"}, {\"date\": \"2012-10-18T00:00:00\", \"precipitation\": 20.8, \"temp_max\": 17.8, \"temp_min\": 6.7, \"wind\": 2.0, \"weather\": \"rain\"}, {\"date\": \"2012-10-19T00:00:00\", \"precipitation\": 4.8, \"temp_max\": 15.0, \"temp_min\": 9.4, \"wind\": 5.3, \"weather\": \"rain\"}, {\"date\": \"2012-10-20T00:00:00\", \"precipitation\": 0.5, \"temp_max\": 11.1, \"temp_min\": 6.1, \"wind\": 5.7, \"weather\": \"rain\"}, {\"date\": \"2012-10-21T00:00:00\", \"precipitation\": 6.4, \"temp_max\": 11.7, \"temp_min\": 4.4, \"wind\": 2.7, \"weather\": \"rain\"}, {\"date\": \"2012-10-22T00:00:00\", \"precipitation\": 8.9, \"temp_max\": 7.8, \"temp_min\": 3.3, \"wind\": 2.6, \"weather\": \"rain\"}, {\"date\": \"2012-10-23T00:00:00\", \"precipitation\": 0.0, \"temp_max\": 11.1, \"temp_min\": 5.6, \"wind\": 3.0, \"weather\": \"rain\"}, {\"date\": \"2012-10-24T00:00:00\", \"precipitation\": 7.1, \"temp_max\": 11.7, \"temp_min\": 6.1, \"wind\": 2.1, \"weather\": \"rain\"}, {\"date\": \"2012-10-25T00:00:00\", \"precipitation\": 0.0, \"temp_max\": 11.7, \"temp_min\": 6.7, \"wind\": 1.5, \"weather\": \"sun\"}, {\"date\": \"2012-10-26T00:00:00\", \"precipitation\": 1.5, \"temp_max\": 11.1, \"temp_min\": 7.2, \"wind\": 2.5, \"weather\": \"rain\"}, {\"date\": \"2012-10-27T00:00:00\", \"precipitation\": 23.1, \"temp_max\": 14.4, \"temp_min\": 9.4, \"wind\": 5.1, \"weather\": \"rain\"}, {\"date\": \"2012-10-28T00:00:00\", \"precipitation\": 6.1, \"temp_max\": 14.4, \"temp_min\": 10.0, \"wind\": 3.8, \"weather\": \"rain\"}, {\"date\": \"2012-10-29T00:00:00\", \"precipitation\": 10.9, \"temp_max\": 15.6, \"temp_min\": 10.0, \"wind\": 4.9, \"weather\": \"rain\"}, {\"date\": \"2012-10-30T00:00:00\", \"precipitation\": 34.5, \"temp_max\": 15.0, \"temp_min\": 12.2, \"wind\": 2.8, \"weather\": \"rain\"}, {\"date\": \"2012-10-31T00:00:00\", \"precipitation\": 14.5, \"temp_max\": 15.6, \"temp_min\": 11.1, \"wind\": 2.7, \"weather\": \"rain\"}, {\"date\": \"2012-11-01T00:00:00\", \"precipitation\": 9.7, \"temp_max\": 15.0, \"temp_min\": 10.6, \"wind\": 3.0, \"weather\": \"rain\"}, {\"date\": \"2012-11-02T00:00:00\", \"precipitation\": 5.6, \"temp_max\": 15.0, \"temp_min\": 10.6, \"wind\": 1.0, \"weather\": \"rain\"}, {\"date\": \"2012-11-03T00:00:00\", \"precipitation\": 0.5, \"temp_max\": 15.6, \"temp_min\": 11.1, \"wind\": 3.6, \"weather\": \"rain\"}, {\"date\": \"2012-11-04T00:00:00\", \"precipitation\": 8.1, \"temp_max\": 17.8, \"temp_min\": 12.8, \"wind\": 3.8, \"weather\": \"rain\"}, {\"date\": \"2012-11-05T00:00:00\", \"precipitation\": 0.8, \"temp_max\": 15.0, \"temp_min\": 7.8, \"wind\": 4.0, \"weather\": \"rain\"}, {\"date\": \"2012-11-06T00:00:00\", \"precipitation\": 0.3, \"temp_max\": 12.8, \"temp_min\": 6.7, \"wind\": 3.5, \"weather\": \"rain\"}, {\"date\": \"2012-11-07T00:00:00\", \"precipitation\": 0.0, \"temp_max\": 12.2, \"temp_min\": 3.9, \"wind\": 3.4, \"weather\": \"rain\"}, {\"date\": \"2012-11-08T00:00:00\", \"precipitation\": 0.0, \"temp_max\": 10.0, \"temp_min\": 1.1, \"wind\": 3.4, \"weather\": \"rain\"}, {\"date\": \"2012-11-09T00:00:00\", \"precipitation\": 0.0, \"temp_max\": 8.9, \"temp_min\": 1.1, \"wind\": 2.0, \"weather\": \"rain\"}, {\"date\": \"2012-11-10T00:00:00\", \"precipitation\": 0.0, \"temp_max\": 7.8, \"temp_min\": -0.6, \"wind\": 2.2, \"weather\": \"sun\"}, {\"date\": \"2012-11-11T00:00:00\", \"precipitation\": 15.2, \"temp_max\": 8.9, \"temp_min\": 1.1, \"wind\": 3.0, \"weather\": \"rain\"}, {\"date\": \"2012-11-12T00:00:00\", \"precipitation\": 3.6, \"temp_max\": 12.8, \"temp_min\": 6.1, \"wind\": 3.0, \"weather\": \"rain\"}, {\"date\": \"2012-11-13T00:00:00\", \"precipitation\": 5.3, \"temp_max\": 11.1, \"temp_min\": 7.8, \"wind\": 2.5, \"weather\": \"rain\"}, {\"date\": \"2012-11-14T00:00:00\", \"precipitation\": 0.8, \"temp_max\": 11.1, \"temp_min\": 5.0, \"wind\": 2.6, \"weather\": \"rain\"}, {\"date\": \"2012-11-15T00:00:00\", \"precipitation\": 0.0, \"temp_max\": 9.4, \"temp_min\": 2.8, \"wind\": 2.4, \"weather\": \"drizzle\"}, {\"date\": \"2012-11-16T00:00:00\", \"precipitation\": 5.6, \"temp_max\": 9.4, \"temp_min\": 2.2, \"wind\": 1.6, \"weather\": \"rain\"}, {\"date\": \"2012-11-17T00:00:00\", \"precipitation\": 6.1, \"temp_max\": 12.2, \"temp_min\": 6.1, \"wind\": 5.3, \"weather\": \"rain\"}, {\"date\": \"2012-11-18T00:00:00\", \"precipitation\": 7.9, \"temp_max\": 10.0, \"temp_min\": 6.1, \"wind\": 4.9, \"weather\": \"rain\"}, {\"date\": \"2012-11-19T00:00:00\", \"precipitation\": 54.1, \"temp_max\": 13.3, \"temp_min\": 8.3, \"wind\": 6.0, \"weather\": \"rain\"}, {\"date\": \"2012-11-20T00:00:00\", \"precipitation\": 3.8, \"temp_max\": 11.1, \"temp_min\": 7.2, \"wind\": 4.2, \"weather\": \"rain\"}, {\"date\": \"2012-11-21T00:00:00\", \"precipitation\": 11.2, \"temp_max\": 8.3, \"temp_min\": 3.9, \"wind\": 5.5, \"weather\": \"rain\"}, {\"date\": \"2012-11-22T00:00:00\", \"precipitation\": 0.0, \"temp_max\": 8.9, \"temp_min\": 2.8, \"wind\": 1.5, \"weather\": \"rain\"}, {\"date\": \"2012-11-23T00:00:00\", \"precipitation\": 32.0, \"temp_max\": 9.4, \"temp_min\": 6.1, \"wind\": 2.4, \"weather\": \"rain\"}, {\"date\": \"2012-11-24T00:00:00\", \"precipitation\": 0.0, \"temp_max\": 8.9, \"temp_min\": 3.9, \"wind\": 1.2, \"weather\": \"rain\"}, {\"date\": \"2012-11-25T00:00:00\", \"precipitation\": 0.0, \"temp_max\": 8.3, \"temp_min\": 1.1, \"wind\": 3.6, \"weather\": \"drizzle\"}, {\"date\": \"2012-11-26T00:00:00\", \"precipitation\": 0.0, \"temp_max\": 9.4, \"temp_min\": 1.7, \"wind\": 3.8, \"weather\": \"fog\"}, {\"date\": \"2012-11-27T00:00:00\", \"precipitation\": 0.0, \"temp_max\": 10.0, \"temp_min\": 1.7, \"wind\": 1.5, \"weather\": \"sun\"}, {\"date\": \"2012-11-28T00:00:00\", \"precipitation\": 2.8, \"temp_max\": 9.4, \"temp_min\": 2.2, \"wind\": 2.9, \"weather\": \"rain\"}, {\"date\": \"2012-11-29T00:00:00\", \"precipitation\": 1.5, \"temp_max\": 12.8, \"temp_min\": 7.8, \"wind\": 4.2, \"weather\": \"rain\"}, {\"date\": \"2012-11-30T00:00:00\", \"precipitation\": 35.6, \"temp_max\": 15.0, \"temp_min\": 7.8, \"wind\": 4.6, \"weather\": \"rain\"}, {\"date\": \"2012-12-01T00:00:00\", \"precipitation\": 4.1, \"temp_max\": 13.3, \"temp_min\": 8.3, \"wind\": 5.5, \"weather\": \"rain\"}, {\"date\": \"2012-12-02T00:00:00\", \"precipitation\": 19.6, \"temp_max\": 8.3, \"temp_min\": 7.2, \"wind\": 6.2, \"weather\": \"rain\"}, {\"date\": \"2012-12-03T00:00:00\", \"precipitation\": 13.0, \"temp_max\": 9.4, \"temp_min\": 7.2, \"wind\": 4.4, \"weather\": \"rain\"}, {\"date\": \"2012-12-04T00:00:00\", \"precipitation\": 14.2, \"temp_max\": 11.7, \"temp_min\": 7.2, \"wind\": 6.2, \"weather\": \"rain\"}, {\"date\": \"2012-12-05T00:00:00\", \"precipitation\": 1.5, \"temp_max\": 8.9, \"temp_min\": 4.4, \"wind\": 5.0, \"weather\": \"rain\"}, {\"date\": \"2012-12-06T00:00:00\", \"precipitation\": 1.5, \"temp_max\": 7.2, \"temp_min\": 6.1, \"wind\": 5.1, \"weather\": \"rain\"}, {\"date\": \"2012-12-07T00:00:00\", \"precipitation\": 1.0, \"temp_max\": 7.8, \"temp_min\": 3.3, \"wind\": 4.6, \"weather\": \"rain\"}, {\"date\": \"2012-12-08T00:00:00\", \"precipitation\": 0.0, \"temp_max\": 6.7, \"temp_min\": 3.3, \"wind\": 2.0, \"weather\": \"sun\"}, {\"date\": \"2012-12-09T00:00:00\", \"precipitation\": 1.5, \"temp_max\": 6.7, \"temp_min\": 2.8, \"wind\": 2.1, \"weather\": \"rain\"}, {\"date\": \"2012-12-10T00:00:00\", \"precipitation\": 0.5, \"temp_max\": 7.2, \"temp_min\": 5.6, \"wind\": 1.8, \"weather\": \"rain\"}, {\"date\": \"2012-12-11T00:00:00\", \"precipitation\": 3.0, \"temp_max\": 7.8, \"temp_min\": 5.6, \"wind\": 4.5, \"weather\": \"rain\"}, {\"date\": \"2012-12-12T00:00:00\", \"precipitation\": 8.1, \"temp_max\": 6.7, \"temp_min\": 4.4, \"wind\": 2.0, \"weather\": \"rain\"}, {\"date\": \"2012-12-13T00:00:00\", \"precipitation\": 2.3, \"temp_max\": 7.2, \"temp_min\": 3.3, \"wind\": 2.8, \"weather\": \"rain\"}, {\"date\": \"2012-12-14T00:00:00\", \"precipitation\": 7.9, \"temp_max\": 6.1, \"temp_min\": 1.1, \"wind\": 1.7, \"weather\": \"rain\"}, {\"date\": \"2012-12-15T00:00:00\", \"precipitation\": 5.3, \"temp_max\": 4.4, \"temp_min\": 0.6, \"wind\": 5.1, \"weather\": \"snow\"}, {\"date\": \"2012-12-16T00:00:00\", \"precipitation\": 22.6, \"temp_max\": 6.7, \"temp_min\": 3.3, \"wind\": 5.5, \"weather\": \"snow\"}, {\"date\": \"2012-12-17T00:00:00\", \"precipitation\": 2.0, \"temp_max\": 8.3, \"temp_min\": 1.7, \"wind\": 9.5, \"weather\": \"rain\"}, {\"date\": \"2012-12-18T00:00:00\", \"precipitation\": 3.3, \"temp_max\": 3.9, \"temp_min\": 0.6, \"wind\": 5.3, \"weather\": \"snow\"}, {\"date\": \"2012-12-19T00:00:00\", \"precipitation\": 13.7, \"temp_max\": 8.3, \"temp_min\": 1.7, \"wind\": 5.8, \"weather\": \"snow\"}, {\"date\": \"2012-12-20T00:00:00\", \"precipitation\": 13.2, \"temp_max\": 7.2, \"temp_min\": 0.6, \"wind\": 3.7, \"weather\": \"rain\"}, {\"date\": \"2012-12-21T00:00:00\", \"precipitation\": 1.8, \"temp_max\": 8.3, \"temp_min\": -1.7, \"wind\": 1.7, \"weather\": \"rain\"}, {\"date\": \"2012-12-22T00:00:00\", \"precipitation\": 3.3, \"temp_max\": 8.3, \"temp_min\": 3.9, \"wind\": 3.5, \"weather\": \"rain\"}, {\"date\": \"2012-12-23T00:00:00\", \"precipitation\": 6.6, \"temp_max\": 7.2, \"temp_min\": 3.3, \"wind\": 2.5, \"weather\": \"rain\"}, {\"date\": \"2012-12-24T00:00:00\", \"precipitation\": 0.3, \"temp_max\": 5.6, \"temp_min\": 2.8, \"wind\": 2.8, \"weather\": \"rain\"}, {\"date\": \"2012-12-25T00:00:00\", \"precipitation\": 13.5, \"temp_max\": 5.6, \"temp_min\": 2.8, \"wind\": 4.2, \"weather\": \"snow\"}, {\"date\": \"2012-12-26T00:00:00\", \"precipitation\": 4.6, \"temp_max\": 6.7, \"temp_min\": 3.3, \"wind\": 4.9, \"weather\": \"rain\"}, {\"date\": \"2012-12-27T00:00:00\", \"precipitation\": 4.1, \"temp_max\": 7.8, \"temp_min\": 3.3, \"wind\": 3.2, \"weather\": \"rain\"}, {\"date\": \"2012-12-28T00:00:00\", \"precipitation\": 0.0, \"temp_max\": 8.3, \"temp_min\": 3.9, \"wind\": 1.7, \"weather\": \"rain\"}, {\"date\": \"2012-12-29T00:00:00\", \"precipitation\": 1.5, \"temp_max\": 5.0, \"temp_min\": 3.3, \"wind\": 1.7, \"weather\": \"rain\"}, {\"date\": \"2012-12-30T00:00:00\", \"precipitation\": 0.0, \"temp_max\": 4.4, \"temp_min\": 0.0, \"wind\": 1.8, \"weather\": \"drizzle\"}, {\"date\": \"2012-12-31T00:00:00\", \"precipitation\": 0.0, \"temp_max\": 3.3, \"temp_min\": -1.1, \"wind\": 2.0, \"weather\": \"drizzle\"}, {\"date\": \"2013-01-01T00:00:00\", \"precipitation\": 0.0, \"temp_max\": 5.0, \"temp_min\": -2.8, \"wind\": 2.7, \"weather\": \"sun\"}, {\"date\": \"2013-01-02T00:00:00\", \"precipitation\": 0.0, \"temp_max\": 6.1, \"temp_min\": -1.1, \"wind\": 3.2, \"weather\": \"sun\"}, {\"date\": \"2013-01-03T00:00:00\", \"precipitation\": 4.1, \"temp_max\": 6.7, \"temp_min\": -1.7, \"wind\": 3.0, \"weather\": \"rain\"}, {\"date\": \"2013-01-04T00:00:00\", \"precipitation\": 2.5, \"temp_max\": 10.0, \"temp_min\": 2.2, \"wind\": 2.8, \"weather\": \"rain\"}, {\"date\": \"2013-01-05T00:00:00\", \"precipitation\": 3.0, \"temp_max\": 6.7, \"temp_min\": 4.4, \"wind\": 3.1, \"weather\": \"rain\"}, {\"date\": \"2013-01-06T00:00:00\", \"precipitation\": 2.0, \"temp_max\": 7.2, \"temp_min\": 2.8, \"wind\": 3.0, \"weather\": \"rain\"}, {\"date\": \"2013-01-07T00:00:00\", \"precipitation\": 2.3, \"temp_max\": 10.0, \"temp_min\": 4.4, \"wind\": 7.3, \"weather\": \"rain\"}, {\"date\": \"2013-01-08T00:00:00\", \"precipitation\": 16.3, \"temp_max\": 11.7, \"temp_min\": 5.6, \"wind\": 6.3, \"weather\": \"rain\"}, {\"date\": \"2013-01-09T00:00:00\", \"precipitation\": 38.4, \"temp_max\": 10.0, \"temp_min\": 1.7, \"wind\": 5.1, \"weather\": \"rain\"}, {\"date\": \"2013-01-10T00:00:00\", \"precipitation\": 0.3, \"temp_max\": 3.3, \"temp_min\": -0.6, \"wind\": 2.1, \"weather\": \"snow\"}, {\"date\": \"2013-01-11T00:00:00\", \"precipitation\": 0.0, \"temp_max\": 2.8, \"temp_min\": -2.8, \"wind\": 1.9, \"weather\": \"drizzle\"}, {\"date\": \"2013-01-12T00:00:00\", \"precipitation\": 0.0, \"temp_max\": 2.8, \"temp_min\": -3.9, \"wind\": 2.0, \"weather\": \"sun\"}, {\"date\": \"2013-01-13T00:00:00\", \"precipitation\": 0.0, \"temp_max\": 2.2, \"temp_min\": -4.4, \"wind\": 1.5, \"weather\": \"sun\"}, {\"date\": \"2013-01-14T00:00:00\", \"precipitation\": 0.0, \"temp_max\": 3.3, \"temp_min\": -2.2, \"wind\": 1.3, \"weather\": \"sun\"}, {\"date\": \"2013-01-15T00:00:00\", \"precipitation\": 0.0, \"temp_max\": 6.7, \"temp_min\": -0.6, \"wind\": 2.3, \"weather\": \"sun\"}, {\"date\": \"2013-01-16T00:00:00\", \"precipitation\": 0.0, \"temp_max\": 6.1, \"temp_min\": -3.9, \"wind\": 1.8, \"weather\": \"drizzle\"}, {\"date\": \"2013-01-17T00:00:00\", \"precipitation\": 0.0, \"temp_max\": 3.9, \"temp_min\": -2.8, \"wind\": 1.0, \"weather\": \"drizzle\"}, {\"date\": \"2013-01-18T00:00:00\", \"precipitation\": 0.0, \"temp_max\": 3.3, \"temp_min\": -1.1, \"wind\": 1.3, \"weather\": \"drizzle\"}, {\"date\": \"2013-01-19T00:00:00\", \"precipitation\": 0.0, \"temp_max\": 1.1, \"temp_min\": -0.6, \"wind\": 1.9, \"weather\": \"drizzle\"}, {\"date\": \"2013-01-20T00:00:00\", \"precipitation\": 0.0, \"temp_max\": 3.3, \"temp_min\": -0.6, \"wind\": 2.1, \"weather\": \"drizzle\"}, {\"date\": \"2013-01-21T00:00:00\", \"precipitation\": 0.0, \"temp_max\": 2.2, \"temp_min\": -1.7, \"wind\": 1.1, \"weather\": \"drizzle\"}, {\"date\": \"2013-01-22T00:00:00\", \"precipitation\": 0.0, \"temp_max\": 3.3, \"temp_min\": -1.7, \"wind\": 0.6, \"weather\": \"drizzle\"}, {\"date\": \"2013-01-23T00:00:00\", \"precipitation\": 5.1, \"temp_max\": 7.2, \"temp_min\": 2.2, \"wind\": 3.1, \"weather\": \"rain\"}, {\"date\": \"2013-01-24T00:00:00\", \"precipitation\": 5.8, \"temp_max\": 7.2, \"temp_min\": 1.1, \"wind\": 2.6, \"weather\": \"rain\"}, {\"date\": \"2013-01-25T00:00:00\", \"precipitation\": 3.0, \"temp_max\": 10.6, \"temp_min\": 2.8, \"wind\": 2.1, \"weather\": \"rain\"}, {\"date\": \"2013-01-26T00:00:00\", \"precipitation\": 2.3, \"temp_max\": 8.3, \"temp_min\": 3.9, \"wind\": 4.5, \"weather\": \"rain\"}, {\"date\": \"2013-01-27T00:00:00\", \"precipitation\": 1.8, \"temp_max\": 5.6, \"temp_min\": 3.9, \"wind\": 4.5, \"weather\": \"rain\"}, {\"date\": \"2013-01-28T00:00:00\", \"precipitation\": 7.9, \"temp_max\": 6.1, \"temp_min\": 3.3, \"wind\": 3.2, \"weather\": \"rain\"}, {\"date\": \"2013-01-29T00:00:00\", \"precipitation\": 4.3, \"temp_max\": 8.3, \"temp_min\": 5.0, \"wind\": 3.9, \"weather\": \"rain\"}, {\"date\": \"2013-01-30T00:00:00\", \"precipitation\": 3.6, \"temp_max\": 8.9, \"temp_min\": 6.7, \"wind\": 3.9, \"weather\": \"rain\"}, {\"date\": \"2013-01-31T00:00:00\", \"precipitation\": 3.0, \"temp_max\": 9.4, \"temp_min\": 7.2, \"wind\": 4.0, \"weather\": \"rain\"}, {\"date\": \"2013-02-01T00:00:00\", \"precipitation\": 0.3, \"temp_max\": 11.7, \"temp_min\": 5.0, \"wind\": 2.9, \"weather\": \"rain\"}, {\"date\": \"2013-02-02T00:00:00\", \"precipitation\": 0.0, \"temp_max\": 6.1, \"temp_min\": 2.8, \"wind\": 2.0, \"weather\": \"drizzle\"}, {\"date\": \"2013-02-03T00:00:00\", \"precipitation\": 2.3, \"temp_max\": 8.9, \"temp_min\": 2.8, \"wind\": 2.9, \"weather\": \"rain\"}, {\"date\": \"2013-02-04T00:00:00\", \"precipitation\": 0.0, \"temp_max\": 10.6, \"temp_min\": 6.7, \"wind\": 2.6, \"weather\": \"rain\"}, {\"date\": \"2013-02-05T00:00:00\", \"precipitation\": 3.3, \"temp_max\": 10.0, \"temp_min\": 6.7, \"wind\": 5.1, \"weather\": \"rain\"}, {\"date\": \"2013-02-06T00:00:00\", \"precipitation\": 1.0, \"temp_max\": 10.6, \"temp_min\": 6.1, \"wind\": 4.5, \"weather\": \"rain\"}, {\"date\": \"2013-02-07T00:00:00\", \"precipitation\": 1.3, \"temp_max\": 9.4, \"temp_min\": 3.3, \"wind\": 4.1, \"weather\": \"rain\"}, {\"date\": \"2013-02-08T00:00:00\", \"precipitation\": 0.0, \"temp_max\": 7.8, \"temp_min\": 2.2, \"wind\": 1.3, \"weather\": \"sun\"}, {\"date\": \"2013-02-09T00:00:00\", \"precipitation\": 0.3, \"temp_max\": 8.3, \"temp_min\": 4.4, \"wind\": 1.3, \"weather\": \"rain\"}, {\"date\": \"2013-02-10T00:00:00\", \"precipitation\": 0.0, \"temp_max\": 8.9, \"temp_min\": 1.7, \"wind\": 2.0, \"weather\": \"drizzle\"}, {\"date\": \"2013-02-11T00:00:00\", \"precipitation\": 0.3, \"temp_max\": 8.3, \"temp_min\": 4.4, \"wind\": 1.4, \"weather\": \"rain\"}, {\"date\": \"2013-02-12T00:00:00\", \"precipitation\": 1.0, \"temp_max\": 11.1, \"temp_min\": 7.2, \"wind\": 5.6, \"weather\": \"rain\"}, {\"date\": \"2013-02-13T00:00:00\", \"precipitation\": 2.3, \"temp_max\": 9.4, \"temp_min\": 7.2, \"wind\": 4.1, \"weather\": \"rain\"}, {\"date\": \"2013-02-14T00:00:00\", \"precipitation\": 1.0, \"temp_max\": 9.4, \"temp_min\": 5.6, \"wind\": 2.2, \"weather\": \"rain\"}, {\"date\": \"2013-02-15T00:00:00\", \"precipitation\": 0.0, \"temp_max\": 13.3, \"temp_min\": 5.0, \"wind\": 2.4, \"weather\": \"drizzle\"}, {\"date\": \"2013-02-16T00:00:00\", \"precipitation\": 0.0, \"temp_max\": 11.1, \"temp_min\": 3.9, \"wind\": 5.6, \"weather\": \"rain\"}, {\"date\": \"2013-02-17T00:00:00\", \"precipitation\": 0.0, \"temp_max\": 9.4, \"temp_min\": 4.4, \"wind\": 3.4, \"weather\": \"rain\"}, {\"date\": \"2013-02-18T00:00:00\", \"precipitation\": 0.0, \"temp_max\": 7.8, \"temp_min\": 3.9, \"wind\": 1.9, \"weather\": \"rain\"}, {\"date\": \"2013-02-19T00:00:00\", \"precipitation\": 0.0, \"temp_max\": 10.6, \"temp_min\": 1.7, \"wind\": 3.4, \"weather\": \"sun\"}, {\"date\": \"2013-02-20T00:00:00\", \"precipitation\": 1.5, \"temp_max\": 7.8, \"temp_min\": 1.1, \"wind\": 2.1, \"weather\": \"rain\"}, {\"date\": \"2013-02-21T00:00:00\", \"precipitation\": 0.5, \"temp_max\": 6.7, \"temp_min\": 3.9, \"wind\": 6.2, \"weather\": \"rain\"}, {\"date\": \"2013-02-22T00:00:00\", \"precipitation\": 9.4, \"temp_max\": 7.8, \"temp_min\": 3.9, \"wind\": 8.1, \"weather\": \"rain\"}, {\"date\": \"2013-02-23T00:00:00\", \"precipitation\": 0.3, \"temp_max\": 10.0, \"temp_min\": 3.9, \"wind\": 4.6, \"weather\": \"rain\"}, {\"date\": \"2013-02-24T00:00:00\", \"precipitation\": 0.0, \"temp_max\": 8.9, \"temp_min\": 5.0, \"wind\": 5.5, \"weather\": \"rain\"}, {\"date\": \"2013-02-25T00:00:00\", \"precipitation\": 2.3, \"temp_max\": 10.6, \"temp_min\": 3.3, \"wind\": 7.1, \"weather\": \"rain\"}, {\"date\": \"2013-02-26T00:00:00\", \"precipitation\": 0.5, \"temp_max\": 8.9, \"temp_min\": 3.9, \"wind\": 3.8, \"weather\": \"rain\"}, {\"date\": \"2013-02-27T00:00:00\", \"precipitation\": 4.6, \"temp_max\": 10.0, \"temp_min\": 4.4, \"wind\": 1.8, \"weather\": \"rain\"}, {\"date\": \"2013-02-28T00:00:00\", \"precipitation\": 8.1, \"temp_max\": 11.7, \"temp_min\": 6.7, \"wind\": 3.8, \"weather\": \"rain\"}, {\"date\": \"2013-03-01T00:00:00\", \"precipitation\": 4.1, \"temp_max\": 15.0, \"temp_min\": 11.1, \"wind\": 5.4, \"weather\": \"rain\"}, {\"date\": \"2013-03-02T00:00:00\", \"precipitation\": 0.8, \"temp_max\": 13.9, \"temp_min\": 5.0, \"wind\": 4.5, \"weather\": \"rain\"}, {\"date\": \"2013-03-03T00:00:00\", \"precipitation\": 0.0, \"temp_max\": 11.1, \"temp_min\": 2.2, \"wind\": 2.8, \"weather\": \"sun\"}, {\"date\": \"2013-03-04T00:00:00\", \"precipitation\": 0.0, \"temp_max\": 13.3, \"temp_min\": 0.0, \"wind\": 3.9, \"weather\": \"sun\"}, {\"date\": \"2013-03-05T00:00:00\", \"precipitation\": 0.0, \"temp_max\": 9.4, \"temp_min\": 6.1, \"wind\": 2.4, \"weather\": \"rain\"}, {\"date\": \"2013-03-06T00:00:00\", \"precipitation\": 11.9, \"temp_max\": 7.2, \"temp_min\": 5.0, \"wind\": 4.1, \"weather\": \"rain\"}, {\"date\": \"2013-03-07T00:00:00\", \"precipitation\": 7.4, \"temp_max\": 12.2, \"temp_min\": 5.0, \"wind\": 2.5, \"weather\": \"rain\"}, {\"date\": \"2013-03-08T00:00:00\", \"precipitation\": 0.0, \"temp_max\": 11.7, \"temp_min\": 2.2, \"wind\": 2.6, \"weather\": \"drizzle\"}, {\"date\": \"2013-03-09T00:00:00\", \"precipitation\": 0.0, \"temp_max\": 12.8, \"temp_min\": 1.1, \"wind\": 1.3, \"weather\": \"fog\"}, {\"date\": \"2013-03-10T00:00:00\", \"precipitation\": 0.8, \"temp_max\": 7.8, \"temp_min\": 3.9, \"wind\": 1.6, \"weather\": \"rain\"}, {\"date\": \"2013-03-11T00:00:00\", \"precipitation\": 1.3, \"temp_max\": 10.6, \"temp_min\": 6.1, \"wind\": 1.1, \"weather\": \"rain\"}, {\"date\": \"2013-03-12T00:00:00\", \"precipitation\": 2.0, \"temp_max\": 12.8, \"temp_min\": 10.0, \"wind\": 5.7, \"weather\": \"rain\"}, {\"date\": \"2013-03-13T00:00:00\", \"precipitation\": 2.3, \"temp_max\": 11.7, \"temp_min\": 9.4, \"wind\": 3.7, \"weather\": \"rain\"}, {\"date\": \"2013-03-14T00:00:00\", \"precipitation\": 2.8, \"temp_max\": 11.7, \"temp_min\": 9.4, \"wind\": 3.0, \"weather\": \"rain\"}, {\"date\": \"2013-03-15T00:00:00\", \"precipitation\": 0.0, \"temp_max\": 14.4, \"temp_min\": 8.9, \"wind\": 4.3, \"weather\": \"rain\"}, {\"date\": \"2013-03-16T00:00:00\", \"precipitation\": 4.3, \"temp_max\": 10.6, \"temp_min\": 4.4, \"wind\": 6.4, \"weather\": \"rain\"}, {\"date\": \"2013-03-17T00:00:00\", \"precipitation\": 0.0, \"temp_max\": 8.9, \"temp_min\": 3.9, \"wind\": 6.1, \"weather\": \"sun\"}, {\"date\": \"2013-03-18T00:00:00\", \"precipitation\": 0.0, \"temp_max\": 11.7, \"temp_min\": 3.9, \"wind\": 5.9, \"weather\": \"rain\"}, {\"date\": \"2013-03-19T00:00:00\", \"precipitation\": 11.7, \"temp_max\": 12.8, \"temp_min\": 1.7, \"wind\": 3.4, \"weather\": \"rain\"}, {\"date\": \"2013-03-20T00:00:00\", \"precipitation\": 9.9, \"temp_max\": 11.1, \"temp_min\": 4.4, \"wind\": 7.6, \"weather\": \"rain\"}, {\"date\": \"2013-03-21T00:00:00\", \"precipitation\": 8.1, \"temp_max\": 10.0, \"temp_min\": 2.2, \"wind\": 4.9, \"weather\": \"snow\"}, {\"date\": \"2013-03-22T00:00:00\", \"precipitation\": 0.0, \"temp_max\": 9.4, \"temp_min\": 0.6, \"wind\": 2.2, \"weather\": \"sun\"}, {\"date\": \"2013-03-23T00:00:00\", \"precipitation\": 0.0, \"temp_max\": 10.0, \"temp_min\": 1.1, \"wind\": 2.6, \"weather\": \"sun\"}, {\"date\": \"2013-03-24T00:00:00\", \"precipitation\": 0.0, \"temp_max\": 12.2, \"temp_min\": 0.6, \"wind\": 2.1, \"weather\": \"sun\"}, {\"date\": \"2013-03-25T00:00:00\", \"precipitation\": 0.0, \"temp_max\": 16.7, \"temp_min\": 4.4, \"wind\": 2.8, \"weather\": \"sun\"}, {\"date\": \"2013-03-26T00:00:00\", \"precipitation\": 0.0, \"temp_max\": 16.7, \"temp_min\": 6.1, \"wind\": 1.7, \"weather\": \"sun\"}, {\"date\": \"2013-03-27T00:00:00\", \"precipitation\": 0.3, \"temp_max\": 13.3, \"temp_min\": 7.2, \"wind\": 1.6, \"weather\": \"rain\"}, {\"date\": \"2013-03-28T00:00:00\", \"precipitation\": 2.0, \"temp_max\": 16.1, \"temp_min\": 8.3, \"wind\": 1.3, \"weather\": \"rain\"}, {\"date\": \"2013-03-29T00:00:00\", \"precipitation\": 0.0, \"temp_max\": 18.3, \"temp_min\": 7.8, \"wind\": 2.5, \"weather\": \"rain\"}, {\"date\": \"2013-03-30T00:00:00\", \"precipitation\": 0.0, \"temp_max\": 20.0, \"temp_min\": 5.6, \"wind\": 4.4, \"weather\": \"drizzle\"}, {\"date\": \"2013-03-31T00:00:00\", \"precipitation\": 0.0, \"temp_max\": 20.6, \"temp_min\": 6.7, \"wind\": 2.9, \"weather\": \"sun\"}, {\"date\": \"2013-04-01T00:00:00\", \"precipitation\": 0.0, \"temp_max\": 17.2, \"temp_min\": 8.3, \"wind\": 3.6, \"weather\": \"sun\"}, {\"date\": \"2013-04-02T00:00:00\", \"precipitation\": 0.0, \"temp_max\": 13.9, \"temp_min\": 8.9, \"wind\": 2.2, \"weather\": \"sun\"}, {\"date\": \"2013-04-03T00:00:00\", \"precipitation\": 0.0, \"temp_max\": 16.7, \"temp_min\": 7.8, \"wind\": 1.6, \"weather\": \"sun\"}, {\"date\": \"2013-04-04T00:00:00\", \"precipitation\": 8.4, \"temp_max\": 14.4, \"temp_min\": 10.0, \"wind\": 3.0, \"weather\": \"fog\"}, {\"date\": \"2013-04-05T00:00:00\", \"precipitation\": 18.5, \"temp_max\": 13.9, \"temp_min\": 10.0, \"wind\": 5.6, \"weather\": \"fog\"}, {\"date\": \"2013-04-06T00:00:00\", \"precipitation\": 12.7, \"temp_max\": 12.2, \"temp_min\": 7.2, \"wind\": 5.0, \"weather\": \"fog\"}, {\"date\": \"2013-04-07T00:00:00\", \"precipitation\": 39.1, \"temp_max\": 8.3, \"temp_min\": 5.0, \"wind\": 3.9, \"weather\": \"fog\"}, {\"date\": \"2013-04-08T00:00:00\", \"precipitation\": 0.8, \"temp_max\": 13.3, \"temp_min\": 6.1, \"wind\": 3.1, \"weather\": \"fog\"}, {\"date\": \"2013-04-09T00:00:00\", \"precipitation\": 0.0, \"temp_max\": 12.2, \"temp_min\": 6.1, \"wind\": 2.4, \"weather\": \"sun\"}, {\"date\": \"2013-04-10T00:00:00\", \"precipitation\": 9.4, \"temp_max\": 15.0, \"temp_min\": 8.9, \"wind\": 6.4, \"weather\": \"sun\"}, {\"date\": \"2013-04-11T00:00:00\", \"precipitation\": 1.5, \"temp_max\": 12.2, \"temp_min\": 6.7, \"wind\": 3.8, \"weather\": \"fog\"}, {\"date\": \"2013-04-12T00:00:00\", \"precipitation\": 9.7, \"temp_max\": 7.8, \"temp_min\": 4.4, \"wind\": 4.6, \"weather\": \"fog\"}, {\"date\": \"2013-04-13T00:00:00\", \"precipitation\": 9.4, \"temp_max\": 10.6, \"temp_min\": 3.3, \"wind\": 5.7, \"weather\": \"fog\"}, {\"date\": \"2013-04-14T00:00:00\", \"precipitation\": 5.8, \"temp_max\": 12.8, \"temp_min\": 4.4, \"wind\": 2.3, \"weather\": \"fog\"}, {\"date\": \"2013-04-15T00:00:00\", \"precipitation\": 0.0, \"temp_max\": 13.9, \"temp_min\": 4.4, \"wind\": 2.4, \"weather\": \"fog\"}, {\"date\": \"2013-04-16T00:00:00\", \"precipitation\": 0.3, \"temp_max\": 13.9, \"temp_min\": 3.3, \"wind\": 2.6, \"weather\": \"sun\"}, {\"date\": \"2013-04-17T00:00:00\", \"precipitation\": 0.0, \"temp_max\": 15.0, \"temp_min\": 3.9, \"wind\": 3.3, \"weather\": \"drizzle\"}, {\"date\": \"2013-04-18T00:00:00\", \"precipitation\": 5.3, \"temp_max\": 11.7, \"temp_min\": 6.7, \"wind\": 4.0, \"weather\": \"fog\"}, {\"date\": \"2013-04-19T00:00:00\", \"precipitation\": 20.6, \"temp_max\": 13.3, \"temp_min\": 9.4, \"wind\": 4.9, \"weather\": \"fog\"}, {\"date\": \"2013-04-20T00:00:00\", \"precipitation\": 0.0, \"temp_max\": 13.9, \"temp_min\": 8.3, \"wind\": 5.8, \"weather\": \"sun\"}, {\"date\": \"2013-04-21T00:00:00\", \"precipitation\": 3.3, \"temp_max\": 12.2, \"temp_min\": 6.7, \"wind\": 4.1, \"weather\": \"sun\"}, {\"date\": \"2013-04-22T00:00:00\", \"precipitation\": 0.0, \"temp_max\": 16.1, \"temp_min\": 5.0, \"wind\": 4.3, \"weather\": \"sun\"}, {\"date\": \"2013-04-23T00:00:00\", \"precipitation\": 0.0, \"temp_max\": 17.8, \"temp_min\": 3.9, \"wind\": 2.8, \"weather\": \"sun\"}, {\"date\": \"2013-04-24T00:00:00\", \"precipitation\": 0.0, \"temp_max\": 21.1, \"temp_min\": 6.1, \"wind\": 3.0, \"weather\": \"sun\"}, {\"date\": \"2013-04-25T00:00:00\", \"precipitation\": 0.0, \"temp_max\": 21.7, \"temp_min\": 6.7, \"wind\": 1.1, \"weather\": \"sun\"}, {\"date\": \"2013-04-26T00:00:00\", \"precipitation\": 0.0, \"temp_max\": 20.6, \"temp_min\": 8.3, \"wind\": 2.2, \"weather\": \"fog\"}, {\"date\": \"2013-04-27T00:00:00\", \"precipitation\": 0.0, \"temp_max\": 13.9, \"temp_min\": 10.6, \"wind\": 5.9, \"weather\": \"sun\"}, {\"date\": \"2013-04-28T00:00:00\", \"precipitation\": 1.0, \"temp_max\": 15.0, \"temp_min\": 9.4, \"wind\": 5.2, \"weather\": \"drizzle\"}, {\"date\": \"2013-04-29T00:00:00\", \"precipitation\": 3.8, \"temp_max\": 13.9, \"temp_min\": 6.7, \"wind\": 4.2, \"weather\": \"fog\"}, {\"date\": \"2013-04-30T00:00:00\", \"precipitation\": 0.0, \"temp_max\": 12.8, \"temp_min\": 4.4, \"wind\": 2.4, \"weather\": \"sun\"}, {\"date\": \"2013-05-01T00:00:00\", \"precipitation\": 0.0, \"temp_max\": 18.3, \"temp_min\": 3.3, \"wind\": 3.1, \"weather\": \"sun\"}, {\"date\": \"2013-05-02T00:00:00\", \"precipitation\": 0.0, \"temp_max\": 20.6, \"temp_min\": 6.7, \"wind\": 4.0, \"weather\": \"sun\"}, {\"date\": \"2013-05-03T00:00:00\", \"precipitation\": 0.0, \"temp_max\": 21.7, \"temp_min\": 9.4, \"wind\": 4.9, \"weather\": \"sun\"}, {\"date\": \"2013-05-04T00:00:00\", \"precipitation\": 0.0, \"temp_max\": 25.0, \"temp_min\": 11.1, \"wind\": 6.5, \"weather\": \"sun\"}, {\"date\": \"2013-05-05T00:00:00\", \"precipitation\": 0.0, \"temp_max\": 28.9, \"temp_min\": 11.7, \"wind\": 5.3, \"weather\": \"sun\"}, {\"date\": \"2013-05-06T00:00:00\", \"precipitation\": 0.0, \"temp_max\": 30.6, \"temp_min\": 12.2, \"wind\": 2.0, \"weather\": \"sun\"}, {\"date\": \"2013-05-07T00:00:00\", \"precipitation\": 0.0, \"temp_max\": 20.6, \"temp_min\": 11.1, \"wind\": 3.3, \"weather\": \"sun\"}, {\"date\": \"2013-05-08T00:00:00\", \"precipitation\": 0.0, \"temp_max\": 19.4, \"temp_min\": 11.1, \"wind\": 1.9, \"weather\": \"sun\"}, {\"date\": \"2013-05-09T00:00:00\", \"precipitation\": 0.0, \"temp_max\": 22.8, \"temp_min\": 10.0, \"wind\": 1.3, \"weather\": \"sun\"}, {\"date\": \"2013-05-10T00:00:00\", \"precipitation\": 0.0, \"temp_max\": 26.1, \"temp_min\": 9.4, \"wind\": 1.0, \"weather\": \"sun\"}, {\"date\": \"2013-05-11T00:00:00\", \"precipitation\": 0.0, \"temp_max\": 27.2, \"temp_min\": 12.2, \"wind\": 2.6, \"weather\": \"sun\"}, {\"date\": \"2013-05-12T00:00:00\", \"precipitation\": 6.6, \"temp_max\": 21.7, \"temp_min\": 13.9, \"wind\": 3.9, \"weather\": \"fog\"}, {\"date\": \"2013-05-13T00:00:00\", \"precipitation\": 3.3, \"temp_max\": 18.9, \"temp_min\": 9.4, \"wind\": 5.0, \"weather\": \"sun\"}, {\"date\": \"2013-05-14T00:00:00\", \"precipitation\": 0.0, \"temp_max\": 18.3, \"temp_min\": 7.8, \"wind\": 2.4, \"weather\": \"sun\"}, {\"date\": \"2013-05-15T00:00:00\", \"precipitation\": 1.0, \"temp_max\": 17.2, \"temp_min\": 8.9, \"wind\": 2.3, \"weather\": \"fog\"}, {\"date\": \"2013-05-16T00:00:00\", \"precipitation\": 0.0, \"temp_max\": 21.7, \"temp_min\": 12.2, \"wind\": 2.7, \"weather\": \"fog\"}, {\"date\": \"2013-05-17T00:00:00\", \"precipitation\": 0.5, \"temp_max\": 17.2, \"temp_min\": 11.7, \"wind\": 3.7, \"weather\": \"sun\"}, {\"date\": \"2013-05-18T00:00:00\", \"precipitation\": 0.0, \"temp_max\": 16.7, \"temp_min\": 11.1, \"wind\": 2.9, \"weather\": \"sun\"}, {\"date\": \"2013-05-19T00:00:00\", \"precipitation\": 0.0, \"temp_max\": 18.3, \"temp_min\": 10.6, \"wind\": 2.3, \"weather\": \"sun\"}, {\"date\": \"2013-05-20T00:00:00\", \"precipitation\": 0.0, \"temp_max\": 19.4, \"temp_min\": 9.4, \"wind\": 1.8, \"weather\": \"sun\"}, {\"date\": \"2013-05-21T00:00:00\", \"precipitation\": 13.7, \"temp_max\": 15.6, \"temp_min\": 8.3, \"wind\": 4.8, \"weather\": \"fog\"}, {\"date\": \"2013-05-22T00:00:00\", \"precipitation\": 13.7, \"temp_max\": 11.1, \"temp_min\": 7.2, \"wind\": 3.0, \"weather\": \"fog\"}, {\"date\": \"2013-05-23T00:00:00\", \"precipitation\": 4.1, \"temp_max\": 12.2, \"temp_min\": 6.7, \"wind\": 1.9, \"weather\": \"fog\"}, {\"date\": \"2013-05-24T00:00:00\", \"precipitation\": 0.3, \"temp_max\": 16.7, \"temp_min\": 8.9, \"wind\": 2.7, \"weather\": \"sun\"}, {\"date\": \"2013-05-25T00:00:00\", \"precipitation\": 0.0, \"temp_max\": 17.8, \"temp_min\": 10.0, \"wind\": 2.7, \"weather\": \"sun\"}, {\"date\": \"2013-05-26T00:00:00\", \"precipitation\": 1.5, \"temp_max\": 18.3, \"temp_min\": 10.6, \"wind\": 2.2, \"weather\": \"fog\"}, {\"date\": \"2013-05-27T00:00:00\", \"precipitation\": 9.7, \"temp_max\": 16.7, \"temp_min\": 11.1, \"wind\": 3.1, \"weather\": \"fog\"}, {\"date\": \"2013-05-28T00:00:00\", \"precipitation\": 0.5, \"temp_max\": 17.2, \"temp_min\": 11.7, \"wind\": 2.8, \"weather\": \"fog\"}, {\"date\": \"2013-05-29T00:00:00\", \"precipitation\": 5.6, \"temp_max\": 16.1, \"temp_min\": 9.4, \"wind\": 4.0, \"weather\": \"fog\"}, {\"date\": \"2013-05-30T00:00:00\", \"precipitation\": 0.0, \"temp_max\": 16.7, \"temp_min\": 9.4, \"wind\": 5.3, \"weather\": \"sun\"}, {\"date\": \"2013-05-31T00:00:00\", \"precipitation\": 0.0, \"temp_max\": 19.4, \"temp_min\": 11.1, \"wind\": 2.5, \"weather\": \"sun\"}, {\"date\": \"2013-06-01T00:00:00\", \"precipitation\": 0.0, \"temp_max\": 22.8, \"temp_min\": 12.2, \"wind\": 2.5, \"weather\": \"sun\"}, {\"date\": \"2013-06-02T00:00:00\", \"precipitation\": 1.0, \"temp_max\": 20.6, \"temp_min\": 12.2, \"wind\": 3.1, \"weather\": \"sun\"}, {\"date\": \"2013-06-03T00:00:00\", \"precipitation\": 0.0, \"temp_max\": 22.2, \"temp_min\": 11.1, \"wind\": 2.9, \"weather\": \"sun\"}, {\"date\": \"2013-06-04T00:00:00\", \"precipitation\": 0.0, \"temp_max\": 26.1, \"temp_min\": 12.2, \"wind\": 3.4, \"weather\": \"sun\"}, {\"date\": \"2013-06-05T00:00:00\", \"precipitation\": 0.0, \"temp_max\": 26.7, \"temp_min\": 14.4, \"wind\": 3.1, \"weather\": \"sun\"}, {\"date\": \"2013-06-06T00:00:00\", \"precipitation\": 0.0, \"temp_max\": 26.7, \"temp_min\": 12.2, \"wind\": 2.5, \"weather\": \"sun\"}, {\"date\": \"2013-06-07T00:00:00\", \"precipitation\": 0.0, \"temp_max\": 21.7, \"temp_min\": 13.3, \"wind\": 3.2, \"weather\": \"sun\"}, {\"date\": \"2013-06-08T00:00:00\", \"precipitation\": 0.0, \"temp_max\": 20.6, \"temp_min\": 12.8, \"wind\": 3.1, \"weather\": \"sun\"}, {\"date\": \"2013-06-09T00:00:00\", \"precipitation\": 0.0, \"temp_max\": 20.6, \"temp_min\": 11.1, \"wind\": 3.7, \"weather\": \"sun\"}, {\"date\": \"2013-06-10T00:00:00\", \"precipitation\": 0.0, \"temp_max\": 21.7, \"temp_min\": 11.7, \"wind\": 3.2, \"weather\": \"sun\"}, {\"date\": \"2013-06-11T00:00:00\", \"precipitation\": 0.0, \"temp_max\": 20.0, \"temp_min\": 10.0, \"wind\": 5.7, \"weather\": \"sun\"}, {\"date\": \"2013-06-12T00:00:00\", \"precipitation\": 0.3, \"temp_max\": 20.6, \"temp_min\": 11.7, \"wind\": 4.2, \"weather\": \"sun\"}, {\"date\": \"2013-06-13T00:00:00\", \"precipitation\": 0.0, \"temp_max\": 21.1, \"temp_min\": 11.7, \"wind\": 2.6, \"weather\": \"sun\"}, {\"date\": \"2013-06-14T00:00:00\", \"precipitation\": 0.0, \"temp_max\": 20.0, \"temp_min\": 12.2, \"wind\": 3.7, \"weather\": \"sun\"}, {\"date\": \"2013-06-15T00:00:00\", \"precipitation\": 0.0, \"temp_max\": 25.6, \"temp_min\": 10.0, \"wind\": 2.9, \"weather\": \"sun\"}, {\"date\": \"2013-06-16T00:00:00\", \"precipitation\": 0.0, \"temp_max\": 23.9, \"temp_min\": 12.8, \"wind\": 3.4, \"weather\": \"sun\"}, {\"date\": \"2013-06-17T00:00:00\", \"precipitation\": 0.0, \"temp_max\": 25.6, \"temp_min\": 13.9, \"wind\": 3.0, \"weather\": \"sun\"}, {\"date\": \"2013-06-18T00:00:00\", \"precipitation\": 0.3, \"temp_max\": 23.3, \"temp_min\": 13.3, \"wind\": 3.4, \"weather\": \"fog\"}, {\"date\": \"2013-06-19T00:00:00\", \"precipitation\": 0.0, \"temp_max\": 20.0, \"temp_min\": 12.8, \"wind\": 3.7, \"weather\": \"sun\"}, {\"date\": \"2013-06-20T00:00:00\", \"precipitation\": 3.0, \"temp_max\": 17.2, \"temp_min\": 12.8, \"wind\": 5.0, \"weather\": \"sun\"}, {\"date\": \"2013-06-21T00:00:00\", \"precipitation\": 0.3, \"temp_max\": 20.6, \"temp_min\": 12.2, \"wind\": 1.5, \"weather\": \"sun\"}, {\"date\": \"2013-06-22T00:00:00\", \"precipitation\": 0.0, \"temp_max\": 25.6, \"temp_min\": 11.7, \"wind\": 1.7, \"weather\": \"sun\"}, {\"date\": \"2013-06-23T00:00:00\", \"precipitation\": 7.9, \"temp_max\": 22.2, \"temp_min\": 15.0, \"wind\": 2.1, \"weather\": \"fog\"}, {\"date\": \"2013-06-24T00:00:00\", \"precipitation\": 4.8, \"temp_max\": 21.1, \"temp_min\": 13.9, \"wind\": 3.7, \"weather\": \"fog\"}, {\"date\": \"2013-06-25T00:00:00\", \"precipitation\": 9.9, \"temp_max\": 23.3, \"temp_min\": 14.4, \"wind\": 2.8, \"weather\": \"sun\"}, {\"date\": \"2013-06-26T00:00:00\", \"precipitation\": 2.0, \"temp_max\": 22.2, \"temp_min\": 15.0, \"wind\": 2.3, \"weather\": \"fog\"}, {\"date\": \"2013-06-27T00:00:00\", \"precipitation\": 3.6, \"temp_max\": 21.1, \"temp_min\": 16.7, \"wind\": 1.3, \"weather\": \"fog\"}, {\"date\": \"2013-06-28T00:00:00\", \"precipitation\": 0.0, \"temp_max\": 30.6, \"temp_min\": 16.1, \"wind\": 2.2, \"weather\": \"sun\"}, {\"date\": \"2013-06-29T00:00:00\", \"precipitation\": 0.0, \"temp_max\": 30.0, \"temp_min\": 18.3, \"wind\": 1.7, \"weather\": \"sun\"}, {\"date\": \"2013-06-30T00:00:00\", \"precipitation\": 0.0, \"temp_max\": 33.9, \"temp_min\": 17.2, \"wind\": 2.5, \"weather\": \"sun\"}, {\"date\": \"2013-07-01T00:00:00\", \"precipitation\": 0.0, \"temp_max\": 31.7, \"temp_min\": 18.3, \"wind\": 2.3, \"weather\": \"sun\"}, {\"date\": \"2013-07-02T00:00:00\", \"precipitation\": 0.0, \"temp_max\": 28.3, \"temp_min\": 15.6, \"wind\": 3.0, \"weather\": \"sun\"}, {\"date\": \"2013-07-03T00:00:00\", \"precipitation\": 0.0, \"temp_max\": 26.1, \"temp_min\": 16.7, \"wind\": 3.2, \"weather\": \"sun\"}, {\"date\": \"2013-07-04T00:00:00\", \"precipitation\": 0.0, \"temp_max\": 21.7, \"temp_min\": 13.9, \"wind\": 2.2, \"weather\": \"fog\"}, {\"date\": \"2013-07-05T00:00:00\", \"precipitation\": 0.0, \"temp_max\": 23.3, \"temp_min\": 13.9, \"wind\": 2.6, \"weather\": \"sun\"}, {\"date\": \"2013-07-06T00:00:00\", \"precipitation\": 0.0, \"temp_max\": 26.1, \"temp_min\": 13.3, \"wind\": 2.2, \"weather\": \"sun\"}, {\"date\": \"2013-07-07T00:00:00\", \"precipitation\": 0.0, \"temp_max\": 23.9, \"temp_min\": 13.9, \"wind\": 2.9, \"weather\": \"sun\"}, {\"date\": \"2013-07-08T00:00:00\", \"precipitation\": 0.0, \"temp_max\": 26.7, \"temp_min\": 13.3, \"wind\": 2.8, \"weather\": \"sun\"}, {\"date\": \"2013-07-09T00:00:00\", \"precipitation\": 0.0, \"temp_max\": 30.0, \"temp_min\": 15.0, \"wind\": 2.5, \"weather\": \"sun\"}, {\"date\": \"2013-07-10T00:00:00\", \"precipitation\": 0.0, \"temp_max\": 22.2, \"temp_min\": 13.9, \"wind\": 2.6, \"weather\": \"sun\"}, {\"date\": \"2013-07-11T00:00:00\", \"precipitation\": 0.0, \"temp_max\": 22.8, \"temp_min\": 12.2, \"wind\": 3.0, \"weather\": \"sun\"}, {\"date\": \"2013-07-12T00:00:00\", \"precipitation\": 0.0, \"temp_max\": 19.4, \"temp_min\": 13.3, \"wind\": 2.2, \"weather\": \"sun\"}, {\"date\": \"2013-07-13T00:00:00\", \"precipitation\": 0.0, \"temp_max\": 26.1, \"temp_min\": 11.1, \"wind\": 3.1, \"weather\": \"sun\"}, {\"date\": \"2013-07-14T00:00:00\", \"precipitation\": 0.0, \"temp_max\": 27.8, \"temp_min\": 12.8, \"wind\": 3.0, \"weather\": \"sun\"}, {\"date\": \"2013-07-15T00:00:00\", \"precipitation\": 0.0, \"temp_max\": 27.8, \"temp_min\": 14.4, \"wind\": 4.6, \"weather\": \"sun\"}, {\"date\": \"2013-07-16T00:00:00\", \"precipitation\": 0.0, \"temp_max\": 31.1, \"temp_min\": 18.3, \"wind\": 4.1, \"weather\": \"sun\"}, {\"date\": \"2013-07-17T00:00:00\", \"precipitation\": 0.0, \"temp_max\": 22.2, \"temp_min\": 15.0, \"wind\": 3.7, \"weather\": \"rain\"}, {\"date\": \"2013-07-18T00:00:00\", \"precipitation\": 0.0, \"temp_max\": 26.1, \"temp_min\": 13.9, \"wind\": 2.0, \"weather\": \"sun\"}, {\"date\": \"2013-07-19T00:00:00\", \"precipitation\": 0.0, \"temp_max\": 27.8, \"temp_min\": 13.3, \"wind\": 1.9, \"weather\": \"sun\"}, {\"date\": \"2013-07-20T00:00:00\", \"precipitation\": 0.0, \"temp_max\": 25.0, \"temp_min\": 13.3, \"wind\": 2.0, \"weather\": \"sun\"}, {\"date\": \"2013-07-21T00:00:00\", \"precipitation\": 0.0, \"temp_max\": 23.9, \"temp_min\": 12.8, \"wind\": 2.3, \"weather\": \"sun\"}, {\"date\": \"2013-07-22T00:00:00\", \"precipitation\": 0.0, \"temp_max\": 26.1, \"temp_min\": 13.3, \"wind\": 2.4, \"weather\": \"fog\"}, {\"date\": \"2013-07-23T00:00:00\", \"precipitation\": 0.0, \"temp_max\": 31.1, \"temp_min\": 13.9, \"wind\": 3.0, \"weather\": \"sun\"}, {\"date\": \"2013-07-24T00:00:00\", \"precipitation\": 0.0, \"temp_max\": 31.1, \"temp_min\": 14.4, \"wind\": 2.5, \"weather\": \"sun\"}, {\"date\": \"2013-07-25T00:00:00\", \"precipitation\": 0.0, \"temp_max\": 31.1, \"temp_min\": 12.8, \"wind\": 2.3, \"weather\": \"sun\"}, {\"date\": \"2013-07-26T00:00:00\", \"precipitation\": 0.0, \"temp_max\": 31.1, \"temp_min\": 14.4, \"wind\": 2.9, \"weather\": \"sun\"}, {\"date\": \"2013-07-27T00:00:00\", \"precipitation\": 0.0, \"temp_max\": 25.6, \"temp_min\": 12.8, \"wind\": 2.6, \"weather\": \"sun\"}, {\"date\": \"2013-07-28T00:00:00\", \"precipitation\": 0.0, \"temp_max\": 21.1, \"temp_min\": 12.2, \"wind\": 3.4, \"weather\": \"fog\"}, {\"date\": \"2013-07-29T00:00:00\", \"precipitation\": 0.0, \"temp_max\": 25.0, \"temp_min\": 13.3, \"wind\": 1.4, \"weather\": \"sun\"}, {\"date\": \"2013-07-30T00:00:00\", \"precipitation\": 0.0, \"temp_max\": 25.0, \"temp_min\": 13.3, \"wind\": 2.8, \"weather\": \"sun\"}, {\"date\": \"2013-07-31T00:00:00\", \"precipitation\": 0.0, \"temp_max\": 21.7, \"temp_min\": 13.3, \"wind\": 1.8, \"weather\": \"sun\"}, {\"date\": \"2013-08-01T00:00:00\", \"precipitation\": 0.0, \"temp_max\": 20.6, \"temp_min\": 13.3, \"wind\": 3.9, \"weather\": \"sun\"}, {\"date\": \"2013-08-02T00:00:00\", \"precipitation\": 2.0, \"temp_max\": 17.2, \"temp_min\": 15.0, \"wind\": 2.0, \"weather\": \"sun\"}, {\"date\": \"2013-08-03T00:00:00\", \"precipitation\": 0.0, \"temp_max\": 25.0, \"temp_min\": 15.6, \"wind\": 2.4, \"weather\": \"fog\"}, {\"date\": \"2013-08-04T00:00:00\", \"precipitation\": 0.0, \"temp_max\": 28.9, \"temp_min\": 15.0, \"wind\": 3.4, \"weather\": \"sun\"}, {\"date\": \"2013-08-05T00:00:00\", \"precipitation\": 0.0, \"temp_max\": 30.0, \"temp_min\": 15.0, \"wind\": 2.1, \"weather\": \"sun\"}, {\"date\": \"2013-08-06T00:00:00\", \"precipitation\": 0.0, \"temp_max\": 30.6, \"temp_min\": 13.9, \"wind\": 1.4, \"weather\": \"sun\"}, {\"date\": \"2013-08-07T00:00:00\", \"precipitation\": 0.0, \"temp_max\": 31.1, \"temp_min\": 13.9, \"wind\": 1.9, \"weather\": \"sun\"}, {\"date\": \"2013-08-08T00:00:00\", \"precipitation\": 0.0, \"temp_max\": 28.3, \"temp_min\": 14.4, \"wind\": 2.5, \"weather\": \"sun\"}, {\"date\": \"2013-08-09T00:00:00\", \"precipitation\": 0.0, \"temp_max\": 28.3, \"temp_min\": 14.4, \"wind\": 2.1, \"weather\": \"rain\"}, {\"date\": \"2013-08-10T00:00:00\", \"precipitation\": 2.3, \"temp_max\": 25.6, \"temp_min\": 15.0, \"wind\": 2.9, \"weather\": \"sun\"}, {\"date\": \"2013-08-11T00:00:00\", \"precipitation\": 0.0, \"temp_max\": 25.0, \"temp_min\": 14.4, \"wind\": 2.9, \"weather\": \"sun\"}, {\"date\": \"2013-08-12T00:00:00\", \"precipitation\": 0.0, \"temp_max\": 25.6, \"temp_min\": 16.1, \"wind\": 1.9, \"weather\": \"sun\"}, {\"date\": \"2013-08-13T00:00:00\", \"precipitation\": 0.0, \"temp_max\": 27.8, \"temp_min\": 15.0, \"wind\": 1.8, \"weather\": \"sun\"}, {\"date\": \"2013-08-14T00:00:00\", \"precipitation\": 0.8, \"temp_max\": 27.2, \"temp_min\": 15.0, \"wind\": 2.0, \"weather\": \"sun\"}, {\"date\": \"2013-08-15T00:00:00\", \"precipitation\": 1.8, \"temp_max\": 21.1, \"temp_min\": 17.2, \"wind\": 1.0, \"weather\": \"sun\"}, {\"date\": \"2013-08-16T00:00:00\", \"precipitation\": 0.0, \"temp_max\": 28.9, \"temp_min\": 16.1, \"wind\": 2.2, \"weather\": \"fog\"}, {\"date\": \"2013-08-17T00:00:00\", \"precipitation\": 0.0, \"temp_max\": 25.6, \"temp_min\": 17.2, \"wind\": 3.0, \"weather\": \"sun\"}, {\"date\": \"2013-08-18T00:00:00\", \"precipitation\": 0.0, \"temp_max\": 26.1, \"temp_min\": 15.6, \"wind\": 3.1, \"weather\": \"sun\"}, {\"date\": \"2013-08-19T00:00:00\", \"precipitation\": 0.0, \"temp_max\": 26.7, \"temp_min\": 15.6, \"wind\": 3.0, \"weather\": \"sun\"}, {\"date\": \"2013-08-20T00:00:00\", \"precipitation\": 0.0, \"temp_max\": 25.6, \"temp_min\": 16.1, \"wind\": 4.6, \"weather\": \"sun\"}, {\"date\": \"2013-08-21T00:00:00\", \"precipitation\": 0.0, \"temp_max\": 27.8, \"temp_min\": 15.0, \"wind\": 4.3, \"weather\": \"sun\"}, {\"date\": \"2013-08-22T00:00:00\", \"precipitation\": 0.0, \"temp_max\": 28.9, \"temp_min\": 15.0, \"wind\": 1.9, \"weather\": \"sun\"}, {\"date\": \"2013-08-23T00:00:00\", \"precipitation\": 0.0, \"temp_max\": 25.0, \"temp_min\": 16.1, \"wind\": 4.1, \"weather\": \"sun\"}, {\"date\": \"2013-08-24T00:00:00\", \"precipitation\": 0.0, \"temp_max\": 25.0, \"temp_min\": 16.7, \"wind\": 2.7, \"weather\": \"sun\"}, {\"date\": \"2013-08-25T00:00:00\", \"precipitation\": 0.3, \"temp_max\": 22.2, \"temp_min\": 16.1, \"wind\": 2.6, \"weather\": \"sun\"}, {\"date\": \"2013-08-26T00:00:00\", \"precipitation\": 1.0, \"temp_max\": 24.4, \"temp_min\": 16.1, \"wind\": 1.9, \"weather\": \"sun\"}, {\"date\": \"2013-08-27T00:00:00\", \"precipitation\": 1.3, \"temp_max\": 26.7, \"temp_min\": 17.2, \"wind\": 1.4, \"weather\": \"sun\"}, {\"date\": \"2013-08-28T00:00:00\", \"precipitation\": 5.6, \"temp_max\": 26.7, \"temp_min\": 15.6, \"wind\": 1.3, \"weather\": \"fog\"}, {\"date\": \"2013-08-29T00:00:00\", \"precipitation\": 19.3, \"temp_max\": 23.9, \"temp_min\": 18.3, \"wind\": 3.0, \"weather\": \"sun\"}, {\"date\": \"2013-08-30T00:00:00\", \"precipitation\": 0.0, \"temp_max\": 26.1, \"temp_min\": 16.1, \"wind\": 2.9, \"weather\": \"sun\"}, {\"date\": \"2013-08-31T00:00:00\", \"precipitation\": 0.0, \"temp_max\": 27.8, \"temp_min\": 13.9, \"wind\": 2.6, \"weather\": \"sun\"}, {\"date\": \"2013-09-01T00:00:00\", \"precipitation\": 0.0, \"temp_max\": 27.8, \"temp_min\": 15.6, \"wind\": 2.5, \"weather\": \"sun\"}, {\"date\": \"2013-09-02T00:00:00\", \"precipitation\": 0.0, \"temp_max\": 27.8, \"temp_min\": 17.2, \"wind\": 2.1, \"weather\": \"sun\"}, {\"date\": \"2013-09-03T00:00:00\", \"precipitation\": 2.3, \"temp_max\": 25.0, \"temp_min\": 16.7, \"wind\": 1.7, \"weather\": \"fog\"}, {\"date\": \"2013-09-04T00:00:00\", \"precipitation\": 0.3, \"temp_max\": 22.8, \"temp_min\": 16.1, \"wind\": 2.4, \"weather\": \"fog\"}, {\"date\": \"2013-09-05T00:00:00\", \"precipitation\": 27.7, \"temp_max\": 20.0, \"temp_min\": 15.6, \"wind\": 2.5, \"weather\": \"sun\"}, {\"date\": \"2013-09-06T00:00:00\", \"precipitation\": 21.3, \"temp_max\": 21.7, \"temp_min\": 16.1, \"wind\": 2.6, \"weather\": \"fog\"}, {\"date\": \"2013-09-07T00:00:00\", \"precipitation\": 0.0, \"temp_max\": 23.3, \"temp_min\": 17.2, \"wind\": 2.0, \"weather\": \"sun\"}, {\"date\": \"2013-09-08T00:00:00\", \"precipitation\": 0.0, \"temp_max\": 26.7, \"temp_min\": 14.4, \"wind\": 1.5, \"weather\": \"fog\"}, {\"date\": \"2013-09-09T00:00:00\", \"precipitation\": 0.0, \"temp_max\": 26.1, \"temp_min\": 13.9, \"wind\": 2.1, \"weather\": \"sun\"}, {\"date\": \"2013-09-10T00:00:00\", \"precipitation\": 0.0, \"temp_max\": 26.7, \"temp_min\": 15.0, \"wind\": 3.7, \"weather\": \"sun\"}, {\"date\": \"2013-09-11T00:00:00\", \"precipitation\": 0.0, \"temp_max\": 33.9, \"temp_min\": 16.1, \"wind\": 2.4, \"weather\": \"sun\"}, {\"date\": \"2013-09-12T00:00:00\", \"precipitation\": 0.0, \"temp_max\": 25.6, \"temp_min\": 15.0, \"wind\": 1.7, \"weather\": \"sun\"}, {\"date\": \"2013-09-13T00:00:00\", \"precipitation\": 0.0, \"temp_max\": 18.9, \"temp_min\": 15.6, \"wind\": 2.0, \"weather\": \"sun\"}, {\"date\": \"2013-09-14T00:00:00\", \"precipitation\": 0.0, \"temp_max\": 21.7, \"temp_min\": 15.6, \"wind\": 1.4, \"weather\": \"fog\"}, {\"date\": \"2013-09-15T00:00:00\", \"precipitation\": 3.3, \"temp_max\": 18.9, \"temp_min\": 14.4, \"wind\": 2.2, \"weather\": \"sun\"}, {\"date\": \"2013-09-16T00:00:00\", \"precipitation\": 0.3, \"temp_max\": 21.7, \"temp_min\": 15.0, \"wind\": 4.3, \"weather\": \"fog\"}, {\"date\": \"2013-09-17T00:00:00\", \"precipitation\": 0.0, \"temp_max\": 17.8, \"temp_min\": 13.9, \"wind\": 2.3, \"weather\": \"sun\"}, {\"date\": \"2013-09-18T00:00:00\", \"precipitation\": 0.0, \"temp_max\": 21.1, \"temp_min\": 13.3, \"wind\": 2.5, \"weather\": \"sun\"}, {\"date\": \"2013-09-19T00:00:00\", \"precipitation\": 0.0, \"temp_max\": 25.6, \"temp_min\": 10.0, \"wind\": 1.5, \"weather\": \"sun\"}, {\"date\": \"2013-09-20T00:00:00\", \"precipitation\": 3.6, \"temp_max\": 23.3, \"temp_min\": 13.3, \"wind\": 3.0, \"weather\": \"fog\"}, {\"date\": \"2013-09-21T00:00:00\", \"precipitation\": 0.0, \"temp_max\": 21.1, \"temp_min\": 13.3, \"wind\": 2.5, \"weather\": \"sun\"}, {\"date\": \"2013-09-22T00:00:00\", \"precipitation\": 13.5, \"temp_max\": 17.2, \"temp_min\": 13.3, \"wind\": 5.5, \"weather\": \"fog\"}, {\"date\": \"2013-09-23T00:00:00\", \"precipitation\": 2.8, \"temp_max\": 16.1, \"temp_min\": 11.1, \"wind\": 4.5, \"weather\": \"fog\"}, {\"date\": \"2013-09-24T00:00:00\", \"precipitation\": 0.0, \"temp_max\": 17.8, \"temp_min\": 10.0, \"wind\": 2.6, \"weather\": \"sun\"}, {\"date\": \"2013-09-25T00:00:00\", \"precipitation\": 2.0, \"temp_max\": 16.1, \"temp_min\": 9.4, \"wind\": 3.0, \"weather\": \"fog\"}, {\"date\": \"2013-09-26T00:00:00\", \"precipitation\": 0.0, \"temp_max\": 17.2, \"temp_min\": 7.2, \"wind\": 2.2, \"weather\": \"sun\"}, {\"date\": \"2013-09-27T00:00:00\", \"precipitation\": 1.0, \"temp_max\": 13.9, \"temp_min\": 10.6, \"wind\": 4.3, \"weather\": \"fog\"}, {\"date\": \"2013-09-28T00:00:00\", \"precipitation\": 43.4, \"temp_max\": 16.7, \"temp_min\": 11.7, \"wind\": 6.0, \"weather\": \"fog\"}, {\"date\": \"2013-09-29T00:00:00\", \"precipitation\": 16.8, \"temp_max\": 14.4, \"temp_min\": 11.1, \"wind\": 7.1, \"weather\": \"sun\"}, {\"date\": \"2013-09-30T00:00:00\", \"precipitation\": 18.5, \"temp_max\": 13.9, \"temp_min\": 10.0, \"wind\": 6.3, \"weather\": \"fog\"}, {\"date\": \"2013-10-01T00:00:00\", \"precipitation\": 7.9, \"temp_max\": 14.4, \"temp_min\": 8.9, \"wind\": 4.7, \"weather\": \"fog\"}, {\"date\": \"2013-10-02T00:00:00\", \"precipitation\": 5.3, \"temp_max\": 12.8, \"temp_min\": 9.4, \"wind\": 2.4, \"weather\": \"fog\"}, {\"date\": \"2013-10-03T00:00:00\", \"precipitation\": 0.8, \"temp_max\": 14.4, \"temp_min\": 8.9, \"wind\": 0.9, \"weather\": \"fog\"}, {\"date\": \"2013-10-04T00:00:00\", \"precipitation\": 0.0, \"temp_max\": 17.8, \"temp_min\": 5.6, \"wind\": 1.1, \"weather\": \"sun\"}, {\"date\": \"2013-10-05T00:00:00\", \"precipitation\": 0.0, \"temp_max\": 20.0, \"temp_min\": 8.3, \"wind\": 1.6, \"weather\": \"sun\"}, {\"date\": \"2013-10-06T00:00:00\", \"precipitation\": 4.1, \"temp_max\": 22.8, \"temp_min\": 7.8, \"wind\": 2.6, \"weather\": \"fog\"}, {\"date\": \"2013-10-07T00:00:00\", \"precipitation\": 0.5, \"temp_max\": 16.1, \"temp_min\": 11.7, \"wind\": 6.3, \"weather\": \"fog\"}, {\"date\": \"2013-10-08T00:00:00\", \"precipitation\": 6.9, \"temp_max\": 13.9, \"temp_min\": 7.8, \"wind\": 3.0, \"weather\": \"rain\"}, {\"date\": \"2013-10-09T00:00:00\", \"precipitation\": 0.0, \"temp_max\": 15.0, \"temp_min\": 5.6, \"wind\": 1.6, \"weather\": \"sun\"}, {\"date\": \"2013-10-10T00:00:00\", \"precipitation\": 1.0, \"temp_max\": 14.4, \"temp_min\": 8.3, \"wind\": 1.7, \"weather\": \"fog\"}, {\"date\": \"2013-10-11T00:00:00\", \"precipitation\": 9.1, \"temp_max\": 13.9, \"temp_min\": 10.6, \"wind\": 1.0, \"weather\": \"sun\"}, {\"date\": \"2013-10-12T00:00:00\", \"precipitation\": 1.0, \"temp_max\": 14.4, \"temp_min\": 8.9, \"wind\": 2.2, \"weather\": \"fog\"}, {\"date\": \"2013-10-13T00:00:00\", \"precipitation\": 0.0, \"temp_max\": 15.0, \"temp_min\": 6.7, \"wind\": 1.8, \"weather\": \"fog\"}, {\"date\": \"2013-10-14T00:00:00\", \"precipitation\": 0.0, \"temp_max\": 15.6, \"temp_min\": 3.9, \"wind\": 1.6, \"weather\": \"sun\"}, {\"date\": \"2013-10-15T00:00:00\", \"precipitation\": 0.0, \"temp_max\": 15.6, \"temp_min\": 5.0, \"wind\": 0.9, \"weather\": \"sun\"}, {\"date\": \"2013-10-16T00:00:00\", \"precipitation\": 0.0, \"temp_max\": 12.8, \"temp_min\": 8.9, \"wind\": 2.7, \"weather\": \"fog\"}, {\"date\": \"2013-10-17T00:00:00\", \"precipitation\": 0.0, \"temp_max\": 14.4, \"temp_min\": 8.9, \"wind\": 1.7, \"weather\": \"fog\"}, {\"date\": \"2013-10-18T00:00:00\", \"precipitation\": 0.0, \"temp_max\": 12.8, \"temp_min\": 7.2, \"wind\": 1.2, \"weather\": \"sun\"}, {\"date\": \"2013-10-19T00:00:00\", \"precipitation\": 0.0, \"temp_max\": 10.6, \"temp_min\": 7.8, \"wind\": 1.4, \"weather\": \"sun\"}, {\"date\": \"2013-10-20T00:00:00\", \"precipitation\": 0.0, \"temp_max\": 10.6, \"temp_min\": 7.8, \"wind\": 2.4, \"weather\": \"sun\"}, {\"date\": \"2013-10-21T00:00:00\", \"precipitation\": 0.0, \"temp_max\": 11.7, \"temp_min\": 8.3, \"wind\": 2.5, \"weather\": \"sun\"}, {\"date\": \"2013-10-22T00:00:00\", \"precipitation\": 0.0, \"temp_max\": 14.4, \"temp_min\": 7.2, \"wind\": 1.9, \"weather\": \"sun\"}, {\"date\": \"2013-10-23T00:00:00\", \"precipitation\": 0.0, \"temp_max\": 12.8, \"temp_min\": 6.1, \"wind\": 0.4, \"weather\": \"sun\"}, {\"date\": \"2013-10-24T00:00:00\", \"precipitation\": 0.0, \"temp_max\": 10.0, \"temp_min\": 6.1, \"wind\": 0.6, \"weather\": \"sun\"}, {\"date\": \"2013-10-25T00:00:00\", \"precipitation\": 0.0, \"temp_max\": 12.2, \"temp_min\": 7.8, \"wind\": 1.8, \"weather\": \"sun\"}, {\"date\": \"2013-10-26T00:00:00\", \"precipitation\": 0.0, \"temp_max\": 11.7, \"temp_min\": 8.3, \"wind\": 2.7, \"weather\": \"sun\"}, {\"date\": \"2013-10-27T00:00:00\", \"precipitation\": 1.8, \"temp_max\": 13.9, \"temp_min\": 8.3, \"wind\": 4.4, \"weather\": \"fog\"}, {\"date\": \"2013-10-28T00:00:00\", \"precipitation\": 0.0, \"temp_max\": 14.4, \"temp_min\": 7.2, \"wind\": 5.1, \"weather\": \"sun\"}, {\"date\": \"2013-10-29T00:00:00\", \"precipitation\": 0.0, \"temp_max\": 13.3, \"temp_min\": 3.3, \"wind\": 2.2, \"weather\": \"sun\"}, {\"date\": \"2013-10-30T00:00:00\", \"precipitation\": 0.5, \"temp_max\": 15.0, \"temp_min\": 5.6, \"wind\": 3.9, \"weather\": \"sun\"}, {\"date\": \"2013-10-31T00:00:00\", \"precipitation\": 0.3, \"temp_max\": 14.4, \"temp_min\": 10.6, \"wind\": 2.2, \"weather\": \"fog\"}, {\"date\": \"2013-11-01T00:00:00\", \"precipitation\": 1.3, \"temp_max\": 17.8, \"temp_min\": 11.7, \"wind\": 1.4, \"weather\": \"sun\"}, {\"date\": \"2013-11-02T00:00:00\", \"precipitation\": 12.7, \"temp_max\": 14.4, \"temp_min\": 8.3, \"wind\": 7.9, \"weather\": \"fog\"}, {\"date\": \"2013-11-03T00:00:00\", \"precipitation\": 0.5, \"temp_max\": 12.2, \"temp_min\": 4.4, \"wind\": 2.4, \"weather\": \"sun\"}, {\"date\": \"2013-11-04T00:00:00\", \"precipitation\": 0.0, \"temp_max\": 10.6, \"temp_min\": 3.9, \"wind\": 1.6, \"weather\": \"drizzle\"}, {\"date\": \"2013-11-05T00:00:00\", \"precipitation\": 2.5, \"temp_max\": 13.3, \"temp_min\": 7.2, \"wind\": 3.1, \"weather\": \"fog\"}, {\"date\": \"2013-11-06T00:00:00\", \"precipitation\": 3.8, \"temp_max\": 12.8, \"temp_min\": 7.8, \"wind\": 1.7, \"weather\": \"sun\"}, {\"date\": \"2013-11-07T00:00:00\", \"precipitation\": 30.0, \"temp_max\": 11.1, \"temp_min\": 10.0, \"wind\": 7.2, \"weather\": \"fog\"}, {\"date\": \"2013-11-08T00:00:00\", \"precipitation\": 0.0, \"temp_max\": 13.3, \"temp_min\": 7.2, \"wind\": 4.1, \"weather\": \"sun\"}, {\"date\": \"2013-11-09T00:00:00\", \"precipitation\": 1.8, \"temp_max\": 11.1, \"temp_min\": 5.0, \"wind\": 1.4, \"weather\": \"sun\"}, {\"date\": \"2013-11-10T00:00:00\", \"precipitation\": 0.0, \"temp_max\": 11.1, \"temp_min\": 8.3, \"wind\": 4.4, \"weather\": \"sun\"}, {\"date\": \"2013-11-11T00:00:00\", \"precipitation\": 0.0, \"temp_max\": 16.1, \"temp_min\": 6.1, \"wind\": 2.6, \"weather\": \"fog\"}, {\"date\": \"2013-11-12T00:00:00\", \"precipitation\": 4.1, \"temp_max\": 15.6, \"temp_min\": 8.9, \"wind\": 2.2, \"weather\": \"fog\"}, {\"date\": \"2013-11-13T00:00:00\", \"precipitation\": 0.0, \"temp_max\": 13.9, \"temp_min\": 10.6, \"wind\": 3.8, \"weather\": \"sun\"}, {\"date\": \"2013-11-14T00:00:00\", \"precipitation\": 1.3, \"temp_max\": 11.1, \"temp_min\": 6.1, \"wind\": 1.1, \"weather\": \"fog\"}, {\"date\": \"2013-11-15T00:00:00\", \"precipitation\": 3.0, \"temp_max\": 10.6, \"temp_min\": 7.2, \"wind\": 6.0, \"weather\": \"sun\"}, {\"date\": \"2013-11-16T00:00:00\", \"precipitation\": 0.0, \"temp_max\": 10.0, \"temp_min\": 5.0, \"wind\": 4.6, \"weather\": \"sun\"}, {\"date\": \"2013-11-17T00:00:00\", \"precipitation\": 5.3, \"temp_max\": 11.7, \"temp_min\": 7.2, \"wind\": 5.4, \"weather\": \"fog\"}, {\"date\": \"2013-11-18T00:00:00\", \"precipitation\": 26.2, \"temp_max\": 12.8, \"temp_min\": 9.4, \"wind\": 3.9, \"weather\": \"fog\"}, {\"date\": \"2013-11-19T00:00:00\", \"precipitation\": 1.0, \"temp_max\": 13.3, \"temp_min\": 4.4, \"wind\": 5.1, \"weather\": \"fog\"}, {\"date\": \"2013-11-20T00:00:00\", \"precipitation\": 0.0, \"temp_max\": 7.8, \"temp_min\": 1.7, \"wind\": 4.3, \"weather\": \"sun\"}, {\"date\": \"2013-11-21T00:00:00\", \"precipitation\": 0.0, \"temp_max\": 7.8, \"temp_min\": -0.5, \"wind\": 3.6, \"weather\": \"sun\"}, {\"date\": \"2013-11-22T00:00:00\", \"precipitation\": 0.0, \"temp_max\": 9.4, \"temp_min\": 0.0, \"wind\": 4.6, \"weather\": \"sun\"}, {\"date\": \"2013-11-23T00:00:00\", \"precipitation\": 0.0, \"temp_max\": 11.1, \"temp_min\": 1.1, \"wind\": 2.6, \"weather\": \"sun\"}, {\"date\": \"2013-11-24T00:00:00\", \"precipitation\": 0.0, \"temp_max\": 11.7, \"temp_min\": 0.6, \"wind\": 0.9, \"weather\": \"fog\"}, {\"date\": \"2013-11-25T00:00:00\", \"precipitation\": 0.0, \"temp_max\": 12.2, \"temp_min\": 2.2, \"wind\": 0.5, \"weather\": \"sun\"}, {\"date\": \"2013-11-26T00:00:00\", \"precipitation\": 0.0, \"temp_max\": 12.2, \"temp_min\": 2.8, \"wind\": 1.0, \"weather\": \"sun\"}, {\"date\": \"2013-11-27T00:00:00\", \"precipitation\": 0.0, \"temp_max\": 14.4, \"temp_min\": 5.6, \"wind\": 1.3, \"weather\": \"sun\"}, {\"date\": \"2013-11-28T00:00:00\", \"precipitation\": 0.0, \"temp_max\": 11.7, \"temp_min\": 3.3, \"wind\": 0.7, \"weather\": \"sun\"}, {\"date\": \"2013-11-29T00:00:00\", \"precipitation\": 0.5, \"temp_max\": 9.4, \"temp_min\": 5.0, \"wind\": 2.1, \"weather\": \"fog\"}, {\"date\": \"2013-11-30T00:00:00\", \"precipitation\": 2.3, \"temp_max\": 11.1, \"temp_min\": 7.2, \"wind\": 3.9, \"weather\": \"fog\"}, {\"date\": \"2013-12-01T00:00:00\", \"precipitation\": 3.0, \"temp_max\": 13.3, \"temp_min\": 7.8, \"wind\": 8.8, \"weather\": \"fog\"}, {\"date\": \"2013-12-02T00:00:00\", \"precipitation\": 4.6, \"temp_max\": 7.8, \"temp_min\": 1.7, \"wind\": 3.5, \"weather\": \"sun\"}, {\"date\": \"2013-12-03T00:00:00\", \"precipitation\": 0.0, \"temp_max\": 5.0, \"temp_min\": -0.5, \"wind\": 5.6, \"weather\": \"sun\"}, {\"date\": \"2013-12-04T00:00:00\", \"precipitation\": 0.0, \"temp_max\": 4.4, \"temp_min\": -2.1, \"wind\": 1.6, \"weather\": \"sun\"}, {\"date\": \"2013-12-05T00:00:00\", \"precipitation\": 0.0, \"temp_max\": 1.1, \"temp_min\": -4.9, \"wind\": 2.6, \"weather\": \"sun\"}, {\"date\": \"2013-12-06T00:00:00\", \"precipitation\": 0.0, \"temp_max\": 1.1, \"temp_min\": -4.3, \"wind\": 4.7, \"weather\": \"sun\"}, {\"date\": \"2013-12-07T00:00:00\", \"precipitation\": 0.0, \"temp_max\": 0.0, \"temp_min\": -7.1, \"wind\": 3.1, \"weather\": \"sun\"}, {\"date\": \"2013-12-08T00:00:00\", \"precipitation\": 0.0, \"temp_max\": 2.2, \"temp_min\": -6.6, \"wind\": 2.2, \"weather\": \"sun\"}, {\"date\": \"2013-12-09T00:00:00\", \"precipitation\": 0.0, \"temp_max\": 1.1, \"temp_min\": -4.9, \"wind\": 1.3, \"weather\": \"sun\"}, {\"date\": \"2013-12-10T00:00:00\", \"precipitation\": 0.0, \"temp_max\": 5.6, \"temp_min\": 0.6, \"wind\": 1.5, \"weather\": \"sun\"}, {\"date\": \"2013-12-11T00:00:00\", \"precipitation\": 0.0, \"temp_max\": 5.0, \"temp_min\": -1.6, \"wind\": 0.8, \"weather\": \"sun\"}, {\"date\": \"2013-12-12T00:00:00\", \"precipitation\": 6.9, \"temp_max\": 5.6, \"temp_min\": -0.5, \"wind\": 2.3, \"weather\": \"sun\"}, {\"date\": \"2013-12-13T00:00:00\", \"precipitation\": 0.5, \"temp_max\": 9.4, \"temp_min\": 5.6, \"wind\": 2.9, \"weather\": \"fog\"}, {\"date\": \"2013-12-14T00:00:00\", \"precipitation\": 0.0, \"temp_max\": 9.4, \"temp_min\": 6.1, \"wind\": 3.7, \"weather\": \"sun\"}, {\"date\": \"2013-12-15T00:00:00\", \"precipitation\": 1.3, \"temp_max\": 11.7, \"temp_min\": 8.3, \"wind\": 3.9, \"weather\": \"fog\"}, {\"date\": \"2013-12-16T00:00:00\", \"precipitation\": 0.3, \"temp_max\": 10.0, \"temp_min\": 4.4, \"wind\": 1.0, \"weather\": \"sun\"}, {\"date\": \"2013-12-17T00:00:00\", \"precipitation\": 0.0, \"temp_max\": 8.3, \"temp_min\": 4.4, \"wind\": 2.7, \"weather\": \"sun\"}, {\"date\": \"2013-12-18T00:00:00\", \"precipitation\": 1.3, \"temp_max\": 7.8, \"temp_min\": 2.2, \"wind\": 2.8, \"weather\": \"fog\"}, {\"date\": \"2013-12-19T00:00:00\", \"precipitation\": 0.0, \"temp_max\": 5.0, \"temp_min\": 0.0, \"wind\": 2.1, \"weather\": \"sun\"}, {\"date\": \"2013-12-20T00:00:00\", \"precipitation\": 5.6, \"temp_max\": 8.3, \"temp_min\": 0.6, \"wind\": 3.7, \"weather\": \"fog\"}, {\"date\": \"2013-12-21T00:00:00\", \"precipitation\": 5.6, \"temp_max\": 8.9, \"temp_min\": 5.6, \"wind\": 2.3, \"weather\": \"fog\"}, {\"date\": \"2013-12-22T00:00:00\", \"precipitation\": 10.7, \"temp_max\": 10.6, \"temp_min\": 8.3, \"wind\": 4.0, \"weather\": \"fog\"}, {\"date\": \"2013-12-23T00:00:00\", \"precipitation\": 1.5, \"temp_max\": 11.7, \"temp_min\": 6.1, \"wind\": 5.9, \"weather\": \"fog\"}, {\"date\": \"2013-12-24T00:00:00\", \"precipitation\": 0.0, \"temp_max\": 8.3, \"temp_min\": 2.8, \"wind\": 1.7, \"weather\": \"sun\"}, {\"date\": \"2013-12-25T00:00:00\", \"precipitation\": 0.0, \"temp_max\": 6.7, \"temp_min\": 1.7, \"wind\": 0.8, \"weather\": \"sun\"}, {\"date\": \"2013-12-26T00:00:00\", \"precipitation\": 0.0, \"temp_max\": 6.7, \"temp_min\": 0.6, \"wind\": 0.5, \"weather\": \"sun\"}, {\"date\": \"2013-12-27T00:00:00\", \"precipitation\": 0.3, \"temp_max\": 8.9, \"temp_min\": 0.0, \"wind\": 2.1, \"weather\": \"fog\"}, {\"date\": \"2013-12-28T00:00:00\", \"precipitation\": 0.0, \"temp_max\": 9.4, \"temp_min\": 3.3, \"wind\": 1.3, \"weather\": \"sun\"}, {\"date\": \"2013-12-29T00:00:00\", \"precipitation\": 0.0, \"temp_max\": 7.2, \"temp_min\": 1.7, \"wind\": 1.1, \"weather\": \"sun\"}, {\"date\": \"2013-12-30T00:00:00\", \"precipitation\": 0.3, \"temp_max\": 8.9, \"temp_min\": 4.4, \"wind\": 2.6, \"weather\": \"sun\"}, {\"date\": \"2013-12-31T00:00:00\", \"precipitation\": 0.5, \"temp_max\": 8.3, \"temp_min\": 5.0, \"wind\": 1.7, \"weather\": \"sun\"}, {\"date\": \"2014-01-01T00:00:00\", \"precipitation\": 0.0, \"temp_max\": 7.2, \"temp_min\": 3.3, \"wind\": 1.2, \"weather\": \"sun\"}, {\"date\": \"2014-01-02T00:00:00\", \"precipitation\": 4.1, \"temp_max\": 10.6, \"temp_min\": 6.1, \"wind\": 3.2, \"weather\": \"sun\"}, {\"date\": \"2014-01-03T00:00:00\", \"precipitation\": 1.5, \"temp_max\": 8.9, \"temp_min\": 2.8, \"wind\": 2.6, \"weather\": \"fog\"}, {\"date\": \"2014-01-04T00:00:00\", \"precipitation\": 0.0, \"temp_max\": 7.8, \"temp_min\": 0.6, \"wind\": 2.7, \"weather\": \"fog\"}, {\"date\": \"2014-01-05T00:00:00\", \"precipitation\": 0.0, \"temp_max\": 8.3, \"temp_min\": -0.5, \"wind\": 3.7, \"weather\": \"sun\"}, {\"date\": \"2014-01-06T00:00:00\", \"precipitation\": 0.3, \"temp_max\": 7.8, \"temp_min\": -0.5, \"wind\": 2.6, \"weather\": \"fog\"}, {\"date\": \"2014-01-07T00:00:00\", \"precipitation\": 12.2, \"temp_max\": 8.3, \"temp_min\": 5.0, \"wind\": 1.6, \"weather\": \"sun\"}, {\"date\": \"2014-01-08T00:00:00\", \"precipitation\": 9.7, \"temp_max\": 10.0, \"temp_min\": 7.2, \"wind\": 4.6, \"weather\": \"fog\"}, {\"date\": \"2014-01-09T00:00:00\", \"precipitation\": 5.8, \"temp_max\": 9.4, \"temp_min\": 5.6, \"wind\": 6.3, \"weather\": \"fog\"}, {\"date\": \"2014-01-10T00:00:00\", \"precipitation\": 4.3, \"temp_max\": 12.8, \"temp_min\": 8.3, \"wind\": 7.0, \"weather\": \"sun\"}, {\"date\": \"2014-01-11T00:00:00\", \"precipitation\": 21.3, \"temp_max\": 14.4, \"temp_min\": 7.2, \"wind\": 8.8, \"weather\": \"fog\"}, {\"date\": \"2014-01-12T00:00:00\", \"precipitation\": 1.5, \"temp_max\": 11.1, \"temp_min\": 5.6, \"wind\": 8.1, \"weather\": \"fog\"}, {\"date\": \"2014-01-13T00:00:00\", \"precipitation\": 0.0, \"temp_max\": 10.6, \"temp_min\": 10.0, \"wind\": 7.1, \"weather\": \"sun\"}, {\"date\": \"2014-01-14T00:00:00\", \"precipitation\": 0.0, \"temp_max\": 11.1, \"temp_min\": 7.2, \"wind\": 1.3, \"weather\": \"sun\"}, {\"date\": \"2014-01-15T00:00:00\", \"precipitation\": 0.0, \"temp_max\": 11.1, \"temp_min\": 5.6, \"wind\": 2.5, \"weather\": \"sun\"}, {\"date\": \"2014-01-16T00:00:00\", \"precipitation\": 0.0, \"temp_max\": 6.7, \"temp_min\": 4.4, \"wind\": 2.7, \"weather\": \"sun\"}, {\"date\": \"2014-01-17T00:00:00\", \"precipitation\": 0.0, \"temp_max\": 5.6, \"temp_min\": 2.8, \"wind\": 2.3, \"weather\": \"sun\"}, {\"date\": \"2014-01-18T00:00:00\", \"precipitation\": 0.0, \"temp_max\": 9.4, \"temp_min\": 0.6, \"wind\": 2.2, \"weather\": \"sun\"}, {\"date\": \"2014-01-19T00:00:00\", \"precipitation\": 0.0, \"temp_max\": 6.1, \"temp_min\": 3.3, \"wind\": 2.5, \"weather\": \"sun\"}, {\"date\": \"2014-01-20T00:00:00\", \"precipitation\": 0.0, \"temp_max\": 10.0, \"temp_min\": 2.8, \"wind\": 2.2, \"weather\": \"sun\"}, {\"date\": \"2014-01-21T00:00:00\", \"precipitation\": 0.0, \"temp_max\": 10.0, \"temp_min\": 1.7, \"wind\": 1.5, \"weather\": \"sun\"}, {\"date\": \"2014-01-22T00:00:00\", \"precipitation\": 0.5, \"temp_max\": 9.4, \"temp_min\": 5.6, \"wind\": 2.6, \"weather\": \"sun\"}, {\"date\": \"2014-01-23T00:00:00\", \"precipitation\": 0.0, \"temp_max\": 10.0, \"temp_min\": 2.8, \"wind\": 5.2, \"weather\": \"fog\"}, {\"date\": \"2014-01-24T00:00:00\", \"precipitation\": 0.0, \"temp_max\": 12.8, \"temp_min\": 1.1, \"wind\": 1.9, \"weather\": \"sun\"}, {\"date\": \"2014-01-25T00:00:00\", \"precipitation\": 0.0, \"temp_max\": 12.2, \"temp_min\": 1.1, \"wind\": 0.8, \"weather\": \"sun\"}, {\"date\": \"2014-01-26T00:00:00\", \"precipitation\": 0.0, \"temp_max\": 8.3, \"temp_min\": 0.6, \"wind\": 1.3, \"weather\": \"sun\"}, {\"date\": \"2014-01-27T00:00:00\", \"precipitation\": 0.0, \"temp_max\": 9.4, \"temp_min\": 1.7, \"wind\": 1.3, \"weather\": \"sun\"}, {\"date\": \"2014-01-28T00:00:00\", \"precipitation\": 8.9, \"temp_max\": 11.1, \"temp_min\": 6.1, \"wind\": 1.6, \"weather\": \"fog\"}, {\"date\": \"2014-01-29T00:00:00\", \"precipitation\": 21.6, \"temp_max\": 11.1, \"temp_min\": 7.2, \"wind\": 3.4, \"weather\": \"fog\"}, {\"date\": \"2014-01-30T00:00:00\", \"precipitation\": 0.0, \"temp_max\": 8.3, \"temp_min\": 6.1, \"wind\": 6.4, \"weather\": \"sun\"}, {\"date\": \"2014-01-31T00:00:00\", \"precipitation\": 2.3, \"temp_max\": 7.8, \"temp_min\": 5.6, \"wind\": 2.6, \"weather\": \"fog\"}, {\"date\": \"2014-02-01T00:00:00\", \"precipitation\": 2.0, \"temp_max\": 7.8, \"temp_min\": 2.8, \"wind\": 0.8, \"weather\": \"sun\"}, {\"date\": \"2014-02-02T00:00:00\", \"precipitation\": 0.0, \"temp_max\": 8.9, \"temp_min\": 1.1, \"wind\": 2.5, \"weather\": \"sun\"}, {\"date\": \"2014-02-03T00:00:00\", \"precipitation\": 0.0, \"temp_max\": 5.0, \"temp_min\": 0.0, \"wind\": 4.3, \"weather\": \"sun\"}, {\"date\": \"2014-02-04T00:00:00\", \"precipitation\": 0.0, \"temp_max\": 2.8, \"temp_min\": -2.1, \"wind\": 4.7, \"weather\": \"sun\"}, {\"date\": \"2014-02-05T00:00:00\", \"precipitation\": 0.0, \"temp_max\": -0.5, \"temp_min\": -5.5, \"wind\": 6.6, \"weather\": \"sun\"}, {\"date\": \"2014-02-06T00:00:00\", \"precipitation\": 0.0, \"temp_max\": -1.6, \"temp_min\": -6.0, \"wind\": 4.5, \"weather\": \"sun\"}, {\"date\": \"2014-02-07T00:00:00\", \"precipitation\": 0.0, \"temp_max\": 3.3, \"temp_min\": -4.9, \"wind\": 4.2, \"weather\": \"sun\"}, {\"date\": \"2014-02-08T00:00:00\", \"precipitation\": 5.1, \"temp_max\": 5.6, \"temp_min\": -0.5, \"wind\": 4.6, \"weather\": \"fog\"}, {\"date\": \"2014-02-09T00:00:00\", \"precipitation\": 0.5, \"temp_max\": 3.9, \"temp_min\": 0.0, \"wind\": 2.4, \"weather\": \"fog\"}, {\"date\": \"2014-02-10T00:00:00\", \"precipitation\": 18.3, \"temp_max\": 10.0, \"temp_min\": 2.2, \"wind\": 4.7, \"weather\": \"fog\"}, {\"date\": \"2014-02-11T00:00:00\", \"precipitation\": 17.0, \"temp_max\": 12.2, \"temp_min\": 5.6, \"wind\": 3.8, \"weather\": \"fog\"}, {\"date\": \"2014-02-12T00:00:00\", \"precipitation\": 4.6, \"temp_max\": 12.2, \"temp_min\": 7.2, \"wind\": 6.4, \"weather\": \"fog\"}, {\"date\": \"2014-02-13T00:00:00\", \"precipitation\": 1.8, \"temp_max\": 12.8, \"temp_min\": 7.8, \"wind\": 6.3, \"weather\": \"fog\"}, {\"date\": \"2014-02-14T00:00:00\", \"precipitation\": 9.4, \"temp_max\": 11.7, \"temp_min\": 6.1, \"wind\": 6.4, \"weather\": \"fog\"}, {\"date\": \"2014-02-15T00:00:00\", \"precipitation\": 11.7, \"temp_max\": 11.1, \"temp_min\": 5.0, \"wind\": 5.1, \"weather\": \"fog\"}, {\"date\": \"2014-02-16T00:00:00\", \"precipitation\": 26.4, \"temp_max\": 9.4, \"temp_min\": 3.9, \"wind\": 7.9, \"weather\": \"fog\"}, {\"date\": \"2014-02-17T00:00:00\", \"precipitation\": 14.5, \"temp_max\": 8.3, \"temp_min\": 4.4, \"wind\": 5.5, \"weather\": \"fog\"}, {\"date\": \"2014-02-18T00:00:00\", \"precipitation\": 15.2, \"temp_max\": 8.9, \"temp_min\": 5.0, \"wind\": 6.2, \"weather\": \"fog\"}, {\"date\": \"2014-02-19T00:00:00\", \"precipitation\": 1.0, \"temp_max\": 8.3, \"temp_min\": 3.9, \"wind\": 6.0, \"weather\": \"sun\"}, {\"date\": \"2014-02-20T00:00:00\", \"precipitation\": 3.0, \"temp_max\": 10.0, \"temp_min\": 5.6, \"wind\": 6.9, \"weather\": \"fog\"}, {\"date\": \"2014-02-21T00:00:00\", \"precipitation\": 2.8, \"temp_max\": 6.7, \"temp_min\": 3.9, \"wind\": 2.9, \"weather\": \"fog\"}, {\"date\": \"2014-02-22T00:00:00\", \"precipitation\": 2.5, \"temp_max\": 5.6, \"temp_min\": 2.8, \"wind\": 3.1, \"weather\": \"fog\"}, {\"date\": \"2014-02-23T00:00:00\", \"precipitation\": 6.1, \"temp_max\": 7.2, \"temp_min\": 3.9, \"wind\": 2.6, \"weather\": \"fog\"}, {\"date\": \"2014-02-24T00:00:00\", \"precipitation\": 13.0, \"temp_max\": 6.7, \"temp_min\": 3.3, \"wind\": 3.2, \"weather\": \"fog\"}, {\"date\": \"2014-02-25T00:00:00\", \"precipitation\": 0.3, \"temp_max\": 12.2, \"temp_min\": 3.9, \"wind\": 4.5, \"weather\": \"fog\"}, {\"date\": \"2014-02-26T00:00:00\", \"precipitation\": 0.0, \"temp_max\": 13.9, \"temp_min\": 5.6, \"wind\": 2.5, \"weather\": \"sun\"}, {\"date\": \"2014-02-27T00:00:00\", \"precipitation\": 0.0, \"temp_max\": 12.8, \"temp_min\": 4.4, \"wind\": 2.3, \"weather\": \"sun\"}, {\"date\": \"2014-02-28T00:00:00\", \"precipitation\": 0.0, \"temp_max\": 14.4, \"temp_min\": 4.4, \"wind\": 5.9, \"weather\": \"sun\"}, {\"date\": \"2014-03-01T00:00:00\", \"precipitation\": 0.5, \"temp_max\": 7.2, \"temp_min\": 4.4, \"wind\": 4.7, \"weather\": \"sun\"}, {\"date\": \"2014-03-02T00:00:00\", \"precipitation\": 19.1, \"temp_max\": 11.1, \"temp_min\": 2.8, \"wind\": 5.7, \"weather\": \"fog\"}, {\"date\": \"2014-03-03T00:00:00\", \"precipitation\": 10.7, \"temp_max\": 14.4, \"temp_min\": 8.9, \"wind\": 5.1, \"weather\": \"fog\"}, {\"date\": \"2014-03-04T00:00:00\", \"precipitation\": 16.5, \"temp_max\": 13.9, \"temp_min\": 7.8, \"wind\": 3.9, \"weather\": \"fog\"}, {\"date\": \"2014-03-05T00:00:00\", \"precipitation\": 46.7, \"temp_max\": 15.6, \"temp_min\": 10.6, \"wind\": 3.9, \"weather\": \"fog\"}, {\"date\": \"2014-03-06T00:00:00\", \"precipitation\": 3.0, \"temp_max\": 13.3, \"temp_min\": 10.0, \"wind\": 6.2, \"weather\": \"fog\"}, {\"date\": \"2014-03-07T00:00:00\", \"precipitation\": 0.0, \"temp_max\": 15.6, \"temp_min\": 8.9, \"wind\": 4.2, \"weather\": \"sun\"}, {\"date\": \"2014-03-08T00:00:00\", \"precipitation\": 32.3, \"temp_max\": 12.8, \"temp_min\": 6.7, \"wind\": 2.7, \"weather\": \"fog\"}, {\"date\": \"2014-03-09T00:00:00\", \"precipitation\": 4.3, \"temp_max\": 15.0, \"temp_min\": 9.4, \"wind\": 4.3, \"weather\": \"fog\"}, {\"date\": \"2014-03-10T00:00:00\", \"precipitation\": 18.8, \"temp_max\": 12.2, \"temp_min\": 6.1, \"wind\": 2.2, \"weather\": \"fog\"}, {\"date\": \"2014-03-11T00:00:00\", \"precipitation\": 0.0, \"temp_max\": 14.4, \"temp_min\": 4.4, \"wind\": 2.3, \"weather\": \"fog\"}, {\"date\": \"2014-03-12T00:00:00\", \"precipitation\": 0.0, \"temp_max\": 16.1, \"temp_min\": 3.3, \"wind\": 1.9, \"weather\": \"fog\"}, {\"date\": \"2014-03-13T00:00:00\", \"precipitation\": 0.5, \"temp_max\": 13.9, \"temp_min\": 5.0, \"wind\": 2.5, \"weather\": \"fog\"}, {\"date\": \"2014-03-14T00:00:00\", \"precipitation\": 6.9, \"temp_max\": 14.4, \"temp_min\": 8.3, \"wind\": 6.1, \"weather\": \"fog\"}, {\"date\": \"2014-03-15T00:00:00\", \"precipitation\": 8.1, \"temp_max\": 16.7, \"temp_min\": 4.4, \"wind\": 3.0, \"weather\": \"fog\"}, {\"date\": \"2014-03-16T00:00:00\", \"precipitation\": 27.7, \"temp_max\": 10.6, \"temp_min\": 4.4, \"wind\": 3.8, \"weather\": \"fog\"}, {\"date\": \"2014-03-17T00:00:00\", \"precipitation\": 0.3, \"temp_max\": 10.0, \"temp_min\": 2.8, \"wind\": 3.2, \"weather\": \"fog\"}, {\"date\": \"2014-03-18T00:00:00\", \"precipitation\": 0.0, \"temp_max\": 10.0, \"temp_min\": 3.3, \"wind\": 1.6, \"weather\": \"sun\"}, {\"date\": \"2014-03-19T00:00:00\", \"precipitation\": 0.5, \"temp_max\": 11.1, \"temp_min\": 3.3, \"wind\": 5.1, \"weather\": \"sun\"}, {\"date\": \"2014-03-20T00:00:00\", \"precipitation\": 0.0, \"temp_max\": 11.1, \"temp_min\": 1.7, \"wind\": 3.0, \"weather\": \"sun\"}, {\"date\": \"2014-03-21T00:00:00\", \"precipitation\": 0.0, \"temp_max\": 10.6, \"temp_min\": 2.8, \"wind\": 3.8, \"weather\": \"sun\"}, {\"date\": \"2014-03-22T00:00:00\", \"precipitation\": 0.0, \"temp_max\": 11.1, \"temp_min\": 1.1, \"wind\": 1.8, \"weather\": \"sun\"}, {\"date\": \"2014-03-23T00:00:00\", \"precipitation\": 0.0, \"temp_max\": 12.8, \"temp_min\": 4.4, \"wind\": 3.3, \"weather\": \"sun\"}, {\"date\": \"2014-03-24T00:00:00\", \"precipitation\": 0.0, \"temp_max\": 18.9, \"temp_min\": 2.8, \"wind\": 2.2, \"weather\": \"sun\"}, {\"date\": \"2014-03-25T00:00:00\", \"precipitation\": 4.1, \"temp_max\": 13.9, \"temp_min\": 6.7, \"wind\": 4.4, \"weather\": \"fog\"}, {\"date\": \"2014-03-26T00:00:00\", \"precipitation\": 3.6, \"temp_max\": 11.1, \"temp_min\": 5.6, \"wind\": 2.4, \"weather\": \"fog\"}, {\"date\": \"2014-03-27T00:00:00\", \"precipitation\": 0.3, \"temp_max\": 12.2, \"temp_min\": 6.7, \"wind\": 2.8, \"weather\": \"fog\"}, {\"date\": \"2014-03-28T00:00:00\", \"precipitation\": 22.1, \"temp_max\": 11.7, \"temp_min\": 7.2, \"wind\": 3.9, \"weather\": \"fog\"}, {\"date\": \"2014-03-29T00:00:00\", \"precipitation\": 14.0, \"temp_max\": 11.7, \"temp_min\": 7.2, \"wind\": 5.1, \"weather\": \"fog\"}, {\"date\": \"2014-03-30T00:00:00\", \"precipitation\": 0.0, \"temp_max\": 11.1, \"temp_min\": 5.0, \"wind\": 5.1, \"weather\": \"sun\"}, {\"date\": \"2014-03-31T00:00:00\", \"precipitation\": 0.0, \"temp_max\": 15.6, \"temp_min\": 2.2, \"wind\": 3.8, \"weather\": \"sun\"}, {\"date\": \"2014-04-01T00:00:00\", \"precipitation\": 0.0, \"temp_max\": 14.4, \"temp_min\": 6.7, \"wind\": 2.8, \"weather\": \"sun\"}, {\"date\": \"2014-04-02T00:00:00\", \"precipitation\": 0.0, \"temp_max\": 14.4, \"temp_min\": 5.6, \"wind\": 4.2, \"weather\": \"sun\"}, {\"date\": \"2014-04-03T00:00:00\", \"precipitation\": 2.5, \"temp_max\": 13.3, \"temp_min\": 6.1, \"wind\": 3.9, \"weather\": \"sun\"}, {\"date\": \"2014-04-04T00:00:00\", \"precipitation\": 0.0, \"temp_max\": 12.8, \"temp_min\": 6.1, \"wind\": 4.7, \"weather\": \"sun\"}, {\"date\": \"2014-04-05T00:00:00\", \"precipitation\": 4.6, \"temp_max\": 11.7, \"temp_min\": 7.8, \"wind\": 4.3, \"weather\": \"fog\"}, {\"date\": \"2014-04-06T00:00:00\", \"precipitation\": 0.0, \"temp_max\": 13.9, \"temp_min\": 8.3, \"wind\": 2.6, \"weather\": \"sun\"}, {\"date\": \"2014-04-07T00:00:00\", \"precipitation\": 0.0, \"temp_max\": 21.1, \"temp_min\": 9.4, \"wind\": 2.5, \"weather\": \"sun\"}, {\"date\": \"2014-04-08T00:00:00\", \"precipitation\": 4.6, \"temp_max\": 15.6, \"temp_min\": 8.3, \"wind\": 4.2, \"weather\": \"fog\"}, {\"date\": \"2014-04-09T00:00:00\", \"precipitation\": 0.0, \"temp_max\": 14.4, \"temp_min\": 6.7, \"wind\": 2.9, \"weather\": \"sun\"}, {\"date\": \"2014-04-10T00:00:00\", \"precipitation\": 0.0, \"temp_max\": 15.0, \"temp_min\": 6.7, \"wind\": 3.6, \"weather\": \"sun\"}, {\"date\": \"2014-04-11T00:00:00\", \"precipitation\": 0.0, \"temp_max\": 17.2, \"temp_min\": 5.0, \"wind\": 2.8, \"weather\": \"sun\"}, {\"date\": \"2014-04-12T00:00:00\", \"precipitation\": 0.0, \"temp_max\": 16.1, \"temp_min\": 7.8, \"wind\": 4.4, \"weather\": \"sun\"}, {\"date\": \"2014-04-13T00:00:00\", \"precipitation\": 0.0, \"temp_max\": 20.6, \"temp_min\": 5.6, \"wind\": 3.1, \"weather\": \"sun\"}, {\"date\": \"2014-04-14T00:00:00\", \"precipitation\": 0.0, \"temp_max\": 20.0, \"temp_min\": 5.6, \"wind\": 2.6, \"weather\": \"sun\"}, {\"date\": \"2014-04-15T00:00:00\", \"precipitation\": 0.5, \"temp_max\": 14.4, \"temp_min\": 7.8, \"wind\": 4.0, \"weather\": \"sun\"}, {\"date\": \"2014-04-16T00:00:00\", \"precipitation\": 10.9, \"temp_max\": 11.1, \"temp_min\": 8.9, \"wind\": 4.6, \"weather\": \"fog\"}, {\"date\": \"2014-04-17T00:00:00\", \"precipitation\": 18.5, \"temp_max\": 11.7, \"temp_min\": 7.2, \"wind\": 4.7, \"weather\": \"fog\"}, {\"date\": \"2014-04-18T00:00:00\", \"precipitation\": 0.0, \"temp_max\": 14.4, \"temp_min\": 5.6, \"wind\": 3.8, \"weather\": \"sun\"}, {\"date\": \"2014-04-19T00:00:00\", \"precipitation\": 13.7, \"temp_max\": 11.7, \"temp_min\": 5.6, \"wind\": 4.7, \"weather\": \"fog\"}, {\"date\": \"2014-04-20T00:00:00\", \"precipitation\": 0.0, \"temp_max\": 15.6, \"temp_min\": 5.6, \"wind\": 2.7, \"weather\": \"sun\"}, {\"date\": \"2014-04-21T00:00:00\", \"precipitation\": 5.1, \"temp_max\": 17.2, \"temp_min\": 7.8, \"wind\": 2.5, \"weather\": \"fog\"}, {\"date\": \"2014-04-22T00:00:00\", \"precipitation\": 14.2, \"temp_max\": 12.2, \"temp_min\": 5.0, \"wind\": 4.2, \"weather\": \"fog\"}, {\"date\": \"2014-04-23T00:00:00\", \"precipitation\": 8.9, \"temp_max\": 11.7, \"temp_min\": 6.1, \"wind\": 5.0, \"weather\": \"fog\"}, {\"date\": \"2014-04-24T00:00:00\", \"precipitation\": 12.4, \"temp_max\": 13.9, \"temp_min\": 6.1, \"wind\": 5.3, \"weather\": \"fog\"}, {\"date\": \"2014-04-25T00:00:00\", \"precipitation\": 0.0, \"temp_max\": 14.4, \"temp_min\": 5.6, \"wind\": 2.3, \"weather\": \"sun\"}, {\"date\": \"2014-04-26T00:00:00\", \"precipitation\": 3.3, \"temp_max\": 15.0, \"temp_min\": 5.6, \"wind\": 3.9, \"weather\": \"sun\"}, {\"date\": \"2014-04-27T00:00:00\", \"precipitation\": 6.9, \"temp_max\": 11.1, \"temp_min\": 6.1, \"wind\": 5.8, \"weather\": \"fog\"}, {\"date\": \"2014-04-28T00:00:00\", \"precipitation\": 0.0, \"temp_max\": 16.1, \"temp_min\": 4.4, \"wind\": 2.6, \"weather\": \"sun\"}, {\"date\": \"2014-04-29T00:00:00\", \"precipitation\": 0.0, \"temp_max\": 25.0, \"temp_min\": 9.4, \"wind\": 2.3, \"weather\": \"sun\"}, {\"date\": \"2014-04-30T00:00:00\", \"precipitation\": 0.0, \"temp_max\": 27.8, \"temp_min\": 9.4, \"wind\": 3.9, \"weather\": \"sun\"}, {\"date\": \"2014-05-01T00:00:00\", \"precipitation\": 0.0, \"temp_max\": 29.4, \"temp_min\": 11.1, \"wind\": 3.0, \"weather\": \"sun\"}, {\"date\": \"2014-05-02T00:00:00\", \"precipitation\": 0.0, \"temp_max\": 18.3, \"temp_min\": 10.6, \"wind\": 4.7, \"weather\": \"sun\"}, {\"date\": \"2014-05-03T00:00:00\", \"precipitation\": 33.3, \"temp_max\": 15.0, \"temp_min\": 8.9, \"wind\": 3.4, \"weather\": \"fog\"}, {\"date\": \"2014-05-04T00:00:00\", \"precipitation\": 16.0, \"temp_max\": 14.4, \"temp_min\": 8.9, \"wind\": 4.2, \"weather\": \"fog\"}, {\"date\": \"2014-05-05T00:00:00\", \"precipitation\": 5.1, \"temp_max\": 15.6, \"temp_min\": 9.4, \"wind\": 3.8, \"weather\": \"fog\"}, {\"date\": \"2014-05-06T00:00:00\", \"precipitation\": 0.0, \"temp_max\": 16.7, \"temp_min\": 8.3, \"wind\": 2.6, \"weather\": \"sun\"}, {\"date\": \"2014-05-07T00:00:00\", \"precipitation\": 0.0, \"temp_max\": 18.3, \"temp_min\": 7.2, \"wind\": 1.7, \"weather\": \"sun\"}, {\"date\": \"2014-05-08T00:00:00\", \"precipitation\": 13.7, \"temp_max\": 13.9, \"temp_min\": 9.4, \"wind\": 3.4, \"weather\": \"fog\"}, {\"date\": \"2014-05-09T00:00:00\", \"precipitation\": 2.0, \"temp_max\": 13.3, \"temp_min\": 7.2, \"wind\": 5.6, \"weather\": \"sun\"}, {\"date\": \"2014-05-10T00:00:00\", \"precipitation\": 0.5, \"temp_max\": 15.6, \"temp_min\": 7.2, \"wind\": 2.1, \"weather\": \"fog\"}, {\"date\": \"2014-05-11T00:00:00\", \"precipitation\": 0.0, \"temp_max\": 18.9, \"temp_min\": 8.3, \"wind\": 1.7, \"weather\": \"sun\"}, {\"date\": \"2014-05-12T00:00:00\", \"precipitation\": 0.0, \"temp_max\": 24.4, \"temp_min\": 9.4, \"wind\": 2.7, \"weather\": \"sun\"}, {\"date\": \"2014-05-13T00:00:00\", \"precipitation\": 0.0, \"temp_max\": 26.7, \"temp_min\": 12.8, \"wind\": 3.8, \"weather\": \"sun\"}, {\"date\": \"2014-05-14T00:00:00\", \"precipitation\": 0.0, \"temp_max\": 27.8, \"temp_min\": 13.3, \"wind\": 3.3, \"weather\": \"sun\"}, {\"date\": \"2014-05-15T00:00:00\", \"precipitation\": 0.0, \"temp_max\": 26.7, \"temp_min\": 12.8, \"wind\": 3.0, \"weather\": \"sun\"}, {\"date\": \"2014-05-16T00:00:00\", \"precipitation\": 0.0, \"temp_max\": 20.0, \"temp_min\": 11.7, \"wind\": 4.1, \"weather\": \"sun\"}, {\"date\": \"2014-05-17T00:00:00\", \"precipitation\": 0.0, \"temp_max\": 20.0, \"temp_min\": 11.7, \"wind\": 3.2, \"weather\": \"sun\"}, {\"date\": \"2014-05-18T00:00:00\", \"precipitation\": 0.0, \"temp_max\": 20.0, \"temp_min\": 10.6, \"wind\": 3.2, \"weather\": \"sun\"}, {\"date\": \"2014-05-19T00:00:00\", \"precipitation\": 0.0, \"temp_max\": 21.1, \"temp_min\": 10.0, \"wind\": 2.2, \"weather\": \"sun\"}, {\"date\": \"2014-05-20T00:00:00\", \"precipitation\": 0.0, \"temp_max\": 22.2, \"temp_min\": 10.0, \"wind\": 2.7, \"weather\": \"sun\"}, {\"date\": \"2014-05-21T00:00:00\", \"precipitation\": 0.0, \"temp_max\": 20.0, \"temp_min\": 10.6, \"wind\": 1.7, \"weather\": \"sun\"}, {\"date\": \"2014-05-22T00:00:00\", \"precipitation\": 0.0, \"temp_max\": 24.4, \"temp_min\": 11.7, \"wind\": 2.5, \"weather\": \"sun\"}, {\"date\": \"2014-05-23T00:00:00\", \"precipitation\": 3.8, \"temp_max\": 20.0, \"temp_min\": 12.8, \"wind\": 4.0, \"weather\": \"fog\"}, {\"date\": \"2014-05-24T00:00:00\", \"precipitation\": 0.0, \"temp_max\": 18.3, \"temp_min\": 11.1, \"wind\": 2.4, \"weather\": \"sun\"}, {\"date\": \"2014-05-25T00:00:00\", \"precipitation\": 5.6, \"temp_max\": 15.0, \"temp_min\": 10.6, \"wind\": 1.4, \"weather\": \"fog\"}, {\"date\": \"2014-05-26T00:00:00\", \"precipitation\": 0.0, \"temp_max\": 18.3, \"temp_min\": 11.1, \"wind\": 4.5, \"weather\": \"sun\"}, {\"date\": \"2014-05-27T00:00:00\", \"precipitation\": 0.0, \"temp_max\": 20.0, \"temp_min\": 10.0, \"wind\": 2.5, \"weather\": \"sun\"}, {\"date\": \"2014-05-28T00:00:00\", \"precipitation\": 0.0, \"temp_max\": 18.9, \"temp_min\": 10.0, \"wind\": 3.4, \"weather\": \"sun\"}, {\"date\": \"2014-05-29T00:00:00\", \"precipitation\": 0.0, \"temp_max\": 18.9, \"temp_min\": 11.1, \"wind\": 4.3, \"weather\": \"sun\"}, {\"date\": \"2014-05-30T00:00:00\", \"precipitation\": 0.0, \"temp_max\": 20.6, \"temp_min\": 8.9, \"wind\": 4.5, \"weather\": \"sun\"}, {\"date\": \"2014-05-31T00:00:00\", \"precipitation\": 0.0, \"temp_max\": 23.3, \"temp_min\": 10.0, \"wind\": 2.2, \"weather\": \"sun\"}, {\"date\": \"2014-06-01T00:00:00\", \"precipitation\": 0.0, \"temp_max\": 22.2, \"temp_min\": 10.6, \"wind\": 2.3, \"weather\": \"sun\"}, {\"date\": \"2014-06-02T00:00:00\", \"precipitation\": 0.0, \"temp_max\": 23.3, \"temp_min\": 11.1, \"wind\": 2.4, \"weather\": \"sun\"}, {\"date\": \"2014-06-03T00:00:00\", \"precipitation\": 0.0, \"temp_max\": 18.3, \"temp_min\": 11.1, \"wind\": 3.2, \"weather\": \"sun\"}, {\"date\": \"2014-06-04T00:00:00\", \"precipitation\": 0.0, \"temp_max\": 19.4, \"temp_min\": 10.0, \"wind\": 2.6, \"weather\": \"sun\"}, {\"date\": \"2014-06-05T00:00:00\", \"precipitation\": 0.0, \"temp_max\": 22.2, \"temp_min\": 10.0, \"wind\": 2.4, \"weather\": \"sun\"}, {\"date\": \"2014-06-06T00:00:00\", \"precipitation\": 0.0, \"temp_max\": 25.0, \"temp_min\": 10.6, \"wind\": 3.2, \"weather\": \"sun\"}, {\"date\": \"2014-06-07T00:00:00\", \"precipitation\": 0.0, \"temp_max\": 24.4, \"temp_min\": 13.3, \"wind\": 3.1, \"weather\": \"sun\"}, {\"date\": \"2014-06-08T00:00:00\", \"precipitation\": 0.0, \"temp_max\": 23.3, \"temp_min\": 12.2, \"wind\": 2.1, \"weather\": \"sun\"}, {\"date\": \"2014-06-09T00:00:00\", \"precipitation\": 0.0, \"temp_max\": 21.1, \"temp_min\": 13.3, \"wind\": 3.6, \"weather\": \"sun\"}, {\"date\": \"2014-06-10T00:00:00\", \"precipitation\": 0.0, \"temp_max\": 20.0, \"temp_min\": 12.2, \"wind\": 2.9, \"weather\": \"sun\"}, {\"date\": \"2014-06-11T00:00:00\", \"precipitation\": 0.0, \"temp_max\": 23.9, \"temp_min\": 11.1, \"wind\": 2.7, \"weather\": \"sun\"}, {\"date\": \"2014-06-12T00:00:00\", \"precipitation\": 1.8, \"temp_max\": 21.7, \"temp_min\": 12.2, \"wind\": 4.0, \"weather\": \"sun\"}, {\"date\": \"2014-06-13T00:00:00\", \"precipitation\": 6.4, \"temp_max\": 15.6, \"temp_min\": 11.1, \"wind\": 5.0, \"weather\": \"fog\"}, {\"date\": \"2014-06-14T00:00:00\", \"precipitation\": 0.0, \"temp_max\": 17.8, \"temp_min\": 11.7, \"wind\": 3.2, \"weather\": \"sun\"}, {\"date\": \"2014-06-15T00:00:00\", \"precipitation\": 0.5, \"temp_max\": 18.3, \"temp_min\": 10.0, \"wind\": 3.6, \"weather\": \"fog\"}, {\"date\": \"2014-06-16T00:00:00\", \"precipitation\": 3.6, \"temp_max\": 17.8, \"temp_min\": 8.9, \"wind\": 2.4, \"weather\": \"fog\"}, {\"date\": \"2014-06-17T00:00:00\", \"precipitation\": 1.3, \"temp_max\": 17.8, \"temp_min\": 10.0, \"wind\": 3.0, \"weather\": \"fog\"}, {\"date\": \"2014-06-18T00:00:00\", \"precipitation\": 0.0, \"temp_max\": 18.9, \"temp_min\": 11.1, \"wind\": 2.7, \"weather\": \"sun\"}, {\"date\": \"2014-06-19T00:00:00\", \"precipitation\": 0.8, \"temp_max\": 25.6, \"temp_min\": 11.7, \"wind\": 3.7, \"weather\": \"sun\"}, {\"date\": \"2014-06-20T00:00:00\", \"precipitation\": 0.3, \"temp_max\": 20.0, \"temp_min\": 10.0, \"wind\": 3.4, \"weather\": \"sun\"}, {\"date\": \"2014-06-21T00:00:00\", \"precipitation\": 0.0, \"temp_max\": 22.2, \"temp_min\": 10.6, \"wind\": 3.6, \"weather\": \"sun\"}, {\"date\": \"2014-06-22T00:00:00\", \"precipitation\": 0.0, \"temp_max\": 25.0, \"temp_min\": 11.1, \"wind\": 2.7, \"weather\": \"sun\"}, {\"date\": \"2014-06-23T00:00:00\", \"precipitation\": 0.0, \"temp_max\": 25.0, \"temp_min\": 13.3, \"wind\": 2.5, \"weather\": \"sun\"}, {\"date\": \"2014-06-24T00:00:00\", \"precipitation\": 0.0, \"temp_max\": 24.4, \"temp_min\": 14.4, \"wind\": 2.5, \"weather\": \"sun\"}, {\"date\": \"2014-06-25T00:00:00\", \"precipitation\": 0.0, \"temp_max\": 26.1, \"temp_min\": 13.9, \"wind\": 2.4, \"weather\": \"sun\"}, {\"date\": \"2014-06-26T00:00:00\", \"precipitation\": 0.0, \"temp_max\": 21.1, \"temp_min\": 14.4, \"wind\": 4.1, \"weather\": \"sun\"}, {\"date\": \"2014-06-27T00:00:00\", \"precipitation\": 1.8, \"temp_max\": 21.1, \"temp_min\": 13.9, \"wind\": 4.5, \"weather\": \"fog\"}, {\"date\": \"2014-06-28T00:00:00\", \"precipitation\": 2.3, \"temp_max\": 20.0, \"temp_min\": 13.3, \"wind\": 4.3, \"weather\": \"fog\"}, {\"date\": \"2014-06-29T00:00:00\", \"precipitation\": 0.0, \"temp_max\": 20.6, \"temp_min\": 12.8, \"wind\": 3.2, \"weather\": \"sun\"}, {\"date\": \"2014-06-30T00:00:00\", \"precipitation\": 0.0, \"temp_max\": 25.6, \"temp_min\": 12.8, \"wind\": 4.4, \"weather\": \"sun\"}, {\"date\": \"2014-07-01T00:00:00\", \"precipitation\": 0.0, \"temp_max\": 34.4, \"temp_min\": 15.6, \"wind\": 3.5, \"weather\": \"sun\"}, {\"date\": \"2014-07-02T00:00:00\", \"precipitation\": 0.0, \"temp_max\": 27.2, \"temp_min\": 14.4, \"wind\": 3.6, \"weather\": \"sun\"}, {\"date\": \"2014-07-03T00:00:00\", \"precipitation\": 0.0, \"temp_max\": 21.7, \"temp_min\": 13.9, \"wind\": 3.1, \"weather\": \"sun\"}, {\"date\": \"2014-07-04T00:00:00\", \"precipitation\": 0.0, \"temp_max\": 23.9, \"temp_min\": 13.9, \"wind\": 3.6, \"weather\": \"sun\"}, {\"date\": \"2014-07-05T00:00:00\", \"precipitation\": 0.0, \"temp_max\": 24.4, \"temp_min\": 13.3, \"wind\": 2.2, \"weather\": \"fog\"}, {\"date\": \"2014-07-06T00:00:00\", \"precipitation\": 0.0, \"temp_max\": 28.9, \"temp_min\": 15.0, \"wind\": 3.0, \"weather\": \"sun\"}, {\"date\": \"2014-07-07T00:00:00\", \"precipitation\": 0.0, \"temp_max\": 27.2, \"temp_min\": 17.8, \"wind\": 4.1, \"weather\": \"fog\"}, {\"date\": \"2014-07-08T00:00:00\", \"precipitation\": 0.0, \"temp_max\": 30.0, \"temp_min\": 15.6, \"wind\": 3.5, \"weather\": \"sun\"}, {\"date\": \"2014-07-09T00:00:00\", \"precipitation\": 0.0, \"temp_max\": 26.7, \"temp_min\": 13.9, \"wind\": 2.3, \"weather\": \"sun\"}, {\"date\": \"2014-07-10T00:00:00\", \"precipitation\": 0.0, \"temp_max\": 28.9, \"temp_min\": 12.8, \"wind\": 2.2, \"weather\": \"fog\"}, {\"date\": \"2014-07-11T00:00:00\", \"precipitation\": 0.0, \"temp_max\": 31.1, \"temp_min\": 15.0, \"wind\": 2.2, \"weather\": \"sun\"}, {\"date\": \"2014-07-12T00:00:00\", \"precipitation\": 0.0, \"temp_max\": 32.2, \"temp_min\": 16.7, \"wind\": 2.2, \"weather\": \"sun\"}, {\"date\": \"2014-07-13T00:00:00\", \"precipitation\": 0.0, \"temp_max\": 29.4, \"temp_min\": 15.0, \"wind\": 2.6, \"weather\": \"rain\"}, {\"date\": \"2014-07-14T00:00:00\", \"precipitation\": 0.0, \"temp_max\": 27.8, \"temp_min\": 15.0, \"wind\": 2.8, \"weather\": \"sun\"}, {\"date\": \"2014-07-15T00:00:00\", \"precipitation\": 0.0, \"temp_max\": 31.1, \"temp_min\": 13.9, \"wind\": 2.3, \"weather\": \"sun\"}, {\"date\": \"2014-07-16T00:00:00\", \"precipitation\": 0.0, \"temp_max\": 31.1, \"temp_min\": 14.4, \"wind\": 2.4, \"weather\": \"sun\"}, {\"date\": \"2014-07-17T00:00:00\", \"precipitation\": 0.0, \"temp_max\": 26.7, \"temp_min\": 13.9, \"wind\": 3.7, \"weather\": \"sun\"}, {\"date\": \"2014-07-18T00:00:00\", \"precipitation\": 0.0, \"temp_max\": 23.9, \"temp_min\": 11.7, \"wind\": 2.8, \"weather\": \"sun\"}, {\"date\": \"2014-07-19T00:00:00\", \"precipitation\": 0.0, \"temp_max\": 25.6, \"temp_min\": 15.0, \"wind\": 5.4, \"weather\": \"fog\"}, {\"date\": \"2014-07-20T00:00:00\", \"precipitation\": 0.0, \"temp_max\": 19.4, \"temp_min\": 14.4, \"wind\": 2.8, \"weather\": \"sun\"}, {\"date\": \"2014-07-21T00:00:00\", \"precipitation\": 0.0, \"temp_max\": 23.9, \"temp_min\": 13.3, \"wind\": 2.2, \"weather\": \"sun\"}, {\"date\": \"2014-07-22T00:00:00\", \"precipitation\": 0.3, \"temp_max\": 21.1, \"temp_min\": 13.3, \"wind\": 1.1, \"weather\": \"fog\"}, {\"date\": \"2014-07-23T00:00:00\", \"precipitation\": 19.3, \"temp_max\": 18.9, \"temp_min\": 13.3, \"wind\": 3.3, \"weather\": \"sun\"}, {\"date\": \"2014-07-24T00:00:00\", \"precipitation\": 0.0, \"temp_max\": 20.6, \"temp_min\": 12.8, \"wind\": 4.7, \"weather\": \"sun\"}, {\"date\": \"2014-07-25T00:00:00\", \"precipitation\": 0.0, \"temp_max\": 22.8, \"temp_min\": 12.2, \"wind\": 2.7, \"weather\": \"sun\"}, {\"date\": \"2014-07-26T00:00:00\", \"precipitation\": 0.0, \"temp_max\": 26.1, \"temp_min\": 13.3, \"wind\": 3.6, \"weather\": \"sun\"}, {\"date\": \"2014-07-27T00:00:00\", \"precipitation\": 0.0, \"temp_max\": 28.3, \"temp_min\": 15.0, \"wind\": 4.1, \"weather\": \"sun\"}, {\"date\": \"2014-07-28T00:00:00\", \"precipitation\": 0.0, \"temp_max\": 30.6, \"temp_min\": 15.0, \"wind\": 3.7, \"weather\": \"sun\"}, {\"date\": \"2014-07-29T00:00:00\", \"precipitation\": 0.0, \"temp_max\": 30.0, \"temp_min\": 15.6, \"wind\": 2.8, \"weather\": \"sun\"}, {\"date\": \"2014-07-30T00:00:00\", \"precipitation\": 0.0, \"temp_max\": 29.4, \"temp_min\": 14.4, \"wind\": 3.4, \"weather\": \"sun\"}, {\"date\": \"2014-07-31T00:00:00\", \"precipitation\": 0.0, \"temp_max\": 30.6, \"temp_min\": 17.8, \"wind\": 4.1, \"weather\": \"sun\"}, {\"date\": \"2014-08-01T00:00:00\", \"precipitation\": 0.0, \"temp_max\": 28.9, \"temp_min\": 15.0, \"wind\": 3.3, \"weather\": \"sun\"}, {\"date\": \"2014-08-02T00:00:00\", \"precipitation\": 0.5, \"temp_max\": 29.4, \"temp_min\": 15.6, \"wind\": 1.7, \"weather\": \"sun\"}, {\"date\": \"2014-08-03T00:00:00\", \"precipitation\": 0.0, \"temp_max\": 31.7, \"temp_min\": 14.4, \"wind\": 2.6, \"weather\": \"sun\"}, {\"date\": \"2014-08-04T00:00:00\", \"precipitation\": 0.0, \"temp_max\": 32.8, \"temp_min\": 16.1, \"wind\": 2.6, \"weather\": \"sun\"}, {\"date\": \"2014-08-05T00:00:00\", \"precipitation\": 0.0, \"temp_max\": 25.0, \"temp_min\": 13.9, \"wind\": 2.7, \"weather\": \"sun\"}, {\"date\": \"2014-08-06T00:00:00\", \"precipitation\": 0.0, \"temp_max\": 26.1, \"temp_min\": 15.0, \"wind\": 2.2, \"weather\": \"fog\"}, {\"date\": \"2014-08-07T00:00:00\", \"precipitation\": 0.0, \"temp_max\": 25.6, \"temp_min\": 13.3, \"wind\": 2.4, \"weather\": \"fog\"}, {\"date\": \"2014-08-08T00:00:00\", \"precipitation\": 0.0, \"temp_max\": 25.6, \"temp_min\": 13.3, \"wind\": 2.9, \"weather\": \"sun\"}, {\"date\": \"2014-08-09T00:00:00\", \"precipitation\": 0.0, \"temp_max\": 27.2, \"temp_min\": 15.6, \"wind\": 4.1, \"weather\": \"sun\"}, {\"date\": \"2014-08-10T00:00:00\", \"precipitation\": 0.0, \"temp_max\": 30.6, \"temp_min\": 13.9, \"wind\": 3.4, \"weather\": \"sun\"}, {\"date\": \"2014-08-11T00:00:00\", \"precipitation\": 0.5, \"temp_max\": 35.6, \"temp_min\": 17.8, \"wind\": 2.6, \"weather\": \"rain\"}, {\"date\": \"2014-08-12T00:00:00\", \"precipitation\": 12.7, \"temp_max\": 27.2, \"temp_min\": 17.2, \"wind\": 3.1, \"weather\": \"fog\"}, {\"date\": \"2014-08-13T00:00:00\", \"precipitation\": 21.6, \"temp_max\": 23.3, \"temp_min\": 15.0, \"wind\": 2.7, \"weather\": \"fog\"}, {\"date\": \"2014-08-14T00:00:00\", \"precipitation\": 0.0, \"temp_max\": 21.1, \"temp_min\": 17.2, \"wind\": 0.6, \"weather\": \"sun\"}, {\"date\": \"2014-08-15T00:00:00\", \"precipitation\": 1.0, \"temp_max\": 24.4, \"temp_min\": 16.7, \"wind\": 1.5, \"weather\": \"fog\"}, {\"date\": \"2014-08-16T00:00:00\", \"precipitation\": 0.0, \"temp_max\": 25.6, \"temp_min\": 15.6, \"wind\": 2.2, \"weather\": \"sun\"}, {\"date\": \"2014-08-17T00:00:00\", \"precipitation\": 0.0, \"temp_max\": 27.8, \"temp_min\": 15.0, \"wind\": 2.8, \"weather\": \"sun\"}, {\"date\": \"2014-08-18T00:00:00\", \"precipitation\": 0.0, \"temp_max\": 29.4, \"temp_min\": 15.6, \"wind\": 3.3, \"weather\": \"sun\"}, {\"date\": \"2014-08-19T00:00:00\", \"precipitation\": 0.0, \"temp_max\": 27.2, \"temp_min\": 15.6, \"wind\": 2.4, \"weather\": \"sun\"}, {\"date\": \"2014-08-20T00:00:00\", \"precipitation\": 0.0, \"temp_max\": 21.7, \"temp_min\": 13.9, \"wind\": 3.6, \"weather\": \"sun\"}, {\"date\": \"2014-08-21T00:00:00\", \"precipitation\": 0.0, \"temp_max\": 21.1, \"temp_min\": 11.1, \"wind\": 1.7, \"weather\": \"sun\"}, {\"date\": \"2014-08-22T00:00:00\", \"precipitation\": 0.0, \"temp_max\": 23.9, \"temp_min\": 13.3, \"wind\": 2.9, \"weather\": \"sun\"}, {\"date\": \"2014-08-23T00:00:00\", \"precipitation\": 0.0, \"temp_max\": 27.8, \"temp_min\": 13.9, \"wind\": 2.0, \"weather\": \"sun\"}, {\"date\": \"2014-08-24T00:00:00\", \"precipitation\": 0.0, \"temp_max\": 25.0, \"temp_min\": 13.3, \"wind\": 2.3, \"weather\": \"sun\"}, {\"date\": \"2014-08-25T00:00:00\", \"precipitation\": 0.0, \"temp_max\": 28.9, \"temp_min\": 14.4, \"wind\": 2.0, \"weather\": \"sun\"}, {\"date\": \"2014-08-26T00:00:00\", \"precipitation\": 0.0, \"temp_max\": 31.1, \"temp_min\": 15.6, \"wind\": 1.8, \"weather\": \"sun\"}, {\"date\": \"2014-08-27T00:00:00\", \"precipitation\": 0.0, \"temp_max\": 28.9, \"temp_min\": 16.1, \"wind\": 1.6, \"weather\": \"sun\"}, {\"date\": \"2014-08-28T00:00:00\", \"precipitation\": 0.0, \"temp_max\": 23.3, \"temp_min\": 14.4, \"wind\": 2.3, \"weather\": \"sun\"}, {\"date\": \"2014-08-29T00:00:00\", \"precipitation\": 0.0, \"temp_max\": 22.8, \"temp_min\": 15.0, \"wind\": 3.4, \"weather\": \"sun\"}, {\"date\": \"2014-08-30T00:00:00\", \"precipitation\": 8.4, \"temp_max\": 17.8, \"temp_min\": 15.0, \"wind\": 2.2, \"weather\": \"fog\"}, {\"date\": \"2014-08-31T00:00:00\", \"precipitation\": 1.3, \"temp_max\": 21.1, \"temp_min\": 13.9, \"wind\": 1.9, \"weather\": \"fog\"}, {\"date\": \"2014-09-01T00:00:00\", \"precipitation\": 0.0, \"temp_max\": 23.3, \"temp_min\": 12.8, \"wind\": 2.5, \"weather\": \"sun\"}, {\"date\": \"2014-09-02T00:00:00\", \"precipitation\": 3.0, \"temp_max\": 20.0, \"temp_min\": 13.9, \"wind\": 4.3, \"weather\": \"fog\"}, {\"date\": \"2014-09-03T00:00:00\", \"precipitation\": 0.0, \"temp_max\": 20.6, \"temp_min\": 12.8, \"wind\": 2.7, \"weather\": \"sun\"}, {\"date\": \"2014-09-04T00:00:00\", \"precipitation\": 0.0, \"temp_max\": 23.9, \"temp_min\": 11.1, \"wind\": 3.1, \"weather\": \"fog\"}, {\"date\": \"2014-09-05T00:00:00\", \"precipitation\": 0.0, \"temp_max\": 27.8, \"temp_min\": 13.9, \"wind\": 6.5, \"weather\": \"fog\"}, {\"date\": \"2014-09-06T00:00:00\", \"precipitation\": 0.0, \"temp_max\": 32.2, \"temp_min\": 15.0, \"wind\": 2.9, \"weather\": \"sun\"}, {\"date\": \"2014-09-07T00:00:00\", \"precipitation\": 0.0, \"temp_max\": 28.3, \"temp_min\": 13.3, \"wind\": 2.1, \"weather\": \"sun\"}, {\"date\": \"2014-09-08T00:00:00\", \"precipitation\": 0.0, \"temp_max\": 21.1, \"temp_min\": 13.3, \"wind\": 2.8, \"weather\": \"sun\"}, {\"date\": \"2014-09-09T00:00:00\", \"precipitation\": 0.0, \"temp_max\": 21.7, \"temp_min\": 13.3, \"wind\": 2.3, \"weather\": \"sun\"}, {\"date\": \"2014-09-10T00:00:00\", \"precipitation\": 0.0, \"temp_max\": 22.2, \"temp_min\": 12.2, \"wind\": 3.9, \"weather\": \"sun\"}, {\"date\": \"2014-09-11T00:00:00\", \"precipitation\": 0.0, \"temp_max\": 24.4, \"temp_min\": 12.8, \"wind\": 5.3, \"weather\": \"sun\"}, {\"date\": \"2014-09-12T00:00:00\", \"precipitation\": 0.0, \"temp_max\": 24.4, \"temp_min\": 12.8, \"wind\": 5.9, \"weather\": \"sun\"}, {\"date\": \"2014-09-13T00:00:00\", \"precipitation\": 0.0, \"temp_max\": 28.3, \"temp_min\": 10.0, \"wind\": 4.2, \"weather\": \"sun\"}, {\"date\": \"2014-09-14T00:00:00\", \"precipitation\": 0.0, \"temp_max\": 30.0, \"temp_min\": 11.7, \"wind\": 1.8, \"weather\": \"sun\"}, {\"date\": \"2014-09-15T00:00:00\", \"precipitation\": 0.0, \"temp_max\": 30.6, \"temp_min\": 12.2, \"wind\": 1.2, \"weather\": \"sun\"}, {\"date\": \"2014-09-16T00:00:00\", \"precipitation\": 0.0, \"temp_max\": 22.2, \"temp_min\": 13.9, \"wind\": 2.8, \"weather\": \"sun\"}, {\"date\": \"2014-09-17T00:00:00\", \"precipitation\": 0.5, \"temp_max\": 22.8, \"temp_min\": 14.4, \"wind\": 2.3, \"weather\": \"sun\"}, {\"date\": \"2014-09-18T00:00:00\", \"precipitation\": 0.3, \"temp_max\": 19.4, \"temp_min\": 15.0, \"wind\": 3.1, \"weather\": \"fog\"}, {\"date\": \"2014-09-19T00:00:00\", \"precipitation\": 0.0, \"temp_max\": 23.9, \"temp_min\": 16.1, \"wind\": 2.8, \"weather\": \"sun\"}, {\"date\": \"2014-09-20T00:00:00\", \"precipitation\": 0.0, \"temp_max\": 24.4, \"temp_min\": 14.4, \"wind\": 4.4, \"weather\": \"fog\"}, {\"date\": \"2014-09-21T00:00:00\", \"precipitation\": 0.0, \"temp_max\": 26.1, \"temp_min\": 12.8, \"wind\": 3.0, \"weather\": \"sun\"}, {\"date\": \"2014-09-22T00:00:00\", \"precipitation\": 0.3, \"temp_max\": 22.2, \"temp_min\": 15.0, \"wind\": 2.1, \"weather\": \"fog\"}, {\"date\": \"2014-09-23T00:00:00\", \"precipitation\": 18.3, \"temp_max\": 18.9, \"temp_min\": 14.4, \"wind\": 2.5, \"weather\": \"fog\"}, {\"date\": \"2014-09-24T00:00:00\", \"precipitation\": 20.3, \"temp_max\": 18.9, \"temp_min\": 14.4, \"wind\": 2.7, \"weather\": \"fog\"}, {\"date\": \"2014-09-25T00:00:00\", \"precipitation\": 4.3, \"temp_max\": 21.7, \"temp_min\": 14.4, \"wind\": 2.5, \"weather\": \"fog\"}, {\"date\": \"2014-09-26T00:00:00\", \"precipitation\": 8.9, \"temp_max\": 20.0, \"temp_min\": 13.9, \"wind\": 3.3, \"weather\": \"fog\"}, {\"date\": \"2014-09-27T00:00:00\", \"precipitation\": 0.0, \"temp_max\": 20.6, \"temp_min\": 11.7, \"wind\": 3.2, \"weather\": \"fog\"}, {\"date\": \"2014-09-28T00:00:00\", \"precipitation\": 0.0, \"temp_max\": 18.9, \"temp_min\": 12.2, \"wind\": 2.0, \"weather\": \"fog\"}, {\"date\": \"2014-09-29T00:00:00\", \"precipitation\": 0.8, \"temp_max\": 16.7, \"temp_min\": 11.1, \"wind\": 3.5, \"weather\": \"fog\"}, {\"date\": \"2014-09-30T00:00:00\", \"precipitation\": 0.0, \"temp_max\": 19.4, \"temp_min\": 12.2, \"wind\": 2.6, \"weather\": \"sun\"}, {\"date\": \"2014-10-01T00:00:00\", \"precipitation\": 0.0, \"temp_max\": 18.3, \"temp_min\": 11.1, \"wind\": 2.1, \"weather\": \"sun\"}, {\"date\": \"2014-10-02T00:00:00\", \"precipitation\": 0.0, \"temp_max\": 19.4, \"temp_min\": 10.0, \"wind\": 2.0, \"weather\": \"sun\"}, {\"date\": \"2014-10-03T00:00:00\", \"precipitation\": 0.0, \"temp_max\": 22.2, \"temp_min\": 8.9, \"wind\": 1.0, \"weather\": \"sun\"}, {\"date\": \"2014-10-04T00:00:00\", \"precipitation\": 0.0, \"temp_max\": 21.7, \"temp_min\": 12.2, \"wind\": 1.2, \"weather\": \"sun\"}, {\"date\": \"2014-10-05T00:00:00\", \"precipitation\": 0.0, \"temp_max\": 23.9, \"temp_min\": 11.7, \"wind\": 1.4, \"weather\": \"fog\"}, {\"date\": \"2014-10-06T00:00:00\", \"precipitation\": 0.0, \"temp_max\": 25.6, \"temp_min\": 13.3, \"wind\": 2.5, \"weather\": \"fog\"}, {\"date\": \"2014-10-07T00:00:00\", \"precipitation\": 0.0, \"temp_max\": 18.9, \"temp_min\": 13.9, \"wind\": 1.0, \"weather\": \"fog\"}, {\"date\": \"2014-10-08T00:00:00\", \"precipitation\": 0.0, \"temp_max\": 20.6, \"temp_min\": 12.8, \"wind\": 1.8, \"weather\": \"fog\"}, {\"date\": \"2014-10-09T00:00:00\", \"precipitation\": 0.0, \"temp_max\": 17.2, \"temp_min\": 11.1, \"wind\": 1.0, \"weather\": \"fog\"}, {\"date\": \"2014-10-10T00:00:00\", \"precipitation\": 0.3, \"temp_max\": 18.3, \"temp_min\": 10.0, \"wind\": 3.8, \"weather\": \"fog\"}, {\"date\": \"2014-10-11T00:00:00\", \"precipitation\": 7.4, \"temp_max\": 18.3, \"temp_min\": 11.7, \"wind\": 3.5, \"weather\": \"rain\"}, {\"date\": \"2014-10-12T00:00:00\", \"precipitation\": 0.0, \"temp_max\": 17.8, \"temp_min\": 11.7, \"wind\": 2.1, \"weather\": \"sun\"}, {\"date\": \"2014-10-13T00:00:00\", \"precipitation\": 7.6, \"temp_max\": 21.1, \"temp_min\": 10.0, \"wind\": 3.1, \"weather\": \"fog\"}, {\"date\": \"2014-10-14T00:00:00\", \"precipitation\": 7.1, \"temp_max\": 16.7, \"temp_min\": 11.7, \"wind\": 2.2, \"weather\": \"fog\"}, {\"date\": \"2014-10-15T00:00:00\", \"precipitation\": 8.6, \"temp_max\": 16.1, \"temp_min\": 11.7, \"wind\": 4.7, \"weather\": \"fog\"}, {\"date\": \"2014-10-16T00:00:00\", \"precipitation\": 0.0, \"temp_max\": 20.6, \"temp_min\": 11.1, \"wind\": 3.3, \"weather\": \"sun\"}, {\"date\": \"2014-10-17T00:00:00\", \"precipitation\": 3.3, \"temp_max\": 16.7, \"temp_min\": 11.7, \"wind\": 3.0, \"weather\": \"fog\"}, {\"date\": \"2014-10-18T00:00:00\", \"precipitation\": 15.0, \"temp_max\": 19.4, \"temp_min\": 13.9, \"wind\": 1.9, \"weather\": \"fog\"}, {\"date\": \"2014-10-19T00:00:00\", \"precipitation\": 0.0, \"temp_max\": 22.2, \"temp_min\": 12.8, \"wind\": 3.2, \"weather\": \"sun\"}, {\"date\": \"2014-10-20T00:00:00\", \"precipitation\": 11.7, \"temp_max\": 16.1, \"temp_min\": 12.2, \"wind\": 3.1, \"weather\": \"fog\"}, {\"date\": \"2014-10-21T00:00:00\", \"precipitation\": 1.0, \"temp_max\": 16.1, \"temp_min\": 11.7, \"wind\": 4.7, \"weather\": \"sun\"}, {\"date\": \"2014-10-22T00:00:00\", \"precipitation\": 32.0, \"temp_max\": 15.6, \"temp_min\": 11.7, \"wind\": 5.0, \"weather\": \"fog\"}, {\"date\": \"2014-10-23T00:00:00\", \"precipitation\": 9.4, \"temp_max\": 14.4, \"temp_min\": 8.3, \"wind\": 4.6, \"weather\": \"sun\"}, {\"date\": \"2014-10-24T00:00:00\", \"precipitation\": 4.1, \"temp_max\": 14.4, \"temp_min\": 8.9, \"wind\": 3.2, \"weather\": \"sun\"}, {\"date\": \"2014-10-25T00:00:00\", \"precipitation\": 6.1, \"temp_max\": 16.7, \"temp_min\": 8.3, \"wind\": 5.4, \"weather\": \"fog\"}, {\"date\": \"2014-10-26T00:00:00\", \"precipitation\": 1.5, \"temp_max\": 12.8, \"temp_min\": 7.8, \"wind\": 5.0, \"weather\": \"fog\"}, {\"date\": \"2014-10-27T00:00:00\", \"precipitation\": 0.8, \"temp_max\": 15.6, \"temp_min\": 6.7, \"wind\": 2.4, \"weather\": \"sun\"}, {\"date\": \"2014-10-28T00:00:00\", \"precipitation\": 12.7, \"temp_max\": 15.0, \"temp_min\": 9.4, \"wind\": 3.9, \"weather\": \"fog\"}, {\"date\": \"2014-10-29T00:00:00\", \"precipitation\": 0.5, \"temp_max\": 16.7, \"temp_min\": 11.7, \"wind\": 3.1, \"weather\": \"fog\"}, {\"date\": \"2014-10-30T00:00:00\", \"precipitation\": 25.4, \"temp_max\": 15.6, \"temp_min\": 11.1, \"wind\": 3.2, \"weather\": \"fog\"}, {\"date\": \"2014-10-31T00:00:00\", \"precipitation\": 17.0, \"temp_max\": 12.8, \"temp_min\": 8.3, \"wind\": 2.0, \"weather\": \"fog\"}, {\"date\": \"2014-11-01T00:00:00\", \"precipitation\": 0.0, \"temp_max\": 11.1, \"temp_min\": 7.2, \"wind\": 1.2, \"weather\": \"fog\"}, {\"date\": \"2014-11-02T00:00:00\", \"precipitation\": 1.8, \"temp_max\": 13.3, \"temp_min\": 7.2, \"wind\": 2.9, \"weather\": \"fog\"}, {\"date\": \"2014-11-03T00:00:00\", \"precipitation\": 10.9, \"temp_max\": 13.9, \"temp_min\": 11.1, \"wind\": 4.8, \"weather\": \"fog\"}, {\"date\": \"2014-11-04T00:00:00\", \"precipitation\": 4.1, \"temp_max\": 14.4, \"temp_min\": 10.6, \"wind\": 3.3, \"weather\": \"fog\"}, {\"date\": \"2014-11-05T00:00:00\", \"precipitation\": 4.8, \"temp_max\": 15.0, \"temp_min\": 10.6, \"wind\": 2.1, \"weather\": \"fog\"}, {\"date\": \"2014-11-06T00:00:00\", \"precipitation\": 4.1, \"temp_max\": 16.7, \"temp_min\": 10.6, \"wind\": 6.7, \"weather\": \"fog\"}, {\"date\": \"2014-11-07T00:00:00\", \"precipitation\": 0.0, \"temp_max\": 14.4, \"temp_min\": 7.2, \"wind\": 2.3, \"weather\": \"sun\"}, {\"date\": \"2014-11-08T00:00:00\", \"precipitation\": 0.0, \"temp_max\": 12.8, \"temp_min\": 3.9, \"wind\": 0.8, \"weather\": \"fog\"}, {\"date\": \"2014-11-09T00:00:00\", \"precipitation\": 5.1, \"temp_max\": 13.3, \"temp_min\": 7.8, \"wind\": 3.0, \"weather\": \"fog\"}, {\"date\": \"2014-11-10T00:00:00\", \"precipitation\": 0.0, \"temp_max\": 11.1, \"temp_min\": 5.6, \"wind\": 3.9, \"weather\": \"sun\"}, {\"date\": \"2014-11-11T00:00:00\", \"precipitation\": 0.0, \"temp_max\": 7.8, \"temp_min\": 1.1, \"wind\": 7.7, \"weather\": \"sun\"}, {\"date\": \"2014-11-12T00:00:00\", \"precipitation\": 0.0, \"temp_max\": 6.7, \"temp_min\": 0.0, \"wind\": 7.6, \"weather\": \"sun\"}, {\"date\": \"2014-11-13T00:00:00\", \"precipitation\": 0.0, \"temp_max\": 7.2, \"temp_min\": 0.6, \"wind\": 4.7, \"weather\": \"sun\"}, {\"date\": \"2014-11-14T00:00:00\", \"precipitation\": 0.0, \"temp_max\": 7.2, \"temp_min\": -2.1, \"wind\": 4.5, \"weather\": \"sun\"}, {\"date\": \"2014-11-15T00:00:00\", \"precipitation\": 0.0, \"temp_max\": 8.3, \"temp_min\": -1.6, \"wind\": 4.2, \"weather\": \"sun\"}, {\"date\": \"2014-11-16T00:00:00\", \"precipitation\": 0.0, \"temp_max\": 9.4, \"temp_min\": -2.1, \"wind\": 4.2, \"weather\": \"sun\"}, {\"date\": \"2014-11-17T00:00:00\", \"precipitation\": 0.0, \"temp_max\": 10.6, \"temp_min\": -2.1, \"wind\": 1.9, \"weather\": \"sun\"}, {\"date\": \"2014-11-18T00:00:00\", \"precipitation\": 0.0, \"temp_max\": 7.2, \"temp_min\": -0.5, \"wind\": 0.9, \"weather\": \"sun\"}, {\"date\": \"2014-11-19T00:00:00\", \"precipitation\": 0.0, \"temp_max\": 11.1, \"temp_min\": 2.2, \"wind\": 1.9, \"weather\": \"sun\"}, {\"date\": \"2014-11-20T00:00:00\", \"precipitation\": 3.6, \"temp_max\": 11.1, \"temp_min\": 5.6, \"wind\": 2.1, \"weather\": \"fog\"}, {\"date\": \"2014-11-21T00:00:00\", \"precipitation\": 15.2, \"temp_max\": 11.1, \"temp_min\": 8.3, \"wind\": 4.7, \"weather\": \"fog\"}, {\"date\": \"2014-11-22T00:00:00\", \"precipitation\": 0.5, \"temp_max\": 9.4, \"temp_min\": 6.7, \"wind\": 4.7, \"weather\": \"sun\"}, {\"date\": \"2014-11-23T00:00:00\", \"precipitation\": 11.9, \"temp_max\": 12.8, \"temp_min\": 5.6, \"wind\": 5.1, \"weather\": \"fog\"}, {\"date\": \"2014-11-24T00:00:00\", \"precipitation\": 1.3, \"temp_max\": 11.7, \"temp_min\": 4.4, \"wind\": 3.8, \"weather\": \"fog\"}, {\"date\": \"2014-11-25T00:00:00\", \"precipitation\": 18.3, \"temp_max\": 13.9, \"temp_min\": 9.4, \"wind\": 4.5, \"weather\": \"fog\"}, {\"date\": \"2014-11-26T00:00:00\", \"precipitation\": 0.3, \"temp_max\": 15.0, \"temp_min\": 12.2, \"wind\": 3.9, \"weather\": \"sun\"}, {\"date\": \"2014-11-27T00:00:00\", \"precipitation\": 3.3, \"temp_max\": 14.4, \"temp_min\": 11.7, \"wind\": 6.6, \"weather\": \"fog\"}, {\"date\": \"2014-11-28T00:00:00\", \"precipitation\": 34.3, \"temp_max\": 12.8, \"temp_min\": 3.3, \"wind\": 5.8, \"weather\": \"fog\"}, {\"date\": \"2014-11-29T00:00:00\", \"precipitation\": 3.6, \"temp_max\": 4.4, \"temp_min\": -4.3, \"wind\": 5.3, \"weather\": \"fog\"}, {\"date\": \"2014-11-30T00:00:00\", \"precipitation\": 0.0, \"temp_max\": 2.8, \"temp_min\": -4.9, \"wind\": 4.4, \"weather\": \"sun\"}, {\"date\": \"2014-12-01T00:00:00\", \"precipitation\": 0.0, \"temp_max\": 4.4, \"temp_min\": -3.2, \"wind\": 2.2, \"weather\": \"sun\"}, {\"date\": \"2014-12-02T00:00:00\", \"precipitation\": 0.0, \"temp_max\": 5.6, \"temp_min\": -3.2, \"wind\": 5.7, \"weather\": \"fog\"}, {\"date\": \"2014-12-03T00:00:00\", \"precipitation\": 0.0, \"temp_max\": 10.0, \"temp_min\": 0.0, \"wind\": 3.6, \"weather\": \"sun\"}, {\"date\": \"2014-12-04T00:00:00\", \"precipitation\": 0.8, \"temp_max\": 8.3, \"temp_min\": 3.9, \"wind\": 1.1, \"weather\": \"fog\"}, {\"date\": \"2014-12-05T00:00:00\", \"precipitation\": 3.0, \"temp_max\": 12.8, \"temp_min\": 6.7, \"wind\": 3.1, \"weather\": \"fog\"}, {\"date\": \"2014-12-06T00:00:00\", \"precipitation\": 7.4, \"temp_max\": 11.7, \"temp_min\": 7.8, \"wind\": 3.6, \"weather\": \"fog\"}, {\"date\": \"2014-12-07T00:00:00\", \"precipitation\": 0.0, \"temp_max\": 14.4, \"temp_min\": 6.1, \"wind\": 2.8, \"weather\": \"sun\"}, {\"date\": \"2014-12-08T00:00:00\", \"precipitation\": 9.1, \"temp_max\": 14.4, \"temp_min\": 8.9, \"wind\": 4.2, \"weather\": \"fog\"}, {\"date\": \"2014-12-09T00:00:00\", \"precipitation\": 9.9, \"temp_max\": 16.1, \"temp_min\": 10.6, \"wind\": 5.1, \"weather\": \"fog\"}, {\"date\": \"2014-12-10T00:00:00\", \"precipitation\": 13.0, \"temp_max\": 18.9, \"temp_min\": 10.0, \"wind\": 6.7, \"weather\": \"fog\"}, {\"date\": \"2014-12-11T00:00:00\", \"precipitation\": 6.9, \"temp_max\": 14.4, \"temp_min\": 8.3, \"wind\": 6.4, \"weather\": \"fog\"}, {\"date\": \"2014-12-12T00:00:00\", \"precipitation\": 0.0, \"temp_max\": 11.1, \"temp_min\": 7.2, \"wind\": 3.7, \"weather\": \"sun\"}, {\"date\": \"2014-12-13T00:00:00\", \"precipitation\": 0.0, \"temp_max\": 10.0, \"temp_min\": 3.9, \"wind\": 1.1, \"weather\": \"fog\"}, {\"date\": \"2014-12-14T00:00:00\", \"precipitation\": 0.0, \"temp_max\": 12.8, \"temp_min\": 1.7, \"wind\": 3.5, \"weather\": \"fog\"}, {\"date\": \"2014-12-15T00:00:00\", \"precipitation\": 0.0, \"temp_max\": 12.2, \"temp_min\": 6.7, \"wind\": 5.9, \"weather\": \"sun\"}, {\"date\": \"2014-12-16T00:00:00\", \"precipitation\": 0.0, \"temp_max\": 10.0, \"temp_min\": 8.3, \"wind\": 4.0, \"weather\": \"sun\"}, {\"date\": \"2014-12-17T00:00:00\", \"precipitation\": 2.8, \"temp_max\": 8.9, \"temp_min\": 6.1, \"wind\": 1.6, \"weather\": \"fog\"}, {\"date\": \"2014-12-18T00:00:00\", \"precipitation\": 13.0, \"temp_max\": 9.4, \"temp_min\": 6.7, \"wind\": 3.1, \"weather\": \"fog\"}, {\"date\": \"2014-12-19T00:00:00\", \"precipitation\": 3.0, \"temp_max\": 11.1, \"temp_min\": 7.2, \"wind\": 4.3, \"weather\": \"sun\"}, {\"date\": \"2014-12-20T00:00:00\", \"precipitation\": 19.6, \"temp_max\": 12.8, \"temp_min\": 6.7, \"wind\": 5.5, \"weather\": \"fog\"}, {\"date\": \"2014-12-21T00:00:00\", \"precipitation\": 0.0, \"temp_max\": 12.8, \"temp_min\": 10.0, \"wind\": 5.2, \"weather\": \"sun\"}, {\"date\": \"2014-12-22T00:00:00\", \"precipitation\": 0.0, \"temp_max\": 10.6, \"temp_min\": 6.1, \"wind\": 1.5, \"weather\": \"sun\"}, {\"date\": \"2014-12-23T00:00:00\", \"precipitation\": 20.6, \"temp_max\": 12.2, \"temp_min\": 5.0, \"wind\": 3.8, \"weather\": \"fog\"}, {\"date\": \"2014-12-24T00:00:00\", \"precipitation\": 5.3, \"temp_max\": 7.2, \"temp_min\": 3.9, \"wind\": 1.8, \"weather\": \"fog\"}, {\"date\": \"2014-12-25T00:00:00\", \"precipitation\": 0.0, \"temp_max\": 7.8, \"temp_min\": 2.8, \"wind\": 2.2, \"weather\": \"fog\"}, {\"date\": \"2014-12-26T00:00:00\", \"precipitation\": 0.0, \"temp_max\": 5.6, \"temp_min\": 1.7, \"wind\": 1.2, \"weather\": \"fog\"}, {\"date\": \"2014-12-27T00:00:00\", \"precipitation\": 3.3, \"temp_max\": 9.4, \"temp_min\": 4.4, \"wind\": 4.9, \"weather\": \"fog\"}, {\"date\": \"2014-12-28T00:00:00\", \"precipitation\": 4.1, \"temp_max\": 6.7, \"temp_min\": 2.8, \"wind\": 1.8, \"weather\": \"fog\"}, {\"date\": \"2014-12-29T00:00:00\", \"precipitation\": 0.0, \"temp_max\": 6.1, \"temp_min\": 0.6, \"wind\": 4.3, \"weather\": \"fog\"}, {\"date\": \"2014-12-30T00:00:00\", \"precipitation\": 0.0, \"temp_max\": 3.3, \"temp_min\": -2.1, \"wind\": 3.6, \"weather\": \"sun\"}, {\"date\": \"2014-12-31T00:00:00\", \"precipitation\": 0.0, \"temp_max\": 3.3, \"temp_min\": -2.7, \"wind\": 3.0, \"weather\": \"sun\"}, {\"date\": \"2015-01-01T00:00:00\", \"precipitation\": 0.0, \"temp_max\": 5.6, \"temp_min\": -3.2, \"wind\": 1.2, \"weather\": \"sun\"}, {\"date\": \"2015-01-02T00:00:00\", \"precipitation\": 1.5, \"temp_max\": 5.6, \"temp_min\": 0.0, \"wind\": 2.3, \"weather\": \"fog\"}, {\"date\": \"2015-01-03T00:00:00\", \"precipitation\": 0.0, \"temp_max\": 5.0, \"temp_min\": 1.7, \"wind\": 1.7, \"weather\": \"fog\"}, {\"date\": \"2015-01-04T00:00:00\", \"precipitation\": 10.2, \"temp_max\": 10.6, \"temp_min\": 3.3, \"wind\": 4.5, \"weather\": \"fog\"}, {\"date\": \"2015-01-05T00:00:00\", \"precipitation\": 8.1, \"temp_max\": 12.2, \"temp_min\": 9.4, \"wind\": 6.4, \"weather\": \"fog\"}, {\"date\": \"2015-01-06T00:00:00\", \"precipitation\": 0.0, \"temp_max\": 12.2, \"temp_min\": 6.1, \"wind\": 1.3, \"weather\": \"fog\"}, {\"date\": \"2015-01-07T00:00:00\", \"precipitation\": 0.0, \"temp_max\": 7.8, \"temp_min\": 5.6, \"wind\": 1.6, \"weather\": \"fog\"}, {\"date\": \"2015-01-08T00:00:00\", \"precipitation\": 0.0, \"temp_max\": 7.8, \"temp_min\": 1.7, \"wind\": 2.6, \"weather\": \"fog\"}, {\"date\": \"2015-01-09T00:00:00\", \"precipitation\": 0.3, \"temp_max\": 10.0, \"temp_min\": 3.3, \"wind\": 0.6, \"weather\": \"fog\"}, {\"date\": \"2015-01-10T00:00:00\", \"precipitation\": 5.8, \"temp_max\": 7.8, \"temp_min\": 6.1, \"wind\": 0.5, \"weather\": \"fog\"}, {\"date\": \"2015-01-11T00:00:00\", \"precipitation\": 1.5, \"temp_max\": 9.4, \"temp_min\": 7.2, \"wind\": 1.1, \"weather\": \"fog\"}, {\"date\": \"2015-01-12T00:00:00\", \"precipitation\": 0.0, \"temp_max\": 11.1, \"temp_min\": 4.4, \"wind\": 1.6, \"weather\": \"fog\"}, {\"date\": \"2015-01-13T00:00:00\", \"precipitation\": 0.0, \"temp_max\": 9.4, \"temp_min\": 2.8, \"wind\": 2.7, \"weather\": \"fog\"}, {\"date\": \"2015-01-14T00:00:00\", \"precipitation\": 0.0, \"temp_max\": 6.1, \"temp_min\": 0.6, \"wind\": 2.8, \"weather\": \"fog\"}, {\"date\": \"2015-01-15T00:00:00\", \"precipitation\": 9.7, \"temp_max\": 7.8, \"temp_min\": 1.1, \"wind\": 3.2, \"weather\": \"fog\"}, {\"date\": \"2015-01-16T00:00:00\", \"precipitation\": 0.0, \"temp_max\": 11.7, \"temp_min\": 5.6, \"wind\": 4.5, \"weather\": \"fog\"}, {\"date\": \"2015-01-17T00:00:00\", \"precipitation\": 26.2, \"temp_max\": 13.3, \"temp_min\": 3.3, \"wind\": 2.8, \"weather\": \"fog\"}, {\"date\": \"2015-01-18T00:00:00\", \"precipitation\": 21.3, \"temp_max\": 13.9, \"temp_min\": 7.2, \"wind\": 6.6, \"weather\": \"rain\"}, {\"date\": \"2015-01-19T00:00:00\", \"precipitation\": 0.5, \"temp_max\": 10.0, \"temp_min\": 6.1, \"wind\": 2.8, \"weather\": \"sun\"}, {\"date\": \"2015-01-20T00:00:00\", \"precipitation\": 0.0, \"temp_max\": 10.0, \"temp_min\": 3.3, \"wind\": 3.0, \"weather\": \"fog\"}, {\"date\": \"2015-01-21T00:00:00\", \"precipitation\": 0.0, \"temp_max\": 7.2, \"temp_min\": -0.5, \"wind\": 1.3, \"weather\": \"fog\"}, {\"date\": \"2015-01-22T00:00:00\", \"precipitation\": 0.8, \"temp_max\": 9.4, \"temp_min\": 6.1, \"wind\": 1.3, \"weather\": \"fog\"}, {\"date\": \"2015-01-23T00:00:00\", \"precipitation\": 5.8, \"temp_max\": 12.2, \"temp_min\": 8.3, \"wind\": 2.6, \"weather\": \"fog\"}, {\"date\": \"2015-01-24T00:00:00\", \"precipitation\": 0.5, \"temp_max\": 14.4, \"temp_min\": 11.1, \"wind\": 3.3, \"weather\": \"fog\"}, {\"date\": \"2015-01-25T00:00:00\", \"precipitation\": 0.0, \"temp_max\": 17.2, \"temp_min\": 7.2, \"wind\": 1.4, \"weather\": \"fog\"}, {\"date\": \"2015-01-26T00:00:00\", \"precipitation\": 0.0, \"temp_max\": 16.1, \"temp_min\": 6.1, \"wind\": 2.2, \"weather\": \"fog\"}, {\"date\": \"2015-01-27T00:00:00\", \"precipitation\": 0.8, \"temp_max\": 11.1, \"temp_min\": 8.3, \"wind\": 2.0, \"weather\": \"fog\"}, {\"date\": \"2015-01-28T00:00:00\", \"precipitation\": 0.0, \"temp_max\": 12.2, \"temp_min\": 5.0, \"wind\": 1.8, \"weather\": \"fog\"}, {\"date\": \"2015-01-29T00:00:00\", \"precipitation\": 0.0, \"temp_max\": 12.2, \"temp_min\": 3.3, \"wind\": 2.9, \"weather\": \"sun\"}, {\"date\": \"2015-01-30T00:00:00\", \"precipitation\": 0.0, \"temp_max\": 8.3, \"temp_min\": 1.1, \"wind\": 0.8, \"weather\": \"fog\"}, {\"date\": \"2015-01-31T00:00:00\", \"precipitation\": 0.0, \"temp_max\": 7.2, \"temp_min\": 3.3, \"wind\": 1.9, \"weather\": \"fog\"}, {\"date\": \"2015-02-01T00:00:00\", \"precipitation\": 1.5, \"temp_max\": 9.4, \"temp_min\": 4.4, \"wind\": 2.6, \"weather\": \"fog\"}, {\"date\": \"2015-02-02T00:00:00\", \"precipitation\": 7.4, \"temp_max\": 11.1, \"temp_min\": 5.0, \"wind\": 4.0, \"weather\": \"fog\"}, {\"date\": \"2015-02-03T00:00:00\", \"precipitation\": 1.3, \"temp_max\": 10.0, \"temp_min\": 5.6, \"wind\": 1.9, \"weather\": \"fog\"}, {\"date\": \"2015-02-04T00:00:00\", \"precipitation\": 8.4, \"temp_max\": 10.6, \"temp_min\": 4.4, \"wind\": 1.7, \"weather\": \"fog\"}, {\"date\": \"2015-02-05T00:00:00\", \"precipitation\": 26.2, \"temp_max\": 13.3, \"temp_min\": 8.3, \"wind\": 4.6, \"weather\": \"fog\"}, {\"date\": \"2015-02-06T00:00:00\", \"precipitation\": 17.3, \"temp_max\": 14.4, \"temp_min\": 10.0, \"wind\": 4.5, \"weather\": \"fog\"}, {\"date\": \"2015-02-07T00:00:00\", \"precipitation\": 23.6, \"temp_max\": 12.2, \"temp_min\": 9.4, \"wind\": 4.6, \"weather\": \"fog\"}, {\"date\": \"2015-02-08T00:00:00\", \"precipitation\": 3.6, \"temp_max\": 15.0, \"temp_min\": 8.3, \"wind\": 3.9, \"weather\": \"fog\"}, {\"date\": \"2015-02-09T00:00:00\", \"precipitation\": 6.1, \"temp_max\": 13.3, \"temp_min\": 8.3, \"wind\": 2.5, \"weather\": \"fog\"}, {\"date\": \"2015-02-10T00:00:00\", \"precipitation\": 0.3, \"temp_max\": 12.8, \"temp_min\": 8.3, \"wind\": 4.0, \"weather\": \"fog\"}, {\"date\": \"2015-02-11T00:00:00\", \"precipitation\": 0.0, \"temp_max\": 12.8, \"temp_min\": 5.6, \"wind\": 1.0, \"weather\": \"fog\"}, {\"date\": \"2015-02-12T00:00:00\", \"precipitation\": 1.0, \"temp_max\": 16.7, \"temp_min\": 9.4, \"wind\": 2.1, \"weather\": \"sun\"}, {\"date\": \"2015-02-13T00:00:00\", \"precipitation\": 0.0, \"temp_max\": 15.6, \"temp_min\": 6.7, \"wind\": 1.7, \"weather\": \"fog\"}, {\"date\": \"2015-02-14T00:00:00\", \"precipitation\": 0.3, \"temp_max\": 14.4, \"temp_min\": 6.7, \"wind\": 2.9, \"weather\": \"fog\"}, {\"date\": \"2015-02-15T00:00:00\", \"precipitation\": 0.0, \"temp_max\": 12.2, \"temp_min\": 3.9, \"wind\": 4.8, \"weather\": \"sun\"}, {\"date\": \"2015-02-16T00:00:00\", \"precipitation\": 0.0, \"temp_max\": 15.0, \"temp_min\": 5.6, \"wind\": 6.6, \"weather\": \"fog\"}, {\"date\": \"2015-02-17T00:00:00\", \"precipitation\": 0.0, \"temp_max\": 16.1, \"temp_min\": 4.4, \"wind\": 4.0, \"weather\": \"sun\"}, {\"date\": \"2015-02-18T00:00:00\", \"precipitation\": 0.0, \"temp_max\": 12.2, \"temp_min\": 4.4, \"wind\": 2.6, \"weather\": \"sun\"}, {\"date\": \"2015-02-19T00:00:00\", \"precipitation\": 4.6, \"temp_max\": 10.6, \"temp_min\": 8.3, \"wind\": 2.2, \"weather\": \"fog\"}, {\"date\": \"2015-02-20T00:00:00\", \"precipitation\": 0.8, \"temp_max\": 11.1, \"temp_min\": 7.2, \"wind\": 0.9, \"weather\": \"fog\"}, {\"date\": \"2015-02-21T00:00:00\", \"precipitation\": 0.0, \"temp_max\": 12.2, \"temp_min\": 5.6, \"wind\": 4.5, \"weather\": \"sun\"}, {\"date\": \"2015-02-22T00:00:00\", \"precipitation\": 0.0, \"temp_max\": 11.7, \"temp_min\": 3.3, \"wind\": 4.2, \"weather\": \"sun\"}, {\"date\": \"2015-02-23T00:00:00\", \"precipitation\": 0.0, \"temp_max\": 12.8, \"temp_min\": 0.6, \"wind\": 1.4, \"weather\": \"sun\"}, {\"date\": \"2015-02-24T00:00:00\", \"precipitation\": 0.0, \"temp_max\": 11.1, \"temp_min\": 2.2, \"wind\": 1.5, \"weather\": \"sun\"}, {\"date\": \"2015-02-25T00:00:00\", \"precipitation\": 4.1, \"temp_max\": 10.0, \"temp_min\": 6.7, \"wind\": 1.0, \"weather\": \"fog\"}, {\"date\": \"2015-02-26T00:00:00\", \"precipitation\": 9.4, \"temp_max\": 11.7, \"temp_min\": 7.8, \"wind\": 1.4, \"weather\": \"fog\"}, {\"date\": \"2015-02-27T00:00:00\", \"precipitation\": 18.3, \"temp_max\": 10.0, \"temp_min\": 6.7, \"wind\": 4.0, \"weather\": \"fog\"}, {\"date\": \"2015-02-28T00:00:00\", \"precipitation\": 0.0, \"temp_max\": 12.2, \"temp_min\": 3.3, \"wind\": 5.1, \"weather\": \"sun\"}, {\"date\": \"2015-03-01T00:00:00\", \"precipitation\": 0.0, \"temp_max\": 11.1, \"temp_min\": 1.1, \"wind\": 2.2, \"weather\": \"sun\"}, {\"date\": \"2015-03-02T00:00:00\", \"precipitation\": 0.0, \"temp_max\": 11.1, \"temp_min\": 4.4, \"wind\": 4.8, \"weather\": \"sun\"}, {\"date\": \"2015-03-03T00:00:00\", \"precipitation\": 0.0, \"temp_max\": 10.6, \"temp_min\": 0.0, \"wind\": 2.1, \"weather\": \"sun\"}, {\"date\": \"2015-03-04T00:00:00\", \"precipitation\": 0.0, \"temp_max\": 12.8, \"temp_min\": -0.5, \"wind\": 1.8, \"weather\": \"sun\"}, {\"date\": \"2015-03-05T00:00:00\", \"precipitation\": 0.0, \"temp_max\": 13.3, \"temp_min\": 2.8, \"wind\": 1.3, \"weather\": \"sun\"}, {\"date\": \"2015-03-06T00:00:00\", \"precipitation\": 0.0, \"temp_max\": 15.0, \"temp_min\": 3.3, \"wind\": 1.4, \"weather\": \"sun\"}, {\"date\": \"2015-03-07T00:00:00\", \"precipitation\": 0.0, \"temp_max\": 16.7, \"temp_min\": 3.9, \"wind\": 2.7, \"weather\": \"fog\"}, {\"date\": \"2015-03-08T00:00:00\", \"precipitation\": 0.0, \"temp_max\": 17.2, \"temp_min\": 3.9, \"wind\": 1.7, \"weather\": \"fog\"}, {\"date\": \"2015-03-09T00:00:00\", \"precipitation\": 0.0, \"temp_max\": 14.4, \"temp_min\": 4.4, \"wind\": 1.8, \"weather\": \"fog\"}, {\"date\": \"2015-03-10T00:00:00\", \"precipitation\": 0.8, \"temp_max\": 13.3, \"temp_min\": 5.0, \"wind\": 2.6, \"weather\": \"fog\"}, {\"date\": \"2015-03-11T00:00:00\", \"precipitation\": 2.5, \"temp_max\": 14.4, \"temp_min\": 8.9, \"wind\": 3.1, \"weather\": \"fog\"}, {\"date\": \"2015-03-12T00:00:00\", \"precipitation\": 0.0, \"temp_max\": 17.8, \"temp_min\": 9.4, \"wind\": 3.2, \"weather\": \"sun\"}, {\"date\": \"2015-03-13T00:00:00\", \"precipitation\": 2.0, \"temp_max\": 17.2, \"temp_min\": 7.8, \"wind\": 2.2, \"weather\": \"sun\"}, {\"date\": \"2015-03-14T00:00:00\", \"precipitation\": 17.0, \"temp_max\": 13.9, \"temp_min\": 9.4, \"wind\": 3.8, \"weather\": \"fog\"}, {\"date\": \"2015-03-15T00:00:00\", \"precipitation\": 55.9, \"temp_max\": 10.6, \"temp_min\": 6.1, \"wind\": 4.2, \"weather\": \"fog\"}, {\"date\": \"2015-03-16T00:00:00\", \"precipitation\": 1.0, \"temp_max\": 13.9, \"temp_min\": 6.1, \"wind\": 3.0, \"weather\": \"fog\"}, {\"date\": \"2015-03-17T00:00:00\", \"precipitation\": 0.8, \"temp_max\": 13.3, \"temp_min\": 4.4, \"wind\": 2.6, \"weather\": \"sun\"}, {\"date\": \"2015-03-18T00:00:00\", \"precipitation\": 0.0, \"temp_max\": 15.6, \"temp_min\": 7.2, \"wind\": 2.5, \"weather\": \"sun\"}, {\"date\": \"2015-03-19T00:00:00\", \"precipitation\": 0.0, \"temp_max\": 15.6, \"temp_min\": 8.3, \"wind\": 1.9, \"weather\": \"sun\"}, {\"date\": \"2015-03-20T00:00:00\", \"precipitation\": 4.1, \"temp_max\": 13.9, \"temp_min\": 8.9, \"wind\": 1.9, \"weather\": \"sun\"}, {\"date\": \"2015-03-21T00:00:00\", \"precipitation\": 3.8, \"temp_max\": 13.3, \"temp_min\": 8.3, \"wind\": 4.7, \"weather\": \"fog\"}, {\"date\": \"2015-03-22T00:00:00\", \"precipitation\": 1.0, \"temp_max\": 11.7, \"temp_min\": 6.1, \"wind\": 2.3, \"weather\": \"sun\"}, {\"date\": \"2015-03-23T00:00:00\", \"precipitation\": 8.1, \"temp_max\": 11.1, \"temp_min\": 5.6, \"wind\": 2.8, \"weather\": \"fog\"}, {\"date\": \"2015-03-24T00:00:00\", \"precipitation\": 7.6, \"temp_max\": 12.8, \"temp_min\": 6.1, \"wind\": 3.9, \"weather\": \"fog\"}, {\"date\": \"2015-03-25T00:00:00\", \"precipitation\": 5.1, \"temp_max\": 14.4, \"temp_min\": 7.2, \"wind\": 4.4, \"weather\": \"fog\"}, {\"date\": \"2015-03-26T00:00:00\", \"precipitation\": 0.0, \"temp_max\": 20.6, \"temp_min\": 10.0, \"wind\": 2.2, \"weather\": \"sun\"}, {\"date\": \"2015-03-27T00:00:00\", \"precipitation\": 1.0, \"temp_max\": 18.3, \"temp_min\": 8.9, \"wind\": 4.0, \"weather\": \"fog\"}, {\"date\": \"2015-03-28T00:00:00\", \"precipitation\": 0.0, \"temp_max\": 15.6, \"temp_min\": 9.4, \"wind\": 5.7, \"weather\": \"sun\"}, {\"date\": \"2015-03-29T00:00:00\", \"precipitation\": 0.0, \"temp_max\": 15.6, \"temp_min\": 8.9, \"wind\": 3.0, \"weather\": \"sun\"}, {\"date\": \"2015-03-30T00:00:00\", \"precipitation\": 1.8, \"temp_max\": 17.8, \"temp_min\": 10.6, \"wind\": 2.9, \"weather\": \"fog\"}, {\"date\": \"2015-03-31T00:00:00\", \"precipitation\": 1.0, \"temp_max\": 12.8, \"temp_min\": 6.1, \"wind\": 4.2, \"weather\": \"fog\"}, {\"date\": \"2015-04-01T00:00:00\", \"precipitation\": 5.1, \"temp_max\": 12.8, \"temp_min\": 5.6, \"wind\": 3.2, \"weather\": \"rain\"}, {\"date\": \"2015-04-02T00:00:00\", \"precipitation\": 0.0, \"temp_max\": 13.3, \"temp_min\": 5.6, \"wind\": 2.4, \"weather\": \"sun\"}, {\"date\": \"2015-04-03T00:00:00\", \"precipitation\": 1.5, \"temp_max\": 11.1, \"temp_min\": 5.0, \"wind\": 3.6, \"weather\": \"fog\"}, {\"date\": \"2015-04-04T00:00:00\", \"precipitation\": 0.0, \"temp_max\": 12.8, \"temp_min\": 3.9, \"wind\": 1.7, \"weather\": \"sun\"}, {\"date\": \"2015-04-05T00:00:00\", \"precipitation\": 0.0, \"temp_max\": 16.7, \"temp_min\": 2.8, \"wind\": 2.4, \"weather\": \"sun\"}, {\"date\": \"2015-04-06T00:00:00\", \"precipitation\": 1.0, \"temp_max\": 13.9, \"temp_min\": 6.7, \"wind\": 3.5, \"weather\": \"sun\"}, {\"date\": \"2015-04-07T00:00:00\", \"precipitation\": 0.5, \"temp_max\": 14.4, \"temp_min\": 6.7, \"wind\": 3.9, \"weather\": \"sun\"}, {\"date\": \"2015-04-08T00:00:00\", \"precipitation\": 0.0, \"temp_max\": 17.2, \"temp_min\": 6.1, \"wind\": 1.7, \"weather\": \"sun\"}, {\"date\": \"2015-04-09T00:00:00\", \"precipitation\": 0.0, \"temp_max\": 17.2, \"temp_min\": 6.1, \"wind\": 2.3, \"weather\": \"sun\"}, {\"date\": \"2015-04-10T00:00:00\", \"precipitation\": 10.9, \"temp_max\": 13.9, \"temp_min\": 7.8, \"wind\": 4.6, \"weather\": \"fog\"}, {\"date\": \"2015-04-11T00:00:00\", \"precipitation\": 0.0, \"temp_max\": 11.7, \"temp_min\": 5.6, \"wind\": 6.5, \"weather\": \"sun\"}, {\"date\": \"2015-04-12T00:00:00\", \"precipitation\": 0.0, \"temp_max\": 13.3, \"temp_min\": 5.6, \"wind\": 3.6, \"weather\": \"sun\"}, {\"date\": \"2015-04-13T00:00:00\", \"precipitation\": 14.0, \"temp_max\": 11.7, \"temp_min\": 3.9, \"wind\": 3.6, \"weather\": \"fog\"}, {\"date\": \"2015-04-14T00:00:00\", \"precipitation\": 3.3, \"temp_max\": 11.7, \"temp_min\": 2.8, \"wind\": 3.3, \"weather\": \"sun\"}, {\"date\": \"2015-04-15T00:00:00\", \"precipitation\": 0.0, \"temp_max\": 13.9, \"temp_min\": 3.3, \"wind\": 2.4, \"weather\": \"sun\"}, {\"date\": \"2015-04-16T00:00:00\", \"precipitation\": 0.0, \"temp_max\": 17.8, \"temp_min\": 3.9, \"wind\": 3.1, \"weather\": \"sun\"}, {\"date\": \"2015-04-17T00:00:00\", \"precipitation\": 0.0, \"temp_max\": 18.9, \"temp_min\": 6.1, \"wind\": 3.6, \"weather\": \"sun\"}, {\"date\": \"2015-04-18T00:00:00\", \"precipitation\": 0.0, \"temp_max\": 18.9, \"temp_min\": 8.3, \"wind\": 3.9, \"weather\": \"sun\"}, {\"date\": \"2015-04-19T00:00:00\", \"precipitation\": 0.0, \"temp_max\": 21.1, \"temp_min\": 8.3, \"wind\": 3.6, \"weather\": \"sun\"}, {\"date\": \"2015-04-20T00:00:00\", \"precipitation\": 0.0, \"temp_max\": 22.8, \"temp_min\": 7.8, \"wind\": 2.6, \"weather\": \"sun\"}, {\"date\": \"2015-04-21T00:00:00\", \"precipitation\": 5.6, \"temp_max\": 17.2, \"temp_min\": 6.7, \"wind\": 3.4, \"weather\": \"fog\"}, {\"date\": \"2015-04-22T00:00:00\", \"precipitation\": 0.0, \"temp_max\": 15.6, \"temp_min\": 5.0, \"wind\": 2.3, \"weather\": \"sun\"}, {\"date\": \"2015-04-23T00:00:00\", \"precipitation\": 3.0, \"temp_max\": 12.2, \"temp_min\": 6.7, \"wind\": 4.1, \"weather\": \"fog\"}, {\"date\": \"2015-04-24T00:00:00\", \"precipitation\": 3.3, \"temp_max\": 12.2, \"temp_min\": 6.1, \"wind\": 5.0, \"weather\": \"fog\"}, {\"date\": \"2015-04-25T00:00:00\", \"precipitation\": 1.3, \"temp_max\": 13.3, \"temp_min\": 5.6, \"wind\": 3.0, \"weather\": \"fog\"}, {\"date\": \"2015-04-26T00:00:00\", \"precipitation\": 0.0, \"temp_max\": 15.6, \"temp_min\": 4.4, \"wind\": 2.7, \"weather\": \"fog\"}, {\"date\": \"2015-04-27T00:00:00\", \"precipitation\": 0.3, \"temp_max\": 25.0, \"temp_min\": 10.6, \"wind\": 2.3, \"weather\": \"fog\"}, {\"date\": \"2015-04-28T00:00:00\", \"precipitation\": 1.8, \"temp_max\": 15.6, \"temp_min\": 8.9, \"wind\": 4.3, \"weather\": \"fog\"}, {\"date\": \"2015-04-29T00:00:00\", \"precipitation\": 0.0, \"temp_max\": 16.1, \"temp_min\": 7.2, \"wind\": 4.7, \"weather\": \"sun\"}, {\"date\": \"2015-04-30T00:00:00\", \"precipitation\": 0.0, \"temp_max\": 17.2, \"temp_min\": 7.8, \"wind\": 2.1, \"weather\": \"sun\"}, {\"date\": \"2015-05-01T00:00:00\", \"precipitation\": 0.0, \"temp_max\": 18.3, \"temp_min\": 8.9, \"wind\": 3.7, \"weather\": \"sun\"}, {\"date\": \"2015-05-02T00:00:00\", \"precipitation\": 0.0, \"temp_max\": 18.3, \"temp_min\": 7.8, \"wind\": 3.7, \"weather\": \"sun\"}, {\"date\": \"2015-05-03T00:00:00\", \"precipitation\": 0.0, \"temp_max\": 20.6, \"temp_min\": 7.8, \"wind\": 2.6, \"weather\": \"sun\"}, {\"date\": \"2015-05-04T00:00:00\", \"precipitation\": 0.0, \"temp_max\": 17.2, \"temp_min\": 7.2, \"wind\": 5.2, \"weather\": \"sun\"}, {\"date\": \"2015-05-05T00:00:00\", \"precipitation\": 6.1, \"temp_max\": 14.4, \"temp_min\": 7.2, \"wind\": 5.1, \"weather\": \"fog\"}, {\"date\": \"2015-05-06T00:00:00\", \"precipitation\": 0.0, \"temp_max\": 16.7, \"temp_min\": 7.2, \"wind\": 2.6, \"weather\": \"fog\"}, {\"date\": \"2015-05-07T00:00:00\", \"precipitation\": 0.0, \"temp_max\": 20.6, \"temp_min\": 6.1, \"wind\": 3.0, \"weather\": \"sun\"}, {\"date\": \"2015-05-08T00:00:00\", \"precipitation\": 0.0, \"temp_max\": 23.9, \"temp_min\": 8.3, \"wind\": 3.0, \"weather\": \"sun\"}, {\"date\": \"2015-05-09T00:00:00\", \"precipitation\": 0.0, \"temp_max\": 26.7, \"temp_min\": 9.4, \"wind\": 2.6, \"weather\": \"sun\"}, {\"date\": \"2015-05-10T00:00:00\", \"precipitation\": 0.0, \"temp_max\": 19.4, \"temp_min\": 11.1, \"wind\": 2.8, \"weather\": \"sun\"}, {\"date\": \"2015-05-11T00:00:00\", \"precipitation\": 0.0, \"temp_max\": 13.9, \"temp_min\": 10.0, \"wind\": 2.5, \"weather\": \"fog\"}, {\"date\": \"2015-05-12T00:00:00\", \"precipitation\": 4.3, \"temp_max\": 15.6, \"temp_min\": 10.6, \"wind\": 3.3, \"weather\": \"fog\"}, {\"date\": \"2015-05-13T00:00:00\", \"precipitation\": 4.1, \"temp_max\": 12.2, \"temp_min\": 10.0, \"wind\": 2.8, \"weather\": \"fog\"}, {\"date\": \"2015-05-14T00:00:00\", \"precipitation\": 0.3, \"temp_max\": 17.8, \"temp_min\": 9.4, \"wind\": 2.0, \"weather\": \"fog\"}, {\"date\": \"2015-05-15T00:00:00\", \"precipitation\": 0.0, \"temp_max\": 20.0, \"temp_min\": 9.4, \"wind\": 2.8, \"weather\": \"fog\"}, {\"date\": \"2015-05-16T00:00:00\", \"precipitation\": 0.0, \"temp_max\": 15.6, \"temp_min\": 11.1, \"wind\": 3.0, \"weather\": \"sun\"}, {\"date\": \"2015-05-17T00:00:00\", \"precipitation\": 0.0, \"temp_max\": 19.4, \"temp_min\": 10.6, \"wind\": 2.1, \"weather\": \"sun\"}, {\"date\": \"2015-05-18T00:00:00\", \"precipitation\": 0.0, \"temp_max\": 25.6, \"temp_min\": 12.2, \"wind\": 3.0, \"weather\": \"sun\"}, {\"date\": \"2015-05-19T00:00:00\", \"precipitation\": 0.0, \"temp_max\": 21.7, \"temp_min\": 11.7, \"wind\": 2.6, \"weather\": \"sun\"}, {\"date\": \"2015-05-20T00:00:00\", \"precipitation\": 0.0, \"temp_max\": 23.3, \"temp_min\": 10.6, \"wind\": 1.8, \"weather\": \"fog\"}, {\"date\": \"2015-05-21T00:00:00\", \"precipitation\": 0.0, \"temp_max\": 25.6, \"temp_min\": 11.7, \"wind\": 2.1, \"weather\": \"sun\"}, {\"date\": \"2015-05-22T00:00:00\", \"precipitation\": 0.0, \"temp_max\": 16.7, \"temp_min\": 11.7, \"wind\": 3.7, \"weather\": \"sun\"}, {\"date\": \"2015-05-23T00:00:00\", \"precipitation\": 0.0, \"temp_max\": 16.1, \"temp_min\": 11.7, \"wind\": 2.6, \"weather\": \"sun\"}, {\"date\": \"2015-05-24T00:00:00\", \"precipitation\": 0.0, \"temp_max\": 17.8, \"temp_min\": 11.1, \"wind\": 2.7, \"weather\": \"sun\"}, {\"date\": \"2015-05-25T00:00:00\", \"precipitation\": 0.0, \"temp_max\": 15.6, \"temp_min\": 11.1, \"wind\": 2.7, \"weather\": \"sun\"}, {\"date\": \"2015-05-26T00:00:00\", \"precipitation\": 0.0, \"temp_max\": 21.7, \"temp_min\": 11.7, \"wind\": 2.1, \"weather\": \"sun\"}, {\"date\": \"2015-05-27T00:00:00\", \"precipitation\": 0.0, \"temp_max\": 24.4, \"temp_min\": 11.7, \"wind\": 1.8, \"weather\": \"sun\"}, {\"date\": \"2015-05-28T00:00:00\", \"precipitation\": 0.0, \"temp_max\": 27.8, \"temp_min\": 12.2, \"wind\": 2.1, \"weather\": \"sun\"}, {\"date\": \"2015-05-29T00:00:00\", \"precipitation\": 0.0, \"temp_max\": 26.1, \"temp_min\": 12.8, \"wind\": 2.5, \"weather\": \"sun\"}, {\"date\": \"2015-05-30T00:00:00\", \"precipitation\": 0.0, \"temp_max\": 22.8, \"temp_min\": 10.0, \"wind\": 2.5, \"weather\": \"sun\"}, {\"date\": \"2015-05-31T00:00:00\", \"precipitation\": 0.0, \"temp_max\": 25.0, \"temp_min\": 11.7, \"wind\": 2.2, \"weather\": \"sun\"}, {\"date\": \"2015-06-01T00:00:00\", \"precipitation\": 4.6, \"temp_max\": 16.1, \"temp_min\": 11.7, \"wind\": 3.4, \"weather\": \"fog\"}, {\"date\": \"2015-06-02T00:00:00\", \"precipitation\": 0.5, \"temp_max\": 17.8, \"temp_min\": 12.8, \"wind\": 5.0, \"weather\": \"sun\"}, {\"date\": \"2015-06-03T00:00:00\", \"precipitation\": 0.0, \"temp_max\": 20.0, \"temp_min\": 11.7, \"wind\": 3.0, \"weather\": \"sun\"}, {\"date\": \"2015-06-04T00:00:00\", \"precipitation\": 0.0, \"temp_max\": 22.8, \"temp_min\": 11.7, \"wind\": 3.9, \"weather\": \"sun\"}, {\"date\": \"2015-06-05T00:00:00\", \"precipitation\": 0.0, \"temp_max\": 26.7, \"temp_min\": 12.8, \"wind\": 4.3, \"weather\": \"sun\"}, {\"date\": \"2015-06-06T00:00:00\", \"precipitation\": 0.0, \"temp_max\": 29.4, \"temp_min\": 13.3, \"wind\": 2.6, \"weather\": \"sun\"}, {\"date\": \"2015-06-07T00:00:00\", \"precipitation\": 0.0, \"temp_max\": 31.1, \"temp_min\": 15.6, \"wind\": 3.2, \"weather\": \"sun\"}, {\"date\": \"2015-06-08T00:00:00\", \"precipitation\": 0.0, \"temp_max\": 30.6, \"temp_min\": 14.4, \"wind\": 3.5, \"weather\": \"sun\"}, {\"date\": \"2015-06-09T00:00:00\", \"precipitation\": 0.0, \"temp_max\": 28.9, \"temp_min\": 14.4, \"wind\": 2.7, \"weather\": \"sun\"}, {\"date\": \"2015-06-10T00:00:00\", \"precipitation\": 0.0, \"temp_max\": 25.6, \"temp_min\": 11.1, \"wind\": 3.0, \"weather\": \"sun\"}, {\"date\": \"2015-06-11T00:00:00\", \"precipitation\": 0.0, \"temp_max\": 24.4, \"temp_min\": 11.1, \"wind\": 3.5, \"weather\": \"sun\"}, {\"date\": \"2015-06-12T00:00:00\", \"precipitation\": 0.0, \"temp_max\": 20.0, \"temp_min\": 11.7, \"wind\": 2.3, \"weather\": \"sun\"}, {\"date\": \"2015-06-13T00:00:00\", \"precipitation\": 0.0, \"temp_max\": 23.9, \"temp_min\": 9.4, \"wind\": 2.6, \"weather\": \"sun\"}, {\"date\": \"2015-06-14T00:00:00\", \"precipitation\": 0.0, \"temp_max\": 27.8, \"temp_min\": 11.7, \"wind\": 3.7, \"weather\": \"sun\"}, {\"date\": \"2015-06-15T00:00:00\", \"precipitation\": 0.0, \"temp_max\": 30.0, \"temp_min\": 16.1, \"wind\": 3.5, \"weather\": \"drizzle\"}, {\"date\": \"2015-06-16T00:00:00\", \"precipitation\": 0.0, \"temp_max\": 22.8, \"temp_min\": 11.1, \"wind\": 3.0, \"weather\": \"sun\"}, {\"date\": \"2015-06-17T00:00:00\", \"precipitation\": 0.0, \"temp_max\": 25.0, \"temp_min\": 11.1, \"wind\": 3.1, \"weather\": \"sun\"}, {\"date\": \"2015-06-18T00:00:00\", \"precipitation\": 0.0, \"temp_max\": 24.4, \"temp_min\": 13.9, \"wind\": 3.0, \"weather\": \"sun\"}, {\"date\": \"2015-06-19T00:00:00\", \"precipitation\": 0.5, \"temp_max\": 23.9, \"temp_min\": 13.3, \"wind\": 3.2, \"weather\": \"fog\"}, {\"date\": \"2015-06-20T00:00:00\", \"precipitation\": 0.0, \"temp_max\": 25.0, \"temp_min\": 12.8, \"wind\": 4.3, \"weather\": \"sun\"}, {\"date\": \"2015-06-21T00:00:00\", \"precipitation\": 0.0, \"temp_max\": 25.6, \"temp_min\": 13.9, \"wind\": 3.4, \"weather\": \"sun\"}, {\"date\": \"2015-06-22T00:00:00\", \"precipitation\": 0.0, \"temp_max\": 25.0, \"temp_min\": 12.8, \"wind\": 2.4, \"weather\": \"sun\"}, {\"date\": \"2015-06-23T00:00:00\", \"precipitation\": 0.0, \"temp_max\": 26.1, \"temp_min\": 11.7, \"wind\": 2.4, \"weather\": \"sun\"}, {\"date\": \"2015-06-24T00:00:00\", \"precipitation\": 0.0, \"temp_max\": 25.6, \"temp_min\": 16.1, \"wind\": 2.6, \"weather\": \"sun\"}, {\"date\": \"2015-06-25T00:00:00\", \"precipitation\": 0.0, \"temp_max\": 30.6, \"temp_min\": 15.6, \"wind\": 3.0, \"weather\": \"sun\"}, {\"date\": \"2015-06-26T00:00:00\", \"precipitation\": 0.0, \"temp_max\": 31.7, \"temp_min\": 17.8, \"wind\": 4.7, \"weather\": \"sun\"}, {\"date\": \"2015-06-27T00:00:00\", \"precipitation\": 0.0, \"temp_max\": 33.3, \"temp_min\": 17.2, \"wind\": 3.9, \"weather\": \"sun\"}, {\"date\": \"2015-06-28T00:00:00\", \"precipitation\": 0.3, \"temp_max\": 28.3, \"temp_min\": 18.3, \"wind\": 2.1, \"weather\": \"sun\"}, {\"date\": \"2015-06-29T00:00:00\", \"precipitation\": 0.0, \"temp_max\": 28.9, \"temp_min\": 17.2, \"wind\": 2.7, \"weather\": \"sun\"}, {\"date\": \"2015-06-30T00:00:00\", \"precipitation\": 0.0, \"temp_max\": 30.6, \"temp_min\": 15.0, \"wind\": 3.4, \"weather\": \"fog\"}, {\"date\": \"2015-07-01T00:00:00\", \"precipitation\": 0.0, \"temp_max\": 32.2, \"temp_min\": 17.2, \"wind\": 4.3, \"weather\": \"sun\"}, {\"date\": \"2015-07-02T00:00:00\", \"precipitation\": 0.0, \"temp_max\": 33.9, \"temp_min\": 17.8, \"wind\": 3.4, \"weather\": \"sun\"}, {\"date\": \"2015-07-03T00:00:00\", \"precipitation\": 0.0, \"temp_max\": 33.3, \"temp_min\": 17.8, \"wind\": 2.6, \"weather\": \"sun\"}, {\"date\": \"2015-07-04T00:00:00\", \"precipitation\": 0.0, \"temp_max\": 33.3, \"temp_min\": 15.0, \"wind\": 2.9, \"weather\": \"sun\"}, {\"date\": \"2015-07-05T00:00:00\", \"precipitation\": 0.0, \"temp_max\": 32.8, \"temp_min\": 16.7, \"wind\": 2.1, \"weather\": \"sun\"}, {\"date\": \"2015-07-06T00:00:00\", \"precipitation\": 0.0, \"temp_max\": 29.4, \"temp_min\": 15.6, \"wind\": 3.2, \"weather\": \"drizzle\"}, {\"date\": \"2015-07-07T00:00:00\", \"precipitation\": 0.0, \"temp_max\": 27.2, \"temp_min\": 13.9, \"wind\": 2.4, \"weather\": \"sun\"}, {\"date\": \"2015-07-08T00:00:00\", \"precipitation\": 0.0, \"temp_max\": 30.0, \"temp_min\": 14.4, \"wind\": 1.9, \"weather\": \"drizzle\"}, {\"date\": \"2015-07-09T00:00:00\", \"precipitation\": 0.0, \"temp_max\": 28.9, \"temp_min\": 14.4, \"wind\": 3.4, \"weather\": \"sun\"}, {\"date\": \"2015-07-10T00:00:00\", \"precipitation\": 0.0, \"temp_max\": 21.1, \"temp_min\": 16.7, \"wind\": 3.7, \"weather\": \"sun\"}, {\"date\": \"2015-07-11T00:00:00\", \"precipitation\": 0.0, \"temp_max\": 22.2, \"temp_min\": 16.7, \"wind\": 3.0, \"weather\": \"sun\"}, {\"date\": \"2015-07-12T00:00:00\", \"precipitation\": 0.0, \"temp_max\": 26.1, \"temp_min\": 16.7, \"wind\": 2.2, \"weather\": \"sun\"}, {\"date\": \"2015-07-13T00:00:00\", \"precipitation\": 0.0, \"temp_max\": 25.6, \"temp_min\": 16.1, \"wind\": 3.1, \"weather\": \"sun\"}, {\"date\": \"2015-07-14T00:00:00\", \"precipitation\": 0.0, \"temp_max\": 27.8, \"temp_min\": 16.1, \"wind\": 3.3, \"weather\": \"sun\"}, {\"date\": \"2015-07-15T00:00:00\", \"precipitation\": 0.0, \"temp_max\": 26.1, \"temp_min\": 14.4, \"wind\": 3.2, \"weather\": \"sun\"}, {\"date\": \"2015-07-16T00:00:00\", \"precipitation\": 0.0, \"temp_max\": 26.1, \"temp_min\": 15.0, \"wind\": 2.8, \"weather\": \"sun\"}, {\"date\": \"2015-07-17T00:00:00\", \"precipitation\": 0.0, \"temp_max\": 27.8, \"temp_min\": 13.9, \"wind\": 3.3, \"weather\": \"sun\"}, {\"date\": \"2015-07-18T00:00:00\", \"precipitation\": 0.0, \"temp_max\": 33.3, \"temp_min\": 17.8, \"wind\": 3.4, \"weather\": \"sun\"}, {\"date\": \"2015-07-19T00:00:00\", \"precipitation\": 0.0, \"temp_max\": 35.0, \"temp_min\": 17.2, \"wind\": 3.3, \"weather\": \"sun\"}, {\"date\": \"2015-07-20T00:00:00\", \"precipitation\": 0.0, \"temp_max\": 26.7, \"temp_min\": 16.7, \"wind\": 3.9, \"weather\": \"sun\"}, {\"date\": \"2015-07-21T00:00:00\", \"precipitation\": 0.0, \"temp_max\": 23.9, \"temp_min\": 15.0, \"wind\": 2.4, \"weather\": \"sun\"}, {\"date\": \"2015-07-22T00:00:00\", \"precipitation\": 0.0, \"temp_max\": 23.9, \"temp_min\": 13.9, \"wind\": 2.8, \"weather\": \"sun\"}, {\"date\": \"2015-07-23T00:00:00\", \"precipitation\": 0.0, \"temp_max\": 26.1, \"temp_min\": 14.4, \"wind\": 1.9, \"weather\": \"sun\"}, {\"date\": \"2015-07-24T00:00:00\", \"precipitation\": 0.3, \"temp_max\": 22.8, \"temp_min\": 13.3, \"wind\": 3.8, \"weather\": \"fog\"}, {\"date\": \"2015-07-25T00:00:00\", \"precipitation\": 0.0, \"temp_max\": 21.1, \"temp_min\": 14.4, \"wind\": 2.4, \"weather\": \"fog\"}, {\"date\": \"2015-07-26T00:00:00\", \"precipitation\": 2.0, \"temp_max\": 22.2, \"temp_min\": 13.9, \"wind\": 2.6, \"weather\": \"fog\"}, {\"date\": \"2015-07-27T00:00:00\", \"precipitation\": 0.0, \"temp_max\": 23.3, \"temp_min\": 12.2, \"wind\": 1.9, \"weather\": \"fog\"}, {\"date\": \"2015-07-28T00:00:00\", \"precipitation\": 0.0, \"temp_max\": 27.8, \"temp_min\": 13.9, \"wind\": 3.4, \"weather\": \"sun\"}, {\"date\": \"2015-07-29T00:00:00\", \"precipitation\": 0.0, \"temp_max\": 32.2, \"temp_min\": 14.4, \"wind\": 3.8, \"weather\": \"sun\"}, {\"date\": \"2015-07-30T00:00:00\", \"precipitation\": 0.0, \"temp_max\": 34.4, \"temp_min\": 17.2, \"wind\": 3.5, \"weather\": \"sun\"}, {\"date\": \"2015-07-31T00:00:00\", \"precipitation\": 0.0, \"temp_max\": 34.4, \"temp_min\": 17.8, \"wind\": 2.6, \"weather\": \"sun\"}, {\"date\": \"2015-08-01T00:00:00\", \"precipitation\": 0.0, \"temp_max\": 33.3, \"temp_min\": 15.6, \"wind\": 3.1, \"weather\": \"sun\"}, {\"date\": \"2015-08-02T00:00:00\", \"precipitation\": 0.0, \"temp_max\": 30.6, \"temp_min\": 16.1, \"wind\": 2.0, \"weather\": \"sun\"}, {\"date\": \"2015-08-03T00:00:00\", \"precipitation\": 0.0, \"temp_max\": 28.3, \"temp_min\": 17.2, \"wind\": 2.3, \"weather\": \"sun\"}, {\"date\": \"2015-08-04T00:00:00\", \"precipitation\": 0.0, \"temp_max\": 26.1, \"temp_min\": 14.4, \"wind\": 2.6, \"weather\": \"fog\"}, {\"date\": \"2015-08-05T00:00:00\", \"precipitation\": 0.0, \"temp_max\": 23.3, \"temp_min\": 12.2, \"wind\": 3.5, \"weather\": \"sun\"}, {\"date\": \"2015-08-06T00:00:00\", \"precipitation\": 0.0, \"temp_max\": 25.0, \"temp_min\": 15.0, \"wind\": 2.9, \"weather\": \"sun\"}, {\"date\": \"2015-08-07T00:00:00\", \"precipitation\": 0.0, \"temp_max\": 28.3, \"temp_min\": 15.6, \"wind\": 3.7, \"weather\": \"sun\"}, {\"date\": \"2015-08-08T00:00:00\", \"precipitation\": 0.0, \"temp_max\": 25.0, \"temp_min\": 15.6, \"wind\": 3.6, \"weather\": \"fog\"}, {\"date\": \"2015-08-09T00:00:00\", \"precipitation\": 0.0, \"temp_max\": 28.3, \"temp_min\": 15.0, \"wind\": 2.2, \"weather\": \"sun\"}, {\"date\": \"2015-08-10T00:00:00\", \"precipitation\": 0.0, \"temp_max\": 28.9, \"temp_min\": 16.1, \"wind\": 2.4, \"weather\": \"sun\"}, {\"date\": \"2015-08-11T00:00:00\", \"precipitation\": 0.0, \"temp_max\": 30.0, \"temp_min\": 16.7, \"wind\": 4.4, \"weather\": \"sun\"}, {\"date\": \"2015-08-12T00:00:00\", \"precipitation\": 7.6, \"temp_max\": 28.3, \"temp_min\": 16.7, \"wind\": 2.7, \"weather\": \"rain\"}, {\"date\": \"2015-08-13T00:00:00\", \"precipitation\": 0.0, \"temp_max\": 28.3, \"temp_min\": 15.6, \"wind\": 2.2, \"weather\": \"sun\"}, {\"date\": \"2015-08-14T00:00:00\", \"precipitation\": 30.5, \"temp_max\": 18.3, \"temp_min\": 15.0, \"wind\": 5.2, \"weather\": \"rain\"}, {\"date\": \"2015-08-15T00:00:00\", \"precipitation\": 0.0, \"temp_max\": 21.7, \"temp_min\": 13.9, \"wind\": 3.7, \"weather\": \"sun\"}, {\"date\": \"2015-08-16T00:00:00\", \"precipitation\": 0.0, \"temp_max\": 25.0, \"temp_min\": 14.4, \"wind\": 3.7, \"weather\": \"sun\"}, {\"date\": \"2015-08-17T00:00:00\", \"precipitation\": 0.0, \"temp_max\": 27.2, \"temp_min\": 13.9, \"wind\": 3.0, \"weather\": \"sun\"}, {\"date\": \"2015-08-18T00:00:00\", \"precipitation\": 0.0, \"temp_max\": 30.0, \"temp_min\": 15.0, \"wind\": 3.0, \"weather\": \"sun\"}, {\"date\": \"2015-08-19T00:00:00\", \"precipitation\": 0.0, \"temp_max\": 31.7, \"temp_min\": 16.1, \"wind\": 2.1, \"weather\": \"drizzle\"}, {\"date\": \"2015-08-20T00:00:00\", \"precipitation\": 2.0, \"temp_max\": 22.8, \"temp_min\": 14.4, \"wind\": 4.2, \"weather\": \"fog\"}, {\"date\": \"2015-08-21T00:00:00\", \"precipitation\": 0.0, \"temp_max\": 22.2, \"temp_min\": 14.4, \"wind\": 2.6, \"weather\": \"sun\"}, {\"date\": \"2015-08-22T00:00:00\", \"precipitation\": 0.0, \"temp_max\": 26.7, \"temp_min\": 12.2, \"wind\": 2.5, \"weather\": \"drizzle\"}, {\"date\": \"2015-08-23T00:00:00\", \"precipitation\": 0.0, \"temp_max\": 27.8, \"temp_min\": 13.9, \"wind\": 1.8, \"weather\": \"drizzle\"}, {\"date\": \"2015-08-24T00:00:00\", \"precipitation\": 0.0, \"temp_max\": 23.9, \"temp_min\": 12.2, \"wind\": 2.3, \"weather\": \"sun\"}, {\"date\": \"2015-08-25T00:00:00\", \"precipitation\": 0.0, \"temp_max\": 25.6, \"temp_min\": 12.2, \"wind\": 3.4, \"weather\": \"sun\"}, {\"date\": \"2015-08-26T00:00:00\", \"precipitation\": 0.0, \"temp_max\": 28.3, \"temp_min\": 13.9, \"wind\": 1.7, \"weather\": \"sun\"}, {\"date\": \"2015-08-27T00:00:00\", \"precipitation\": 0.0, \"temp_max\": 29.4, \"temp_min\": 14.4, \"wind\": 2.1, \"weather\": \"sun\"}, {\"date\": \"2015-08-28T00:00:00\", \"precipitation\": 0.5, \"temp_max\": 23.3, \"temp_min\": 15.6, \"wind\": 2.6, \"weather\": \"fog\"}, {\"date\": \"2015-08-29T00:00:00\", \"precipitation\": 32.5, \"temp_max\": 22.2, \"temp_min\": 13.3, \"wind\": 5.8, \"weather\": \"fog\"}, {\"date\": \"2015-08-30T00:00:00\", \"precipitation\": 10.2, \"temp_max\": 20.0, \"temp_min\": 12.8, \"wind\": 4.7, \"weather\": \"fog\"}, {\"date\": \"2015-08-31T00:00:00\", \"precipitation\": 0.0, \"temp_max\": 18.9, \"temp_min\": 16.1, \"wind\": 5.8, \"weather\": \"sun\"}, {\"date\": \"2015-09-01T00:00:00\", \"precipitation\": 5.8, \"temp_max\": 19.4, \"temp_min\": 13.9, \"wind\": 5.0, \"weather\": \"fog\"}, {\"date\": \"2015-09-02T00:00:00\", \"precipitation\": 0.0, \"temp_max\": 19.4, \"temp_min\": 11.1, \"wind\": 3.8, \"weather\": \"sun\"}, {\"date\": \"2015-09-03T00:00:00\", \"precipitation\": 0.0, \"temp_max\": 18.3, \"temp_min\": 10.6, \"wind\": 2.9, \"weather\": \"sun\"}, {\"date\": \"2015-09-04T00:00:00\", \"precipitation\": 0.0, \"temp_max\": 18.3, \"temp_min\": 10.0, \"wind\": 2.9, \"weather\": \"sun\"}, {\"date\": \"2015-09-05T00:00:00\", \"precipitation\": 0.3, \"temp_max\": 20.6, \"temp_min\": 8.9, \"wind\": 3.5, \"weather\": \"sun\"}, {\"date\": \"2015-09-06T00:00:00\", \"precipitation\": 5.3, \"temp_max\": 16.1, \"temp_min\": 11.7, \"wind\": 2.4, \"weather\": \"fog\"}, {\"date\": \"2015-09-07T00:00:00\", \"precipitation\": 0.3, \"temp_max\": 21.1, \"temp_min\": 13.3, \"wind\": 1.5, \"weather\": \"fog\"}, {\"date\": \"2015-09-08T00:00:00\", \"precipitation\": 0.0, \"temp_max\": 22.8, \"temp_min\": 13.3, \"wind\": 2.4, \"weather\": \"sun\"}, {\"date\": \"2015-09-09T00:00:00\", \"precipitation\": 0.0, \"temp_max\": 24.4, \"temp_min\": 13.9, \"wind\": 3.3, \"weather\": \"sun\"}, {\"date\": \"2015-09-10T00:00:00\", \"precipitation\": 0.0, \"temp_max\": 25.0, \"temp_min\": 14.4, \"wind\": 3.6, \"weather\": \"fog\"}, {\"date\": \"2015-09-11T00:00:00\", \"precipitation\": 0.0, \"temp_max\": 27.2, \"temp_min\": 15.0, \"wind\": 3.1, \"weather\": \"sun\"}, {\"date\": \"2015-09-12T00:00:00\", \"precipitation\": 0.0, \"temp_max\": 26.7, \"temp_min\": 14.4, \"wind\": 2.1, \"weather\": \"sun\"}, {\"date\": \"2015-09-13T00:00:00\", \"precipitation\": 0.5, \"temp_max\": 20.6, \"temp_min\": 12.8, \"wind\": 3.0, \"weather\": \"fog\"}, {\"date\": \"2015-09-14T00:00:00\", \"precipitation\": 0.0, \"temp_max\": 16.7, \"temp_min\": 10.6, \"wind\": 3.4, \"weather\": \"sun\"}, {\"date\": \"2015-09-15T00:00:00\", \"precipitation\": 0.0, \"temp_max\": 17.8, \"temp_min\": 10.0, \"wind\": 2.8, \"weather\": \"sun\"}, {\"date\": \"2015-09-16T00:00:00\", \"precipitation\": 1.0, \"temp_max\": 20.0, \"temp_min\": 10.0, \"wind\": 1.9, \"weather\": \"sun\"}, {\"date\": \"2015-09-17T00:00:00\", \"precipitation\": 1.8, \"temp_max\": 18.3, \"temp_min\": 12.8, \"wind\": 3.8, \"weather\": \"fog\"}, {\"date\": \"2015-09-18T00:00:00\", \"precipitation\": 0.0, \"temp_max\": 19.4, \"temp_min\": 12.8, \"wind\": 2.6, \"weather\": \"sun\"}, {\"date\": \"2015-09-19T00:00:00\", \"precipitation\": 0.0, \"temp_max\": 21.1, \"temp_min\": 14.4, \"wind\": 4.3, \"weather\": \"sun\"}, {\"date\": \"2015-09-20T00:00:00\", \"precipitation\": 4.1, \"temp_max\": 22.8, \"temp_min\": 12.2, \"wind\": 6.8, \"weather\": \"fog\"}, {\"date\": \"2015-09-21T00:00:00\", \"precipitation\": 0.0, \"temp_max\": 18.3, \"temp_min\": 9.4, \"wind\": 2.7, \"weather\": \"fog\"}, {\"date\": \"2015-09-22T00:00:00\", \"precipitation\": 0.0, \"temp_max\": 18.9, \"temp_min\": 7.8, \"wind\": 2.0, \"weather\": \"sun\"}, {\"date\": \"2015-09-23T00:00:00\", \"precipitation\": 0.0, \"temp_max\": 20.6, \"temp_min\": 8.3, \"wind\": 1.8, \"weather\": \"sun\"}, {\"date\": \"2015-09-24T00:00:00\", \"precipitation\": 0.0, \"temp_max\": 22.2, \"temp_min\": 11.1, \"wind\": 2.5, \"weather\": \"fog\"}, {\"date\": \"2015-09-25T00:00:00\", \"precipitation\": 2.0, \"temp_max\": 15.6, \"temp_min\": 12.8, \"wind\": 2.6, \"weather\": \"fog\"}, {\"date\": \"2015-09-26T00:00:00\", \"precipitation\": 0.0, \"temp_max\": 18.3, \"temp_min\": 10.0, \"wind\": 2.7, \"weather\": \"sun\"}, {\"date\": \"2015-09-27T00:00:00\", \"precipitation\": 0.0, \"temp_max\": 17.8, \"temp_min\": 7.2, \"wind\": 3.8, \"weather\": \"sun\"}, {\"date\": \"2015-09-28T00:00:00\", \"precipitation\": 0.0, \"temp_max\": 21.1, \"temp_min\": 9.4, \"wind\": 5.1, \"weather\": \"sun\"}, {\"date\": \"2015-09-29T00:00:00\", \"precipitation\": 0.0, \"temp_max\": 21.7, \"temp_min\": 8.9, \"wind\": 1.9, \"weather\": \"sun\"}, {\"date\": \"2015-09-30T00:00:00\", \"precipitation\": 0.0, \"temp_max\": 18.3, \"temp_min\": 10.0, \"wind\": 1.3, \"weather\": \"fog\"}, {\"date\": \"2015-10-01T00:00:00\", \"precipitation\": 0.0, \"temp_max\": 21.1, \"temp_min\": 9.4, \"wind\": 1.3, \"weather\": \"fog\"}, {\"date\": \"2015-10-02T00:00:00\", \"precipitation\": 0.0, \"temp_max\": 15.6, \"temp_min\": 10.0, \"wind\": 2.9, \"weather\": \"fog\"}, {\"date\": \"2015-10-03T00:00:00\", \"precipitation\": 0.0, \"temp_max\": 19.4, \"temp_min\": 11.1, \"wind\": 4.8, \"weather\": \"sun\"}, {\"date\": \"2015-10-04T00:00:00\", \"precipitation\": 0.0, \"temp_max\": 22.8, \"temp_min\": 10.0, \"wind\": 3.7, \"weather\": \"sun\"}, {\"date\": \"2015-10-05T00:00:00\", \"precipitation\": 0.0, \"temp_max\": 23.3, \"temp_min\": 9.4, \"wind\": 1.6, \"weather\": \"sun\"}, {\"date\": \"2015-10-06T00:00:00\", \"precipitation\": 0.0, \"temp_max\": 18.3, \"temp_min\": 10.0, \"wind\": 2.6, \"weather\": \"drizzle\"}, {\"date\": \"2015-10-07T00:00:00\", \"precipitation\": 9.9, \"temp_max\": 16.1, \"temp_min\": 13.9, \"wind\": 2.2, \"weather\": \"fog\"}, {\"date\": \"2015-10-08T00:00:00\", \"precipitation\": 0.0, \"temp_max\": 18.9, \"temp_min\": 13.3, \"wind\": 1.1, \"weather\": \"fog\"}, {\"date\": \"2015-10-09T00:00:00\", \"precipitation\": 0.3, \"temp_max\": 19.4, \"temp_min\": 12.2, \"wind\": 2.6, \"weather\": \"fog\"}, {\"date\": \"2015-10-10T00:00:00\", \"precipitation\": 28.7, \"temp_max\": 21.1, \"temp_min\": 13.3, \"wind\": 4.7, \"weather\": \"fog\"}, {\"date\": \"2015-10-11T00:00:00\", \"precipitation\": 0.0, \"temp_max\": 17.8, \"temp_min\": 10.6, \"wind\": 2.6, \"weather\": \"sun\"}, {\"date\": \"2015-10-12T00:00:00\", \"precipitation\": 4.6, \"temp_max\": 18.3, \"temp_min\": 10.6, \"wind\": 2.8, \"weather\": \"fog\"}, {\"date\": \"2015-10-13T00:00:00\", \"precipitation\": 1.3, \"temp_max\": 16.7, \"temp_min\": 9.4, \"wind\": 3.2, \"weather\": \"fog\"}, {\"date\": \"2015-10-14T00:00:00\", \"precipitation\": 0.0, \"temp_max\": 15.0, \"temp_min\": 10.0, \"wind\": 5.0, \"weather\": \"fog\"}, {\"date\": \"2015-10-15T00:00:00\", \"precipitation\": 0.0, \"temp_max\": 21.1, \"temp_min\": 9.4, \"wind\": 3.4, \"weather\": \"fog\"}, {\"date\": \"2015-10-16T00:00:00\", \"precipitation\": 0.0, \"temp_max\": 20.0, \"temp_min\": 8.9, \"wind\": 1.3, \"weather\": \"sun\"}, {\"date\": \"2015-10-17T00:00:00\", \"precipitation\": 0.3, \"temp_max\": 19.4, \"temp_min\": 11.7, \"wind\": 1.3, \"weather\": \"fog\"}, {\"date\": \"2015-10-18T00:00:00\", \"precipitation\": 3.8, \"temp_max\": 15.0, \"temp_min\": 12.8, \"wind\": 2.0, \"weather\": \"fog\"}, {\"date\": \"2015-10-19T00:00:00\", \"precipitation\": 0.3, \"temp_max\": 17.2, \"temp_min\": 12.2, \"wind\": 2.6, \"weather\": \"fog\"}, {\"date\": \"2015-10-20T00:00:00\", \"precipitation\": 0.0, \"temp_max\": 17.8, \"temp_min\": 10.6, \"wind\": 1.8, \"weather\": \"fog\"}, {\"date\": \"2015-10-21T00:00:00\", \"precipitation\": 0.0, \"temp_max\": 16.1, \"temp_min\": 8.3, \"wind\": 1.3, \"weather\": \"fog\"}, {\"date\": \"2015-10-22T00:00:00\", \"precipitation\": 0.0, \"temp_max\": 16.1, \"temp_min\": 8.9, \"wind\": 2.7, \"weather\": \"fog\"}, {\"date\": \"2015-10-23T00:00:00\", \"precipitation\": 0.0, \"temp_max\": 12.8, \"temp_min\": 7.2, \"wind\": 2.6, \"weather\": \"fog\"}, {\"date\": \"2015-10-24T00:00:00\", \"precipitation\": 0.0, \"temp_max\": 15.0, \"temp_min\": 8.9, \"wind\": 2.9, \"weather\": \"fog\"}, {\"date\": \"2015-10-25T00:00:00\", \"precipitation\": 8.9, \"temp_max\": 19.4, \"temp_min\": 8.9, \"wind\": 3.4, \"weather\": \"rain\"}, {\"date\": \"2015-10-26T00:00:00\", \"precipitation\": 6.9, \"temp_max\": 12.2, \"temp_min\": 10.0, \"wind\": 4.6, \"weather\": \"fog\"}, {\"date\": \"2015-10-27T00:00:00\", \"precipitation\": 0.0, \"temp_max\": 16.1, \"temp_min\": 7.8, \"wind\": 1.7, \"weather\": \"fog\"}, {\"date\": \"2015-10-28T00:00:00\", \"precipitation\": 3.3, \"temp_max\": 13.9, \"temp_min\": 11.1, \"wind\": 2.8, \"weather\": \"fog\"}, {\"date\": \"2015-10-29T00:00:00\", \"precipitation\": 1.8, \"temp_max\": 15.0, \"temp_min\": 12.2, \"wind\": 4.7, \"weather\": \"fog\"}, {\"date\": \"2015-10-30T00:00:00\", \"precipitation\": 19.3, \"temp_max\": 17.2, \"temp_min\": 11.7, \"wind\": 6.7, \"weather\": \"fog\"}, {\"date\": \"2015-10-31T00:00:00\", \"precipitation\": 33.0, \"temp_max\": 15.6, \"temp_min\": 11.7, \"wind\": 7.2, \"weather\": \"fog\"}, {\"date\": \"2015-11-01T00:00:00\", \"precipitation\": 26.2, \"temp_max\": 12.2, \"temp_min\": 8.9, \"wind\": 6.0, \"weather\": \"fog\"}, {\"date\": \"2015-11-02T00:00:00\", \"precipitation\": 0.3, \"temp_max\": 11.1, \"temp_min\": 7.2, \"wind\": 2.8, \"weather\": \"fog\"}, {\"date\": \"2015-11-03T00:00:00\", \"precipitation\": 0.8, \"temp_max\": 10.6, \"temp_min\": 5.0, \"wind\": 1.4, \"weather\": \"fog\"}, {\"date\": \"2015-11-04T00:00:00\", \"precipitation\": 0.0, \"temp_max\": 10.0, \"temp_min\": 3.3, \"wind\": 2.2, \"weather\": \"sun\"}, {\"date\": \"2015-11-05T00:00:00\", \"precipitation\": 1.3, \"temp_max\": 11.7, \"temp_min\": 7.8, \"wind\": 2.3, \"weather\": \"fog\"}, {\"date\": \"2015-11-06T00:00:00\", \"precipitation\": 0.0, \"temp_max\": 15.6, \"temp_min\": 8.3, \"wind\": 2.7, \"weather\": \"fog\"}, {\"date\": \"2015-11-07T00:00:00\", \"precipitation\": 12.7, \"temp_max\": 12.2, \"temp_min\": 9.4, \"wind\": 3.0, \"weather\": \"fog\"}, {\"date\": \"2015-11-08T00:00:00\", \"precipitation\": 6.6, \"temp_max\": 11.1, \"temp_min\": 7.8, \"wind\": 1.8, \"weather\": \"fog\"}, {\"date\": \"2015-11-09T00:00:00\", \"precipitation\": 3.3, \"temp_max\": 10.0, \"temp_min\": 5.0, \"wind\": 1.3, \"weather\": \"fog\"}, {\"date\": \"2015-11-10T00:00:00\", \"precipitation\": 1.3, \"temp_max\": 11.1, \"temp_min\": 3.9, \"wind\": 3.9, \"weather\": \"fog\"}, {\"date\": \"2015-11-11T00:00:00\", \"precipitation\": 1.5, \"temp_max\": 11.1, \"temp_min\": 6.1, \"wind\": 4.6, \"weather\": \"sun\"}, {\"date\": \"2015-11-12T00:00:00\", \"precipitation\": 9.9, \"temp_max\": 11.1, \"temp_min\": 5.0, \"wind\": 5.1, \"weather\": \"fog\"}, {\"date\": \"2015-11-13T00:00:00\", \"precipitation\": 33.5, \"temp_max\": 13.3, \"temp_min\": 9.4, \"wind\": 6.5, \"weather\": \"fog\"}, {\"date\": \"2015-11-14T00:00:00\", \"precipitation\": 47.2, \"temp_max\": 9.4, \"temp_min\": 6.1, \"wind\": 4.5, \"weather\": \"fog\"}, {\"date\": \"2015-11-15T00:00:00\", \"precipitation\": 22.4, \"temp_max\": 8.9, \"temp_min\": 2.2, \"wind\": 4.1, \"weather\": \"fog\"}, {\"date\": \"2015-11-16T00:00:00\", \"precipitation\": 2.0, \"temp_max\": 8.9, \"temp_min\": 1.7, \"wind\": 4.0, \"weather\": \"fog\"}, {\"date\": \"2015-11-17T00:00:00\", \"precipitation\": 29.5, \"temp_max\": 13.3, \"temp_min\": 6.7, \"wind\": 8.0, \"weather\": \"fog\"}, {\"date\": \"2015-11-18T00:00:00\", \"precipitation\": 1.5, \"temp_max\": 8.9, \"temp_min\": 3.3, \"wind\": 3.8, \"weather\": \"sun\"}, {\"date\": \"2015-11-19T00:00:00\", \"precipitation\": 2.0, \"temp_max\": 8.9, \"temp_min\": 2.8, \"wind\": 4.2, \"weather\": \"sun\"}, {\"date\": \"2015-11-20T00:00:00\", \"precipitation\": 0.0, \"temp_max\": 8.3, \"temp_min\": 0.6, \"wind\": 4.0, \"weather\": \"fog\"}, {\"date\": \"2015-11-21T00:00:00\", \"precipitation\": 0.0, \"temp_max\": 8.9, \"temp_min\": 0.6, \"wind\": 4.7, \"weather\": \"sun\"}, {\"date\": \"2015-11-22T00:00:00\", \"precipitation\": 0.0, \"temp_max\": 10.0, \"temp_min\": 1.7, \"wind\": 3.1, \"weather\": \"fog\"}, {\"date\": \"2015-11-23T00:00:00\", \"precipitation\": 3.0, \"temp_max\": 6.7, \"temp_min\": 0.0, \"wind\": 1.3, \"weather\": \"fog\"}, {\"date\": \"2015-11-24T00:00:00\", \"precipitation\": 7.1, \"temp_max\": 6.7, \"temp_min\": 2.8, \"wind\": 4.5, \"weather\": \"fog\"}, {\"date\": \"2015-11-25T00:00:00\", \"precipitation\": 0.0, \"temp_max\": 7.2, \"temp_min\": 0.0, \"wind\": 5.7, \"weather\": \"sun\"}, {\"date\": \"2015-11-26T00:00:00\", \"precipitation\": 0.0, \"temp_max\": 9.4, \"temp_min\": -1.0, \"wind\": 4.3, \"weather\": \"sun\"}, {\"date\": \"2015-11-27T00:00:00\", \"precipitation\": 0.0, \"temp_max\": 9.4, \"temp_min\": -1.6, \"wind\": 3.0, \"weather\": \"sun\"}, {\"date\": \"2015-11-28T00:00:00\", \"precipitation\": 0.0, \"temp_max\": 7.2, \"temp_min\": -2.7, \"wind\": 1.0, \"weather\": \"sun\"}, {\"date\": \"2015-11-29T00:00:00\", \"precipitation\": 0.0, \"temp_max\": 1.7, \"temp_min\": -2.1, \"wind\": 0.9, \"weather\": \"fog\"}, {\"date\": \"2015-11-30T00:00:00\", \"precipitation\": 0.5, \"temp_max\": 5.6, \"temp_min\": -3.8, \"wind\": 1.7, \"weather\": \"fog\"}, {\"date\": \"2015-12-01T00:00:00\", \"precipitation\": 12.2, \"temp_max\": 10.0, \"temp_min\": 3.9, \"wind\": 3.5, \"weather\": \"fog\"}, {\"date\": \"2015-12-02T00:00:00\", \"precipitation\": 2.5, \"temp_max\": 10.6, \"temp_min\": 4.4, \"wind\": 5.0, \"weather\": \"fog\"}, {\"date\": \"2015-12-03T00:00:00\", \"precipitation\": 12.7, \"temp_max\": 15.6, \"temp_min\": 7.8, \"wind\": 5.9, \"weather\": \"fog\"}, {\"date\": \"2015-12-04T00:00:00\", \"precipitation\": 2.0, \"temp_max\": 10.6, \"temp_min\": 6.1, \"wind\": 4.7, \"weather\": \"fog\"}, {\"date\": \"2015-12-05T00:00:00\", \"precipitation\": 15.7, \"temp_max\": 10.0, \"temp_min\": 6.1, \"wind\": 4.0, \"weather\": \"fog\"}, {\"date\": \"2015-12-06T00:00:00\", \"precipitation\": 11.2, \"temp_max\": 12.8, \"temp_min\": 7.2, \"wind\": 5.9, \"weather\": \"fog\"}, {\"date\": \"2015-12-07T00:00:00\", \"precipitation\": 27.4, \"temp_max\": 11.1, \"temp_min\": 8.3, \"wind\": 3.4, \"weather\": \"fog\"}, {\"date\": \"2015-12-08T00:00:00\", \"precipitation\": 54.1, \"temp_max\": 15.6, \"temp_min\": 10.0, \"wind\": 6.2, \"weather\": \"fog\"}, {\"date\": \"2015-12-09T00:00:00\", \"precipitation\": 13.5, \"temp_max\": 12.2, \"temp_min\": 7.8, \"wind\": 6.3, \"weather\": \"fog\"}, {\"date\": \"2015-12-10T00:00:00\", \"precipitation\": 9.4, \"temp_max\": 11.7, \"temp_min\": 6.1, \"wind\": 7.5, \"weather\": \"fog\"}, {\"date\": \"2015-12-11T00:00:00\", \"precipitation\": 0.3, \"temp_max\": 9.4, \"temp_min\": 4.4, \"wind\": 2.8, \"weather\": \"sun\"}, {\"date\": \"2015-12-12T00:00:00\", \"precipitation\": 16.0, \"temp_max\": 8.9, \"temp_min\": 5.6, \"wind\": 5.6, \"weather\": \"fog\"}, {\"date\": \"2015-12-13T00:00:00\", \"precipitation\": 1.3, \"temp_max\": 7.8, \"temp_min\": 6.1, \"wind\": 6.1, \"weather\": \"sun\"}, {\"date\": \"2015-12-14T00:00:00\", \"precipitation\": 0.0, \"temp_max\": 7.8, \"temp_min\": 1.7, \"wind\": 1.7, \"weather\": \"sun\"}, {\"date\": \"2015-12-15T00:00:00\", \"precipitation\": 1.5, \"temp_max\": 6.7, \"temp_min\": 1.1, \"wind\": 2.9, \"weather\": \"fog\"}, {\"date\": \"2015-12-16T00:00:00\", \"precipitation\": 3.6, \"temp_max\": 6.1, \"temp_min\": 2.8, \"wind\": 2.3, \"weather\": \"fog\"}, {\"date\": \"2015-12-17T00:00:00\", \"precipitation\": 21.8, \"temp_max\": 6.7, \"temp_min\": 3.9, \"wind\": 6.0, \"weather\": \"fog\"}, {\"date\": \"2015-12-18T00:00:00\", \"precipitation\": 18.5, \"temp_max\": 8.9, \"temp_min\": 4.4, \"wind\": 5.1, \"weather\": \"fog\"}, {\"date\": \"2015-12-19T00:00:00\", \"precipitation\": 0.0, \"temp_max\": 8.3, \"temp_min\": 2.8, \"wind\": 4.1, \"weather\": \"fog\"}, {\"date\": \"2015-12-20T00:00:00\", \"precipitation\": 4.3, \"temp_max\": 7.8, \"temp_min\": 4.4, \"wind\": 6.7, \"weather\": \"fog\"}, {\"date\": \"2015-12-21T00:00:00\", \"precipitation\": 27.4, \"temp_max\": 5.6, \"temp_min\": 2.8, \"wind\": 4.3, \"weather\": \"fog\"}, {\"date\": \"2015-12-22T00:00:00\", \"precipitation\": 4.6, \"temp_max\": 7.8, \"temp_min\": 2.8, \"wind\": 5.0, \"weather\": \"fog\"}, {\"date\": \"2015-12-23T00:00:00\", \"precipitation\": 6.1, \"temp_max\": 5.0, \"temp_min\": 2.8, \"wind\": 7.6, \"weather\": \"fog\"}, {\"date\": \"2015-12-24T00:00:00\", \"precipitation\": 2.5, \"temp_max\": 5.6, \"temp_min\": 2.2, \"wind\": 4.3, \"weather\": \"fog\"}, {\"date\": \"2015-12-25T00:00:00\", \"precipitation\": 5.8, \"temp_max\": 5.0, \"temp_min\": 2.2, \"wind\": 1.5, \"weather\": \"fog\"}, {\"date\": \"2015-12-26T00:00:00\", \"precipitation\": 0.0, \"temp_max\": 4.4, \"temp_min\": 0.0, \"wind\": 2.5, \"weather\": \"sun\"}, {\"date\": \"2015-12-27T00:00:00\", \"precipitation\": 8.6, \"temp_max\": 4.4, \"temp_min\": 1.7, \"wind\": 2.9, \"weather\": \"fog\"}, {\"date\": \"2015-12-28T00:00:00\", \"precipitation\": 1.5, \"temp_max\": 5.0, \"temp_min\": 1.7, \"wind\": 1.3, \"weather\": \"fog\"}, {\"date\": \"2015-12-29T00:00:00\", \"precipitation\": 0.0, \"temp_max\": 7.2, \"temp_min\": 0.6, \"wind\": 2.6, \"weather\": \"fog\"}, {\"date\": \"2015-12-30T00:00:00\", \"precipitation\": 0.0, \"temp_max\": 5.6, \"temp_min\": -1.0, \"wind\": 3.4, \"weather\": \"sun\"}, {\"date\": \"2015-12-31T00:00:00\", \"precipitation\": 0.0, \"temp_max\": 5.6, \"temp_min\": -2.1, \"wind\": 3.5, \"weather\": \"sun\"}]}}, {\"mode\": \"vega-lite\"});\n",
       "</script>"
      ],
      "text/plain": [
       "alt.Chart(...)"
      ]
     },
     "execution_count": 8,
     "metadata": {},
     "output_type": "execute_result"
    }
   ],
   "source": [
    "import altair as alt\n",
    "from vega_datasets import data\n",
    "\n",
    "source = data.seattle_weather()\n",
    "\n",
    "alt.Chart(source, title=\"Daily Max Temperatures (C) in Seattle, WA\").mark_rect().encode(\n",
    "    alt.X(\"date(date):O\", title=\"Day\"),\n",
    "    alt.Y(\"month(date):O\", title=\"Month\"),\n",
    "    alt.Color(\"max(temp_max)\", title='temp'),\n",
    "    tooltip=[\n",
    "        alt.Tooltip(\"monthdate(date)\", title=\"Date\"),\n",
    "        alt.Tooltip(\"max(temp_max)\", title=\"Max Temp\"),\n",
    "    ],\n",
    ").configure_view(\n",
    "    step=13,\n",
    "    strokeWidth=0\n",
    ").configure_axis(\n",
    "    domain=False\n",
    ")"
   ]
  },
  {
   "cell_type": "code",
   "execution_count": 3,
   "id": "963cb398-ef19-4149-9593-f7ebe2ac2302",
   "metadata": {
    "tags": []
   },
   "outputs": [],
   "source": [
    "import pandas as pd"
   ]
  },
  {
   "cell_type": "code",
   "execution_count": 10,
   "id": "921ef91b-fea3-4b84-a077-86c66dfb57d3",
   "metadata": {
    "tags": []
   },
   "outputs": [
    {
     "ename": "ParserError",
     "evalue": "Error tokenizing data. C error: EOF inside string starting at row 8",
     "output_type": "error",
     "traceback": [
      "\u001b[0;31m---------------------------------------------------------------------------\u001b[0m",
      "\u001b[0;31mParserError\u001b[0m                               Traceback (most recent call last)",
      "Cell \u001b[0;32mIn[10], line 1\u001b[0m\n\u001b[0;32m----> 1\u001b[0m tmp \u001b[38;5;241m=\u001b[39m \u001b[43mpd\u001b[49m\u001b[38;5;241;43m.\u001b[39;49m\u001b[43mread_csv\u001b[49m\u001b[43m(\u001b[49m\u001b[38;5;124;43m'\u001b[39;49m\u001b[38;5;124;43m/home/amniskin/code/daggerml/transformers/data/glove.6B.50d.txt\u001b[39;49m\u001b[38;5;124;43m'\u001b[39;49m\u001b[43m,\u001b[49m\u001b[43m \u001b[49m\u001b[43mdelim_whitespace\u001b[49m\u001b[38;5;241;43m=\u001b[39;49m\u001b[38;5;28;43;01mTrue\u001b[39;49;00m\u001b[43m,\u001b[49m\u001b[43m \u001b[49m\u001b[43mheader\u001b[49m\u001b[38;5;241;43m=\u001b[39;49m\u001b[38;5;28;43;01mNone\u001b[39;49;00m\u001b[43m)\u001b[49m\n\u001b[1;32m      2\u001b[0m tmp\u001b[38;5;241m.\u001b[39mhead()\n",
      "File \u001b[0;32m~/.local/share/hatch/env/virtual/reproductions-87KRkfee/reproductions/lib/python3.10/site-packages/pandas/io/parsers/readers.py:912\u001b[0m, in \u001b[0;36mread_csv\u001b[0;34m(filepath_or_buffer, sep, delimiter, header, names, index_col, usecols, dtype, engine, converters, true_values, false_values, skipinitialspace, skiprows, skipfooter, nrows, na_values, keep_default_na, na_filter, verbose, skip_blank_lines, parse_dates, infer_datetime_format, keep_date_col, date_parser, date_format, dayfirst, cache_dates, iterator, chunksize, compression, thousands, decimal, lineterminator, quotechar, quoting, doublequote, escapechar, comment, encoding, encoding_errors, dialect, on_bad_lines, delim_whitespace, low_memory, memory_map, float_precision, storage_options, dtype_backend)\u001b[0m\n\u001b[1;32m    899\u001b[0m kwds_defaults \u001b[38;5;241m=\u001b[39m _refine_defaults_read(\n\u001b[1;32m    900\u001b[0m     dialect,\n\u001b[1;32m    901\u001b[0m     delimiter,\n\u001b[0;32m   (...)\u001b[0m\n\u001b[1;32m    908\u001b[0m     dtype_backend\u001b[38;5;241m=\u001b[39mdtype_backend,\n\u001b[1;32m    909\u001b[0m )\n\u001b[1;32m    910\u001b[0m kwds\u001b[38;5;241m.\u001b[39mupdate(kwds_defaults)\n\u001b[0;32m--> 912\u001b[0m \u001b[38;5;28;01mreturn\u001b[39;00m \u001b[43m_read\u001b[49m\u001b[43m(\u001b[49m\u001b[43mfilepath_or_buffer\u001b[49m\u001b[43m,\u001b[49m\u001b[43m \u001b[49m\u001b[43mkwds\u001b[49m\u001b[43m)\u001b[49m\n",
      "File \u001b[0;32m~/.local/share/hatch/env/virtual/reproductions-87KRkfee/reproductions/lib/python3.10/site-packages/pandas/io/parsers/readers.py:583\u001b[0m, in \u001b[0;36m_read\u001b[0;34m(filepath_or_buffer, kwds)\u001b[0m\n\u001b[1;32m    580\u001b[0m     \u001b[38;5;28;01mreturn\u001b[39;00m parser\n\u001b[1;32m    582\u001b[0m \u001b[38;5;28;01mwith\u001b[39;00m parser:\n\u001b[0;32m--> 583\u001b[0m     \u001b[38;5;28;01mreturn\u001b[39;00m \u001b[43mparser\u001b[49m\u001b[38;5;241;43m.\u001b[39;49m\u001b[43mread\u001b[49m\u001b[43m(\u001b[49m\u001b[43mnrows\u001b[49m\u001b[43m)\u001b[49m\n",
      "File \u001b[0;32m~/.local/share/hatch/env/virtual/reproductions-87KRkfee/reproductions/lib/python3.10/site-packages/pandas/io/parsers/readers.py:1704\u001b[0m, in \u001b[0;36mTextFileReader.read\u001b[0;34m(self, nrows)\u001b[0m\n\u001b[1;32m   1697\u001b[0m nrows \u001b[38;5;241m=\u001b[39m validate_integer(\u001b[38;5;124m\"\u001b[39m\u001b[38;5;124mnrows\u001b[39m\u001b[38;5;124m\"\u001b[39m, nrows)\n\u001b[1;32m   1698\u001b[0m \u001b[38;5;28;01mtry\u001b[39;00m:\n\u001b[1;32m   1699\u001b[0m     \u001b[38;5;66;03m# error: \"ParserBase\" has no attribute \"read\"\u001b[39;00m\n\u001b[1;32m   1700\u001b[0m     (\n\u001b[1;32m   1701\u001b[0m         index,\n\u001b[1;32m   1702\u001b[0m         columns,\n\u001b[1;32m   1703\u001b[0m         col_dict,\n\u001b[0;32m-> 1704\u001b[0m     ) \u001b[38;5;241m=\u001b[39m \u001b[38;5;28;43mself\u001b[39;49m\u001b[38;5;241;43m.\u001b[39;49m\u001b[43m_engine\u001b[49m\u001b[38;5;241;43m.\u001b[39;49m\u001b[43mread\u001b[49m\u001b[43m(\u001b[49m\u001b[43m  \u001b[49m\u001b[38;5;66;43;03m# type: ignore[attr-defined]\u001b[39;49;00m\n\u001b[1;32m   1705\u001b[0m \u001b[43m        \u001b[49m\u001b[43mnrows\u001b[49m\n\u001b[1;32m   1706\u001b[0m \u001b[43m    \u001b[49m\u001b[43m)\u001b[49m\n\u001b[1;32m   1707\u001b[0m \u001b[38;5;28;01mexcept\u001b[39;00m \u001b[38;5;167;01mException\u001b[39;00m:\n\u001b[1;32m   1708\u001b[0m     \u001b[38;5;28mself\u001b[39m\u001b[38;5;241m.\u001b[39mclose()\n",
      "File \u001b[0;32m~/.local/share/hatch/env/virtual/reproductions-87KRkfee/reproductions/lib/python3.10/site-packages/pandas/io/parsers/c_parser_wrapper.py:234\u001b[0m, in \u001b[0;36mCParserWrapper.read\u001b[0;34m(self, nrows)\u001b[0m\n\u001b[1;32m    232\u001b[0m \u001b[38;5;28;01mtry\u001b[39;00m:\n\u001b[1;32m    233\u001b[0m     \u001b[38;5;28;01mif\u001b[39;00m \u001b[38;5;28mself\u001b[39m\u001b[38;5;241m.\u001b[39mlow_memory:\n\u001b[0;32m--> 234\u001b[0m         chunks \u001b[38;5;241m=\u001b[39m \u001b[38;5;28;43mself\u001b[39;49m\u001b[38;5;241;43m.\u001b[39;49m\u001b[43m_reader\u001b[49m\u001b[38;5;241;43m.\u001b[39;49m\u001b[43mread_low_memory\u001b[49m\u001b[43m(\u001b[49m\u001b[43mnrows\u001b[49m\u001b[43m)\u001b[49m\n\u001b[1;32m    235\u001b[0m         \u001b[38;5;66;03m# destructive to chunks\u001b[39;00m\n\u001b[1;32m    236\u001b[0m         data \u001b[38;5;241m=\u001b[39m _concatenate_chunks(chunks)\n",
      "File \u001b[0;32m~/.local/share/hatch/env/virtual/reproductions-87KRkfee/reproductions/lib/python3.10/site-packages/pandas/_libs/parsers.pyx:812\u001b[0m, in \u001b[0;36mpandas._libs.parsers.TextReader.read_low_memory\u001b[0;34m()\u001b[0m\n",
      "File \u001b[0;32m~/.local/share/hatch/env/virtual/reproductions-87KRkfee/reproductions/lib/python3.10/site-packages/pandas/_libs/parsers.pyx:873\u001b[0m, in \u001b[0;36mpandas._libs.parsers.TextReader._read_rows\u001b[0;34m()\u001b[0m\n",
      "File \u001b[0;32m~/.local/share/hatch/env/virtual/reproductions-87KRkfee/reproductions/lib/python3.10/site-packages/pandas/_libs/parsers.pyx:848\u001b[0m, in \u001b[0;36mpandas._libs.parsers.TextReader._tokenize_rows\u001b[0;34m()\u001b[0m\n",
      "File \u001b[0;32m~/.local/share/hatch/env/virtual/reproductions-87KRkfee/reproductions/lib/python3.10/site-packages/pandas/_libs/parsers.pyx:859\u001b[0m, in \u001b[0;36mpandas._libs.parsers.TextReader._check_tokenize_status\u001b[0;34m()\u001b[0m\n",
      "File \u001b[0;32m~/.local/share/hatch/env/virtual/reproductions-87KRkfee/reproductions/lib/python3.10/site-packages/pandas/_libs/parsers.pyx:2025\u001b[0m, in \u001b[0;36mpandas._libs.parsers.raise_parser_error\u001b[0;34m()\u001b[0m\n",
      "\u001b[0;31mParserError\u001b[0m: Error tokenizing data. C error: EOF inside string starting at row 8"
     ]
    }
   ],
   "source": [
    "tmp = pd.read_csv('/home/amniskin/code/daggerml/transformers/data/glove.6B.50d.txt', delim_whitespace=True, header=None)\n",
    "tmp.head()"
   ]
  },
  {
   "cell_type": "code",
   "execution_count": 4,
   "id": "cd27562e-bd6f-4ee1-8098-98c4ed7b72b1",
   "metadata": {
    "tags": []
   },
   "outputs": [
    {
     "data": {
      "text/plain": [
       "date             datetime64[ns]\n",
       "precipitation           float64\n",
       "temp_max                float64\n",
       "temp_min                float64\n",
       "wind                    float64\n",
       "weather                  object\n",
       "dtype: object"
      ]
     },
     "execution_count": 4,
     "metadata": {},
     "output_type": "execute_result"
    }
   ],
   "source": [
    "source.dtypes"
   ]
  },
  {
   "cell_type": "code",
   "execution_count": 1,
   "id": "7d449674-4fbe-4f23-b4b3-9b117329d58b",
   "metadata": {
    "tags": []
   },
   "outputs": [
    {
     "name": "stderr",
     "output_type": "stream",
     "text": [
      "No GPU/TPU found, falling back to CPU. (Set TF_CPP_MIN_LOG_LEVEL=0 and rerun for more info.)\n"
     ]
    }
   ],
   "source": [
    "import chex\n",
    "from flax import linen as nn, core\n",
    "import jax.numpy as jnp\n",
    "import jax.random as jran\n",
    "import jax.tree_util\n",
    "from math import prod\n",
    "from typing import Callable, Sequence\n",
    "import matplotlib.pyplot as plt\n",
    "\n",
    "key = jran.PRNGKey(0)"
   ]
  },
  {
   "cell_type": "markdown",
   "id": "885512ff-682d-40c6-baac-4aba5de87618",
   "metadata": {},
   "source": [
    "# Input (output) embeddings\n",
    "![image.png](../_static/post/another-annotated-transformer/embed-circled.png)\n",
    "\n",
    "Let's start with the beginning of the data flow: the Input layer."
   ]
  },
  {
   "cell_type": "markdown",
   "id": "6522c40a-134c-48c9-b620-2365251b7901",
   "metadata": {},
   "source": [
    "## Tokenization\n",
    "The vocabulary we'll be using is digits 0-9. We then add a **pad** token (`\"p\"`) and a **start** token (`\"s\"`), both of which we'll explain later. So our tokens are `[\"0\", \"1\", \"2\", \"3\", \"4\", \"5\", \"6\", \"7\", \"8\", \"9\", \"p\", \"s\"]`. Our first task is to turn this into something numeric."
   ]
  },
  {
   "cell_type": "code",
   "execution_count": 2,
   "id": "613f8c56-af9f-4274-a392-eb2e1a8e40c3",
   "metadata": {
    "tags": []
   },
   "outputs": [
    {
     "data": {
      "text/plain": [
       "{'0': 0,\n",
       " '1': 1,\n",
       " '2': 2,\n",
       " '3': 3,\n",
       " '4': 4,\n",
       " '5': 5,\n",
       " '6': 6,\n",
       " '7': 7,\n",
       " '8': 8,\n",
       " '9': 9,\n",
       " 'p': 10,\n",
       " 's': 11}"
      ]
     },
     "execution_count": 2,
     "metadata": {},
     "output_type": "execute_result"
    }
   ],
   "source": [
    "vocab = {str(x): i for i, x in enumerate(list(range(10)) + ['p', 's'])}\n",
    "vocab"
   ]
  },
  {
   "cell_type": "markdown",
   "id": "86670f31-8986-443b-852e-1ee398e3d403",
   "metadata": {},
   "source": [
    "Now we can turn a number into a sequence of token indices like so:"
   ]
  },
  {
   "cell_type": "code",
   "execution_count": 3,
   "id": "b21e08bb-a4e3-4857-8048-98e366e5c173",
   "metadata": {
    "tags": []
   },
   "outputs": [
    {
     "data": {
      "text/plain": [
       "Array([2, 3, 2], dtype=int32)"
      ]
     },
     "execution_count": 3,
     "metadata": {},
     "output_type": "execute_result"
    }
   ],
   "source": [
    "def num2tokens(num):\n",
    "    return jnp.array([vocab.get(x) for x in str(num)])\n",
    "\n",
    "num2tokens(232)"
   ]
  },
  {
   "cell_type": "markdown",
   "id": "e01d7756-c506-44db-b467-c900556bfadb",
   "metadata": {},
   "source": [
    "## Input embedding\n",
    "\n",
    "An embedding is a learned mapping from tokens to (hopefully) more densly populated vectors. Under the hood it's stored as a matrix but that's an implementation detail. Below is a model that embeds a vocabulary with 5 unique tokens to 2 dimensions."
   ]
  },
  {
   "cell_type": "code",
   "execution_count": 4,
   "id": "fc57adc0-6fb9-46ca-98d7-3146cc34a41d",
   "metadata": {
    "tags": []
   },
   "outputs": [],
   "source": [
    "model = nn.Embed(len(vocab), 2)"
   ]
  },
  {
   "cell_type": "markdown",
   "id": "7ca6715b-f74e-4a09-933c-8f443abb735e",
   "metadata": {},
   "source": [
    "Note that we can easily inspect the parameters of a model, and that the **embedding** parameter below is a $5\\times 2$ matrix. It's $5\\times2$ because it's storing 5 independent 2-dimensional embeddings."
   ]
  },
  {
   "cell_type": "code",
   "execution_count": 5,
   "id": "247abcf8-df9f-4136-971f-d74319cabce3",
   "metadata": {
    "tags": []
   },
   "outputs": [
    {
     "data": {
      "text/plain": [
       "FrozenDict({\n",
       "    params: {\n",
       "        embedding: Array([[-0.07138442,  0.31376272],\n",
       "               [ 0.4053369 ,  0.9015168 ],\n",
       "               [-0.5195726 ,  0.2808921 ],\n",
       "               [-0.9512113 ,  0.35392332],\n",
       "               [-1.8304102 , -0.332351  ],\n",
       "               [ 0.40043908,  0.08431281],\n",
       "               [-0.4319639 , -0.7836565 ],\n",
       "               [ 0.54686207,  0.35685003],\n",
       "               [ 0.07191442, -0.1766023 ],\n",
       "               [-0.48776352,  0.33678803],\n",
       "               [ 1.6915971 ,  0.6755828 ],\n",
       "               [ 0.07079946,  0.05526797]], dtype=float32),\n",
       "    },\n",
       "})"
      ]
     },
     "execution_count": 5,
     "metadata": {},
     "output_type": "execute_result"
    }
   ],
   "source": [
    "params = model.init(key, jnp.array([1]))\n",
    "params"
   ]
  },
  {
   "cell_type": "markdown",
   "id": "66484eb6-fb2f-4deb-a6e3-927ed8477752",
   "metadata": {},
   "source": [
    "To get embeddings from tokens, we can either do it ourselves:"
   ]
  },
  {
   "cell_type": "code",
   "execution_count": 6,
   "id": "33990b09-c934-40dd-8bc6-c51a5044700d",
   "metadata": {
    "tags": []
   },
   "outputs": [
    {
     "data": {
      "text/plain": [
       "Array([[-0.5195726 ,  0.2808921 ],\n",
       "       [-0.5195726 ,  0.2808921 ],\n",
       "       [-0.9512113 ,  0.35392332],\n",
       "       [-1.8304102 , -0.332351  ]], dtype=float32)"
      ]
     },
     "execution_count": 6,
     "metadata": {},
     "output_type": "execute_result"
    }
   ],
   "source": [
    "nn.one_hot(num2tokens(2234), len(vocab)) @ params['params']['embedding']"
   ]
  },
  {
   "cell_type": "markdown",
   "id": "90bbf7c5-1327-4688-9853-238f2fa3ed89",
   "metadata": {},
   "source": [
    "Or use the flax api (which is going to be necessary once our model gets more complicated):"
   ]
  },
  {
   "cell_type": "code",
   "execution_count": 7,
   "id": "9f1de06e-33b0-4502-9a7b-a956ce7c0c4e",
   "metadata": {
    "tags": []
   },
   "outputs": [
    {
     "data": {
      "text/plain": [
       "Array([[-0.5195726 ,  0.2808921 ],\n",
       "       [-0.5195726 ,  0.2808921 ],\n",
       "       [-0.9512113 ,  0.35392332],\n",
       "       [-1.8304102 , -0.332351  ]], dtype=float32)"
      ]
     },
     "execution_count": 7,
     "metadata": {},
     "output_type": "execute_result"
    }
   ],
   "source": [
    "model.apply(params, num2tokens(2234))"
   ]
  },
  {
   "cell_type": "markdown",
   "id": "171978fd-9d04-4be9-9572-7aacd3a5e607",
   "metadata": {},
   "source": [
    "# Sequence masking\n",
    "Transformers have a fixed context window. This means there's a maximum sequence length and every sequence passed to the model must be of that length. We handle this issue in two ways:\n",
    "1. padding\n",
    "2. masking"
   ]
  },
  {
   "cell_type": "markdown",
   "id": "3b7f3d42-f2eb-4800-8be4-d5d2fe42b3fc",
   "metadata": {},
   "source": [
    "## Padding\n",
    "Let's say our max sequence length is 5 and we're constructing a training batch from the following 4 numbers: `[123, 42451, 0, 12]`. Our sequences look like this:"
   ]
  },
  {
   "cell_type": "code",
   "execution_count": 8,
   "id": "65e06157-1062-4c39-a2c8-5cfd24e83515",
   "metadata": {
    "tags": []
   },
   "outputs": [
    {
     "data": {
      "text/plain": [
       "[Array([1, 2, 3], dtype=int32),\n",
       " Array([4, 2, 4, 5, 1], dtype=int32),\n",
       " Array([0], dtype=int32),\n",
       " Array([1, 2], dtype=int32)]"
      ]
     },
     "execution_count": 8,
     "metadata": {},
     "output_type": "execute_result"
    }
   ],
   "source": [
    "[num2tokens(x) for x in [123, 42451, 0, 12]]"
   ]
  },
  {
   "cell_type": "markdown",
   "id": "e2c5a508-c51f-4b49-9db3-c2063cb97632",
   "metadata": {},
   "source": [
    "They're all of different lengths so we can't put them into a matrix, and we can't feed them to our model. We need to pad."
   ]
  },
  {
   "cell_type": "code",
   "execution_count": 9,
   "id": "f6feabab-f59c-49cb-a877-d74b7f2975bd",
   "metadata": {
    "tags": []
   },
   "outputs": [
    {
     "data": {
      "text/plain": [
       "Array([[ 1,  2,  3, 10, 10],\n",
       "       [ 4,  2,  4,  5,  1],\n",
       "       [ 0, 10, 10, 10, 10],\n",
       "       [ 1,  2, 10, 10, 10]], dtype=int32)"
      ]
     },
     "execution_count": 9,
     "metadata": {},
     "output_type": "execute_result"
    }
   ],
   "source": [
    "tokens = [num2tokens(x) for x in [123, 42451, 0, 12]]\n",
    "tokens = jnp.array([jnp.pad(x, (0, 5 - len(x)), 'constant', constant_values=(0, vocab['p']))\n",
    "                    for x in tokens])\n",
    "tokens"
   ]
  },
  {
   "cell_type": "code",
   "execution_count": 10,
   "id": "5e745d78-3674-4c11-ba51-aae506f6ee17",
   "metadata": {
    "tags": []
   },
   "outputs": [
    {
     "data": {
      "text/plain": [
       "(4, 5, 2)"
      ]
     },
     "execution_count": 10,
     "metadata": {},
     "output_type": "execute_result"
    }
   ],
   "source": [
    "model.apply(params, tokens).shape"
   ]
  },
  {
   "cell_type": "markdown",
   "id": "2aa8d9ed-dc73-468a-aa37-a764e66dc0f0",
   "metadata": {},
   "source": [
    "## Masking\n",
    "Now we can fit these sequences into a batch, but we don't want the model to learn from the padded characters. So for that, we [mask](https://www.ml-science.com/masking). The idea being that we identify which tokens we don't want feeding into gradients so that we can later ensure they don't. There are several ways to do it. Here's one:"
   ]
  },
  {
   "cell_type": "code",
   "execution_count": 11,
   "id": "aea23d25-0105-45ce-8979-7dfb04e5d0f1",
   "metadata": {
    "tags": []
   },
   "outputs": [
    {
     "data": {
      "text/plain": [
       "Array([[0., 0., 0., 1., 1.],\n",
       "       [0., 0., 0., 0., 0.],\n",
       "       [0., 1., 1., 1., 1.],\n",
       "       [0., 0., 1., 1., 1.]], dtype=float32)"
      ]
     },
     "execution_count": 11,
     "metadata": {},
     "output_type": "execute_result"
    }
   ],
   "source": [
    "mask = (tokens == vocab['p']).astype(jnp.float32)\n",
    "mask"
   ]
  },
  {
   "cell_type": "markdown",
   "id": "bc278e4c-f9a8-4403-949c-ee2f9b95d8b0",
   "metadata": {},
   "source": [
    "More on this in a bit"
   ]
  },
  {
   "cell_type": "markdown",
   "id": "1d87fb80-4fb1-4e3c-955d-931fee68f5d1",
   "metadata": {},
   "source": [
    "# Positional encoding\n",
    "\n",
    "![image.png](assets/posenc-circled.png)"
   ]
  },
  {
   "cell_type": "markdown",
   "id": "f23ac219-15e2-42d3-88a3-6c42bff07571",
   "metadata": {},
   "source": [
    "The positional encoding is the same size as a single observation fed to the model and added to each observation in the batch. We use the same function as they used in the original paper. Let $X\\in\\mathbb{R}^{s\\times d}$ where $s$ is the max sequence length, and $d$ is the embedding dimension.\n",
    "\n",
    "$$f(X_{i,j}) = \\begin{cases}\n",
    "\\sin\\left(i/\\left(10000^{j/d}\\right)\\right) & \\text{if } j\\equiv 0\\pmod{2} \\\\\n",
    "\\cos\\left(i/\\left(10000^{(j-1)/d}\\right)\\right) & \\text{if } j\\equiv 1\\pmod{2}\n",
    "\\end{cases}$$"
   ]
  },
  {
   "cell_type": "code",
   "execution_count": 12,
   "id": "4bba0a38-9ce1-4ebe-9a34-ab88519a5c85",
   "metadata": {
    "tags": []
   },
   "outputs": [
    {
     "data": {
      "text/plain": [
       "Array([[ 0.        ,  1.        ],\n",
       "       [ 0.84147096,  0.5403023 ],\n",
       "       [ 0.9092974 , -0.41614684],\n",
       "       [ 0.14112   , -0.9899925 ],\n",
       "       [-0.7568025 , -0.6536436 ]], dtype=float32)"
      ]
     },
     "execution_count": 12,
     "metadata": {},
     "output_type": "execute_result"
    }
   ],
   "source": [
    "def sin_pos_enc(sequence_length, embed_dim):\n",
    "    \"\"\"create sin/cos positional encodings\n",
    "\n",
    "    Paramters\n",
    "    =========\n",
    "    sequence_length : int\n",
    "        The max length of the input sequences for this model\n",
    "    embed_dim : int\n",
    "        the embedding dimension\n",
    "\n",
    "    Returns\n",
    "    =======\n",
    "    a matrix of shape: (sequence_length, embed_dim)\n",
    "    \"\"\"\n",
    "    chex.assert_is_divisible(embed_dim, 2)\n",
    "    X = jnp.expand_dims(jnp.arange(sequence_length), 1) / \\\n",
    "        jnp.power(10000, jnp.arange(embed_dim, step=2) / embed_dim)\n",
    "    out = jnp.empty((sequence_length, embed_dim))\n",
    "    out = out.at[:, 0::2].set(jnp.sin(X))\n",
    "    out = out.at[:, 1::2].set(jnp.cos(X))\n",
    "    return out\n",
    "\n",
    "sin_pos_enc(5, 2)"
   ]
  },
  {
   "cell_type": "markdown",
   "id": "6ac59a77-27de-4a83-bcdd-7a7aa7ec7e3d",
   "metadata": {},
   "source": [
    "So when we implement the `Encoder` and the `Decoder`, we'll sum the embeddings and the positional encodings (in practice, we scale the embeddings beforehand)."
   ]
  },
  {
   "cell_type": "code",
   "execution_count": 13,
   "id": "723f2379-e41c-4b6f-a548-b0ccfe2dc655",
   "metadata": {
    "tags": []
   },
   "outputs": [
    {
     "data": {
      "text/plain": [
       "Array([[-0.0000000e+00,  3.1376272e-01],\n",
       "       [ 3.4107921e-01,  4.8709157e-01],\n",
       "       [-4.7244602e-01, -1.1689236e-01],\n",
       "       [-1.3423494e-01, -3.5038143e-01],\n",
       "       [ 1.3852590e+00,  2.1723911e-01],\n",
       "       [-3.8399076e-01,  2.3916358e-02],\n",
       "       [ 1.2069740e-01, -7.5244367e-01],\n",
       "       [ 3.5928103e-01,  2.6903003e-01],\n",
       "       [ 7.1149126e-02,  2.5695641e-02],\n",
       "       [-2.0101637e-01, -3.0685776e-01],\n",
       "       [-9.2026454e-01, -5.6686229e-01],\n",
       "       [-7.0798770e-02,  2.4459933e-04]], dtype=float32)"
      ]
     },
     "execution_count": 13,
     "metadata": {},
     "output_type": "execute_result"
    }
   ],
   "source": [
    "params['params']['embedding'] * sin_pos_enc(*params['params']['embedding'].shape)"
   ]
  },
  {
   "cell_type": "markdown",
   "id": "946b0cc6-dc71-49c2-b00b-9d6eea6f1f08",
   "metadata": {},
   "source": [
    "# Attention\n",
    "![image.png](assets/attn-circled.png)"
   ]
  },
  {
   "cell_type": "markdown",
   "id": "8155ec59-f548-4dd9-927b-a167ea8f7f6d",
   "metadata": {},
   "source": [
    "Transformers are built around this **attention** mechanism, so this warrants its own section. Multi-head attention involves stacking a collection of attention \"heads\" and adding some learned weights in the mix. As such, we'll start with attention heads and progress to multi-head attention."
   ]
  },
  {
   "cell_type": "markdown",
   "id": "d08a0913-9f82-43da-8bf7-4956f2554e1e",
   "metadata": {},
   "source": [
    "Attention is just a function that takes 3 arguments (key, value, and query) and aggregates them to a vector. There are a few forms of attention but we'll focus on the one used in the seminal paper: **scaled dot product** attention."
   ]
  },
  {
   "cell_type": "markdown",
   "id": "fe178f2e-9be1-4c14-bcaf-4b133228fe22",
   "metadata": {},
   "source": [
    "## Scaled dot product attention\n",
    "\n",
    "Let $Q\\in\\mathbb{R}^{n\\times d},K\\in\\mathbb{R}^{m\\times d},V\\in\\mathbb{R}^{m\\times v}$ be the **query**, **key**, and **value**. Basically we just need the shapes to be fit for the matrix multiplication below. A good reference for this is [d2l.ai](https://d2l.ai/chapter_attention-mechanisms-and-transformers/attention-scoring-functions.html).\n",
    "\n",
    "$$\\text{softmax}\\left(\\frac{QK^T}{\\sqrt{d}}\\right)V\\in\\mathbb{R}^{n\\times v}$$\n",
    "\n",
    "The $\\text{softmax}\\left(\\frac{QK^T}{\\sqrt{d}}\\right)$ part is called the **attention weights**.\n",
    "\n",
    "It's worthwhile to note that there are no learnable weights in this formula.\n",
    "\n",
    "This formula is deceptive in 2 ways:\n",
    "1. The softmax is actually a masked softmax\n",
    "2. There's generally some dropout on the attention weights\n",
    "\n",
    "Let's take this piece by piece."
   ]
  },
  {
   "cell_type": "markdown",
   "id": "dbea95e2-1b0f-4340-a397-500c3a59373a",
   "metadata": {},
   "source": [
    "### Masked softmax\n",
    "\n",
    "Let $X\\in\\mathbb{R}^k$ a vector, then $\\text{softmax}(X)\\in\\mathbb{R}^k$.\n",
    "\n",
    "$$\\text{softmax}(X)_i = \\frac{e^{X_i}}{\\sum_{j=0}^{k-1}e^{X_j}}$$\n",
    "\n",
    "It's just normalization with a monotonic function applied, meaning the relative ranking of the elements of $X$ aren't changed. For more on this, see [this](https://charlielehman.github.io/post/visualizing-tempscaling/) post.\n",
    "\n",
    "For masked softmax, we'll be taking the approximate approach. Because of the sum in the denominator and the exponentiation, it's unwise to mask with 0 ($e^0 = 1$). Instead we'll mask with a very large negative number before we exponentiate so that the result is close to 0 ($e^{-\\infty} \\approx 0$)."
   ]
  },
  {
   "cell_type": "markdown",
   "id": "9faa5f22-7715-4852-894c-408cbc22daf0",
   "metadata": {},
   "source": [
    "Let's recall our tokens and mask from earlier:"
   ]
  },
  {
   "cell_type": "code",
   "execution_count": 14,
   "id": "62ca66b8-2456-4e14-a840-acb2c1b86c2e",
   "metadata": {
    "tags": []
   },
   "outputs": [
    {
     "data": {
      "text/plain": [
       "Array([[ 1,  2,  3, 10, 10],\n",
       "       [ 4,  2,  4,  5,  1],\n",
       "       [ 0, 10, 10, 10, 10],\n",
       "       [ 1,  2, 10, 10, 10]], dtype=int32)"
      ]
     },
     "execution_count": 14,
     "metadata": {},
     "output_type": "execute_result"
    }
   ],
   "source": [
    "tokens"
   ]
  },
  {
   "cell_type": "code",
   "execution_count": 15,
   "id": "6ea1ba21-b3dc-4e08-967c-f8daea83cb6b",
   "metadata": {
    "tags": []
   },
   "outputs": [
    {
     "data": {
      "text/plain": [
       "Array([[0., 0., 0., 1., 1.],\n",
       "       [0., 0., 0., 0., 0.],\n",
       "       [0., 1., 1., 1., 1.],\n",
       "       [0., 0., 1., 1., 1.]], dtype=float32)"
      ]
     },
     "execution_count": 15,
     "metadata": {},
     "output_type": "execute_result"
    }
   ],
   "source": [
    "mask"
   ]
  },
  {
   "cell_type": "code",
   "execution_count": 16,
   "id": "5ff58edf-dad5-4045-9a06-19cca4c06426",
   "metadata": {
    "tags": []
   },
   "outputs": [
    {
     "data": {
      "text/plain": [
       "Array([[0.09003057, 0.24472846, 0.6652409 , 0.        , 0.        ],\n",
       "       [0.20393994, 0.02760027, 0.20393994, 0.55436623, 0.01015357],\n",
       "       [1.        , 0.        , 0.        , 0.        , 0.        ],\n",
       "       [0.26894143, 0.7310586 , 0.        , 0.        , 0.        ]],      dtype=float32)"
      ]
     },
     "execution_count": 16,
     "metadata": {},
     "output_type": "execute_result"
    }
   ],
   "source": [
    "def masked_softmax(args, mask):\n",
    "    if mask is not None:\n",
    "        args = args + (mask.astype(args.dtype) * -10_000.0)\n",
    "    return nn.softmax(args)\n",
    "\n",
    "masked_softmax(tokens, mask)"
   ]
  },
  {
   "cell_type": "markdown",
   "id": "6268eb13-1476-4f31-934d-000363f7d095",
   "metadata": {},
   "source": [
    "### The meat\n",
    "\n",
    "Let's start with a few simplifications and then add pieces in.\n",
    "\n",
    "1. assume that $K=V$,\n",
    "2. assume the rows of $V$ all have unit norm\n",
    "3. ignore the softmax and the $1/\\sqrt{d}$ factor.\n",
    "    \n",
    "Under these assumptions, the attention weights become $(QV^T)V$, which is the [projection](https://en.wikipedia.org/wiki/Vector_projection) of $Q$ onto the rows of $V$. Things are pretty interpretable under those simplifying assumptions, so let's start justifying them.\n",
    "\n",
    "1. Although it's not true that $K=V$ in general, it is true when it comes to transformers. You can see in the diagram that the key and value (although not labeled) are always the same in all attention heads.\n",
    "2. We have normalization layers after every step, so this shouldn't be too off.\n",
    "3. Although this does break the interpretation, it's not so bad still because it's at least a monotonically increasing."
   ]
  },
  {
   "cell_type": "code",
   "execution_count": 17,
   "id": "08167598-e27e-4041-9e6b-61256d293432",
   "metadata": {
    "tags": []
   },
   "outputs": [
    {
     "data": {
      "text/plain": [
       "(3, 11)"
      ]
     },
     "execution_count": 17,
     "metadata": {},
     "output_type": "execute_result"
    }
   ],
   "source": [
    "Q = jran.normal(key, (3, 7))\n",
    "K = jran.normal(key, (5, 7))\n",
    "V = jran.normal(key, (5, 11))\n",
    "(masked_softmax(Q @ K.T / jnp.sqrt(Q.shape[-1]), None) @ V).shape"
   ]
  },
  {
   "cell_type": "markdown",
   "id": "8f75de64-78a0-4874-84ef-80704f1c1a64",
   "metadata": {},
   "source": [
    "When we add a batch dimension (and later a `num_heads` dimension) we'll want to broadcast the multiplication over those dimensions, so we won't be able to use `K.T`. Instead, we'll use `K.swapaxes`, which will allow us to swap only the last two dimensions."
   ]
  },
  {
   "cell_type": "code",
   "execution_count": 18,
   "id": "e3b79051-2620-4ee4-98a0-efc0f9057a9d",
   "metadata": {
    "tags": []
   },
   "outputs": [
    {
     "data": {
      "text/plain": [
       "(11, 3, 11)"
      ]
     },
     "execution_count": 18,
     "metadata": {},
     "output_type": "execute_result"
    }
   ],
   "source": [
    "Q = jran.normal(key, (11, 3, 7))\n",
    "K = jran.normal(key, (11, 5, 7))\n",
    "V = jran.normal(key, (11, 5, 11))\n",
    "(masked_softmax(Q @ K.swapaxes(-1, -2) / jnp.sqrt(Q.shape[-1]), None) @ V).shape"
   ]
  },
  {
   "cell_type": "markdown",
   "id": "41e171ec-4c84-42c1-841d-da9e972c4f3c",
   "metadata": {},
   "source": [
    "Bringing it all together and adding some dropout to the attention weights, we end up with:"
   ]
  },
  {
   "cell_type": "code",
   "execution_count": 19,
   "id": "645db686-aab2-4c51-a94c-76a04fb1db90",
   "metadata": {
    "tags": []
   },
   "outputs": [],
   "source": [
    "def dot_prod_attn(q, k, v, dropout=lambda x: x, mask=None):\n",
    "    # NxD @ DxM => NxM\n",
    "    # (B[, H], N, M)\n",
    "    attn_scores = q @ k.swapaxes(-2, -1) / jnp.sqrt(q.shape[-1])\n",
    "    attn_weights = masked_softmax(attn_scores, mask)\n",
    "    # (B[, H], N, D)\n",
    "    out = dropout(attn_weights) @ v\n",
    "    return out, attn_weights"
   ]
  },
  {
   "cell_type": "markdown",
   "id": "c71b9ff0-29c2-4d31-8529-68633a5f4376",
   "metadata": {},
   "source": [
    "## Multihead Attention\n",
    "\n",
    "![image.png](./assets/multi-head-attention.png)"
   ]
  },
  {
   "cell_type": "markdown",
   "id": "591e7447-011c-4937-8b5c-c9faa22b0c80",
   "metadata": {},
   "source": [
    "At a high level, mutli-head attention is a bunch of stacked attention layers. But given that there are no learnable weights in the attention heads (they query, key, and values are all arguments), each would yield the same result -- not so useful. So instead, we train a linear layer per attention head, and then combine the results.\n",
    "\n",
    "Our interpretation of attention being the projection needs some adjustment now that we're applying these linear layers (it's no longer true that $K=V$). But we'll leave this for the reader (or maybe another post)."
   ]
  },
  {
   "cell_type": "markdown",
   "id": "2aadf85b-2d19-4874-b1fe-17647ebb82dc",
   "metadata": {},
   "source": [
    "### One linear vs stacked linears"
   ]
  },
  {
   "cell_type": "markdown",
   "id": "6ab7cb12-a778-44e9-b572-d0a76c5bafb9",
   "metadata": {},
   "source": [
    "In practice, most implementations use one linear layer and reshape the output rather than storing a collection of linear models. At first that might not seem kosher, but it is. Here's a visual interpretation.\n",
    "\n",
    "![stacked-linears](../_static/post/another-annotated-transformer/nn.graph.png)"
   ]
  },
  {
   "cell_type": "markdown",
   "id": "8d62ff57-67d1-450d-99cf-a28928dd618b",
   "metadata": {},
   "source": [
    "To show this in action, we'll approach this both ways. We'll first instantiate a dense layer much like the full diagram above, then we'll split out the red and blue arrows, and compare the two outputs."
   ]
  },
  {
   "cell_type": "code",
   "execution_count": 20,
   "id": "c5527da1-f14a-49f5-88a5-287ff471d58f",
   "metadata": {
    "tags": []
   },
   "outputs": [],
   "source": [
    "batch_size = 2\n",
    "sequence_length = 5\n",
    "embed_dim = 3\n",
    "n_heads = 2\n",
    "size_per_head = 2"
   ]
  },
  {
   "cell_type": "code",
   "execution_count": 21,
   "id": "8b002a46-b2ac-40df-8597-7853c6be7370",
   "metadata": {
    "tags": []
   },
   "outputs": [
    {
     "data": {
      "text/plain": [
       "(2, 5, 3)"
      ]
     },
     "execution_count": 21,
     "metadata": {},
     "output_type": "execute_result"
    }
   ],
   "source": [
    "X = jnp.arange(batch_size * sequence_length * embed_dim)\n",
    "X = X.reshape((batch_size, sequence_length, embed_dim))\n",
    "X.shape"
   ]
  },
  {
   "cell_type": "code",
   "execution_count": 22,
   "id": "310beb55-d4e9-4d2c-a4c0-babdaf284656",
   "metadata": {
    "tags": []
   },
   "outputs": [
    {
     "data": {
      "text/plain": [
       "FrozenDict({\n",
       "    params: {\n",
       "        kernel: Array([[ 0.4087802 ,  0.43891278, -0.23872387, -0.8494273 ],\n",
       "               [ 0.41122693, -0.5888459 , -0.55229884,  0.49776074],\n",
       "               [ 0.3480036 , -0.7046275 , -0.30813402, -1.21659   ]],      dtype=float32),\n",
       "        bias: Array([0., 0., 0., 0.], dtype=float32),\n",
       "    },\n",
       "})"
      ]
     },
     "execution_count": 22,
     "metadata": {},
     "output_type": "execute_result"
    }
   ],
   "source": [
    "params = nn.Dense(n_heads * size_per_head).init(key, X)\n",
    "params"
   ]
  },
  {
   "cell_type": "code",
   "execution_count": 23,
   "id": "ea6fab43-4e13-40d6-a9df-f5e2c7c5ffcd",
   "metadata": {
    "tags": []
   },
   "outputs": [],
   "source": [
    "param_list = []\n",
    "for i in range(n_heads):\n",
    "    p = params.unfreeze()\n",
    "    p['params'] = {\n",
    "        'kernel': p['params']['kernel'][:, i * size_per_head:(i + 1) * size_per_head],\n",
    "        'bias': p['params']['bias'][i * size_per_head:(i + 1) * size_per_head]\n",
    "    }\n",
    "    param_list.append(core.freeze(p))"
   ]
  },
  {
   "cell_type": "code",
   "execution_count": 24,
   "id": "18384aec-82c1-46e5-9547-5cd8a2449f7b",
   "metadata": {
    "tags": []
   },
   "outputs": [
    {
     "data": {
      "text/plain": [
       "Array([[[  1.1072341,  -1.998101 ],\n",
       "        [  4.611266 ,  -4.561783 ],\n",
       "        [  8.115298 ,  -7.1254644],\n",
       "        [ 11.61933  ,  -9.689147 ],\n",
       "        [ 15.123363 , -12.252829 ]],\n",
       "\n",
       "       [[ -1.168567 ,  -1.9354193],\n",
       "        [ -4.466037 ,  -6.640189 ],\n",
       "        [ -7.7635074, -11.344959 ],\n",
       "        [-11.060977 , -16.049728 ],\n",
       "        [-14.358448 , -20.7545   ]]], dtype=float32)"
      ]
     },
     "metadata": {},
     "output_type": "display_data"
    },
    {
     "name": "stdout",
     "output_type": "stream",
     "text": [
      "==================================================\n"
     ]
    },
    {
     "data": {
      "text/plain": [
       "Array([[[  1.1072341,  -1.998101 ],\n",
       "        [  4.611266 ,  -4.561783 ],\n",
       "        [  8.115298 ,  -7.1254644],\n",
       "        [ 11.61933  ,  -9.689147 ],\n",
       "        [ 15.123363 , -12.252829 ]],\n",
       "\n",
       "       [[ -1.168567 ,  -1.9354193],\n",
       "        [ -4.466037 ,  -6.640189 ],\n",
       "        [ -7.7635074, -11.344959 ],\n",
       "        [-11.060977 , -16.049728 ],\n",
       "        [-14.358448 , -20.7545   ]]], dtype=float32)"
      ]
     },
     "metadata": {},
     "output_type": "display_data"
    }
   ],
   "source": [
    "display(jnp.stack([nn.Dense(size_per_head).apply(p, X) for p in param_list]).swapaxes(0, 1)[0])\n",
    "print('=' * 50)\n",
    "display(nn.Dense(n_heads * size_per_head).apply(params, X)\\\n",
    "        .reshape((batch_size, sequence_length, n_heads, size_per_head))\\\n",
    "        .swapaxes(1, 2)[0])"
   ]
  },
  {
   "cell_type": "markdown",
   "id": "85a12cfa-ed65-4340-ae5f-bb7aecd99b5a",
   "metadata": {},
   "source": [
    "We're ready to implement `Multi-Head Attention` layer. You'll notice there's some weird stuff going on with the mask. This is intentional and it'll make more sense once we implement the `DecoderLayer`[^mha_mask].\n",
    "\n",
    "[^mha_mask]: You have OCD, huh? Yeah, me too... If check out the diagram, notice the `Masked Multi-Head Attention` layer. We'll be masking the attention weights for the self attention layer. That mask is of a different shape from the sequence masking, so these counterintuitive lines dealing with the mask are to facilitate that later. It seemed easier than having to edit the classes and whatnot just for that one issue."
   ]
  },
  {
   "cell_type": "code",
   "execution_count": 25,
   "id": "a1579249-a08a-470e-a1c5-aabad4756fb4",
   "metadata": {
    "tags": []
   },
   "outputs": [],
   "source": [
    "class MultiHeadAttention(nn.Module):\n",
    "    n_heads: int\n",
    "    size_per_head: int\n",
    "    attn_dropout: float\n",
    "    fc_dropout: float\n",
    "    attn_fn: Callable = dot_prod_attn\n",
    "\n",
    "    @nn.compact\n",
    "    def __call__(self, q, k, v, mask=None, training=False):\n",
    "        \"expected shape: Batch, [N|M], Dim\"\n",
    "        B, N, D = q.shape\n",
    "        _, M, _ = k.shape\n",
    "\n",
    "        def qkv_layer(x, name):\n",
    "            x = nn.Dense(self.n_heads * self.size_per_head, name=name)(x)\n",
    "            x = x.reshape((B, -1, self.n_heads, self.size_per_head)).swapaxes(1, 2)\n",
    "            return x\n",
    "        # BxNxD => BxHxNxP\n",
    "        q = qkv_layer(q, 'query_linear')\n",
    "        # BxMxD => BxHxMxP\n",
    "        k = qkv_layer(k, 'key_linear')\n",
    "        # BxMxD => BxHxMxP\n",
    "        v = qkv_layer(v, 'value_linear')\n",
    "        if mask is not None:\n",
    "            # accounting for reshape in qkv_layer\n",
    "            # B[xN]xN   => Bx1[xN]xN\n",
    "            mask = jnp.expand_dims(mask, 1)\n",
    "            if mask.ndim < q.ndim:\n",
    "                # softmax is applied to dim -1\n",
    "                # Bx1xN => Bx1x1xN\n",
    "                mask = jnp.expand_dims(mask, -2)\n",
    "        attn_do = nn.Dropout(self.attn_dropout, deterministic=not training, name='attn_dropout')\n",
    "        out, attn_weights = self.attn_fn(q, k, v, attn_do, mask=mask)\n",
    "        # uncomment to keep attention weights in state\n",
    "        # self.sow('intermediates', 'weights', attn_weights)\n",
    "        out = out.swapaxes(1, 2).reshape((B, N, -1))\n",
    "        out = nn.Dense(D, name='output_linear')(out)\n",
    "        out = nn.Dropout(self.fc_dropout, deterministic=not training, name='fc_dropout')(out)\n",
    "        return out"
   ]
  },
  {
   "cell_type": "markdown",
   "id": "8fede895-1cb0-4022-b319-838021c58530",
   "metadata": {},
   "source": [
    "To better understand this model, we'll calculate the number of parameters and then see if we're right.\n",
    "\n",
    "Each of the `query`, `key`, and `value` linear layers has `embed_dim * n_heads * size_per_head + size_per_head` many parameters (the kernel and the bias terms). The final linear layer brings us back to `embed_dim` size, so we have `n_heads * size_per_head * embed_dim + embed_dim`.\n",
    "\n",
    "All together, our formula is:"
   ]
  },
  {
   "cell_type": "code",
   "execution_count": 26,
   "id": "5d642f4e-2280-4ac0-85a3-8afefa6ee8bd",
   "metadata": {
    "tags": []
   },
   "outputs": [
    {
     "data": {
      "text/plain": [
       "63"
      ]
     },
     "execution_count": 26,
     "metadata": {},
     "output_type": "execute_result"
    }
   ],
   "source": [
    "3 * (n_heads * (size_per_head * embed_dim + size_per_head)) + (n_heads * size_per_head * embed_dim + embed_dim)"
   ]
  },
  {
   "cell_type": "markdown",
   "id": "1fdc0abc-f35f-4ea8-a896-f4f58e90ba4b",
   "metadata": {},
   "source": [
    "Let's check our work."
   ]
  },
  {
   "cell_type": "code",
   "execution_count": 27,
   "id": "b6c8fe1b-856e-43be-94b4-0aa1d9e7913f",
   "metadata": {
    "tags": []
   },
   "outputs": [
    {
     "data": {
      "text/plain": [
       "(2, 2)"
      ]
     },
     "execution_count": 27,
     "metadata": {},
     "output_type": "execute_result"
    }
   ],
   "source": [
    "n_heads, size_per_head"
   ]
  },
  {
   "cell_type": "code",
   "execution_count": 28,
   "id": "51aafe6e-8de7-493b-b950-4d1069c30e42",
   "metadata": {
    "tags": []
   },
   "outputs": [
    {
     "data": {
      "text/plain": [
       "(2, 5, 3)"
      ]
     },
     "execution_count": 28,
     "metadata": {},
     "output_type": "execute_result"
    }
   ],
   "source": [
    "X = jran.uniform(key, (batch_size, sequence_length, embed_dim))\n",
    "X.shape"
   ]
  },
  {
   "cell_type": "code",
   "execution_count": 29,
   "id": "5d135197-c342-47a7-a901-035f4bac7b13",
   "metadata": {
    "tags": []
   },
   "outputs": [
    {
     "data": {
      "text/plain": [
       "FrozenDict({\n",
       "    params: {\n",
       "        key_linear: {\n",
       "            bias: (4,),\n",
       "            kernel: (3, 4),\n",
       "        },\n",
       "        output_linear: {\n",
       "            bias: (3,),\n",
       "            kernel: (4, 3),\n",
       "        },\n",
       "        query_linear: {\n",
       "            bias: (4,),\n",
       "            kernel: (3, 4),\n",
       "        },\n",
       "        value_linear: {\n",
       "            bias: (4,),\n",
       "            kernel: (3, 4),\n",
       "        },\n",
       "    },\n",
       "})"
      ]
     },
     "execution_count": 29,
     "metadata": {},
     "output_type": "execute_result"
    }
   ],
   "source": [
    "mdl = MultiHeadAttention(n_heads, size_per_head, attn_dropout=0.2, fc_dropout=0.3)\n",
    "params = mdl.init(key, X, X, X, mask=(jnp.max(X, axis=-1) < 0.8).astype(jnp.float32))\n",
    "\n",
    "jax.tree_map(jnp.shape, params)"
   ]
  },
  {
   "cell_type": "code",
   "execution_count": 30,
   "id": "721b9041-b8bd-4c23-9773-c6ce785d92dc",
   "metadata": {
    "tags": []
   },
   "outputs": [
    {
     "data": {
      "text/html": [
       "<pre style=\"white-space:pre;overflow-x:auto;line-height:normal;font-family:Menlo,'DejaVu Sans Mono',consolas,'Courier New',monospace\"><span style=\"font-style: italic\">                                    MultiHeadAttention Summary                                     </span>\n",
       "┏━━━━━━━━━━━━━━━┳━━━━━━━━━━━━━━━━━━━━┳━━━━━━━━━━━━━━━━━━┳━━━━━━━━━━━━━━━━━━┳━━━━━━━━━━━━━━━━━━━━━━┓\n",
       "┃<span style=\"font-weight: bold\"> path          </span>┃<span style=\"font-weight: bold\"> module             </span>┃<span style=\"font-weight: bold\"> inputs           </span>┃<span style=\"font-weight: bold\"> outputs          </span>┃<span style=\"font-weight: bold\"> params               </span>┃\n",
       "┡━━━━━━━━━━━━━━━╇━━━━━━━━━━━━━━━━━━━━╇━━━━━━━━━━━━━━━━━━╇━━━━━━━━━━━━━━━━━━╇━━━━━━━━━━━━━━━━━━━━━━┩\n",
       "│               │ MultiHeadAttention │ - <span style=\"color: #7f7f7f; text-decoration-color: #7f7f7f\">float32</span>[2,5,3] │ <span style=\"color: #7f7f7f; text-decoration-color: #7f7f7f\">float32</span>[2,5,3]   │                      │\n",
       "│               │                    │ - <span style=\"color: #7f7f7f; text-decoration-color: #7f7f7f\">float32</span>[2,5,3] │                  │                      │\n",
       "│               │                    │ - <span style=\"color: #7f7f7f; text-decoration-color: #7f7f7f\">float32</span>[2,5,3] │                  │                      │\n",
       "├───────────────┼────────────────────┼──────────────────┼──────────────────┼──────────────────────┤\n",
       "│ query_linear  │ Dense              │ <span style=\"color: #7f7f7f; text-decoration-color: #7f7f7f\">float32</span>[2,5,3]   │ <span style=\"color: #7f7f7f; text-decoration-color: #7f7f7f\">float32</span>[2,5,4]   │ bias: <span style=\"color: #7f7f7f; text-decoration-color: #7f7f7f\">float32</span>[4]     │\n",
       "│               │                    │                  │                  │ kernel: <span style=\"color: #7f7f7f; text-decoration-color: #7f7f7f\">float32</span>[3,4] │\n",
       "│               │                    │                  │                  │                      │\n",
       "│               │                    │                  │                  │ <span style=\"font-weight: bold\">16 </span><span style=\"color: #7f7f7f; text-decoration-color: #7f7f7f; font-weight: bold\">(64 B)</span>            │\n",
       "├───────────────┼────────────────────┼──────────────────┼──────────────────┼──────────────────────┤\n",
       "│ key_linear    │ Dense              │ <span style=\"color: #7f7f7f; text-decoration-color: #7f7f7f\">float32</span>[2,5,3]   │ <span style=\"color: #7f7f7f; text-decoration-color: #7f7f7f\">float32</span>[2,5,4]   │ bias: <span style=\"color: #7f7f7f; text-decoration-color: #7f7f7f\">float32</span>[4]     │\n",
       "│               │                    │                  │                  │ kernel: <span style=\"color: #7f7f7f; text-decoration-color: #7f7f7f\">float32</span>[3,4] │\n",
       "│               │                    │                  │                  │                      │\n",
       "│               │                    │                  │                  │ <span style=\"font-weight: bold\">16 </span><span style=\"color: #7f7f7f; text-decoration-color: #7f7f7f; font-weight: bold\">(64 B)</span>            │\n",
       "├───────────────┼────────────────────┼──────────────────┼──────────────────┼──────────────────────┤\n",
       "│ value_linear  │ Dense              │ <span style=\"color: #7f7f7f; text-decoration-color: #7f7f7f\">float32</span>[2,5,3]   │ <span style=\"color: #7f7f7f; text-decoration-color: #7f7f7f\">float32</span>[2,5,4]   │ bias: <span style=\"color: #7f7f7f; text-decoration-color: #7f7f7f\">float32</span>[4]     │\n",
       "│               │                    │                  │                  │ kernel: <span style=\"color: #7f7f7f; text-decoration-color: #7f7f7f\">float32</span>[3,4] │\n",
       "│               │                    │                  │                  │                      │\n",
       "│               │                    │                  │                  │ <span style=\"font-weight: bold\">16 </span><span style=\"color: #7f7f7f; text-decoration-color: #7f7f7f; font-weight: bold\">(64 B)</span>            │\n",
       "├───────────────┼────────────────────┼──────────────────┼──────────────────┼──────────────────────┤\n",
       "│ attn_dropout  │ Dropout            │ <span style=\"color: #7f7f7f; text-decoration-color: #7f7f7f\">float32</span>[2,2,5,5] │ <span style=\"color: #7f7f7f; text-decoration-color: #7f7f7f\">float32</span>[2,2,5,5] │                      │\n",
       "├───────────────┼────────────────────┼──────────────────┼──────────────────┼──────────────────────┤\n",
       "│ output_linear │ Dense              │ <span style=\"color: #7f7f7f; text-decoration-color: #7f7f7f\">float32</span>[2,5,4]   │ <span style=\"color: #7f7f7f; text-decoration-color: #7f7f7f\">float32</span>[2,5,3]   │ bias: <span style=\"color: #7f7f7f; text-decoration-color: #7f7f7f\">float32</span>[3]     │\n",
       "│               │                    │                  │                  │ kernel: <span style=\"color: #7f7f7f; text-decoration-color: #7f7f7f\">float32</span>[4,3] │\n",
       "│               │                    │                  │                  │                      │\n",
       "│               │                    │                  │                  │ <span style=\"font-weight: bold\">15 </span><span style=\"color: #7f7f7f; text-decoration-color: #7f7f7f; font-weight: bold\">(60 B)</span>            │\n",
       "├───────────────┼────────────────────┼──────────────────┼──────────────────┼──────────────────────┤\n",
       "│ fc_dropout    │ Dropout            │ <span style=\"color: #7f7f7f; text-decoration-color: #7f7f7f\">float32</span>[2,5,3]   │ <span style=\"color: #7f7f7f; text-decoration-color: #7f7f7f\">float32</span>[2,5,3]   │                      │\n",
       "├───────────────┼────────────────────┼──────────────────┼──────────────────┼──────────────────────┤\n",
       "│<span style=\"font-weight: bold\">               </span>│<span style=\"font-weight: bold\">                    </span>│<span style=\"font-weight: bold\">                  </span>│<span style=\"font-weight: bold\">            Total </span>│<span style=\"font-weight: bold\"> 63 </span><span style=\"color: #7f7f7f; text-decoration-color: #7f7f7f; font-weight: bold\">(252 B)</span><span style=\"font-weight: bold\">           </span>│\n",
       "└───────────────┴────────────────────┴──────────────────┴──────────────────┴──────────────────────┘\n",
       "<span style=\"font-weight: bold\">                                                                                                   </span>\n",
       "<span style=\"font-weight: bold\">                                   Total Parameters: 63 </span><span style=\"color: #7f7f7f; text-decoration-color: #7f7f7f; font-weight: bold\">(252 B)</span><span style=\"font-weight: bold\">                                    </span>\n",
       "</pre>\n"
      ],
      "text/plain": [
       "\u001b[3m                                    MultiHeadAttention Summary                                     \u001b[0m\n",
       "┏━━━━━━━━━━━━━━━┳━━━━━━━━━━━━━━━━━━━━┳━━━━━━━━━━━━━━━━━━┳━━━━━━━━━━━━━━━━━━┳━━━━━━━━━━━━━━━━━━━━━━┓\n",
       "┃\u001b[1m \u001b[0m\u001b[1mpath         \u001b[0m\u001b[1m \u001b[0m┃\u001b[1m \u001b[0m\u001b[1mmodule            \u001b[0m\u001b[1m \u001b[0m┃\u001b[1m \u001b[0m\u001b[1minputs          \u001b[0m\u001b[1m \u001b[0m┃\u001b[1m \u001b[0m\u001b[1moutputs         \u001b[0m\u001b[1m \u001b[0m┃\u001b[1m \u001b[0m\u001b[1mparams              \u001b[0m\u001b[1m \u001b[0m┃\n",
       "┡━━━━━━━━━━━━━━━╇━━━━━━━━━━━━━━━━━━━━╇━━━━━━━━━━━━━━━━━━╇━━━━━━━━━━━━━━━━━━╇━━━━━━━━━━━━━━━━━━━━━━┩\n",
       "│               │ MultiHeadAttention │ - \u001b[2mfloat32\u001b[0m[2,5,3] │ \u001b[2mfloat32\u001b[0m[2,5,3]   │                      │\n",
       "│               │                    │ - \u001b[2mfloat32\u001b[0m[2,5,3] │                  │                      │\n",
       "│               │                    │ - \u001b[2mfloat32\u001b[0m[2,5,3] │                  │                      │\n",
       "├───────────────┼────────────────────┼──────────────────┼──────────────────┼──────────────────────┤\n",
       "│ query_linear  │ Dense              │ \u001b[2mfloat32\u001b[0m[2,5,3]   │ \u001b[2mfloat32\u001b[0m[2,5,4]   │ bias: \u001b[2mfloat32\u001b[0m[4]     │\n",
       "│               │                    │                  │                  │ kernel: \u001b[2mfloat32\u001b[0m[3,4] │\n",
       "│               │                    │                  │                  │                      │\n",
       "│               │                    │                  │                  │ \u001b[1m16 \u001b[0m\u001b[1;2m(64 B)\u001b[0m            │\n",
       "├───────────────┼────────────────────┼──────────────────┼──────────────────┼──────────────────────┤\n",
       "│ key_linear    │ Dense              │ \u001b[2mfloat32\u001b[0m[2,5,3]   │ \u001b[2mfloat32\u001b[0m[2,5,4]   │ bias: \u001b[2mfloat32\u001b[0m[4]     │\n",
       "│               │                    │                  │                  │ kernel: \u001b[2mfloat32\u001b[0m[3,4] │\n",
       "│               │                    │                  │                  │                      │\n",
       "│               │                    │                  │                  │ \u001b[1m16 \u001b[0m\u001b[1;2m(64 B)\u001b[0m            │\n",
       "├───────────────┼────────────────────┼──────────────────┼──────────────────┼──────────────────────┤\n",
       "│ value_linear  │ Dense              │ \u001b[2mfloat32\u001b[0m[2,5,3]   │ \u001b[2mfloat32\u001b[0m[2,5,4]   │ bias: \u001b[2mfloat32\u001b[0m[4]     │\n",
       "│               │                    │                  │                  │ kernel: \u001b[2mfloat32\u001b[0m[3,4] │\n",
       "│               │                    │                  │                  │                      │\n",
       "│               │                    │                  │                  │ \u001b[1m16 \u001b[0m\u001b[1;2m(64 B)\u001b[0m            │\n",
       "├───────────────┼────────────────────┼──────────────────┼──────────────────┼──────────────────────┤\n",
       "│ attn_dropout  │ Dropout            │ \u001b[2mfloat32\u001b[0m[2,2,5,5] │ \u001b[2mfloat32\u001b[0m[2,2,5,5] │                      │\n",
       "├───────────────┼────────────────────┼──────────────────┼──────────────────┼──────────────────────┤\n",
       "│ output_linear │ Dense              │ \u001b[2mfloat32\u001b[0m[2,5,4]   │ \u001b[2mfloat32\u001b[0m[2,5,3]   │ bias: \u001b[2mfloat32\u001b[0m[3]     │\n",
       "│               │                    │                  │                  │ kernel: \u001b[2mfloat32\u001b[0m[4,3] │\n",
       "│               │                    │                  │                  │                      │\n",
       "│               │                    │                  │                  │ \u001b[1m15 \u001b[0m\u001b[1;2m(60 B)\u001b[0m            │\n",
       "├───────────────┼────────────────────┼──────────────────┼──────────────────┼──────────────────────┤\n",
       "│ fc_dropout    │ Dropout            │ \u001b[2mfloat32\u001b[0m[2,5,3]   │ \u001b[2mfloat32\u001b[0m[2,5,3]   │                      │\n",
       "├───────────────┼────────────────────┼──────────────────┼──────────────────┼──────────────────────┤\n",
       "│\u001b[1m \u001b[0m\u001b[1m             \u001b[0m\u001b[1m \u001b[0m│\u001b[1m \u001b[0m\u001b[1m                  \u001b[0m\u001b[1m \u001b[0m│\u001b[1m \u001b[0m\u001b[1m                \u001b[0m\u001b[1m \u001b[0m│\u001b[1m \u001b[0m\u001b[1m           Total\u001b[0m\u001b[1m \u001b[0m│\u001b[1m \u001b[0m\u001b[1m63 \u001b[0m\u001b[1;2m(252 B)\u001b[0m\u001b[1m          \u001b[0m\u001b[1m \u001b[0m│\n",
       "└───────────────┴────────────────────┴──────────────────┴──────────────────┴──────────────────────┘\n",
       "\u001b[1m                                                                                                   \u001b[0m\n",
       "\u001b[1m                                   Total Parameters: 63 \u001b[0m\u001b[1;2m(252 B)\u001b[0m\u001b[1m                                    \u001b[0m\n"
      ]
     },
     "metadata": {},
     "output_type": "display_data"
    }
   ],
   "source": [
    "nn.tabulate(mdl, key, console_kwargs=dict(force_jupyter=True))(X, X, X);"
   ]
  },
  {
   "cell_type": "markdown",
   "id": "6e3436d2-6f08-4eb2-be42-32c475cb844e",
   "metadata": {},
   "source": [
    "Since we'll want to see this a few times, let's write a function for it."
   ]
  },
  {
   "cell_type": "code",
   "execution_count": 31,
   "id": "f42d628d-7415-40a9-ae19-1be7cec92ad5",
   "metadata": {
    "tags": []
   },
   "outputs": [
    {
     "data": {
      "text/plain": [
       "63"
      ]
     },
     "execution_count": 31,
     "metadata": {},
     "output_type": "execute_result"
    }
   ],
   "source": [
    "def num_params(params):\n",
    "    return jnp.sum(jnp.array(jax.tree_util.tree_flatten(jax.tree_map(lambda x: jnp.prod(jnp.array(jnp.shape(x))), params))[0])).item()\n",
    "\n",
    "num_params(params)"
   ]
  },
  {
   "cell_type": "markdown",
   "id": "8a46b05a-c9bf-4933-9775-c9ea231811c9",
   "metadata": {},
   "source": [
    "# Add & Norm\n",
    "\n",
    "We'll implement an `AddAndNorm` layer just so our code looks like the diagram. The layer is so simple that you're likely to see implementations that don't implement this and just do it in the `EncoderLayer` or `DecoderLayer`."
   ]
  },
  {
   "cell_type": "code",
   "execution_count": 32,
   "id": "bff2846e-a8bf-41ab-98ed-b589fbe36514",
   "metadata": {
    "tags": []
   },
   "outputs": [],
   "source": [
    "class AddAndNorm(nn.Module):\n",
    "    \"\"\"The add and norm.\"\"\"\n",
    "\n",
    "    @nn.compact\n",
    "    def __call__(self, X, X_out):\n",
    "        return nn.LayerNorm()(X + X_out)"
   ]
  },
  {
   "cell_type": "markdown",
   "id": "16caa2f4-fee0-447c-98b8-3d78f0ab298a",
   "metadata": {},
   "source": [
    "# Feed forward\n",
    "\n",
    "Same deal as `AddAndNorm`."
   ]
  },
  {
   "cell_type": "code",
   "execution_count": 33,
   "id": "6cf3abb5-9737-44a2-a3fc-603938c81f4c",
   "metadata": {
    "tags": []
   },
   "outputs": [],
   "source": [
    "class FeedForward(nn.Module):\n",
    "    \"\"\"a 2-layer feed-forward network.\"\"\"\n",
    "    hidden_dim: int\n",
    "\n",
    "    @nn.compact\n",
    "    def __call__(self, X):\n",
    "        D = X.shape[-1]\n",
    "        X = nn.Dense(self.hidden_dim)(X)\n",
    "        X = nn.relu(X)\n",
    "        X = nn.Dense(D)(X)\n",
    "        return X"
   ]
  },
  {
   "cell_type": "markdown",
   "id": "81751f41-7f01-41a1-b373-7e6093330d4f",
   "metadata": {},
   "source": [
    "# Encoder"
   ]
  },
  {
   "cell_type": "markdown",
   "id": "3f4287d9-8435-4709-8227-6b788f10c5c1",
   "metadata": {},
   "source": [
    "## EncoderLayer"
   ]
  },
  {
   "cell_type": "markdown",
   "id": "99d7bd40-70ec-4c08-8e83-f2ededb609d5",
   "metadata": {},
   "source": [
    "![image.png](../_static/post/another-annotated-transformer/encoder-layer-circled.png)"
   ]
  },
  {
   "cell_type": "markdown",
   "id": "34e8e68d-b267-40a5-bfcb-9f093e22b7a1",
   "metadata": {},
   "source": [
    "The `Encoder` is a combination of the various layers we've already built up along with several `EncoderLayer`s (which are themselves just combinations of previously defined layers). This section is going to be short.\n",
    "\n",
    "Note the `EncoderLayer` takes one argument (neglecting the mask) and feeds that one argument as the `query`, `key`, and `value` in the `Multi-Head Attention` layer. This can be seen by following the arrows in the diagram."
   ]
  },
  {
   "cell_type": "code",
   "execution_count": 34,
   "id": "a72d8004-b9ee-4fc5-bcd1-40b4f5cb91d0",
   "metadata": {
    "tags": []
   },
   "outputs": [],
   "source": [
    "class EncoderLayer(nn.Module):\n",
    "    hidden_dim: int\n",
    "    n_heads: int\n",
    "    size_per_head: int\n",
    "    attn_dropout: float\n",
    "    fc_dropout: float\n",
    "\n",
    "    def setup(self):\n",
    "        self.attn = MultiHeadAttention(n_heads=self.n_heads,\n",
    "                                       size_per_head=self.size_per_head,\n",
    "                                       attn_dropout=self.attn_dropout,\n",
    "                                       fc_dropout=self.fc_dropout)\n",
    "        self.aan_0 = AddAndNorm()\n",
    "        self.ff = FeedForward(hidden_dim=self.hidden_dim)\n",
    "        self.aan_1 = AddAndNorm()\n",
    "\n",
    "    def __call__(self, X, mask=None, training=False):\n",
    "        X1 = self.attn(X, X, X, mask=mask, training=training)\n",
    "        X = self.aan_0(X, X1)\n",
    "        X1 = self.ff(X)\n",
    "        X = self.aan_1(X, X1)\n",
    "        return X"
   ]
  },
  {
   "cell_type": "markdown",
   "id": "0fb187a7-84fb-42aa-983e-202fd0bde6fc",
   "metadata": {},
   "source": [
    "![image.png](../_static/post/another-annotated-transformer/encoder-circled.png)"
   ]
  },
  {
   "cell_type": "code",
   "execution_count": 35,
   "id": "111771ff-62f5-41fa-91ac-6d242ee96f62",
   "metadata": {
    "tags": []
   },
   "outputs": [],
   "source": [
    "class Encoder(nn.Module):\n",
    "    pos_encoding: Callable[[int, int], jnp.array]\n",
    "    vocab_size: int\n",
    "    embed_dim: int\n",
    "    layers: Sequence[EncoderLayer]\n",
    "\n",
    "    @nn.compact\n",
    "    def __call__(self, X, mask=None, training=False):\n",
    "        B, N = X.shape\n",
    "        if mask is not None:\n",
    "            chex.assert_shape(mask, (B, N))\n",
    "        X = nn.Embed(self.vocab_size, self.embed_dim, name='embed')(X)\n",
    "        X = X * jnp.sqrt(self.embed_dim)\n",
    "        # X.shape[-2] is the sequence length\n",
    "        X = X + self.pos_encoding(X.shape[-2], self.embed_dim)\n",
    "        for layer in self.layers:\n",
    "            X = layer(X, mask=mask, training=training)\n",
    "        return X"
   ]
  },
  {
   "cell_type": "markdown",
   "id": "518c5b5b-4fbc-45ea-a779-088f9478de07",
   "metadata": {},
   "source": [
    "Just for fun, let's check out "
   ]
  },
  {
   "cell_type": "code",
   "execution_count": 36,
   "id": "f065dcd8-cfe6-4231-80e5-04d2beaaed3a",
   "metadata": {
    "tags": []
   },
   "outputs": [
    {
     "data": {
      "text/plain": [
       "(3, 6, 30)"
      ]
     },
     "execution_count": 36,
     "metadata": {},
     "output_type": "execute_result"
    }
   ],
   "source": [
    "def layer_fn():\n",
    "    return EncoderLayer(hidden_dim=13,\n",
    "                        attn_dropout=0.1,\n",
    "                        fc_dropout=0.1,\n",
    "                        n_heads=7,\n",
    "                        size_per_head=17)\n",
    "mdl = Encoder(pos_encoding=sin_pos_enc, vocab_size=len(vocab),\n",
    "              embed_dim=2 * 3 * 5,\n",
    "              layers=[layer_fn() for _ in range(3)])\n",
    "batch = [num2tokens(x) for x in jran.randint(key, (3,), 0, 1e5)]\n",
    "batch = jnp.stack([jnp.pad(x, (0, 6 - len(x)), 'constant', constant_values=vocab['p']) for x in batch])\n",
    "mask = (batch == vocab['p'])\n",
    "params = mdl.init(key, batch)\n",
    "resp = mdl.apply(params, batch, mask=mask, training=True, rngs={'dropout': key})\n",
    "resp.shape"
   ]
  },
  {
   "cell_type": "code",
   "execution_count": 37,
   "id": "0947c299-a015-4a4b-8d80-b4fd0a081153",
   "metadata": {},
   "outputs": [
    {
     "data": {
      "text/plain": [
       "47190"
      ]
     },
     "execution_count": 37,
     "metadata": {},
     "output_type": "execute_result"
    }
   ],
   "source": [
    "num_params(params['params'])"
   ]
  },
  {
   "cell_type": "markdown",
   "id": "5ed40eae-819c-42dc-9de1-3f0ed1521696",
   "metadata": {},
   "source": [
    "## Interpretation\n",
    "\n",
    "There are a subset of transformers called `encoder-only` transformers. Now you know what that means. They take in a sequence of tokens, train the non-contextual embeddings (the `Embedding` layer) and output contextual embeddings. The output embeddings are a function of the word itself, but also the context that the word appeared in.\n",
    "\n",
    "The quintessential example of an encoder-only transformer is [Bert](https://arxiv.org/pdf/1810.04805.pdf) from Google research."
   ]
  },
  {
   "cell_type": "markdown",
   "id": "72a3c4ad-fda4-4924-b847-165a9996639c",
   "metadata": {},
   "source": [
    "# Decoder"
   ]
  },
  {
   "cell_type": "markdown",
   "id": "c83f417c-4e35-4a9d-887e-29831ffc9fb3",
   "metadata": {},
   "source": [
    "## DecoderLayer"
   ]
  },
  {
   "cell_type": "markdown",
   "id": "5f720a81-4d68-4b6f-af66-9fe7b996712f",
   "metadata": {},
   "source": [
    "![image.png](../_static/post/another-annotated-transformer/decoder-layer-circled.png)"
   ]
  },
  {
   "cell_type": "markdown",
   "id": "942688fa-4c6e-4084-87cf-dd60cddad90b",
   "metadata": {},
   "source": [
    "There's one last piece to implement: The `Masked Multi-Head Attention`. We've implemented regular `Multi-Head Attention`, but not the masked part. The idea with the masked attention is to feed the whole sequence in at once, but still train the model as if we hadn't. To that end, we restrict the one place in the `Decoder` where information is shared across elements of the output sequence (the self-attention layer) so that a given position can only use information from previous positions. This is commonly described as restricting the positions that a given output can attend to."
   ]
  },
  {
   "cell_type": "code",
   "execution_count": 38,
   "id": "2a2da62e-9897-4108-92e2-00b78ba63b86",
   "metadata": {
    "tags": []
   },
   "outputs": [
    {
     "data": {
      "text/plain": [
       "Array([[[False,  True,  True,  True,  True],\n",
       "        [False, False,  True,  True,  True],\n",
       "        [False, False, False,  True,  True],\n",
       "        [False, False, False, False,  True],\n",
       "        [False, False, False, False, False]]], dtype=bool)"
      ]
     },
     "execution_count": 38,
     "metadata": {},
     "output_type": "execute_result"
    }
   ],
   "source": [
    "def causal_mask(shape):\n",
    "    return jnp.triu(jnp.ones(shape, dtype=jnp.bool_), k=1)\n",
    "\n",
    "causal_mask((1, 5, 5))"
   ]
  },
  {
   "cell_type": "code",
   "execution_count": 39,
   "id": "3172218a-c3e8-47d4-8f20-ea5a6d1063c8",
   "metadata": {
    "tags": []
   },
   "outputs": [],
   "source": [
    "class DecoderLayer(nn.Module):\n",
    "    hidden_dim: int\n",
    "    n_heads: int\n",
    "    size_per_head: int\n",
    "    attn_dropout: float\n",
    "    fc_dropout: float\n",
    "\n",
    "    @nn.compact\n",
    "    def __call__(self, X_enc, X_dec, enc_mask, dec_mask, training=False):\n",
    "\n",
    "        def attn(q, kv, mask, training, name):\n",
    "            mdl = MultiHeadAttention(n_heads=self.n_heads,\n",
    "                                     size_per_head=self.size_per_head,\n",
    "                                     attn_dropout=self.attn_dropout,\n",
    "                                     fc_dropout=self.fc_dropout,\n",
    "                                     name=f'{name}_attn')\n",
    "            out = mdl(q, kv, kv, mask=mask, training=training)\n",
    "            aan = AddAndNorm(name=f'{name}_addnorm')\n",
    "            return aan(q, out)\n",
    "        X_dec = attn(X_dec, X_dec, dec_mask, training, 'self')\n",
    "        X_dec = attn(X_dec, X_enc, enc_mask, training, 'src')\n",
    "        X1 = FeedForward(hidden_dim=self.hidden_dim)(X_dec)\n",
    "        X_dec = AddAndNorm()(X_dec, X1)\n",
    "        return X_dec"
   ]
  },
  {
   "cell_type": "markdown",
   "id": "e7cf8a85-5e19-4365-92c0-585c8de26271",
   "metadata": {},
   "source": [
    "![image.png](../_static/post/another-annotated-transformer/decoder-circled.png)"
   ]
  },
  {
   "cell_type": "code",
   "execution_count": 40,
   "id": "4e9691db-a6fd-4a32-84ed-857b18c50c87",
   "metadata": {},
   "outputs": [],
   "source": [
    "class Decoder(nn.Module):\n",
    "    pos_encoding: Callable[[int, int], jnp.array]\n",
    "    vocab_size: int\n",
    "    embed_dim: int\n",
    "    layers: Sequence[DecoderLayer]\n",
    "\n",
    "    @nn.compact\n",
    "    def __call__(self, X_enc, X_dec, enc_mask, training=False):\n",
    "        B, N = X_dec.shape[:2]\n",
    "        dec_mask = causal_mask((1, N, N))\n",
    "        X_dec = nn.Embed(self.vocab_size, self.embed_dim, name='embed')(X_dec)\n",
    "        X_dec = X_dec * jnp.sqrt(self.embed_dim)\n",
    "        # X.shape[-2] is the sequence length\n",
    "        X_dec = X_dec + self.pos_encoding(X_dec.shape[-2], self.embed_dim)\n",
    "        for layer in self.layers:\n",
    "            X_dec = layer(X_enc, X_dec, enc_mask, dec_mask, training=training)\n",
    "        X_dec = nn.Dense(self.vocab_size, name='final')(X_dec)\n",
    "        return X_dec"
   ]
  },
  {
   "cell_type": "code",
   "execution_count": 41,
   "id": "65239805-a3be-4e46-9695-3bce2a5d2ad0",
   "metadata": {
    "tags": []
   },
   "outputs": [
    {
     "data": {
      "text/plain": [
       "(3, 6, 12)"
      ]
     },
     "execution_count": 41,
     "metadata": {},
     "output_type": "execute_result"
    }
   ],
   "source": [
    "def layer_fn():\n",
    "    return DecoderLayer(hidden_dim=13,\n",
    "                        attn_dropout=0.1,\n",
    "                        fc_dropout=0.1,\n",
    "                        n_heads=7,\n",
    "                        size_per_head=17)\n",
    "mdl = Decoder(pos_encoding=sin_pos_enc,\n",
    "              vocab_size=len(vocab),\n",
    "              embed_dim=2 * 3 * 5,\n",
    "              layers=[layer_fn() for _ in range(3)])\n",
    "batch = [num2tokens(x) for x in jran.randint(key, (3,), 0, 1e5)]\n",
    "batch = jnp.stack([jnp.pad(x, (0, 6 - len(x)), 'constant', constant_values=vocab['p']) for x in batch])\n",
    "kv = [num2tokens(x) for x in jran.randint(key + 1, (3,), 0, 1e6)]\n",
    "kv = jnp.stack([jnp.pad(x, (0, 6 - len(x)), 'constant', constant_values=vocab['p']) for x in kv])\n",
    "enc_mask = (kv == vocab['p'])\n",
    "kv = nn.one_hot(kv, len(vocab))\n",
    "params = mdl.init(key, kv, batch, enc_mask)\n",
    "resp = mdl.apply(params, kv, batch, enc_mask, training=True, rngs={'dropout': key})\n",
    "resp.shape"
   ]
  },
  {
   "cell_type": "code",
   "execution_count": 42,
   "id": "8bb80c47-d22d-49c9-bbc1-1c5c68623f6d",
   "metadata": {},
   "outputs": [
    {
     "data": {
      "text/plain": [
       "78891"
      ]
     },
     "execution_count": 42,
     "metadata": {},
     "output_type": "execute_result"
    }
   ],
   "source": [
    "num_params(params['params'])"
   ]
  },
  {
   "cell_type": "markdown",
   "id": "8a605296-cdb9-4e6f-940c-e1b66350da90",
   "metadata": {},
   "source": [
    "# Transformers"
   ]
  },
  {
   "cell_type": "markdown",
   "id": "21bbcd7f-e1af-4c05-b024-e69d82a899de",
   "metadata": {},
   "source": [
    "Transformers come in three main flavors."
   ]
  },
  {
   "cell_type": "markdown",
   "id": "3cb6e538-a31b-470b-a973-6e8863794273",
   "metadata": {},
   "source": [
    "## Flavors"
   ]
  },
  {
   "cell_type": "markdown",
   "id": "1de47a51-d28c-4d0e-bad7-60b7afc3ca4f",
   "metadata": {},
   "source": [
    "### Encoder-decoder"
   ]
  },
  {
   "cell_type": "markdown",
   "id": "d28a3e5e-8580-45e2-8543-4858f865716a",
   "metadata": {},
   "source": [
    "![image.png](../_static/post/another-annotated-transformer/tformer.png)"
   ]
  },
  {
   "cell_type": "markdown",
   "id": "cf612922-1b05-4c6a-b25e-6528fdc4bcbb",
   "metadata": {},
   "source": [
    "* These models are officially just this diagram.\n",
    "* They're of a class of models called [seq2seq](https://en.wikipedia.org/wiki/Seq2seq) models.\n",
    "* They take sequence inputs, generate some state features (via the encoder), and generate a sequence output (via the decoder).\n",
    "* As such, they're typically used as translation models."
   ]
  },
  {
   "cell_type": "code",
   "execution_count": 43,
   "id": "6ab38194-1290-43fd-91c2-9b04266a91e7",
   "metadata": {
    "tags": []
   },
   "outputs": [],
   "source": [
    "class EncoderDecoderTransformer(nn.Module):\n",
    "    pos_encoding: Callable[[int, int], jnp.array]\n",
    "    in_vocab_size: int\n",
    "    out_vocab_size: int\n",
    "    embed_dim: int\n",
    "    n_layers: int\n",
    "    hidden_dim: int\n",
    "    attn_dropout: float\n",
    "    fc_dropout: float\n",
    "    n_heads: int\n",
    "    size_per_head: int\n",
    "\n",
    "    def setup(self):\n",
    "        self.encoder = Encoder(\n",
    "            pos_encoding=self.pos_encoding,\n",
    "            vocab_size=self.in_vocab_size,\n",
    "            embed_dim=self.embed_dim,\n",
    "            layers=[EncoderLayer(hidden_dim=self.hidden_dim,\n",
    "                                 attn_dropout=self.attn_dropout,\n",
    "                                 fc_dropout=self.fc_dropout,\n",
    "                                 n_heads=self.n_heads,\n",
    "                                 size_per_head=self.size_per_head,\n",
    "                                 name=f'encoder_{i}')\n",
    "                    for i in range(self.n_layers)])\n",
    "        self.decoder = Decoder(\n",
    "            pos_encoding=self.pos_encoding,\n",
    "            vocab_size=self.out_vocab_size,\n",
    "            embed_dim=self.embed_dim,\n",
    "            layers=[DecoderLayer(hidden_dim=self.hidden_dim,\n",
    "                                 attn_dropout=self.attn_dropout,\n",
    "                                 fc_dropout=self.fc_dropout,\n",
    "                                 n_heads=self.n_heads,\n",
    "                                 size_per_head=self.size_per_head,\n",
    "                                 name=f'decoder_{i}')\n",
    "                    for i in range(self.n_layers)])\n",
    "\n",
    "    def __call__(self, X, Y, source_mask, training=False):\n",
    "        # required for dot product attention\n",
    "        chex.assert_equal(self.encoder.embed_dim, self.decoder.embed_dim)\n",
    "        encodings = self.encoder(X, source_mask, training=training)\n",
    "        self.sow('intermediates', 'encodings', encodings)\n",
    "        return self.decoder(encodings, Y, source_mask, training=training)"
   ]
  },
  {
   "cell_type": "markdown",
   "id": "1284a397-bdf8-4276-aa20-12316552b889",
   "metadata": {},
   "source": [
    "### Encoder-only"
   ]
  },
  {
   "cell_type": "markdown",
   "id": "aaf04ab8-62b1-4fd5-9608-dd8d838ea78b",
   "metadata": {},
   "source": [
    "![image.png](../_static/post/another-annotated-transformer/encoder-circled.png)"
   ]
  },
  {
   "cell_type": "markdown",
   "id": "b61380cc-1e1b-4649-a473-df3ac2835395",
   "metadata": {},
   "source": [
    "* These take in a sequence and output state features.\n",
    "* It's mostly useful for tasks like text classification, sentiment analysis, stuff like that.\n",
    "* One notable example is Google's [bert](https://en.wikipedia.org/wiki/BERT_(language_model))."
   ]
  },
  {
   "cell_type": "code",
   "execution_count": 44,
   "id": "5d08420e-2031-4233-85b5-91f9ae76e14f",
   "metadata": {
    "tags": []
   },
   "outputs": [],
   "source": [
    "class EncoderOnlyTransformer(nn.Module):\n",
    "    pos_encoding: Callable[[int, int], jnp.array]\n",
    "    vocab_size: int\n",
    "    embed_dim: int\n",
    "    n_layers: int\n",
    "    hidden_dim: int\n",
    "    attn_dropout: float\n",
    "    fc_dropout: float\n",
    "    n_heads: int\n",
    "    size_per_head: int\n",
    "\n",
    "    def setup(self):\n",
    "        self.encoder = Encoder(\n",
    "            pos_encoding=self.pos_encoding,\n",
    "            vocab_size=self.vocab_size,\n",
    "            embed_dim=self.embed_dim,\n",
    "            layers=[EncoderLayer(hidden_dim=self.hidden_dim,\n",
    "                                 attn_dropout=self.attn_dropout,\n",
    "                                 fc_dropout=self.fc_dropout,\n",
    "                                 n_heads=self.n_heads,\n",
    "                                 size_per_head=self.size_per_head,\n",
    "                                 name=f'encoder_{i}')\n",
    "                    for i in range(self.n_layers)])\n",
    "\n",
    "    def __call__(self, X, mask, training=False):\n",
    "        return self.encoder(X, mask, training=training)"
   ]
  },
  {
   "cell_type": "markdown",
   "id": "3abd088f-9882-4274-82f5-75ff272b54b8",
   "metadata": {},
   "source": [
    "### Decoder-only"
   ]
  },
  {
   "cell_type": "markdown",
   "id": "41b6dc69-0174-4c2d-8454-3a0629988c8c",
   "metadata": {},
   "source": [
    "![image.png](../_static/post/another-annotated-transformer/decoder-circled.png)"
   ]
  },
  {
   "cell_type": "markdown",
   "id": "a217e9fd-11aa-46bc-964f-c7fc665cb11d",
   "metadata": {},
   "source": [
    "* These are called [generative model](https://en.wikipedia.org/wiki/Generative_model)s.\n",
    "* They take a static state and generate a sequence iteratively.\n",
    "* Mostly useful for text (media) generation[^transformer_uses].\n",
    "* One notable example: [GPT](https://en.wikipedia.org/wiki/Generative_pre-trained_transformer).\n",
    "\n",
    "[^transformer_uses]: This fact is very quickly becoming outdated."
   ]
  },
  {
   "cell_type": "code",
   "execution_count": 45,
   "id": "44affc29-f45d-4e0c-b6e0-ed73236c4294",
   "metadata": {
    "tags": []
   },
   "outputs": [],
   "source": [
    "class DecoderOnlyTransformer(nn.Module):\n",
    "    pos_encoding: Callable[[int, int], jnp.array]\n",
    "    vocab_size: int\n",
    "    embed_dim: int\n",
    "    n_layers: int\n",
    "    hidden_dim: int\n",
    "    attn_dropout: float\n",
    "    fc_dropout: float\n",
    "    n_heads: int\n",
    "    size_per_head: int\n",
    "\n",
    "    def setup(self):\n",
    "        self.embed = nn.Embed(self.vocab_size, self.embed_dim)\n",
    "        self.decoder = Decoder(\n",
    "            pos_encoding=self.pos_encoding,\n",
    "            vocab_size=self.out_vocab_size,\n",
    "            embed_dim=self.embed_dim,\n",
    "            layers=[DecoderLayer(hidden_dim=self.hidden_dim,\n",
    "                                 attn_dropout=self.attn_dropout,\n",
    "                                 fc_dropout=self.fc_dropout,\n",
    "                                 n_heads=self.n_heads,\n",
    "                                 size_per_head=self.size_per_head,\n",
    "                                 name=f'decoder_{i}')\n",
    "                    for i in range(self.n_layers)])\n",
    "\n",
    "    def __call__(self, static, X, source_mask, training=False):\n",
    "        encodings = self.embed(static)\n",
    "        return self.decoder(encodings, X, source_mask, training=training)"
   ]
  },
  {
   "cell_type": "markdown",
   "id": "d4e1c650-d448-43cd-9b2b-4f6ec5a0149d",
   "metadata": {},
   "source": [
    "# Example\n",
    "As an example, we'll train a model to perform rot13. This isn't intended to be an example how how these models can be useful, but rather just an example of how this model in training. There are a few reasons why this task is not appropriate, but the biggest one is probably that from the perspective of the model, this is not much different from a copy task[^identity_fn].\n",
    "\n",
    "[^identity_fn]: The copy task is the identity function. You train a model to copy the input ($f(X) = X$)."
   ]
  },
  {
   "cell_type": "markdown",
   "id": "ffc7093d-fd29-46d3-949f-730b22a96845",
   "metadata": {},
   "source": [
    "## Setup\n",
    "Jax requires a bit of setup, so we'll do that."
   ]
  },
  {
   "cell_type": "code",
   "execution_count": 46,
   "id": "c3dd95f4-20c4-4f7b-9883-e31092bb094d",
   "metadata": {
    "tags": []
   },
   "outputs": [
    {
     "name": "stderr",
     "output_type": "stream",
     "text": [
      "/home/amniskin/.local/share/hatch/env/virtual/annotated-transformer-Cfjl09Ky/annotated-transformer/lib/python3.10/site-packages/tqdm/auto.py:21: TqdmWarning: IProgress not found. Please update jupyter and ipywidgets. See https://ipywidgets.readthedocs.io/en/stable/user_install.html\n",
      "  from .autonotebook import tqdm as notebook_tqdm\n"
     ]
    }
   ],
   "source": [
    "import optax\n",
    "from tqdm.auto import tqdm"
   ]
  },
  {
   "cell_type": "code",
   "execution_count": 47,
   "id": "d36f2aed-1cd1-4a07-8d9e-8bcec456ec1c",
   "metadata": {
    "tags": []
   },
   "outputs": [
    {
     "data": {
      "text/plain": [
       "{'a': 0,\n",
       " 'b': 1,\n",
       " 'c': 2,\n",
       " 'd': 3,\n",
       " 'e': 4,\n",
       " 'f': 5,\n",
       " 'g': 6,\n",
       " 'h': 7,\n",
       " 'i': 8,\n",
       " 'j': 9,\n",
       " 'k': 10,\n",
       " 'l': 11,\n",
       " 'm': 12,\n",
       " 'n': 13,\n",
       " 'o': 14,\n",
       " 'p': 15,\n",
       " 'q': 16,\n",
       " 'r': 17,\n",
       " 's': 18,\n",
       " 't': 19,\n",
       " 'u': 20,\n",
       " 'v': 21,\n",
       " 'w': 22,\n",
       " 'x': 23,\n",
       " 'y': 24,\n",
       " 'z': 25,\n",
       " '<start>': 26,\n",
       " '<pad>': 27}"
      ]
     },
     "execution_count": 47,
     "metadata": {},
     "output_type": "execute_result"
    }
   ],
   "source": [
    "vocab = {chr(97 + i): i for i in range(26)}\n",
    "vocab['<start>'] = len(vocab)\n",
    "vocab['<pad>'] = len(vocab)\n",
    "vocab"
   ]
  },
  {
   "cell_type": "markdown",
   "id": "2b643c96-604a-4042-967a-0264c61cd4a5",
   "metadata": {},
   "source": [
    "Throughout this example, we'll be using the fact that the token IDs correspond to the sorted alphabet with two tokens added at the end[^alphabet_index]. So we do things like generate random strings and compute the target via modulo arithmetic.\n",
    "\n",
    "[^alphabet_index]: Meaning `vocab['a'] == 0`, and `vocab['b'] == 1`, etc."
   ]
  },
  {
   "cell_type": "code",
   "execution_count": 48,
   "id": "efd0f98b-e785-4df9-8516-8e0a3bdee609",
   "metadata": {
    "tags": []
   },
   "outputs": [],
   "source": [
    "def get_data(key):\n",
    "    k0, k1 = jran.split(key, 2)\n",
    "    max_len = 15\n",
    "    X = jran.randint(k0, (10, max_len), 0, len(vocab) - 2)\n",
    "    mask = jnp.stack([jnp.arange(max_len) >= i for i in jran.randint(k1, (10,), 1, max_len)])\n",
    "    X = X * (1 - mask) + (mask * vocab['<pad>'])\n",
    "    Y = ((X + 13) % (len(vocab) - 2)) * (1 - mask) + mask * vocab['<pad>']\n",
    "    Ys = (\n",
    "        jnp.ones_like(Y, dtype=jnp.int32)\n",
    "        .at[:, 1:].set(Y[:, :-1])\n",
    "        .at[:, 0].set(vocab['<start>'])\n",
    "    )\n",
    "    return (X, Ys, mask.astype(jnp.float32)), Y"
   ]
  },
  {
   "cell_type": "code",
   "execution_count": 49,
   "id": "e11a0103-98b3-417f-be28-9f891a863c70",
   "metadata": {
    "tags": []
   },
   "outputs": [
    {
     "name": "stdout",
     "output_type": "stream",
     "text": [
      "num_params:  4665\n"
     ]
    }
   ],
   "source": [
    "mdl = EncoderDecoderTransformer(pos_encoding=sin_pos_enc,\n",
    "                                in_vocab_size=len(vocab),\n",
    "                                out_vocab_size=len(vocab),\n",
    "                                embed_dim=8,\n",
    "                                n_layers=1,\n",
    "                                hidden_dim=5,\n",
    "                                attn_dropout=0.0,\n",
    "                                fc_dropout=0.0,\n",
    "                                n_heads=7,\n",
    "                                size_per_head=5)\n",
    "\n",
    "opt = optax.chain(\n",
    "    optax.clip_by_global_norm(1),\n",
    "    optax.sgd(\n",
    "        learning_rate=optax.warmup_exponential_decay_schedule(\n",
    "            init_value=0.5, peak_value=0.8, warmup_steps=100,\n",
    "            transition_steps=200, decay_rate=0.5,\n",
    "            transition_begin=100, staircase=False, end_value=1e-3\n",
    "        )\n",
    "    )\n",
    ")\n",
    "\n",
    "params = mdl.init(key, *get_data(key)[0])\n",
    "print('num_params: ', num_params(params))\n",
    "opt_state = opt.init(params)"
   ]
  },
  {
   "cell_type": "markdown",
   "id": "e5538b60-dcca-4aee-af75-31668ee2f0c5",
   "metadata": {},
   "source": [
    "Notice that we have almost 5 thousand parameters and this is just about the minimal example I could come up with. This architecture gets big real quick. Our `train_step` function is our main training code."
   ]
  },
  {
   "cell_type": "code",
   "execution_count": 50,
   "id": "bb879382-9e36-405f-be3c-6a552ccba54c",
   "metadata": {
    "tags": []
   },
   "outputs": [],
   "source": [
    "@jax.jit\n",
    "def train_step(params, opt_state, step, key):\n",
    "    \"\"\"Train for a single step.\"\"\"\n",
    "    k0, k1 = jran.split(jran.fold_in(key, step))\n",
    "    args, y = get_data(k0)\n",
    "\n",
    "    @jax.grad\n",
    "    def grad_fn(params):\n",
    "        logits = mdl.apply(params, *args,\n",
    "                           training=True, rngs={'dropout': k1})\n",
    "        loss = optax.softmax_cross_entropy_with_integer_labels(\n",
    "            logits, y\n",
    "        ).mean()\n",
    "        return loss\n",
    "    grads = grad_fn(params)\n",
    "    updates, opt_state = opt.update(\n",
    "        grads, opt_state, params)\n",
    "    params = optax.apply_updates(params, updates)\n",
    "    return params, opt_state"
   ]
  },
  {
   "cell_type": "code",
   "execution_count": 51,
   "id": "529edaf5-3dd5-45b6-b86f-4a35b106bc14",
   "metadata": {
    "tags": []
   },
   "outputs": [
    {
     "name": "stderr",
     "output_type": "stream",
     "text": [
      "100%|███████████████████████████████████████████████████████████████████████████████████████████████████████████████████████████████████████████████████████████████████████| 10000/10000 [00:26<00:00, 371.81it/s]\n"
     ]
    }
   ],
   "source": [
    "for step in tqdm(range(10_000)):\n",
    "    params, opt_params = train_step(params, opt_state, step, key)"
   ]
  },
  {
   "cell_type": "code",
   "execution_count": 52,
   "id": "35ca6e1f-891a-44be-a751-d6ecfd2cb9b3",
   "metadata": {
    "tags": []
   },
   "outputs": [],
   "source": [
    "args, y = get_data(key + 500)\n",
    "yh = mdl.apply(params, *args)"
   ]
  },
  {
   "cell_type": "code",
   "execution_count": 53,
   "id": "34f90bd3-2192-4cc1-94e4-35ebf61c0308",
   "metadata": {
    "tags": []
   },
   "outputs": [
    {
     "data": {
      "text/plain": [
       "Array(True, dtype=bool)"
      ]
     },
     "execution_count": 53,
     "metadata": {},
     "output_type": "execute_result"
    }
   ],
   "source": [
    "(y[:, :-1] == jnp.argmax(yh[:, :-1], axis=-1)).all()"
   ]
  },
  {
   "cell_type": "markdown",
   "id": "df90ae46-5e65-49a3-91cf-38c79cf84a44",
   "metadata": {},
   "source": [
    "Now let's check it out on our own words. To do that we'll write our own `rot13` and `rot13_inv` functions[^bad_idea].\n",
    "\n",
    "[^bad_idea]: Yet another reason why this is a bad idea (we have easier to reason about alternatives)."
   ]
  },
  {
   "cell_type": "code",
   "execution_count": 54,
   "id": "c2031e27-8107-4e6e-b4ac-2ace872bfd1f",
   "metadata": {
    "tags": []
   },
   "outputs": [
    {
     "name": "stdout",
     "output_type": "stream",
     "text": [
      "asdfqwerz => nfqsdjrem => asdfqwerz\n"
     ]
    }
   ],
   "source": [
    "def rot13(input_string):\n",
    "    return ''.join([chr(((vocab[x] + 13) % 26) + 97) for x in input_string])\n",
    "def rot13_inv(input_string):\n",
    "    return ''.join([chr(((vocab[x] - 13) % 26) + 97) for x in input_string])\n",
    "\n",
    "a = 'asdfqwerz'\n",
    "b = rot13(a)\n",
    "c = rot13_inv(b)\n",
    "print(a, '=>', b, '=>', c)"
   ]
  },
  {
   "cell_type": "code",
   "execution_count": 55,
   "id": "4b8845ce-d615-4a41-8508-43e18423de1b",
   "metadata": {
    "tags": []
   },
   "outputs": [
    {
     "data": {
      "text/plain": [
       "Array([[ 0, 18,  3,  5, 27, 27],\n",
       "       [16, 22,  4, 17, 27, 27],\n",
       "       [25, 23,  2, 21,  1, 20]], dtype=int32)"
      ]
     },
     "execution_count": 55,
     "metadata": {},
     "output_type": "execute_result"
    }
   ],
   "source": [
    "def str2ids(txt):\n",
    "    return [vocab[x] for x in txt]\n",
    "\n",
    "\n",
    "def strs2ids(*txts):\n",
    "    ids = [str2ids(x) for x in txts]\n",
    "    maxlen = max([len(x) for x in ids])\n",
    "    return jnp.stack([jnp.pad(jnp.array(x), (0, maxlen - len(x)), 'constant', constant_values=vocab['<pad>'])\n",
    "                      for x in ids])\n",
    "\n",
    "strs2ids('asdf', 'qwer', 'zxcvbu')"
   ]
  },
  {
   "cell_type": "code",
   "execution_count": 56,
   "id": "e41d7604-3564-48b1-b8ff-0b0cb4033adf",
   "metadata": {
    "tags": []
   },
   "outputs": [],
   "source": [
    "def ids2str(ids):\n",
    "    x = [list(vocab)[x] for x in ids]\n",
    "    x = [y if y != '<pad>' else '~' for y in x]\n",
    "    return ''.join(x).rstrip('~')\n",
    "\n",
    "def ids2strs(ids):\n",
    "    return [ids2str(x) for x in ids]"
   ]
  },
  {
   "cell_type": "markdown",
   "id": "d48a55ac-a594-479f-a23c-62deec31d530",
   "metadata": {},
   "source": [
    "Now let's run the test."
   ]
  },
  {
   "cell_type": "code",
   "execution_count": 57,
   "id": "9211b173-e7c7-45f2-ac61-ebb2ba446b92",
   "metadata": {
    "tags": []
   },
   "outputs": [],
   "source": [
    "X = jnp.array(strs2ids('hey', 'there', 'ma', 'dood'))\n",
    "start = jnp.array([[vocab['<start>']]] * X.shape[0], dtype=jnp.int32)\n",
    "Y = start\n",
    "while (Y[:, -1] != vocab['<pad>']).any():\n",
    "    Y = jnp.argmax(mdl.apply(params, X, jnp.concatenate([start, Y], axis=-1), X == vocab['<pad>']), axis=-1)"
   ]
  },
  {
   "cell_type": "code",
   "execution_count": 58,
   "id": "98310aba-9f14-4fe6-8cbc-6452dd14bead",
   "metadata": {
    "tags": []
   },
   "outputs": [
    {
     "data": {
      "text/plain": [
       "['url', 'gurer', 'zn', 'qbbq']"
      ]
     },
     "execution_count": 58,
     "metadata": {},
     "output_type": "execute_result"
    }
   ],
   "source": [
    "ids2strs(list(Y))"
   ]
  },
  {
   "cell_type": "code",
   "execution_count": 59,
   "id": "34d7cdeb-7c5f-416b-a278-326da2673f27",
   "metadata": {
    "tags": []
   },
   "outputs": [
    {
     "data": {
      "text/plain": [
       "['hey', 'there', 'ma', 'dood']"
      ]
     },
     "execution_count": 59,
     "metadata": {},
     "output_type": "execute_result"
    }
   ],
   "source": [
    "[rot13_inv(x) for x in ids2strs(list(Y))]"
   ]
  },
  {
   "cell_type": "markdown",
   "id": "393f9ca0-e524-4859-8323-7477be4b2b28",
   "metadata": {},
   "source": [
    "Yay! It works! We can see that the encoder transforms the input sequence into input embeddings, whereas the decoder transforms a state vector (attending to its own history) to the target.\n",
    "\n",
    "Stay tuned for more on transformers. Future topics include:\n",
    "\n",
    "1. Ablation study to see what each part contributes\n",
    "2. Model explainability\n",
    "3. How to implement many tasks as either encoders, decoders, encoder-decoders"
   ]
  }
 ],
 "metadata": {
  "kernelspec": {
   "display_name": "Python 3 (ipykernel)",
   "language": "python",
   "name": "python3"
  },
  "language_info": {
   "codemirror_mode": {
    "name": "ipython",
    "version": 3
   },
   "file_extension": ".py",
   "mimetype": "text/x-python",
   "name": "python",
   "nbconvert_exporter": "python",
   "pygments_lexer": "ipython3",
   "version": "3.10.11"
  }
 },
 "nbformat": 4,
 "nbformat_minor": 5
}
