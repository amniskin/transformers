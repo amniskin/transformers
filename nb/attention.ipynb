{
 "cells": [
  {
   "cell_type": "markdown",
   "id": "aec5c787-83aa-4d86-af51-ba8316842317",
   "metadata": {
    "tags": []
   },
   "source": [
    "# Why use positional encoding"
   ]
  },
  {
   "cell_type": "markdown",
   "id": "5296304c-30bd-4dfb-bdaa-eaaa9214dd17",
   "metadata": {
    "tags": []
   },
   "source": [
    "If you're anything like me, while trying to implement transformers, you've read the original [attention is all you need](https://arxiv.org/abs/1706.03762) paper, [the annotated transformer](http://nlp.seas.harvard.edu/2018/04/03/attention.html), [the updated version](http://nlp.seas.harvard.edu/annotated-transformer/), [d2l.ai](https://d2l.ai/chapter_attention-mechanisms-and-transformers/transformer.html), and had to cobble them all together to get something going. This post is an attempt to make that proccess easier for people like me in a short and to-the-point style. You can think of this as a bare-bones implementation with a whole lot of documentation.\n",
    "\n",
    "Notes:\n",
    "1. this post is about *how* transformers are implemented, not *why* they're implemented the way they are.\n",
    "2. This post pretty much takes you from just the basics of ML through understanding how transformers work. Feel free to skip whatever sections you're familiar with."
   ]
  },
  {
   "cell_type": "markdown",
   "id": "dbe30876-afa4-4c66-aa8a-1603872d7a49",
   "metadata": {
    "tags": []
   },
   "source": [
    "# Overview\n",
    "\n",
    "The following is the transformer architecture diagram taken from the original paper. We'll be referring back to it often in this post.\n",
    "\n",
    "![image.png](./assets/tformer.png)\n",
    "Transformer architecture diagram\n",
    "\n",
    "At a high level, the transformer is an encoder-decoder model; it takes a **sequence** of **tokens** from a source (e.g. English words) and learns to translate that into a destination sequence (e.g. French words). The encoder is the left side and the decoder is the right side of the architecture diagram.\n",
    "\n",
    "For the rest of the post, when we refer to \"tokens\" or \"sequences\", feel free to replace them with \"words\" and \"sentences\" (or \"paragraphs\", \"pages\", \"books\", etc.) respectively in your head."
   ]
  },
  {
   "cell_type": "markdown",
   "id": "713e08a5-46dd-4c82-a63a-dff6bd706c9b",
   "metadata": {},
   "source": [
    "# Preamble\n",
    "\n",
    "We'll be using [jax](https://jax.readthedocs.io/en/latest/index.html) and [flax](https://flax.readthedocs.io/en/latest/index.html) for this implementation."
   ]
  },
  {
   "cell_type": "code",
   "execution_count": 1,
   "id": "5db30d7c-87a4-48b3-8764-0462b13db854",
   "metadata": {
    "tags": []
   },
   "outputs": [],
   "source": [
    "import altair as alt\n",
    "import numpy as np\n",
    "import pandas as pd"
   ]
  },
  {
   "cell_type": "code",
   "execution_count": 2,
   "id": "4b9cd603-8771-437a-adcc-741e29a0dd12",
   "metadata": {
    "tags": []
   },
   "outputs": [
    {
     "data": {
      "text/plain": [
       "(400000, 50)"
      ]
     },
     "execution_count": 2,
     "metadata": {},
     "output_type": "execute_result"
    }
   ],
   "source": [
    "vocab = []\n",
    "embeddings = []\n",
    "\n",
    "with open('/home/amniskin/code/daggerml/transformers/data/glove.6B.50d.txt', 'r') as f:\n",
    "    for l in f:\n",
    "        word, *vals = l.split(' ')\n",
    "        vocab.append(word)\n",
    "        embeddings.append(np.array([float(x) for x in vals]))\n",
    "embeddings = np.stack(embeddings)\n",
    "tok2id = {k: i for i, k in enumerate(vocab)}\n",
    "embeddings.shape"
   ]
  },
  {
   "cell_type": "code",
   "execution_count": 3,
   "id": "56ad7a1a-7cde-47b8-b7f6-f6b22eb336f8",
   "metadata": {
    "tags": []
   },
   "outputs": [],
   "source": [
    "sentence = 'the dog is is playing with the cat'"
   ]
  },
  {
   "cell_type": "code",
   "execution_count": 4,
   "id": "f1ecefed-a06a-487f-a9b9-ac9a8c01b892",
   "metadata": {
    "tags": []
   },
   "outputs": [
    {
     "data": {
      "text/plain": [
       "(8,)"
      ]
     },
     "execution_count": 4,
     "metadata": {},
     "output_type": "execute_result"
    }
   ],
   "source": [
    "sentence_tokens = sentence.split()\n",
    "token_ids = np.stack([tok2id[x] for x in sentence_tokens])\n",
    "token_ids.shape"
   ]
  },
  {
   "cell_type": "code",
   "execution_count": 5,
   "id": "f917d424-556f-41a0-94a5-165a3eded9da",
   "metadata": {
    "tags": []
   },
   "outputs": [
    {
     "data": {
      "text/plain": [
       "(8, 50)"
      ]
     },
     "execution_count": 5,
     "metadata": {},
     "output_type": "execute_result"
    }
   ],
   "source": [
    "embed = np.stack([embeddings[i] for i in token_ids])\n",
    "embed.shape"
   ]
  },
  {
   "cell_type": "code",
   "execution_count": 6,
   "id": "9e9119f0-f771-41a1-a1b3-503e99f0635b",
   "metadata": {
    "tags": []
   },
   "outputs": [],
   "source": [
    "def softmax(x):\n",
    "    return np.exp(x) / np.exp(x).sum(axis=-1, keepdims=True)"
   ]
  },
  {
   "cell_type": "code",
   "execution_count": 7,
   "id": "8deebaca-b264-4ea8-9729-65d6419a2244",
   "metadata": {
    "tags": []
   },
   "outputs": [],
   "source": [
    "def dot_prod_attn(q, k, v, dropout=lambda x: x, mask=None):\n",
    "    # NxD @ DxM => NxM\n",
    "    # (B[, H], N, M)\n",
    "    attn_scores = q @ k.swapaxes(-2, -1) / np.sqrt(q.shape[-1])\n",
    "    attn_weights = softmax(attn_scores)\n",
    "    # (B[, H], N, D)\n",
    "    out = dropout(attn_weights) @ v\n",
    "    return out, attn_weights"
   ]
  },
  {
   "cell_type": "code",
   "execution_count": 8,
   "id": "51217123-c0d6-43f5-b40b-bf4a89b2af1f",
   "metadata": {
    "tags": []
   },
   "outputs": [],
   "source": [
    "def self_attn(x, **kw):\n",
    "    return dot_prod_attn(x, x, x, **kw)"
   ]
  },
  {
   "cell_type": "code",
   "execution_count": 9,
   "id": "beb7a0d1-0db0-4e7f-93a6-8d53cf6de649",
   "metadata": {
    "tags": []
   },
   "outputs": [
    {
     "data": {
      "text/html": [
       "\n",
       "<style>\n",
       "  #altair-viz-83e7453156864b0e8bf72d2e5fae9f29.vega-embed {\n",
       "    width: 100%;\n",
       "    display: flex;\n",
       "  }\n",
       "\n",
       "  #altair-viz-83e7453156864b0e8bf72d2e5fae9f29.vega-embed details,\n",
       "  #altair-viz-83e7453156864b0e8bf72d2e5fae9f29.vega-embed details summary {\n",
       "    position: relative;\n",
       "  }\n",
       "</style>\n",
       "<div id=\"altair-viz-83e7453156864b0e8bf72d2e5fae9f29\"></div>\n",
       "<script type=\"text/javascript\">\n",
       "  var VEGA_DEBUG = (typeof VEGA_DEBUG == \"undefined\") ? {} : VEGA_DEBUG;\n",
       "  (function(spec, embedOpt){\n",
       "    let outputDiv = document.currentScript.previousElementSibling;\n",
       "    if (outputDiv.id !== \"altair-viz-83e7453156864b0e8bf72d2e5fae9f29\") {\n",
       "      outputDiv = document.getElementById(\"altair-viz-83e7453156864b0e8bf72d2e5fae9f29\");\n",
       "    }\n",
       "    const paths = {\n",
       "      \"vega\": \"https://cdn.jsdelivr.net/npm/vega@5?noext\",\n",
       "      \"vega-lib\": \"https://cdn.jsdelivr.net/npm/vega-lib?noext\",\n",
       "      \"vega-lite\": \"https://cdn.jsdelivr.net/npm/vega-lite@5.8.0?noext\",\n",
       "      \"vega-embed\": \"https://cdn.jsdelivr.net/npm/vega-embed@6?noext\",\n",
       "    };\n",
       "\n",
       "    function maybeLoadScript(lib, version) {\n",
       "      var key = `${lib.replace(\"-\", \"\")}_version`;\n",
       "      return (VEGA_DEBUG[key] == version) ?\n",
       "        Promise.resolve(paths[lib]) :\n",
       "        new Promise(function(resolve, reject) {\n",
       "          var s = document.createElement('script');\n",
       "          document.getElementsByTagName(\"head\")[0].appendChild(s);\n",
       "          s.async = true;\n",
       "          s.onload = () => {\n",
       "            VEGA_DEBUG[key] = version;\n",
       "            return resolve(paths[lib]);\n",
       "          };\n",
       "          s.onerror = () => reject(`Error loading script: ${paths[lib]}`);\n",
       "          s.src = paths[lib];\n",
       "        });\n",
       "    }\n",
       "\n",
       "    function showError(err) {\n",
       "      outputDiv.innerHTML = `<div class=\"error\" style=\"color:red;\">${err}</div>`;\n",
       "      throw err;\n",
       "    }\n",
       "\n",
       "    function displayChart(vegaEmbed) {\n",
       "      vegaEmbed(outputDiv, spec, embedOpt)\n",
       "        .catch(err => showError(`Javascript Error: ${err.message}<br>This usually means there's a typo in your chart specification. See the javascript console for the full traceback.`));\n",
       "    }\n",
       "\n",
       "    if(typeof define === \"function\" && define.amd) {\n",
       "      requirejs.config({paths});\n",
       "      require([\"vega-embed\"], displayChart, err => showError(`Error loading script: ${err.message}`));\n",
       "    } else {\n",
       "      maybeLoadScript(\"vega\", \"5\")\n",
       "        .then(() => maybeLoadScript(\"vega-lite\", \"5.8.0\"))\n",
       "        .then(() => maybeLoadScript(\"vega-embed\", \"6\"))\n",
       "        .catch(showError)\n",
       "        .then(() => displayChart(vegaEmbed));\n",
       "    }\n",
       "  })({\"config\": {\"view\": {\"continuousWidth\": 300, \"continuousHeight\": 300}}, \"data\": {\"name\": \"data-342063190ab793473e8b85fa9cf7028f\"}, \"mark\": {\"type\": \"rect\"}, \"encoding\": {\"color\": {\"field\": \"value\", \"scale\": {\"scheme\": \"greenblue\"}, \"title\": \"softmax\", \"type\": \"quantitative\"}, \"tooltip\": [{\"field\": \"key\", \"type\": \"nominal\"}, {\"field\": \"query\", \"type\": \"nominal\"}, {\"field\": \"value\", \"format\": \".02\", \"title\": \"val\", \"type\": \"quantitative\"}], \"x\": {\"field\": \"key_word\", \"type\": \"nominal\"}, \"y\": {\"field\": \"query_word\", \"type\": \"nominal\"}}, \"title\": \"attention weights\", \"$schema\": \"https://vega.github.io/schema/vega-lite/v5.8.0.json\", \"datasets\": {\"data-342063190ab793473e8b85fa9cf7028f\": [{\"key_word\": \"0:the\", \"query_word\": \"0:the\", \"value\": 0.23799970278603863, \"key\": \"the\", \"query\": \"the\"}, {\"key_word\": \"0:the\", \"query_word\": \"1:dog\", \"value\": 0.03636919461545924, \"key\": \"the\", \"query\": \"dog\"}, {\"key_word\": \"0:the\", \"query_word\": \"2:is\", \"value\": 0.1341617272554369, \"key\": \"the\", \"query\": \"is\"}, {\"key_word\": \"0:the\", \"query_word\": \"3:is\", \"value\": 0.1341617272554369, \"key\": \"the\", \"query\": \"is\"}, {\"key_word\": \"0:the\", \"query_word\": \"4:playing\", \"value\": 0.07166492553769552, \"key\": \"the\", \"query\": \"playing\"}, {\"key_word\": \"0:the\", \"query_word\": \"5:with\", \"value\": 0.11904210158987245, \"key\": \"the\", \"query\": \"with\"}, {\"key_word\": \"0:the\", \"query_word\": \"6:the\", \"value\": 0.23799970278603863, \"key\": \"the\", \"query\": \"the\"}, {\"key_word\": \"0:the\", \"query_word\": \"7:cat\", \"value\": 0.028600918174021685, \"key\": \"the\", \"query\": \"cat\"}, {\"key_word\": \"1:dog\", \"query_word\": \"0:the\", \"value\": 0.06598743801908599, \"key\": \"dog\", \"query\": \"the\"}, {\"key_word\": \"1:dog\", \"query_word\": \"1:dog\", \"value\": 0.37072517757537915, \"key\": \"dog\", \"query\": \"dog\"}, {\"key_word\": \"1:dog\", \"query_word\": \"2:is\", \"value\": 0.08148026477954952, \"key\": \"dog\", \"query\": \"is\"}, {\"key_word\": \"1:dog\", \"query_word\": \"3:is\", \"value\": 0.08148026477954952, \"key\": \"dog\", \"query\": \"is\"}, {\"key_word\": \"1:dog\", \"query_word\": \"4:playing\", \"value\": 0.06368506047102303, \"key\": \"dog\", \"query\": \"playing\"}, {\"key_word\": \"1:dog\", \"query_word\": \"5:with\", \"value\": 0.05592962842005018, \"key\": \"dog\", \"query\": \"with\"}, {\"key_word\": \"1:dog\", \"query_word\": \"6:the\", \"value\": 0.06598743801908599, \"key\": \"dog\", \"query\": \"the\"}, {\"key_word\": \"1:dog\", \"query_word\": \"7:cat\", \"value\": 0.2147247279362766, \"key\": \"dog\", \"query\": \"cat\"}, {\"key_word\": \"2:is\", \"query_word\": \"0:the\", \"value\": 0.12693680562424806, \"key\": \"is\", \"query\": \"the\"}, {\"key_word\": \"2:is\", \"query_word\": \"1:dog\", \"value\": 0.042489710543084945, \"key\": \"is\", \"query\": \"dog\"}, {\"key_word\": \"2:is\", \"query_word\": \"2:is\", \"value\": 0.2596587432952105, \"key\": \"is\", \"query\": \"is\"}, {\"key_word\": \"2:is\", \"query_word\": \"3:is\", \"value\": 0.2596587432952105, \"key\": \"is\", \"query\": \"is\"}, {\"key_word\": \"2:is\", \"query_word\": \"4:playing\", \"value\": 0.06289848720090792, \"key\": \"is\", \"query\": \"playing\"}, {\"key_word\": \"2:is\", \"query_word\": \"5:with\", \"value\": 0.08653493988818069, \"key\": \"is\", \"query\": \"with\"}, {\"key_word\": \"2:is\", \"query_word\": \"6:the\", \"value\": 0.12693680562424806, \"key\": \"is\", \"query\": \"the\"}, {\"key_word\": \"2:is\", \"query_word\": \"7:cat\", \"value\": 0.03488576452890924, \"key\": \"is\", \"query\": \"cat\"}, {\"key_word\": \"3:is\", \"query_word\": \"0:the\", \"value\": 0.12693680562424806, \"key\": \"is\", \"query\": \"the\"}, {\"key_word\": \"3:is\", \"query_word\": \"1:dog\", \"value\": 0.042489710543084945, \"key\": \"is\", \"query\": \"dog\"}, {\"key_word\": \"3:is\", \"query_word\": \"2:is\", \"value\": 0.2596587432952105, \"key\": \"is\", \"query\": \"is\"}, {\"key_word\": \"3:is\", \"query_word\": \"3:is\", \"value\": 0.2596587432952105, \"key\": \"is\", \"query\": \"is\"}, {\"key_word\": \"3:is\", \"query_word\": \"4:playing\", \"value\": 0.06289848720090792, \"key\": \"is\", \"query\": \"playing\"}, {\"key_word\": \"3:is\", \"query_word\": \"5:with\", \"value\": 0.08653493988818069, \"key\": \"is\", \"query\": \"with\"}, {\"key_word\": \"3:is\", \"query_word\": \"6:the\", \"value\": 0.12693680562424806, \"key\": \"is\", \"query\": \"the\"}, {\"key_word\": \"3:is\", \"query_word\": \"7:cat\", \"value\": 0.03488576452890924, \"key\": \"is\", \"query\": \"cat\"}, {\"key_word\": \"4:playing\", \"query_word\": \"0:the\", \"value\": 0.07494238684370456, \"key\": \"playing\", \"query\": \"the\"}, {\"key_word\": \"4:playing\", \"query_word\": \"1:dog\", \"value\": 0.03670547504941454, \"key\": \"playing\", \"query\": \"dog\"}, {\"key_word\": \"4:playing\", \"query_word\": \"2:is\", \"value\": 0.06951878015000425, \"key\": \"playing\", \"query\": \"is\"}, {\"key_word\": \"4:playing\", \"query_word\": \"3:is\", \"value\": 0.06951878015000425, \"key\": \"playing\", \"query\": \"is\"}, {\"key_word\": \"4:playing\", \"query_word\": \"4:playing\", \"value\": 0.5387703567441063, \"key\": \"playing\", \"query\": \"playing\"}, {\"key_word\": \"4:playing\", \"query_word\": \"5:with\", \"value\": 0.1066704054000809, \"key\": \"playing\", \"query\": \"with\"}, {\"key_word\": \"4:playing\", \"query_word\": \"6:the\", \"value\": 0.07494238684370456, \"key\": \"playing\", \"query\": \"the\"}, {\"key_word\": \"4:playing\", \"query_word\": \"7:cat\", \"value\": 0.028931428818980504, \"key\": \"playing\", \"query\": \"cat\"}, {\"key_word\": \"5:with\", \"query_word\": \"0:the\", \"value\": 0.15858150124248493, \"key\": \"with\", \"query\": \"the\"}, {\"key_word\": \"5:with\", \"query_word\": \"1:dog\", \"value\": 0.0410644764580471, \"key\": \"with\", \"query\": \"dog\"}, {\"key_word\": \"5:with\", \"query_word\": \"2:is\", \"value\": 0.1218384910480964, \"key\": \"with\", \"query\": \"is\"}, {\"key_word\": \"5:with\", \"query_word\": \"3:is\", \"value\": 0.1218384910480964, \"key\": \"with\", \"query\": \"is\"}, {\"key_word\": \"5:with\", \"query_word\": \"4:playing\", \"value\": 0.13588609495720483, \"key\": \"with\", \"query\": \"playing\"}, {\"key_word\": \"5:with\", \"query_word\": \"5:with\", \"value\": 0.23128492538235484, \"key\": \"with\", \"query\": \"with\"}, {\"key_word\": \"5:with\", \"query_word\": \"6:the\", \"value\": 0.15858150124248493, \"key\": \"with\", \"query\": \"the\"}, {\"key_word\": \"5:with\", \"query_word\": \"7:cat\", \"value\": 0.030924518621230555, \"key\": \"with\", \"query\": \"cat\"}, {\"key_word\": \"6:the\", \"query_word\": \"0:the\", \"value\": 0.23799970278603863, \"key\": \"the\", \"query\": \"the\"}, {\"key_word\": \"6:the\", \"query_word\": \"1:dog\", \"value\": 0.03636919461545924, \"key\": \"the\", \"query\": \"dog\"}, {\"key_word\": \"6:the\", \"query_word\": \"2:is\", \"value\": 0.1341617272554369, \"key\": \"the\", \"query\": \"is\"}, {\"key_word\": \"6:the\", \"query_word\": \"3:is\", \"value\": 0.1341617272554369, \"key\": \"the\", \"query\": \"is\"}, {\"key_word\": \"6:the\", \"query_word\": \"4:playing\", \"value\": 0.07166492553769552, \"key\": \"the\", \"query\": \"playing\"}, {\"key_word\": \"6:the\", \"query_word\": \"5:with\", \"value\": 0.11904210158987245, \"key\": \"the\", \"query\": \"with\"}, {\"key_word\": \"6:the\", \"query_word\": \"6:the\", \"value\": 0.23799970278603863, \"key\": \"the\", \"query\": \"the\"}, {\"key_word\": \"6:the\", \"query_word\": \"7:cat\", \"value\": 0.028600918174021685, \"key\": \"the\", \"query\": \"cat\"}, {\"key_word\": \"7:cat\", \"query_word\": \"0:the\", \"value\": 0.06917724104257153, \"key\": \"cat\", \"query\": \"the\"}, {\"key_word\": \"7:cat\", \"query_word\": \"1:dog\", \"value\": 0.28624488819326466, \"key\": \"cat\", \"query\": \"dog\"}, {\"key_word\": \"7:cat\", \"query_word\": \"2:is\", \"value\": 0.08918105029011782, \"key\": \"cat\", \"query\": \"is\"}, {\"key_word\": \"7:cat\", \"query_word\": \"3:is\", \"value\": 0.08918105029011782, \"key\": \"cat\", \"query\": \"is\"}, {\"key_word\": \"7:cat\", \"query_word\": \"4:playing\", \"value\": 0.06691635513202165, \"key\": \"cat\", \"query\": \"playing\"}, {\"key_word\": \"7:cat\", \"query_word\": \"5:with\", \"value\": 0.05614799729774012, \"key\": \"cat\", \"query\": \"with\"}, {\"key_word\": \"7:cat\", \"query_word\": \"6:the\", \"value\": 0.06917724104257153, \"key\": \"cat\", \"query\": \"the\"}, {\"key_word\": \"7:cat\", \"query_word\": \"7:cat\", \"value\": 0.27397417671159485, \"key\": \"cat\", \"query\": \"cat\"}]}}, {\"mode\": \"vega-lite\"});\n",
       "</script>"
      ],
      "text/plain": [
       "alt.Chart(...)"
      ]
     },
     "execution_count": 9,
     "metadata": {},
     "output_type": "execute_result"
    }
   ],
   "source": [
    "def heatmap(matrix, query_ids, key_ids, title='attention weights'):\n",
    "    idy = [str(a) + ':' + vocab[j] for a, j in enumerate(key_ids)]\n",
    "    idx = [str(a) + ':' + vocab[j] for a, j in enumerate(query_ids)]\n",
    "    df = (\n",
    "        pd.DataFrame(\n",
    "            matrix,\n",
    "            index=pd.Index(idy, name='key_word'),\n",
    "            columns=pd.Index(idx, name='query_word')\n",
    "        )\n",
    "        .stack()\n",
    "        .to_frame('value')\n",
    "        .reset_index()\n",
    "    )\n",
    "    df['key'] = df['key_word'].apply(lambda x: x.split(':')[1])\n",
    "    df['query'] = df['query_word'].apply(lambda x: x.split(':')[1])\n",
    "    return (\n",
    "        alt.Chart(df, title=title)\n",
    "        .mark_rect()\n",
    "        .encode(\n",
    "            x=alt.X('key_word:N'),\n",
    "            y=alt.Y('query_word:N'),\n",
    "            color=alt.Color('value', title='softmax').scale(scheme='greenblue'),\n",
    "            tooltip=[\n",
    "                'key:N',\n",
    "                'query:N',\n",
    "                alt.Tooltip('value', title='val', format='.02'),\n",
    "            ],\n",
    "        )\n",
    "    )\n",
    "\n",
    "heatmap(self_attn(embed)[-1], token_ids, token_ids)"
   ]
  },
  {
   "cell_type": "code",
   "execution_count": 10,
   "id": "34972314-7b43-47ea-a6ee-b1ee100f3366",
   "metadata": {
    "tags": []
   },
   "outputs": [
    {
     "data": {
      "text/plain": [
       "(8, 50)"
      ]
     },
     "execution_count": 10,
     "metadata": {},
     "output_type": "execute_result"
    }
   ],
   "source": [
    "def sin_pos_enc(sequence_length, embed_dim):\n",
    "    X = np.expand_dims(np.arange(sequence_length), 1) / \\\n",
    "        np.power(10000, np.arange(embed_dim, step=2) / embed_dim)\n",
    "    out = np.empty((sequence_length, embed_dim))\n",
    "    out[:, 0::2] = np.sin(X)\n",
    "    out[:, 1::2] = np.cos(X)\n",
    "    return out\n",
    "\n",
    "pos_enc = sin_pos_enc(*embed.shape)\n",
    "pos_enc.shape"
   ]
  },
  {
   "cell_type": "code",
   "execution_count": 11,
   "id": "f9b86fa3-13df-474a-84fb-2196b5cb7758",
   "metadata": {
    "tags": []
   },
   "outputs": [
    {
     "data": {
      "text/html": [
       "\n",
       "<style>\n",
       "  #altair-viz-e5fcdef4db0f43fd9455907ae9f4a86b.vega-embed {\n",
       "    width: 100%;\n",
       "    display: flex;\n",
       "  }\n",
       "\n",
       "  #altair-viz-e5fcdef4db0f43fd9455907ae9f4a86b.vega-embed details,\n",
       "  #altair-viz-e5fcdef4db0f43fd9455907ae9f4a86b.vega-embed details summary {\n",
       "    position: relative;\n",
       "  }\n",
       "</style>\n",
       "<div id=\"altair-viz-e5fcdef4db0f43fd9455907ae9f4a86b\"></div>\n",
       "<script type=\"text/javascript\">\n",
       "  var VEGA_DEBUG = (typeof VEGA_DEBUG == \"undefined\") ? {} : VEGA_DEBUG;\n",
       "  (function(spec, embedOpt){\n",
       "    let outputDiv = document.currentScript.previousElementSibling;\n",
       "    if (outputDiv.id !== \"altair-viz-e5fcdef4db0f43fd9455907ae9f4a86b\") {\n",
       "      outputDiv = document.getElementById(\"altair-viz-e5fcdef4db0f43fd9455907ae9f4a86b\");\n",
       "    }\n",
       "    const paths = {\n",
       "      \"vega\": \"https://cdn.jsdelivr.net/npm/vega@5?noext\",\n",
       "      \"vega-lib\": \"https://cdn.jsdelivr.net/npm/vega-lib?noext\",\n",
       "      \"vega-lite\": \"https://cdn.jsdelivr.net/npm/vega-lite@5.8.0?noext\",\n",
       "      \"vega-embed\": \"https://cdn.jsdelivr.net/npm/vega-embed@6?noext\",\n",
       "    };\n",
       "\n",
       "    function maybeLoadScript(lib, version) {\n",
       "      var key = `${lib.replace(\"-\", \"\")}_version`;\n",
       "      return (VEGA_DEBUG[key] == version) ?\n",
       "        Promise.resolve(paths[lib]) :\n",
       "        new Promise(function(resolve, reject) {\n",
       "          var s = document.createElement('script');\n",
       "          document.getElementsByTagName(\"head\")[0].appendChild(s);\n",
       "          s.async = true;\n",
       "          s.onload = () => {\n",
       "            VEGA_DEBUG[key] = version;\n",
       "            return resolve(paths[lib]);\n",
       "          };\n",
       "          s.onerror = () => reject(`Error loading script: ${paths[lib]}`);\n",
       "          s.src = paths[lib];\n",
       "        });\n",
       "    }\n",
       "\n",
       "    function showError(err) {\n",
       "      outputDiv.innerHTML = `<div class=\"error\" style=\"color:red;\">${err}</div>`;\n",
       "      throw err;\n",
       "    }\n",
       "\n",
       "    function displayChart(vegaEmbed) {\n",
       "      vegaEmbed(outputDiv, spec, embedOpt)\n",
       "        .catch(err => showError(`Javascript Error: ${err.message}<br>This usually means there's a typo in your chart specification. See the javascript console for the full traceback.`));\n",
       "    }\n",
       "\n",
       "    if(typeof define === \"function\" && define.amd) {\n",
       "      requirejs.config({paths});\n",
       "      require([\"vega-embed\"], displayChart, err => showError(`Error loading script: ${err.message}`));\n",
       "    } else {\n",
       "      maybeLoadScript(\"vega\", \"5\")\n",
       "        .then(() => maybeLoadScript(\"vega-lite\", \"5.8.0\"))\n",
       "        .then(() => maybeLoadScript(\"vega-embed\", \"6\"))\n",
       "        .catch(showError)\n",
       "        .then(() => displayChart(vegaEmbed));\n",
       "    }\n",
       "  })({\"config\": {\"view\": {\"continuousWidth\": 300, \"continuousHeight\": 300}}, \"data\": {\"name\": \"data-a6e9af66badd499f1a30d90428930692\"}, \"mark\": {\"type\": \"rect\"}, \"encoding\": {\"color\": {\"field\": \"value\", \"scale\": {\"scheme\": \"greenblue\"}, \"title\": \"softmax\", \"type\": \"quantitative\"}, \"tooltip\": [{\"field\": \"key\", \"type\": \"nominal\"}, {\"field\": \"query\", \"type\": \"nominal\"}, {\"field\": \"value\", \"format\": \".02\", \"title\": \"val\", \"type\": \"quantitative\"}], \"x\": {\"field\": \"key_word\", \"type\": \"nominal\"}, \"y\": {\"field\": \"query_word\", \"type\": \"nominal\"}}, \"title\": \"difference in attention weights\", \"$schema\": \"https://vega.github.io/schema/vega-lite/v5.8.0.json\", \"datasets\": {\"data-a6e9af66badd499f1a30d90428930692\": [{\"key_word\": \"0:the\", \"query_word\": \"0:the\", \"value\": 0.21888633255702336, \"key\": \"the\", \"query\": \"the\"}, {\"key_word\": \"0:the\", \"query_word\": \"1:dog\", \"value\": 0.19254972815498925, \"key\": \"the\", \"query\": \"dog\"}, {\"key_word\": \"0:the\", \"query_word\": \"2:is\", \"value\": 0.1419024938994787, \"key\": \"the\", \"query\": \"is\"}, {\"key_word\": \"0:the\", \"query_word\": \"3:is\", \"value\": 0.10440906264673466, \"key\": \"the\", \"query\": \"is\"}, {\"key_word\": \"0:the\", \"query_word\": \"4:playing\", \"value\": 0.0879697308604919, \"key\": \"the\", \"query\": \"playing\"}, {\"key_word\": \"0:the\", \"query_word\": \"5:with\", \"value\": 0.08543431582493351, \"key\": \"the\", \"query\": \"with\"}, {\"key_word\": \"0:the\", \"query_word\": \"6:the\", \"value\": 0.08644594545460713, \"key\": \"the\", \"query\": \"the\"}, {\"key_word\": \"0:the\", \"query_word\": \"7:cat\", \"value\": 0.08240239060174155, \"key\": \"the\", \"query\": \"cat\"}, {\"key_word\": \"1:dog\", \"query_word\": \"0:the\", \"value\": 0.17344520104814798, \"key\": \"dog\", \"query\": \"the\"}, {\"key_word\": \"1:dog\", \"query_word\": \"1:dog\", \"value\": 0.1971687227025616, \"key\": \"dog\", \"query\": \"dog\"}, {\"key_word\": \"1:dog\", \"query_word\": \"2:is\", \"value\": 0.17344520104814806, \"key\": \"dog\", \"query\": \"is\"}, {\"key_word\": \"1:dog\", \"query_word\": \"3:is\", \"value\": 0.12782311779644495, \"key\": \"dog\", \"query\": \"is\"}, {\"key_word\": \"1:dog\", \"query_word\": \"4:playing\", \"value\": 0.09404973476480255, \"key\": \"dog\", \"query\": \"playing\"}, {\"key_word\": \"1:dog\", \"query_word\": \"5:with\", \"value\": 0.07924149154325419, \"key\": \"dog\", \"query\": \"with\"}, {\"key_word\": \"1:dog\", \"query_word\": \"6:the\", \"value\": 0.07695763700449866, \"key\": \"dog\", \"query\": \"the\"}, {\"key_word\": \"1:dog\", \"query_word\": \"7:cat\", \"value\": 0.07786889409214191, \"key\": \"dog\", \"query\": \"cat\"}, {\"key_word\": \"2:is\", \"query_word\": \"0:the\", \"value\": 0.12174161016799122, \"key\": \"is\", \"query\": \"the\"}, {\"key_word\": \"2:is\", \"query_word\": \"1:dog\", \"value\": 0.1651931075968462, \"key\": \"is\", \"query\": \"dog\"}, {\"key_word\": \"2:is\", \"query_word\": \"2:is\", \"value\": 0.18778792279813705, \"key\": \"is\", \"query\": \"is\"}, {\"key_word\": \"2:is\", \"query_word\": \"3:is\", \"value\": 0.16519310759684583, \"key\": \"is\", \"query\": \"is\"}, {\"key_word\": \"2:is\", \"query_word\": \"4:playing\", \"value\": 0.12174161016799122, \"key\": \"is\", \"query\": \"playing\"}, {\"key_word\": \"2:is\", \"query_word\": \"5:with\", \"value\": 0.08957508112400303, \"key\": \"is\", \"query\": \"with\"}, {\"key_word\": \"2:is\", \"query_word\": \"6:the\", \"value\": 0.0754713774698533, \"key\": \"is\", \"query\": \"the\"}, {\"key_word\": \"2:is\", \"query_word\": \"7:cat\", \"value\": 0.0732961830783322, \"key\": \"is\", \"query\": \"cat\"}, {\"key_word\": \"3:is\", \"query_word\": \"0:the\", \"value\": 0.08814025490075424, \"key\": \"is\", \"query\": \"the\"}, {\"key_word\": \"3:is\", \"query_word\": \"1:dog\", \"value\": 0.11979153596724602, \"key\": \"is\", \"query\": \"dog\"}, {\"key_word\": \"3:is\", \"query_word\": \"2:is\", \"value\": 0.16254702121092576, \"key\": \"is\", \"query\": \"is\"}, {\"key_word\": \"3:is\", \"query_word\": \"3:is\", \"value\": 0.1847799094906505, \"key\": \"is\", \"query\": \"is\"}, {\"key_word\": \"3:is\", \"query_word\": \"4:playing\", \"value\": 0.16254702121092585, \"key\": \"is\", \"query\": \"playing\"}, {\"key_word\": \"3:is\", \"query_word\": \"5:with\", \"value\": 0.11979153596724612, \"key\": \"is\", \"query\": \"with\"}, {\"key_word\": \"3:is\", \"query_word\": \"6:the\", \"value\": 0.08814025490075428, \"key\": \"is\", \"query\": \"the\"}, {\"key_word\": \"3:is\", \"query_word\": \"7:cat\", \"value\": 0.07426246635149726, \"key\": \"is\", \"query\": \"cat\"}, {\"key_word\": \"4:playing\", \"query_word\": \"0:the\", \"value\": 0.07426246635149723, \"key\": \"playing\", \"query\": \"the\"}, {\"key_word\": \"4:playing\", \"query_word\": \"1:dog\", \"value\": 0.08814025490075421, \"key\": \"playing\", \"query\": \"dog\"}, {\"key_word\": \"4:playing\", \"query_word\": \"2:is\", \"value\": 0.11979153596724615, \"key\": \"playing\", \"query\": \"is\"}, {\"key_word\": \"4:playing\", \"query_word\": \"3:is\", \"value\": 0.1625470212109258, \"key\": \"playing\", \"query\": \"is\"}, {\"key_word\": \"4:playing\", \"query_word\": \"4:playing\", \"value\": 0.18477990949065054, \"key\": \"playing\", \"query\": \"playing\"}, {\"key_word\": \"4:playing\", \"query_word\": \"5:with\", \"value\": 0.16254702121092585, \"key\": \"playing\", \"query\": \"with\"}, {\"key_word\": \"4:playing\", \"query_word\": \"6:the\", \"value\": 0.11979153596724605, \"key\": \"playing\", \"query\": \"the\"}, {\"key_word\": \"4:playing\", \"query_word\": \"7:cat\", \"value\": 0.08814025490075421, \"key\": \"playing\", \"query\": \"cat\"}, {\"key_word\": \"5:with\", \"query_word\": \"0:the\", \"value\": 0.07329618307833215, \"key\": \"with\", \"query\": \"the\"}, {\"key_word\": \"5:with\", \"query_word\": \"1:dog\", \"value\": 0.07547137746985325, \"key\": \"with\", \"query\": \"dog\"}, {\"key_word\": \"5:with\", \"query_word\": \"2:is\", \"value\": 0.08957508112400304, \"key\": \"with\", \"query\": \"is\"}, {\"key_word\": \"5:with\", \"query_word\": \"3:is\", \"value\": 0.12174161016799118, \"key\": \"with\", \"query\": \"is\"}, {\"key_word\": \"5:with\", \"query_word\": \"4:playing\", \"value\": 0.16519310759684597, \"key\": \"with\", \"query\": \"playing\"}, {\"key_word\": \"5:with\", \"query_word\": \"5:with\", \"value\": 0.18778792279813708, \"key\": \"with\", \"query\": \"with\"}, {\"key_word\": \"5:with\", \"query_word\": \"6:the\", \"value\": 0.1651931075968459, \"key\": \"with\", \"query\": \"the\"}, {\"key_word\": \"5:with\", \"query_word\": \"7:cat\", \"value\": 0.1217416101679913, \"key\": \"with\", \"query\": \"cat\"}, {\"key_word\": \"6:the\", \"query_word\": \"0:the\", \"value\": 0.07786889409214193, \"key\": \"the\", \"query\": \"the\"}, {\"key_word\": \"6:the\", \"query_word\": \"1:dog\", \"value\": 0.07695763700449869, \"key\": \"the\", \"query\": \"dog\"}, {\"key_word\": \"6:the\", \"query_word\": \"2:is\", \"value\": 0.0792414915432543, \"key\": \"the\", \"query\": \"is\"}, {\"key_word\": \"6:the\", \"query_word\": \"3:is\", \"value\": 0.09404973476480263, \"key\": \"the\", \"query\": \"is\"}, {\"key_word\": \"6:the\", \"query_word\": \"4:playing\", \"value\": 0.1278231177964451, \"key\": \"the\", \"query\": \"playing\"}, {\"key_word\": \"6:the\", \"query_word\": \"5:with\", \"value\": 0.17344520104814784, \"key\": \"the\", \"query\": \"with\"}, {\"key_word\": \"6:the\", \"query_word\": \"6:the\", \"value\": 0.19716872270256164, \"key\": \"the\", \"query\": \"the\"}, {\"key_word\": \"6:the\", \"query_word\": \"7:cat\", \"value\": 0.17344520104814792, \"key\": \"the\", \"query\": \"cat\"}, {\"key_word\": \"7:cat\", \"query_word\": \"0:the\", \"value\": 0.08240239060174155, \"key\": \"cat\", \"query\": \"the\"}, {\"key_word\": \"7:cat\", \"query_word\": \"1:dog\", \"value\": 0.08644594545460715, \"key\": \"cat\", \"query\": \"dog\"}, {\"key_word\": \"7:cat\", \"query_word\": \"2:is\", \"value\": 0.08543431582493359, \"key\": \"cat\", \"query\": \"is\"}, {\"key_word\": \"7:cat\", \"query_word\": \"3:is\", \"value\": 0.0879697308604919, \"key\": \"cat\", \"query\": \"is\"}, {\"key_word\": \"7:cat\", \"query_word\": \"4:playing\", \"value\": 0.10440906264673466, \"key\": \"cat\", \"query\": \"playing\"}, {\"key_word\": \"7:cat\", \"query_word\": \"5:with\", \"value\": 0.14190249389947876, \"key\": \"cat\", \"query\": \"with\"}, {\"key_word\": \"7:cat\", \"query_word\": \"6:the\", \"value\": 0.19254972815498905, \"key\": \"cat\", \"query\": \"the\"}, {\"key_word\": \"7:cat\", \"query_word\": \"7:cat\", \"value\": 0.21888633255702336, \"key\": \"cat\", \"query\": \"cat\"}]}}, {\"mode\": \"vega-lite\"});\n",
       "</script>"
      ],
      "text/plain": [
       "alt.Chart(...)"
      ]
     },
     "execution_count": 11,
     "metadata": {},
     "output_type": "execute_result"
    }
   ],
   "source": [
    "heatmap(self_attn(pos_enc)[-1], token_ids, token_ids, title='difference in attention weights')"
   ]
  },
  {
   "cell_type": "code",
   "execution_count": 12,
   "id": "833f11bc-6ed5-48cb-86c0-3382728c410d",
   "metadata": {
    "tags": []
   },
   "outputs": [],
   "source": [
    "_, w1 = self_attn(embed)\n",
    "_, w2 = self_attn(embed + pos_enc)"
   ]
  },
  {
   "cell_type": "code",
   "execution_count": 13,
   "id": "ec2d3285-a144-4b66-8274-d682676bb4eb",
   "metadata": {
    "tags": []
   },
   "outputs": [
    {
     "data": {
      "text/html": [
       "\n",
       "<style>\n",
       "  #altair-viz-5c37af82b7c14f579aa4fa660314cb31.vega-embed {\n",
       "    width: 100%;\n",
       "    display: flex;\n",
       "  }\n",
       "\n",
       "  #altair-viz-5c37af82b7c14f579aa4fa660314cb31.vega-embed details,\n",
       "  #altair-viz-5c37af82b7c14f579aa4fa660314cb31.vega-embed details summary {\n",
       "    position: relative;\n",
       "  }\n",
       "</style>\n",
       "<div id=\"altair-viz-5c37af82b7c14f579aa4fa660314cb31\"></div>\n",
       "<script type=\"text/javascript\">\n",
       "  var VEGA_DEBUG = (typeof VEGA_DEBUG == \"undefined\") ? {} : VEGA_DEBUG;\n",
       "  (function(spec, embedOpt){\n",
       "    let outputDiv = document.currentScript.previousElementSibling;\n",
       "    if (outputDiv.id !== \"altair-viz-5c37af82b7c14f579aa4fa660314cb31\") {\n",
       "      outputDiv = document.getElementById(\"altair-viz-5c37af82b7c14f579aa4fa660314cb31\");\n",
       "    }\n",
       "    const paths = {\n",
       "      \"vega\": \"https://cdn.jsdelivr.net/npm/vega@5?noext\",\n",
       "      \"vega-lib\": \"https://cdn.jsdelivr.net/npm/vega-lib?noext\",\n",
       "      \"vega-lite\": \"https://cdn.jsdelivr.net/npm/vega-lite@5.8.0?noext\",\n",
       "      \"vega-embed\": \"https://cdn.jsdelivr.net/npm/vega-embed@6?noext\",\n",
       "    };\n",
       "\n",
       "    function maybeLoadScript(lib, version) {\n",
       "      var key = `${lib.replace(\"-\", \"\")}_version`;\n",
       "      return (VEGA_DEBUG[key] == version) ?\n",
       "        Promise.resolve(paths[lib]) :\n",
       "        new Promise(function(resolve, reject) {\n",
       "          var s = document.createElement('script');\n",
       "          document.getElementsByTagName(\"head\")[0].appendChild(s);\n",
       "          s.async = true;\n",
       "          s.onload = () => {\n",
       "            VEGA_DEBUG[key] = version;\n",
       "            return resolve(paths[lib]);\n",
       "          };\n",
       "          s.onerror = () => reject(`Error loading script: ${paths[lib]}`);\n",
       "          s.src = paths[lib];\n",
       "        });\n",
       "    }\n",
       "\n",
       "    function showError(err) {\n",
       "      outputDiv.innerHTML = `<div class=\"error\" style=\"color:red;\">${err}</div>`;\n",
       "      throw err;\n",
       "    }\n",
       "\n",
       "    function displayChart(vegaEmbed) {\n",
       "      vegaEmbed(outputDiv, spec, embedOpt)\n",
       "        .catch(err => showError(`Javascript Error: ${err.message}<br>This usually means there's a typo in your chart specification. See the javascript console for the full traceback.`));\n",
       "    }\n",
       "\n",
       "    if(typeof define === \"function\" && define.amd) {\n",
       "      requirejs.config({paths});\n",
       "      require([\"vega-embed\"], displayChart, err => showError(`Error loading script: ${err.message}`));\n",
       "    } else {\n",
       "      maybeLoadScript(\"vega\", \"5\")\n",
       "        .then(() => maybeLoadScript(\"vega-lite\", \"5.8.0\"))\n",
       "        .then(() => maybeLoadScript(\"vega-embed\", \"6\"))\n",
       "        .catch(showError)\n",
       "        .then(() => displayChart(vegaEmbed));\n",
       "    }\n",
       "  })({\"config\": {\"view\": {\"continuousWidth\": 300, \"continuousHeight\": 300}}, \"hconcat\": [{\"data\": {\"name\": \"data-342063190ab793473e8b85fa9cf7028f\"}, \"mark\": {\"type\": \"rect\"}, \"encoding\": {\"color\": {\"field\": \"value\", \"scale\": {\"scheme\": \"greenblue\"}, \"title\": \"softmax\", \"type\": \"quantitative\"}, \"tooltip\": [{\"field\": \"key\", \"type\": \"nominal\"}, {\"field\": \"query\", \"type\": \"nominal\"}, {\"field\": \"value\", \"format\": \".02\", \"title\": \"val\", \"type\": \"quantitative\"}], \"x\": {\"field\": \"key_word\", \"type\": \"nominal\"}, \"y\": {\"field\": \"query_word\", \"type\": \"nominal\"}}, \"title\": \"without positional encoding\"}, {\"data\": {\"name\": \"data-f59d4b50523741f1a67689a8d16f54f9\"}, \"mark\": {\"type\": \"rect\"}, \"encoding\": {\"color\": {\"field\": \"value\", \"scale\": {\"scheme\": \"greenblue\"}, \"title\": \"softmax\", \"type\": \"quantitative\"}, \"tooltip\": [{\"field\": \"key\", \"type\": \"nominal\"}, {\"field\": \"query\", \"type\": \"nominal\"}, {\"field\": \"value\", \"format\": \".02\", \"title\": \"val\", \"type\": \"quantitative\"}], \"x\": {\"field\": \"key_word\", \"type\": \"nominal\"}, \"y\": {\"field\": \"query_word\", \"type\": \"nominal\"}}, \"title\": \"with positional encoding\"}], \"$schema\": \"https://vega.github.io/schema/vega-lite/v5.8.0.json\", \"datasets\": {\"data-342063190ab793473e8b85fa9cf7028f\": [{\"key_word\": \"0:the\", \"query_word\": \"0:the\", \"value\": 0.23799970278603863, \"key\": \"the\", \"query\": \"the\"}, {\"key_word\": \"0:the\", \"query_word\": \"1:dog\", \"value\": 0.03636919461545924, \"key\": \"the\", \"query\": \"dog\"}, {\"key_word\": \"0:the\", \"query_word\": \"2:is\", \"value\": 0.1341617272554369, \"key\": \"the\", \"query\": \"is\"}, {\"key_word\": \"0:the\", \"query_word\": \"3:is\", \"value\": 0.1341617272554369, \"key\": \"the\", \"query\": \"is\"}, {\"key_word\": \"0:the\", \"query_word\": \"4:playing\", \"value\": 0.07166492553769552, \"key\": \"the\", \"query\": \"playing\"}, {\"key_word\": \"0:the\", \"query_word\": \"5:with\", \"value\": 0.11904210158987245, \"key\": \"the\", \"query\": \"with\"}, {\"key_word\": \"0:the\", \"query_word\": \"6:the\", \"value\": 0.23799970278603863, \"key\": \"the\", \"query\": \"the\"}, {\"key_word\": \"0:the\", \"query_word\": \"7:cat\", \"value\": 0.028600918174021685, \"key\": \"the\", \"query\": \"cat\"}, {\"key_word\": \"1:dog\", \"query_word\": \"0:the\", \"value\": 0.06598743801908599, \"key\": \"dog\", \"query\": \"the\"}, {\"key_word\": \"1:dog\", \"query_word\": \"1:dog\", \"value\": 0.37072517757537915, \"key\": \"dog\", \"query\": \"dog\"}, {\"key_word\": \"1:dog\", \"query_word\": \"2:is\", \"value\": 0.08148026477954952, \"key\": \"dog\", \"query\": \"is\"}, {\"key_word\": \"1:dog\", \"query_word\": \"3:is\", \"value\": 0.08148026477954952, \"key\": \"dog\", \"query\": \"is\"}, {\"key_word\": \"1:dog\", \"query_word\": \"4:playing\", \"value\": 0.06368506047102303, \"key\": \"dog\", \"query\": \"playing\"}, {\"key_word\": \"1:dog\", \"query_word\": \"5:with\", \"value\": 0.05592962842005018, \"key\": \"dog\", \"query\": \"with\"}, {\"key_word\": \"1:dog\", \"query_word\": \"6:the\", \"value\": 0.06598743801908599, \"key\": \"dog\", \"query\": \"the\"}, {\"key_word\": \"1:dog\", \"query_word\": \"7:cat\", \"value\": 0.2147247279362766, \"key\": \"dog\", \"query\": \"cat\"}, {\"key_word\": \"2:is\", \"query_word\": \"0:the\", \"value\": 0.12693680562424806, \"key\": \"is\", \"query\": \"the\"}, {\"key_word\": \"2:is\", \"query_word\": \"1:dog\", \"value\": 0.042489710543084945, \"key\": \"is\", \"query\": \"dog\"}, {\"key_word\": \"2:is\", \"query_word\": \"2:is\", \"value\": 0.2596587432952105, \"key\": \"is\", \"query\": \"is\"}, {\"key_word\": \"2:is\", \"query_word\": \"3:is\", \"value\": 0.2596587432952105, \"key\": \"is\", \"query\": \"is\"}, {\"key_word\": \"2:is\", \"query_word\": \"4:playing\", \"value\": 0.06289848720090792, \"key\": \"is\", \"query\": \"playing\"}, {\"key_word\": \"2:is\", \"query_word\": \"5:with\", \"value\": 0.08653493988818069, \"key\": \"is\", \"query\": \"with\"}, {\"key_word\": \"2:is\", \"query_word\": \"6:the\", \"value\": 0.12693680562424806, \"key\": \"is\", \"query\": \"the\"}, {\"key_word\": \"2:is\", \"query_word\": \"7:cat\", \"value\": 0.03488576452890924, \"key\": \"is\", \"query\": \"cat\"}, {\"key_word\": \"3:is\", \"query_word\": \"0:the\", \"value\": 0.12693680562424806, \"key\": \"is\", \"query\": \"the\"}, {\"key_word\": \"3:is\", \"query_word\": \"1:dog\", \"value\": 0.042489710543084945, \"key\": \"is\", \"query\": \"dog\"}, {\"key_word\": \"3:is\", \"query_word\": \"2:is\", \"value\": 0.2596587432952105, \"key\": \"is\", \"query\": \"is\"}, {\"key_word\": \"3:is\", \"query_word\": \"3:is\", \"value\": 0.2596587432952105, \"key\": \"is\", \"query\": \"is\"}, {\"key_word\": \"3:is\", \"query_word\": \"4:playing\", \"value\": 0.06289848720090792, \"key\": \"is\", \"query\": \"playing\"}, {\"key_word\": \"3:is\", \"query_word\": \"5:with\", \"value\": 0.08653493988818069, \"key\": \"is\", \"query\": \"with\"}, {\"key_word\": \"3:is\", \"query_word\": \"6:the\", \"value\": 0.12693680562424806, \"key\": \"is\", \"query\": \"the\"}, {\"key_word\": \"3:is\", \"query_word\": \"7:cat\", \"value\": 0.03488576452890924, \"key\": \"is\", \"query\": \"cat\"}, {\"key_word\": \"4:playing\", \"query_word\": \"0:the\", \"value\": 0.07494238684370456, \"key\": \"playing\", \"query\": \"the\"}, {\"key_word\": \"4:playing\", \"query_word\": \"1:dog\", \"value\": 0.03670547504941454, \"key\": \"playing\", \"query\": \"dog\"}, {\"key_word\": \"4:playing\", \"query_word\": \"2:is\", \"value\": 0.06951878015000425, \"key\": \"playing\", \"query\": \"is\"}, {\"key_word\": \"4:playing\", \"query_word\": \"3:is\", \"value\": 0.06951878015000425, \"key\": \"playing\", \"query\": \"is\"}, {\"key_word\": \"4:playing\", \"query_word\": \"4:playing\", \"value\": 0.5387703567441063, \"key\": \"playing\", \"query\": \"playing\"}, {\"key_word\": \"4:playing\", \"query_word\": \"5:with\", \"value\": 0.1066704054000809, \"key\": \"playing\", \"query\": \"with\"}, {\"key_word\": \"4:playing\", \"query_word\": \"6:the\", \"value\": 0.07494238684370456, \"key\": \"playing\", \"query\": \"the\"}, {\"key_word\": \"4:playing\", \"query_word\": \"7:cat\", \"value\": 0.028931428818980504, \"key\": \"playing\", \"query\": \"cat\"}, {\"key_word\": \"5:with\", \"query_word\": \"0:the\", \"value\": 0.15858150124248493, \"key\": \"with\", \"query\": \"the\"}, {\"key_word\": \"5:with\", \"query_word\": \"1:dog\", \"value\": 0.0410644764580471, \"key\": \"with\", \"query\": \"dog\"}, {\"key_word\": \"5:with\", \"query_word\": \"2:is\", \"value\": 0.1218384910480964, \"key\": \"with\", \"query\": \"is\"}, {\"key_word\": \"5:with\", \"query_word\": \"3:is\", \"value\": 0.1218384910480964, \"key\": \"with\", \"query\": \"is\"}, {\"key_word\": \"5:with\", \"query_word\": \"4:playing\", \"value\": 0.13588609495720483, \"key\": \"with\", \"query\": \"playing\"}, {\"key_word\": \"5:with\", \"query_word\": \"5:with\", \"value\": 0.23128492538235484, \"key\": \"with\", \"query\": \"with\"}, {\"key_word\": \"5:with\", \"query_word\": \"6:the\", \"value\": 0.15858150124248493, \"key\": \"with\", \"query\": \"the\"}, {\"key_word\": \"5:with\", \"query_word\": \"7:cat\", \"value\": 0.030924518621230555, \"key\": \"with\", \"query\": \"cat\"}, {\"key_word\": \"6:the\", \"query_word\": \"0:the\", \"value\": 0.23799970278603863, \"key\": \"the\", \"query\": \"the\"}, {\"key_word\": \"6:the\", \"query_word\": \"1:dog\", \"value\": 0.03636919461545924, \"key\": \"the\", \"query\": \"dog\"}, {\"key_word\": \"6:the\", \"query_word\": \"2:is\", \"value\": 0.1341617272554369, \"key\": \"the\", \"query\": \"is\"}, {\"key_word\": \"6:the\", \"query_word\": \"3:is\", \"value\": 0.1341617272554369, \"key\": \"the\", \"query\": \"is\"}, {\"key_word\": \"6:the\", \"query_word\": \"4:playing\", \"value\": 0.07166492553769552, \"key\": \"the\", \"query\": \"playing\"}, {\"key_word\": \"6:the\", \"query_word\": \"5:with\", \"value\": 0.11904210158987245, \"key\": \"the\", \"query\": \"with\"}, {\"key_word\": \"6:the\", \"query_word\": \"6:the\", \"value\": 0.23799970278603863, \"key\": \"the\", \"query\": \"the\"}, {\"key_word\": \"6:the\", \"query_word\": \"7:cat\", \"value\": 0.028600918174021685, \"key\": \"the\", \"query\": \"cat\"}, {\"key_word\": \"7:cat\", \"query_word\": \"0:the\", \"value\": 0.06917724104257153, \"key\": \"cat\", \"query\": \"the\"}, {\"key_word\": \"7:cat\", \"query_word\": \"1:dog\", \"value\": 0.28624488819326466, \"key\": \"cat\", \"query\": \"dog\"}, {\"key_word\": \"7:cat\", \"query_word\": \"2:is\", \"value\": 0.08918105029011782, \"key\": \"cat\", \"query\": \"is\"}, {\"key_word\": \"7:cat\", \"query_word\": \"3:is\", \"value\": 0.08918105029011782, \"key\": \"cat\", \"query\": \"is\"}, {\"key_word\": \"7:cat\", \"query_word\": \"4:playing\", \"value\": 0.06691635513202165, \"key\": \"cat\", \"query\": \"playing\"}, {\"key_word\": \"7:cat\", \"query_word\": \"5:with\", \"value\": 0.05614799729774012, \"key\": \"cat\", \"query\": \"with\"}, {\"key_word\": \"7:cat\", \"query_word\": \"6:the\", \"value\": 0.06917724104257153, \"key\": \"cat\", \"query\": \"the\"}, {\"key_word\": \"7:cat\", \"query_word\": \"7:cat\", \"value\": 0.27397417671159485, \"key\": \"cat\", \"query\": \"cat\"}], \"data-f59d4b50523741f1a67689a8d16f54f9\": [{\"key_word\": \"0:the\", \"query_word\": \"0:the\", \"value\": 0.2668551946748279, \"key\": \"the\", \"query\": \"the\"}, {\"key_word\": \"0:the\", \"query_word\": \"1:dog\", \"value\": 0.06505275513616839, \"key\": \"the\", \"query\": \"dog\"}, {\"key_word\": \"0:the\", \"query_word\": \"2:is\", \"value\": 0.19153972078189316, \"key\": \"the\", \"query\": \"is\"}, {\"key_word\": \"0:the\", \"query_word\": \"3:is\", \"value\": 0.1323316469430797, \"key\": \"the\", \"query\": \"is\"}, {\"key_word\": \"0:the\", \"query_word\": \"4:playing\", \"value\": 0.098680118316006, \"key\": \"the\", \"query\": \"playing\"}, {\"key_word\": \"0:the\", \"query_word\": \"5:with\", \"value\": 0.10816545623941369, \"key\": \"the\", \"query\": \"with\"}, {\"key_word\": \"0:the\", \"query_word\": \"6:the\", \"value\": 0.110271684741052, \"key\": \"the\", \"query\": \"the\"}, {\"key_word\": \"0:the\", \"query_word\": \"7:cat\", \"value\": 0.02710342316755918, \"key\": \"the\", \"query\": \"cat\"}, {\"key_word\": \"1:dog\", \"query_word\": \"0:the\", \"value\": 0.03843121730732094, \"key\": \"dog\", \"query\": \"the\"}, {\"key_word\": \"1:dog\", \"query_word\": \"1:dog\", \"value\": 0.4868428932488316, \"key\": \"dog\", \"query\": \"dog\"}, {\"key_word\": \"1:dog\", \"query_word\": \"2:is\", \"value\": 0.11697482439273926, \"key\": \"dog\", \"query\": \"is\"}, {\"key_word\": \"1:dog\", \"query_word\": \"3:is\", \"value\": 0.0918431917004055, \"key\": \"dog\", \"query\": \"is\"}, {\"key_word\": \"1:dog\", \"query_word\": \"4:playing\", \"value\": 0.06191914034141864, \"key\": \"dog\", \"query\": \"playing\"}, {\"key_word\": \"1:dog\", \"query_word\": \"5:with\", \"value\": 0.0378962439724199, \"key\": \"dog\", \"query\": \"with\"}, {\"key_word\": \"1:dog\", \"query_word\": \"6:the\", \"value\": 0.020513518619478244, \"key\": \"dog\", \"query\": \"the\"}, {\"key_word\": \"1:dog\", \"query_word\": \"7:cat\", \"value\": 0.1455789704173859, \"key\": \"dog\", \"query\": \"cat\"}, {\"key_word\": \"2:is\", \"query_word\": \"0:the\", \"value\": 0.06124467068405, \"key\": \"is\", \"query\": \"the\"}, {\"key_word\": \"2:is\", \"query_word\": \"1:dog\", \"value\": 0.06331161753861997, \"key\": \"is\", \"query\": \"dog\"}, {\"key_word\": \"2:is\", \"query_word\": \"2:is\", \"value\": 0.3961439095453011, \"key\": \"is\", \"query\": \"is\"}, {\"key_word\": \"2:is\", \"query_word\": \"3:is\", \"value\": 0.307306526492095, \"key\": \"is\", \"query\": \"is\"}, {\"key_word\": \"2:is\", \"query_word\": \"4:playing\", \"value\": 0.053582954986814875, \"key\": \"is\", \"query\": \"playing\"}, {\"key_word\": \"2:is\", \"query_word\": \"5:with\", \"value\": 0.05251849319536035, \"key\": \"is\", \"query\": \"with\"}, {\"key_word\": \"2:is\", \"query_word\": \"6:the\", \"value\": 0.03916181960987995, \"key\": \"is\", \"query\": \"the\"}, {\"key_word\": \"2:is\", \"query_word\": \"7:cat\", \"value\": 0.026730007947878654, \"key\": \"is\", \"query\": \"cat\"}, {\"key_word\": \"3:is\", \"query_word\": \"0:the\", \"value\": 0.046416557824954525, \"key\": \"is\", \"query\": \"the\"}, {\"key_word\": \"3:is\", \"query_word\": \"1:dog\", \"value\": 0.05453028087572662, \"key\": \"is\", \"query\": \"dog\"}, {\"key_word\": \"3:is\", \"query_word\": \"2:is\", \"value\": 0.3371099282825901, \"key\": \"is\", \"query\": \"is\"}, {\"key_word\": \"3:is\", \"query_word\": \"3:is\", \"value\": 0.3379417225659031, \"key\": \"is\", \"query\": \"is\"}, {\"key_word\": \"3:is\", \"query_word\": \"4:playing\", \"value\": 0.07937113495111335, \"key\": \"is\", \"query\": \"playing\"}, {\"key_word\": \"3:is\", \"query_word\": \"5:with\", \"value\": 0.06647968700469416, \"key\": \"is\", \"query\": \"with\"}, {\"key_word\": \"3:is\", \"query_word\": \"6:the\", \"value\": 0.04787670510882788, \"key\": \"is\", \"query\": \"the\"}, {\"key_word\": \"3:is\", \"query_word\": \"7:cat\", \"value\": 0.030273983386190275, \"key\": \"is\", \"query\": \"cat\"}, {\"key_word\": \"4:playing\", \"query_word\": \"0:the\", \"value\": 0.02406674947606304, \"key\": \"playing\", \"query\": \"the\"}, {\"key_word\": \"4:playing\", \"query_word\": \"1:dog\", \"value\": 0.025561965687227566, \"key\": \"playing\", \"query\": \"dog\"}, {\"key_word\": \"4:playing\", \"query_word\": \"2:is\", \"value\": 0.0408700324221885, \"key\": \"playing\", \"query\": \"is\"}, {\"key_word\": \"4:playing\", \"query_word\": \"3:is\", \"value\": 0.05518755489655432, \"key\": \"playing\", \"query\": \"is\"}, {\"key_word\": \"4:playing\", \"query_word\": \"4:playing\", \"value\": 0.7303286810863981, \"key\": \"playing\", \"query\": \"playing\"}, {\"key_word\": \"4:playing\", \"query_word\": \"5:with\", \"value\": 0.08330935242482435, \"key\": \"playing\", \"query\": \"with\"}, {\"key_word\": \"4:playing\", \"query_word\": \"6:the\", \"value\": 0.025571598638248066, \"key\": \"playing\", \"query\": \"the\"}, {\"key_word\": \"4:playing\", \"query_word\": \"7:cat\", \"value\": 0.015104065368495977, \"key\": \"playing\", \"query\": \"cat\"}, {\"key_word\": \"5:with\", \"query_word\": \"0:the\", \"value\": 0.07531870923389494, \"key\": \"with\", \"query\": \"the\"}, {\"key_word\": \"5:with\", \"query_word\": \"1:dog\", \"value\": 0.044667536779098654, \"key\": \"with\", \"query\": \"dog\"}, {\"key_word\": \"5:with\", \"query_word\": \"2:is\", \"value\": 0.1143713074374106, \"key\": \"with\", \"query\": \"is\"}, {\"key_word\": \"5:with\", \"query_word\": \"3:is\", \"value\": 0.13197571852921186, \"key\": \"with\", \"query\": \"is\"}, {\"key_word\": \"5:with\", \"query_word\": \"4:playing\", \"value\": 0.23785937054966103, \"key\": \"with\", \"query\": \"playing\"}, {\"key_word\": \"5:with\", \"query_word\": \"5:with\", \"value\": 0.2521885227769015, \"key\": \"with\", \"query\": \"with\"}, {\"key_word\": \"5:with\", \"query_word\": \"6:the\", \"value\": 0.10813490178853422, \"key\": \"with\", \"query\": \"the\"}, {\"key_word\": \"5:with\", \"query_word\": \"7:cat\", \"value\": 0.03548393290528713, \"key\": \"with\", \"query\": \"cat\"}, {\"key_word\": \"6:the\", \"query_word\": \"0:the\", \"value\": 0.1074686392537805, \"key\": \"the\", \"query\": \"the\"}, {\"key_word\": \"6:the\", \"query_word\": \"1:dog\", \"value\": 0.033840709030809026, \"key\": \"the\", \"query\": \"dog\"}, {\"key_word\": \"6:the\", \"query_word\": \"2:is\", \"value\": 0.1193633912156216, \"key\": \"the\", \"query\": \"is\"}, {\"key_word\": \"6:the\", \"query_word\": \"3:is\", \"value\": 0.133024851088117, \"key\": \"the\", \"query\": \"is\"}, {\"key_word\": \"6:the\", \"query_word\": \"4:playing\", \"value\": 0.10218516341479955, \"key\": \"the\", \"query\": \"playing\"}, {\"key_word\": \"6:the\", \"query_word\": \"5:with\", \"value\": 0.15134544268677735, \"key\": \"the\", \"query\": \"with\"}, {\"key_word\": \"6:the\", \"query_word\": \"6:the\", \"value\": 0.2847201021744872, \"key\": \"the\", \"query\": \"the\"}, {\"key_word\": \"6:the\", \"query_word\": \"7:cat\", \"value\": 0.06805170113560777, \"key\": \"the\", \"query\": \"cat\"}, {\"key_word\": \"7:cat\", \"query_word\": \"0:the\", \"value\": 0.019670552479503726, \"key\": \"cat\", \"query\": \"the\"}, {\"key_word\": \"7:cat\", \"query_word\": \"1:dog\", \"value\": 0.17884327307742304, \"key\": \"cat\", \"query\": \"dog\"}, {\"key_word\": \"7:cat\", \"query_word\": \"2:is\", \"value\": 0.0606711247621519, \"key\": \"cat\", \"query\": \"is\"}, {\"key_word\": \"7:cat\", \"query_word\": \"3:is\", \"value\": 0.06264014685515698, \"key\": \"cat\", \"query\": \"is\"}, {\"key_word\": \"7:cat\", \"query_word\": \"4:playing\", \"value\": 0.044946770563133814, \"key\": \"cat\", \"query\": \"playing\"}, {\"key_word\": \"7:cat\", \"query_word\": \"5:with\", \"value\": 0.03698365926698668, \"key\": \"cat\", \"query\": \"with\"}, {\"key_word\": \"7:cat\", \"query_word\": \"6:the\", \"value\": 0.050677322132751945, \"key\": \"cat\", \"query\": \"the\"}, {\"key_word\": \"7:cat\", \"query_word\": \"7:cat\", \"value\": 0.545567150862892, \"key\": \"cat\", \"query\": \"cat\"}]}}, {\"mode\": \"vega-lite\"});\n",
       "</script>"
      ],
      "text/plain": [
       "alt.HConcatChart(...)"
      ]
     },
     "execution_count": 13,
     "metadata": {},
     "output_type": "execute_result"
    }
   ],
   "source": [
    "alt.hconcat(\n",
    "    heatmap(w1, token_ids, token_ids, title='without positional encoding'),\n",
    "    heatmap(w2, token_ids, token_ids, title='with positional encoding'),\n",
    ")"
   ]
  },
  {
   "cell_type": "code",
   "execution_count": 14,
   "id": "dabad46b-3b02-494d-9d0b-6dfc9268a13a",
   "metadata": {
    "tags": []
   },
   "outputs": [
    {
     "data": {
      "text/html": [
       "\n",
       "<style>\n",
       "  #altair-viz-c3c26311e06445bea73c9cff603ab1bf.vega-embed {\n",
       "    width: 100%;\n",
       "    display: flex;\n",
       "  }\n",
       "\n",
       "  #altair-viz-c3c26311e06445bea73c9cff603ab1bf.vega-embed details,\n",
       "  #altair-viz-c3c26311e06445bea73c9cff603ab1bf.vega-embed details summary {\n",
       "    position: relative;\n",
       "  }\n",
       "</style>\n",
       "<div id=\"altair-viz-c3c26311e06445bea73c9cff603ab1bf\"></div>\n",
       "<script type=\"text/javascript\">\n",
       "  var VEGA_DEBUG = (typeof VEGA_DEBUG == \"undefined\") ? {} : VEGA_DEBUG;\n",
       "  (function(spec, embedOpt){\n",
       "    let outputDiv = document.currentScript.previousElementSibling;\n",
       "    if (outputDiv.id !== \"altair-viz-c3c26311e06445bea73c9cff603ab1bf\") {\n",
       "      outputDiv = document.getElementById(\"altair-viz-c3c26311e06445bea73c9cff603ab1bf\");\n",
       "    }\n",
       "    const paths = {\n",
       "      \"vega\": \"https://cdn.jsdelivr.net/npm/vega@5?noext\",\n",
       "      \"vega-lib\": \"https://cdn.jsdelivr.net/npm/vega-lib?noext\",\n",
       "      \"vega-lite\": \"https://cdn.jsdelivr.net/npm/vega-lite@5.8.0?noext\",\n",
       "      \"vega-embed\": \"https://cdn.jsdelivr.net/npm/vega-embed@6?noext\",\n",
       "    };\n",
       "\n",
       "    function maybeLoadScript(lib, version) {\n",
       "      var key = `${lib.replace(\"-\", \"\")}_version`;\n",
       "      return (VEGA_DEBUG[key] == version) ?\n",
       "        Promise.resolve(paths[lib]) :\n",
       "        new Promise(function(resolve, reject) {\n",
       "          var s = document.createElement('script');\n",
       "          document.getElementsByTagName(\"head\")[0].appendChild(s);\n",
       "          s.async = true;\n",
       "          s.onload = () => {\n",
       "            VEGA_DEBUG[key] = version;\n",
       "            return resolve(paths[lib]);\n",
       "          };\n",
       "          s.onerror = () => reject(`Error loading script: ${paths[lib]}`);\n",
       "          s.src = paths[lib];\n",
       "        });\n",
       "    }\n",
       "\n",
       "    function showError(err) {\n",
       "      outputDiv.innerHTML = `<div class=\"error\" style=\"color:red;\">${err}</div>`;\n",
       "      throw err;\n",
       "    }\n",
       "\n",
       "    function displayChart(vegaEmbed) {\n",
       "      vegaEmbed(outputDiv, spec, embedOpt)\n",
       "        .catch(err => showError(`Javascript Error: ${err.message}<br>This usually means there's a typo in your chart specification. See the javascript console for the full traceback.`));\n",
       "    }\n",
       "\n",
       "    if(typeof define === \"function\" && define.amd) {\n",
       "      requirejs.config({paths});\n",
       "      require([\"vega-embed\"], displayChart, err => showError(`Error loading script: ${err.message}`));\n",
       "    } else {\n",
       "      maybeLoadScript(\"vega\", \"5\")\n",
       "        .then(() => maybeLoadScript(\"vega-lite\", \"5.8.0\"))\n",
       "        .then(() => maybeLoadScript(\"vega-embed\", \"6\"))\n",
       "        .catch(showError)\n",
       "        .then(() => displayChart(vegaEmbed));\n",
       "    }\n",
       "  })({\"config\": {\"view\": {\"continuousWidth\": 300, \"continuousHeight\": 300}}, \"data\": {\"name\": \"data-68f3e132c12d441ab789f5c7821b2d43\"}, \"mark\": {\"type\": \"rect\"}, \"encoding\": {\"color\": {\"field\": \"value\", \"scale\": {\"scheme\": \"greenblue\"}, \"title\": \"softmax\", \"type\": \"quantitative\"}, \"tooltip\": [{\"field\": \"key\", \"type\": \"nominal\"}, {\"field\": \"query\", \"type\": \"nominal\"}, {\"field\": \"value\", \"format\": \".02\", \"title\": \"val\", \"type\": \"quantitative\"}], \"x\": {\"field\": \"key_word\", \"type\": \"nominal\"}, \"y\": {\"field\": \"query_word\", \"type\": \"nominal\"}}, \"title\": \"difference in attention weights\", \"$schema\": \"https://vega.github.io/schema/vega-lite/v5.8.0.json\", \"datasets\": {\"data-68f3e132c12d441ab789f5c7821b2d43\": [{\"key_word\": \"0:the\", \"query_word\": \"0:the\", \"value\": 0.028855491888789248, \"key\": \"the\", \"query\": \"the\"}, {\"key_word\": \"0:the\", \"query_word\": \"1:dog\", \"value\": 0.028683560520709146, \"key\": \"the\", \"query\": \"dog\"}, {\"key_word\": \"0:the\", \"query_word\": \"2:is\", \"value\": 0.057377993526456256, \"key\": \"the\", \"query\": \"is\"}, {\"key_word\": \"0:the\", \"query_word\": \"3:is\", \"value\": -0.0018300803123572074, \"key\": \"the\", \"query\": \"is\"}, {\"key_word\": \"0:the\", \"query_word\": \"4:playing\", \"value\": 0.02701519277831048, \"key\": \"the\", \"query\": \"playing\"}, {\"key_word\": \"0:the\", \"query_word\": \"5:with\", \"value\": -0.010876645350458763, \"key\": \"the\", \"query\": \"with\"}, {\"key_word\": \"0:the\", \"query_word\": \"6:the\", \"value\": -0.12772801804498662, \"key\": \"the\", \"query\": \"the\"}, {\"key_word\": \"0:the\", \"query_word\": \"7:cat\", \"value\": -0.0014974950064625056, \"key\": \"the\", \"query\": \"cat\"}, {\"key_word\": \"1:dog\", \"query_word\": \"0:the\", \"value\": -0.02755622071176505, \"key\": \"dog\", \"query\": \"the\"}, {\"key_word\": \"1:dog\", \"query_word\": \"1:dog\", \"value\": 0.11611771567345247, \"key\": \"dog\", \"query\": \"dog\"}, {\"key_word\": \"1:dog\", \"query_word\": \"2:is\", \"value\": 0.035494559613189744, \"key\": \"dog\", \"query\": \"is\"}, {\"key_word\": \"1:dog\", \"query_word\": \"3:is\", \"value\": 0.010362926920855983, \"key\": \"dog\", \"query\": \"is\"}, {\"key_word\": \"1:dog\", \"query_word\": \"4:playing\", \"value\": -0.001765920129604387, \"key\": \"dog\", \"query\": \"playing\"}, {\"key_word\": \"1:dog\", \"query_word\": \"5:with\", \"value\": -0.01803338444763028, \"key\": \"dog\", \"query\": \"with\"}, {\"key_word\": \"1:dog\", \"query_word\": \"6:the\", \"value\": -0.04547391939960775, \"key\": \"dog\", \"query\": \"the\"}, {\"key_word\": \"1:dog\", \"query_word\": \"7:cat\", \"value\": -0.06914575751889068, \"key\": \"dog\", \"query\": \"cat\"}, {\"key_word\": \"2:is\", \"query_word\": \"0:the\", \"value\": -0.06569213494019806, \"key\": \"is\", \"query\": \"the\"}, {\"key_word\": \"2:is\", \"query_word\": \"1:dog\", \"value\": 0.020821906995535024, \"key\": \"is\", \"query\": \"dog\"}, {\"key_word\": \"2:is\", \"query_word\": \"2:is\", \"value\": 0.1364851662500906, \"key\": \"is\", \"query\": \"is\"}, {\"key_word\": \"2:is\", \"query_word\": \"3:is\", \"value\": 0.04764778319688451, \"key\": \"is\", \"query\": \"is\"}, {\"key_word\": \"2:is\", \"query_word\": \"4:playing\", \"value\": -0.009315532214093043, \"key\": \"is\", \"query\": \"playing\"}, {\"key_word\": \"2:is\", \"query_word\": \"5:with\", \"value\": -0.034016446692820335, \"key\": \"is\", \"query\": \"with\"}, {\"key_word\": \"2:is\", \"query_word\": \"6:the\", \"value\": -0.0877749860143681, \"key\": \"is\", \"query\": \"the\"}, {\"key_word\": \"2:is\", \"query_word\": \"7:cat\", \"value\": -0.008155756581030588, \"key\": \"is\", \"query\": \"cat\"}, {\"key_word\": \"3:is\", \"query_word\": \"0:the\", \"value\": -0.08052024779929354, \"key\": \"is\", \"query\": \"the\"}, {\"key_word\": \"3:is\", \"query_word\": \"1:dog\", \"value\": 0.012040570332641672, \"key\": \"is\", \"query\": \"dog\"}, {\"key_word\": \"3:is\", \"query_word\": \"2:is\", \"value\": 0.07745118498737963, \"key\": \"is\", \"query\": \"is\"}, {\"key_word\": \"3:is\", \"query_word\": \"3:is\", \"value\": 0.07828297927069261, \"key\": \"is\", \"query\": \"is\"}, {\"key_word\": \"3:is\", \"query_word\": \"4:playing\", \"value\": 0.016472647750205432, \"key\": \"is\", \"query\": \"playing\"}, {\"key_word\": \"3:is\", \"query_word\": \"5:with\", \"value\": -0.02005525288348653, \"key\": \"is\", \"query\": \"with\"}, {\"key_word\": \"3:is\", \"query_word\": \"6:the\", \"value\": -0.07906010051542017, \"key\": \"is\", \"query\": \"the\"}, {\"key_word\": \"3:is\", \"query_word\": \"7:cat\", \"value\": -0.004611781142718967, \"key\": \"is\", \"query\": \"cat\"}, {\"key_word\": \"4:playing\", \"query_word\": \"0:the\", \"value\": -0.05087563736764152, \"key\": \"playing\", \"query\": \"the\"}, {\"key_word\": \"4:playing\", \"query_word\": \"1:dog\", \"value\": -0.011143509362186978, \"key\": \"playing\", \"query\": \"dog\"}, {\"key_word\": \"4:playing\", \"query_word\": \"2:is\", \"value\": -0.028648747727815747, \"key\": \"playing\", \"query\": \"is\"}, {\"key_word\": \"4:playing\", \"query_word\": \"3:is\", \"value\": -0.01433122525344993, \"key\": \"playing\", \"query\": \"is\"}, {\"key_word\": \"4:playing\", \"query_word\": \"4:playing\", \"value\": 0.1915583243422918, \"key\": \"playing\", \"query\": \"playing\"}, {\"key_word\": \"4:playing\", \"query_word\": \"5:with\", \"value\": -0.02336105297525655, \"key\": \"playing\", \"query\": \"with\"}, {\"key_word\": \"4:playing\", \"query_word\": \"6:the\", \"value\": -0.0493707882054565, \"key\": \"playing\", \"query\": \"the\"}, {\"key_word\": \"4:playing\", \"query_word\": \"7:cat\", \"value\": -0.013827363450484527, \"key\": \"playing\", \"query\": \"cat\"}, {\"key_word\": \"5:with\", \"query_word\": \"0:the\", \"value\": -0.08326279200858999, \"key\": \"with\", \"query\": \"the\"}, {\"key_word\": \"5:with\", \"query_word\": \"1:dog\", \"value\": 0.0036030603210515516, \"key\": \"with\", \"query\": \"dog\"}, {\"key_word\": \"5:with\", \"query_word\": \"2:is\", \"value\": -0.007467183610685796, \"key\": \"with\", \"query\": \"is\"}, {\"key_word\": \"5:with\", \"query_word\": \"3:is\", \"value\": 0.010137227481115466, \"key\": \"with\", \"query\": \"is\"}, {\"key_word\": \"5:with\", \"query_word\": \"4:playing\", \"value\": 0.1019732755924562, \"key\": \"with\", \"query\": \"playing\"}, {\"key_word\": \"5:with\", \"query_word\": \"5:with\", \"value\": 0.02090359739454667, \"key\": \"with\", \"query\": \"with\"}, {\"key_word\": \"5:with\", \"query_word\": \"6:the\", \"value\": -0.05044659945395072, \"key\": \"with\", \"query\": \"the\"}, {\"key_word\": \"5:with\", \"query_word\": \"7:cat\", \"value\": 0.004559414284056578, \"key\": \"with\", \"query\": \"cat\"}, {\"key_word\": \"6:the\", \"query_word\": \"0:the\", \"value\": -0.13053106353225813, \"key\": \"the\", \"query\": \"the\"}, {\"key_word\": \"6:the\", \"query_word\": \"1:dog\", \"value\": -0.002528485584650214, \"key\": \"the\", \"query\": \"dog\"}, {\"key_word\": \"6:the\", \"query_word\": \"2:is\", \"value\": -0.014798336039815299, \"key\": \"the\", \"query\": \"is\"}, {\"key_word\": \"6:the\", \"query_word\": \"3:is\", \"value\": -0.001136876167319889, \"key\": \"the\", \"query\": \"is\"}, {\"key_word\": \"6:the\", \"query_word\": \"4:playing\", \"value\": 0.030520237877104034, \"key\": \"the\", \"query\": \"playing\"}, {\"key_word\": \"6:the\", \"query_word\": \"5:with\", \"value\": 0.0323033410969049, \"key\": \"the\", \"query\": \"with\"}, {\"key_word\": \"6:the\", \"query_word\": \"6:the\", \"value\": 0.04672039938844855, \"key\": \"the\", \"query\": \"the\"}, {\"key_word\": \"6:the\", \"query_word\": \"7:cat\", \"value\": 0.03945078296158608, \"key\": \"the\", \"query\": \"cat\"}, {\"key_word\": \"7:cat\", \"query_word\": \"0:the\", \"value\": -0.04950668856306781, \"key\": \"cat\", \"query\": \"the\"}, {\"key_word\": \"7:cat\", \"query_word\": \"1:dog\", \"value\": -0.10740161511584162, \"key\": \"cat\", \"query\": \"dog\"}, {\"key_word\": \"7:cat\", \"query_word\": \"2:is\", \"value\": -0.02850992552796592, \"key\": \"cat\", \"query\": \"is\"}, {\"key_word\": \"7:cat\", \"query_word\": \"3:is\", \"value\": -0.026540903434960836, \"key\": \"cat\", \"query\": \"is\"}, {\"key_word\": \"7:cat\", \"query_word\": \"4:playing\", \"value\": -0.02196958456888784, \"key\": \"cat\", \"query\": \"playing\"}, {\"key_word\": \"7:cat\", \"query_word\": \"5:with\", \"value\": -0.019164338030753444, \"key\": \"cat\", \"query\": \"with\"}, {\"key_word\": \"7:cat\", \"query_word\": \"6:the\", \"value\": -0.018499918909819585, \"key\": \"cat\", \"query\": \"the\"}, {\"key_word\": \"7:cat\", \"query_word\": \"7:cat\", \"value\": 0.27159297415129713, \"key\": \"cat\", \"query\": \"cat\"}]}}, {\"mode\": \"vega-lite\"});\n",
       "</script>"
      ],
      "text/plain": [
       "alt.Chart(...)"
      ]
     },
     "execution_count": 14,
     "metadata": {},
     "output_type": "execute_result"
    }
   ],
   "source": [
    "heatmap(w2 - w1, token_ids, token_ids, title='difference in attention weights')"
   ]
  },
  {
   "cell_type": "code",
   "execution_count": 15,
   "id": "75208533-0b77-40fc-8f5f-2c5c262c7c03",
   "metadata": {
    "tags": []
   },
   "outputs": [
    {
     "data": {
      "text/html": [
       "\n",
       "<style>\n",
       "  #altair-viz-97a06169fdf4429883d4bdcc298005d8.vega-embed {\n",
       "    width: 100%;\n",
       "    display: flex;\n",
       "  }\n",
       "\n",
       "  #altair-viz-97a06169fdf4429883d4bdcc298005d8.vega-embed details,\n",
       "  #altair-viz-97a06169fdf4429883d4bdcc298005d8.vega-embed details summary {\n",
       "    position: relative;\n",
       "  }\n",
       "</style>\n",
       "<div id=\"altair-viz-97a06169fdf4429883d4bdcc298005d8\"></div>\n",
       "<script type=\"text/javascript\">\n",
       "  var VEGA_DEBUG = (typeof VEGA_DEBUG == \"undefined\") ? {} : VEGA_DEBUG;\n",
       "  (function(spec, embedOpt){\n",
       "    let outputDiv = document.currentScript.previousElementSibling;\n",
       "    if (outputDiv.id !== \"altair-viz-97a06169fdf4429883d4bdcc298005d8\") {\n",
       "      outputDiv = document.getElementById(\"altair-viz-97a06169fdf4429883d4bdcc298005d8\");\n",
       "    }\n",
       "    const paths = {\n",
       "      \"vega\": \"https://cdn.jsdelivr.net/npm/vega@5?noext\",\n",
       "      \"vega-lib\": \"https://cdn.jsdelivr.net/npm/vega-lib?noext\",\n",
       "      \"vega-lite\": \"https://cdn.jsdelivr.net/npm/vega-lite@5.8.0?noext\",\n",
       "      \"vega-embed\": \"https://cdn.jsdelivr.net/npm/vega-embed@6?noext\",\n",
       "    };\n",
       "\n",
       "    function maybeLoadScript(lib, version) {\n",
       "      var key = `${lib.replace(\"-\", \"\")}_version`;\n",
       "      return (VEGA_DEBUG[key] == version) ?\n",
       "        Promise.resolve(paths[lib]) :\n",
       "        new Promise(function(resolve, reject) {\n",
       "          var s = document.createElement('script');\n",
       "          document.getElementsByTagName(\"head\")[0].appendChild(s);\n",
       "          s.async = true;\n",
       "          s.onload = () => {\n",
       "            VEGA_DEBUG[key] = version;\n",
       "            return resolve(paths[lib]);\n",
       "          };\n",
       "          s.onerror = () => reject(`Error loading script: ${paths[lib]}`);\n",
       "          s.src = paths[lib];\n",
       "        });\n",
       "    }\n",
       "\n",
       "    function showError(err) {\n",
       "      outputDiv.innerHTML = `<div class=\"error\" style=\"color:red;\">${err}</div>`;\n",
       "      throw err;\n",
       "    }\n",
       "\n",
       "    function displayChart(vegaEmbed) {\n",
       "      vegaEmbed(outputDiv, spec, embedOpt)\n",
       "        .catch(err => showError(`Javascript Error: ${err.message}<br>This usually means there's a typo in your chart specification. See the javascript console for the full traceback.`));\n",
       "    }\n",
       "\n",
       "    if(typeof define === \"function\" && define.amd) {\n",
       "      requirejs.config({paths});\n",
       "      require([\"vega-embed\"], displayChart, err => showError(`Error loading script: ${err.message}`));\n",
       "    } else {\n",
       "      maybeLoadScript(\"vega\", \"5\")\n",
       "        .then(() => maybeLoadScript(\"vega-lite\", \"5.8.0\"))\n",
       "        .then(() => maybeLoadScript(\"vega-embed\", \"6\"))\n",
       "        .catch(showError)\n",
       "        .then(() => displayChart(vegaEmbed));\n",
       "    }\n",
       "  })({\"config\": {\"view\": {\"continuousWidth\": 300, \"continuousHeight\": 300}}, \"data\": {\"name\": \"data-e5e98e98243df0893f9accc652831e8c\"}, \"mark\": {\"type\": \"rect\"}, \"encoding\": {\"color\": {\"field\": \"value\", \"scale\": {\"scheme\": \"greenblue\"}, \"title\": \"softmax\", \"type\": \"nominal\"}, \"tooltip\": [{\"field\": \"key\", \"type\": \"nominal\"}, {\"field\": \"query\", \"type\": \"nominal\"}, {\"field\": \"value\", \"format\": \".02\", \"title\": \"val\", \"type\": \"nominal\"}], \"x\": {\"field\": \"key_word\", \"type\": \"nominal\"}, \"y\": {\"field\": \"query_word\", \"type\": \"nominal\"}}, \"title\": \"Difference is positive?\", \"$schema\": \"https://vega.github.io/schema/vega-lite/v5.8.0.json\", \"datasets\": {\"data-e5e98e98243df0893f9accc652831e8c\": [{\"key_word\": \"0:the\", \"query_word\": \"0:the\", \"value\": true, \"key\": \"the\", \"query\": \"the\"}, {\"key_word\": \"0:the\", \"query_word\": \"1:dog\", \"value\": true, \"key\": \"the\", \"query\": \"dog\"}, {\"key_word\": \"0:the\", \"query_word\": \"2:is\", \"value\": true, \"key\": \"the\", \"query\": \"is\"}, {\"key_word\": \"0:the\", \"query_word\": \"3:is\", \"value\": false, \"key\": \"the\", \"query\": \"is\"}, {\"key_word\": \"0:the\", \"query_word\": \"4:playing\", \"value\": true, \"key\": \"the\", \"query\": \"playing\"}, {\"key_word\": \"0:the\", \"query_word\": \"5:with\", \"value\": false, \"key\": \"the\", \"query\": \"with\"}, {\"key_word\": \"0:the\", \"query_word\": \"6:the\", \"value\": false, \"key\": \"the\", \"query\": \"the\"}, {\"key_word\": \"0:the\", \"query_word\": \"7:cat\", \"value\": false, \"key\": \"the\", \"query\": \"cat\"}, {\"key_word\": \"1:dog\", \"query_word\": \"0:the\", \"value\": false, \"key\": \"dog\", \"query\": \"the\"}, {\"key_word\": \"1:dog\", \"query_word\": \"1:dog\", \"value\": true, \"key\": \"dog\", \"query\": \"dog\"}, {\"key_word\": \"1:dog\", \"query_word\": \"2:is\", \"value\": true, \"key\": \"dog\", \"query\": \"is\"}, {\"key_word\": \"1:dog\", \"query_word\": \"3:is\", \"value\": true, \"key\": \"dog\", \"query\": \"is\"}, {\"key_word\": \"1:dog\", \"query_word\": \"4:playing\", \"value\": false, \"key\": \"dog\", \"query\": \"playing\"}, {\"key_word\": \"1:dog\", \"query_word\": \"5:with\", \"value\": false, \"key\": \"dog\", \"query\": \"with\"}, {\"key_word\": \"1:dog\", \"query_word\": \"6:the\", \"value\": false, \"key\": \"dog\", \"query\": \"the\"}, {\"key_word\": \"1:dog\", \"query_word\": \"7:cat\", \"value\": false, \"key\": \"dog\", \"query\": \"cat\"}, {\"key_word\": \"2:is\", \"query_word\": \"0:the\", \"value\": false, \"key\": \"is\", \"query\": \"the\"}, {\"key_word\": \"2:is\", \"query_word\": \"1:dog\", \"value\": true, \"key\": \"is\", \"query\": \"dog\"}, {\"key_word\": \"2:is\", \"query_word\": \"2:is\", \"value\": true, \"key\": \"is\", \"query\": \"is\"}, {\"key_word\": \"2:is\", \"query_word\": \"3:is\", \"value\": true, \"key\": \"is\", \"query\": \"is\"}, {\"key_word\": \"2:is\", \"query_word\": \"4:playing\", \"value\": false, \"key\": \"is\", \"query\": \"playing\"}, {\"key_word\": \"2:is\", \"query_word\": \"5:with\", \"value\": false, \"key\": \"is\", \"query\": \"with\"}, {\"key_word\": \"2:is\", \"query_word\": \"6:the\", \"value\": false, \"key\": \"is\", \"query\": \"the\"}, {\"key_word\": \"2:is\", \"query_word\": \"7:cat\", \"value\": false, \"key\": \"is\", \"query\": \"cat\"}, {\"key_word\": \"3:is\", \"query_word\": \"0:the\", \"value\": false, \"key\": \"is\", \"query\": \"the\"}, {\"key_word\": \"3:is\", \"query_word\": \"1:dog\", \"value\": true, \"key\": \"is\", \"query\": \"dog\"}, {\"key_word\": \"3:is\", \"query_word\": \"2:is\", \"value\": true, \"key\": \"is\", \"query\": \"is\"}, {\"key_word\": \"3:is\", \"query_word\": \"3:is\", \"value\": true, \"key\": \"is\", \"query\": \"is\"}, {\"key_word\": \"3:is\", \"query_word\": \"4:playing\", \"value\": true, \"key\": \"is\", \"query\": \"playing\"}, {\"key_word\": \"3:is\", \"query_word\": \"5:with\", \"value\": false, \"key\": \"is\", \"query\": \"with\"}, {\"key_word\": \"3:is\", \"query_word\": \"6:the\", \"value\": false, \"key\": \"is\", \"query\": \"the\"}, {\"key_word\": \"3:is\", \"query_word\": \"7:cat\", \"value\": false, \"key\": \"is\", \"query\": \"cat\"}, {\"key_word\": \"4:playing\", \"query_word\": \"0:the\", \"value\": false, \"key\": \"playing\", \"query\": \"the\"}, {\"key_word\": \"4:playing\", \"query_word\": \"1:dog\", \"value\": false, \"key\": \"playing\", \"query\": \"dog\"}, {\"key_word\": \"4:playing\", \"query_word\": \"2:is\", \"value\": false, \"key\": \"playing\", \"query\": \"is\"}, {\"key_word\": \"4:playing\", \"query_word\": \"3:is\", \"value\": false, \"key\": \"playing\", \"query\": \"is\"}, {\"key_word\": \"4:playing\", \"query_word\": \"4:playing\", \"value\": true, \"key\": \"playing\", \"query\": \"playing\"}, {\"key_word\": \"4:playing\", \"query_word\": \"5:with\", \"value\": false, \"key\": \"playing\", \"query\": \"with\"}, {\"key_word\": \"4:playing\", \"query_word\": \"6:the\", \"value\": false, \"key\": \"playing\", \"query\": \"the\"}, {\"key_word\": \"4:playing\", \"query_word\": \"7:cat\", \"value\": false, \"key\": \"playing\", \"query\": \"cat\"}, {\"key_word\": \"5:with\", \"query_word\": \"0:the\", \"value\": false, \"key\": \"with\", \"query\": \"the\"}, {\"key_word\": \"5:with\", \"query_word\": \"1:dog\", \"value\": true, \"key\": \"with\", \"query\": \"dog\"}, {\"key_word\": \"5:with\", \"query_word\": \"2:is\", \"value\": false, \"key\": \"with\", \"query\": \"is\"}, {\"key_word\": \"5:with\", \"query_word\": \"3:is\", \"value\": true, \"key\": \"with\", \"query\": \"is\"}, {\"key_word\": \"5:with\", \"query_word\": \"4:playing\", \"value\": true, \"key\": \"with\", \"query\": \"playing\"}, {\"key_word\": \"5:with\", \"query_word\": \"5:with\", \"value\": true, \"key\": \"with\", \"query\": \"with\"}, {\"key_word\": \"5:with\", \"query_word\": \"6:the\", \"value\": false, \"key\": \"with\", \"query\": \"the\"}, {\"key_word\": \"5:with\", \"query_word\": \"7:cat\", \"value\": true, \"key\": \"with\", \"query\": \"cat\"}, {\"key_word\": \"6:the\", \"query_word\": \"0:the\", \"value\": false, \"key\": \"the\", \"query\": \"the\"}, {\"key_word\": \"6:the\", \"query_word\": \"1:dog\", \"value\": false, \"key\": \"the\", \"query\": \"dog\"}, {\"key_word\": \"6:the\", \"query_word\": \"2:is\", \"value\": false, \"key\": \"the\", \"query\": \"is\"}, {\"key_word\": \"6:the\", \"query_word\": \"3:is\", \"value\": false, \"key\": \"the\", \"query\": \"is\"}, {\"key_word\": \"6:the\", \"query_word\": \"4:playing\", \"value\": true, \"key\": \"the\", \"query\": \"playing\"}, {\"key_word\": \"6:the\", \"query_word\": \"5:with\", \"value\": true, \"key\": \"the\", \"query\": \"with\"}, {\"key_word\": \"6:the\", \"query_word\": \"6:the\", \"value\": true, \"key\": \"the\", \"query\": \"the\"}, {\"key_word\": \"6:the\", \"query_word\": \"7:cat\", \"value\": true, \"key\": \"the\", \"query\": \"cat\"}, {\"key_word\": \"7:cat\", \"query_word\": \"0:the\", \"value\": false, \"key\": \"cat\", \"query\": \"the\"}, {\"key_word\": \"7:cat\", \"query_word\": \"1:dog\", \"value\": false, \"key\": \"cat\", \"query\": \"dog\"}, {\"key_word\": \"7:cat\", \"query_word\": \"2:is\", \"value\": false, \"key\": \"cat\", \"query\": \"is\"}, {\"key_word\": \"7:cat\", \"query_word\": \"3:is\", \"value\": false, \"key\": \"cat\", \"query\": \"is\"}, {\"key_word\": \"7:cat\", \"query_word\": \"4:playing\", \"value\": false, \"key\": \"cat\", \"query\": \"playing\"}, {\"key_word\": \"7:cat\", \"query_word\": \"5:with\", \"value\": false, \"key\": \"cat\", \"query\": \"with\"}, {\"key_word\": \"7:cat\", \"query_word\": \"6:the\", \"value\": false, \"key\": \"cat\", \"query\": \"the\"}, {\"key_word\": \"7:cat\", \"query_word\": \"7:cat\", \"value\": true, \"key\": \"cat\", \"query\": \"cat\"}]}}, {\"mode\": \"vega-lite\"});\n",
       "</script>"
      ],
      "text/plain": [
       "alt.Chart(...)"
      ]
     },
     "execution_count": 15,
     "metadata": {},
     "output_type": "execute_result"
    }
   ],
   "source": [
    "heatmap(w2 - w1 > 0, token_ids, token_ids, title='Difference is positive?')"
   ]
  },
  {
   "cell_type": "code",
   "execution_count": null,
   "id": "ef3d9ba5-28bc-4974-98a6-c6ad22eeff35",
   "metadata": {},
   "outputs": [],
   "source": []
  },
  {
   "cell_type": "code",
   "execution_count": null,
   "id": "dd365194-98b3-4df7-8269-d04a53617026",
   "metadata": {},
   "outputs": [],
   "source": []
  },
  {
   "cell_type": "code",
   "execution_count": null,
   "id": "50a69333-8232-4e83-af0c-717f67459a7b",
   "metadata": {},
   "outputs": [],
   "source": []
  },
  {
   "cell_type": "code",
   "execution_count": null,
   "id": "b7813818-2637-4c67-808c-b143d9a25fdb",
   "metadata": {},
   "outputs": [],
   "source": []
  }
 ],
 "metadata": {
  "jekyll": {
    "layout": "notebook",
    "permalink": "/hello/",
    "title": "Hello World!"
  },
  "kernelspec": {
   "display_name": "Python 3 (ipykernel)",
   "language": "python",
   "name": "python3"
  },
  "language_info": {
   "codemirror_mode": {
    "name": "ipython",
    "version": 3
   },
   "file_extension": ".py",
   "mimetype": "text/x-python",
   "name": "python",
   "nbconvert_exporter": "python",
   "pygments_lexer": "ipython3",
   "version": "3.10.11"
  }
 },
 "nbformat": 4,
 "nbformat_minor": 5
}
